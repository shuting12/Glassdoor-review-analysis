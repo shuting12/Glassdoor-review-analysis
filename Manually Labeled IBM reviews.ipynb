{
 "cells": [
  {
   "cell_type": "markdown",
   "metadata": {},
   "source": [
    "## Comparision of Ground truth labelled reviews vs predicted topics from 5 algorithms "
   ]
  },
  {
   "cell_type": "code",
   "execution_count": 1,
   "metadata": {},
   "outputs": [],
   "source": [
    "from IPython.core.interactiveshell import InteractiveShell\n",
    "InteractiveShell.ast_node_interactivity = \"all\"\n",
    "import pandas as pd \n",
    "import numpy as np\n",
    "\n",
    "# NLP packages\n",
    "import seaborn as sns\n",
    "import matplotlib.pyplot as plt\n",
    "%matplotlib inline   \n",
    "\n",
    "from IPython.core.interactiveshell import InteractiveShell\n",
    "InteractiveShell.ast_node_interactivity = \"all\"\n",
    "import pandas as pd \n",
    "import numpy as np\n",
    "\n",
    "# NLP packages\n",
    "import re\n",
    "import nltk\n",
    "import string\n",
    "import enchant\n",
    "from nltk.corpus import stopwords\n",
    "from nltk.stem import WordNetLemmatizer \n",
    "from nltk.corpus import wordnet"
   ]
  },
  {
   "cell_type": "code",
   "execution_count": 2,
   "metadata": {},
   "outputs": [
    {
     "data": {
      "text/html": [
       "<div>\n",
       "<style scoped>\n",
       "    .dataframe tbody tr th:only-of-type {\n",
       "        vertical-align: middle;\n",
       "    }\n",
       "\n",
       "    .dataframe tbody tr th {\n",
       "        vertical-align: top;\n",
       "    }\n",
       "\n",
       "    .dataframe thead th {\n",
       "        text-align: right;\n",
       "    }\n",
       "</style>\n",
       "<table border=\"1\" class=\"dataframe\">\n",
       "  <thead>\n",
       "    <tr style=\"text-align: right;\">\n",
       "      <th></th>\n",
       "      <th>Pros</th>\n",
       "      <th>Topic_pro</th>\n",
       "      <th>Cons</th>\n",
       "      <th>Topic_con</th>\n",
       "    </tr>\n",
       "  </thead>\n",
       "  <tbody>\n",
       "    <tr>\n",
       "      <th>0</th>\n",
       "      <td>The people at IBM are some of the best you can...</td>\n",
       "      <td>people</td>\n",
       "      <td>As with most consulting companies</td>\n",
       "      <td>culture</td>\n",
       "    </tr>\n",
       "    <tr>\n",
       "      <th>1</th>\n",
       "      <td>Great place to work for life</td>\n",
       "      <td>culture</td>\n",
       "      <td>IBM struggles with people outside of london l...</td>\n",
       "      <td>people</td>\n",
       "    </tr>\n",
       "    <tr>\n",
       "      <th>2</th>\n",
       "      <td>Working with some very smart and talented peop...</td>\n",
       "      <td>people</td>\n",
       "      <td>making it more difficult to be visible when c...</td>\n",
       "      <td>management</td>\n",
       "    </tr>\n",
       "    <tr>\n",
       "      <th>3</th>\n",
       "      <td>It looks good on your resume</td>\n",
       "      <td>company brand</td>\n",
       "      <td>Need to replace Ginni Rommety</td>\n",
       "      <td>management</td>\n",
       "    </tr>\n",
       "    <tr>\n",
       "      <th>4</th>\n",
       "      <td>Working from home is allowed</td>\n",
       "      <td>flexibility</td>\n",
       "      <td>- With layoffs every 6-9 months it is hard to ...</td>\n",
       "      <td>job security</td>\n",
       "    </tr>\n",
       "  </tbody>\n",
       "</table>\n",
       "</div>"
      ],
      "text/plain": [
       "                                                Pros      Topic_pro  \\\n",
       "0  The people at IBM are some of the best you can...         people   \n",
       "1                       Great place to work for life        culture   \n",
       "2  Working with some very smart and talented peop...         people   \n",
       "3                       It looks good on your resume  company brand   \n",
       "4                       Working from home is allowed   flexibility    \n",
       "\n",
       "                                                Cons     Topic_con  \n",
       "0                  As with most consulting companies       culture  \n",
       "1   IBM struggles with people outside of london l...        people  \n",
       "2   making it more difficult to be visible when c...    management  \n",
       "3                      Need to replace Ginni Rommety    management  \n",
       "4  - With layoffs every 6-9 months it is hard to ...  job security  "
      ]
     },
     "execution_count": 2,
     "metadata": {},
     "output_type": "execute_result"
    }
   ],
   "source": [
    "label_IBM=pd.read_csv(\"IBM_labels_topics.csv\",encoding = \"UTF-8\")  #\"ISO-8859-1\"\n",
    "#change the order\n",
    "label_IBM =label_IBM[[ 'Pros', 'Topic_pro','Cons','Topic_con']]\n",
    "label_IBM.head()"
   ]
  },
  {
   "cell_type": "code",
   "execution_count": 3,
   "metadata": {},
   "outputs": [],
   "source": [
    "pros=list(label_IBM.Pros)\n",
    "cons=list(label_IBM.Cons)\n",
    "pro_topic=list(label_IBM.Topic_pro)\n",
    "con_topic=list(label_IBM.Topic_con)"
   ]
  },
  {
   "cell_type": "code",
   "execution_count": 4,
   "metadata": {
    "scrolled": false
   },
   "outputs": [
    {
     "data": {
      "text/plain": [
       "[Text(0,0.5,'# of Counts'), Text(0.5,0,'Pro Topics')]"
      ]
     },
     "execution_count": 4,
     "metadata": {},
     "output_type": "execute_result"
    },
    {
     "data": {
      "image/png": "[encoded data removed]",
      "text/plain": [
       "<matplotlib.figure.Figure at 0x119844f98>"
      ]
     },
     "metadata": {},
     "output_type": "display_data"
    }
   ],
   "source": [
    "#set(pro_topic)\n",
    "# overall rating\n",
    "protopic_plot=label_IBM.Topic_pro.value_counts().sort_values().plot.bar(figsize=(8,4), title=\"Pro Topics\");\n",
    "protopic_plot.set(ylabel=\"# of Counts\", xlabel=\"Pro Topics\")"
   ]
  },
  {
   "cell_type": "code",
   "execution_count": 5,
   "metadata": {
    "scrolled": false
   },
   "outputs": [
    {
     "data": {
      "text/plain": [
       "[Text(0,0.5,'# of Counts'), Text(0.5,0,'Con Topics')]"
      ]
     },
     "execution_count": 5,
     "metadata": {},
     "output_type": "execute_result"
    },
    {
     "data": {
      "image/png": "[encoded data removed]",
      "text/plain": [
       "<matplotlib.figure.Figure at 0x11997ed68>"
      ]
     },
     "metadata": {},
     "output_type": "display_data"
    }
   ],
   "source": [
    "#pd.crosstab(index=label_IBM.index, columns=label_IBM.Topic_con).sum()\n",
    "contopic_plot=label_IBM.Topic_con.value_counts().sort_values().plot.bar(figsize=(8,4), title=\"Con Topics\");\n",
    "contopic_plot.set(ylabel=\"# of Counts\", xlabel=\"Con Topics\")"
   ]
  },
  {
   "cell_type": "markdown",
   "metadata": {},
   "source": [
    "## Ground Truth labeled Cons review \n"
   ]
  },
  {
   "cell_type": "code",
   "execution_count": 6,
   "metadata": {},
   "outputs": [
    {
     "data": {
      "text/html": [
       "<div>\n",
       "<style scoped>\n",
       "    .dataframe tbody tr th:only-of-type {\n",
       "        vertical-align: middle;\n",
       "    }\n",
       "\n",
       "    .dataframe tbody tr th {\n",
       "        vertical-align: top;\n",
       "    }\n",
       "\n",
       "    .dataframe thead th {\n",
       "        text-align: right;\n",
       "    }\n",
       "</style>\n",
       "<table border=\"1\" class=\"dataframe\">\n",
       "  <thead>\n",
       "    <tr style=\"text-align: right;\">\n",
       "      <th></th>\n",
       "      <th>Pros</th>\n",
       "      <th>Topic_pro</th>\n",
       "    </tr>\n",
       "  </thead>\n",
       "  <tbody>\n",
       "    <tr>\n",
       "      <th>0</th>\n",
       "      <td>The people at IBM are some of the best you can...</td>\n",
       "      <td>people</td>\n",
       "    </tr>\n",
       "    <tr>\n",
       "      <th>1</th>\n",
       "      <td>Great place to work for life</td>\n",
       "      <td>culture</td>\n",
       "    </tr>\n",
       "    <tr>\n",
       "      <th>2</th>\n",
       "      <td>Working with some very smart and talented peop...</td>\n",
       "      <td>people</td>\n",
       "    </tr>\n",
       "    <tr>\n",
       "      <th>3</th>\n",
       "      <td>It looks good on your resume</td>\n",
       "      <td>company brand</td>\n",
       "    </tr>\n",
       "    <tr>\n",
       "      <th>4</th>\n",
       "      <td>Working from home is allowed</td>\n",
       "      <td>flexibility</td>\n",
       "    </tr>\n",
       "  </tbody>\n",
       "</table>\n",
       "</div>"
      ],
      "text/plain": [
       "                                                Pros      Topic_pro\n",
       "0  The people at IBM are some of the best you can...         people\n",
       "1                       Great place to work for life        culture\n",
       "2  Working with some very smart and talented peop...         people\n",
       "3                       It looks good on your resume  company brand\n",
       "4                       Working from home is allowed   flexibility "
      ]
     },
     "execution_count": 6,
     "metadata": {},
     "output_type": "execute_result"
    }
   ],
   "source": [
    "selected_pro=label_IBM[['Pros','Topic_pro']]\n",
    "selected_pro.head()"
   ]
  },
  {
   "cell_type": "markdown",
   "metadata": {},
   "source": [
    "## Ground Truth labeled Cons review \n"
   ]
  },
  {
   "cell_type": "code",
   "execution_count": 7,
   "metadata": {},
   "outputs": [
    {
     "data": {
      "text/html": [
       "<div>\n",
       "<style scoped>\n",
       "    .dataframe tbody tr th:only-of-type {\n",
       "        vertical-align: middle;\n",
       "    }\n",
       "\n",
       "    .dataframe tbody tr th {\n",
       "        vertical-align: top;\n",
       "    }\n",
       "\n",
       "    .dataframe thead th {\n",
       "        text-align: right;\n",
       "    }\n",
       "</style>\n",
       "<table border=\"1\" class=\"dataframe\">\n",
       "  <thead>\n",
       "    <tr style=\"text-align: right;\">\n",
       "      <th></th>\n",
       "      <th>Cons</th>\n",
       "      <th>Topic_con</th>\n",
       "    </tr>\n",
       "  </thead>\n",
       "  <tbody>\n",
       "    <tr>\n",
       "      <th>0</th>\n",
       "      <td>As with most consulting companies</td>\n",
       "      <td>culture</td>\n",
       "    </tr>\n",
       "    <tr>\n",
       "      <th>1</th>\n",
       "      <td>IBM struggles with people outside of london l...</td>\n",
       "      <td>people</td>\n",
       "    </tr>\n",
       "    <tr>\n",
       "      <th>2</th>\n",
       "      <td>making it more difficult to be visible when c...</td>\n",
       "      <td>management</td>\n",
       "    </tr>\n",
       "    <tr>\n",
       "      <th>3</th>\n",
       "      <td>Need to replace Ginni Rommety</td>\n",
       "      <td>management</td>\n",
       "    </tr>\n",
       "    <tr>\n",
       "      <th>4</th>\n",
       "      <td>- With layoffs every 6-9 months it is hard to ...</td>\n",
       "      <td>job security</td>\n",
       "    </tr>\n",
       "  </tbody>\n",
       "</table>\n",
       "</div>"
      ],
      "text/plain": [
       "                                                Cons     Topic_con\n",
       "0                  As with most consulting companies       culture\n",
       "1   IBM struggles with people outside of london l...        people\n",
       "2   making it more difficult to be visible when c...    management\n",
       "3                      Need to replace Ginni Rommety    management\n",
       "4  - With layoffs every 6-9 months it is hard to ...  job security"
      ]
     },
     "execution_count": 7,
     "metadata": {},
     "output_type": "execute_result"
    },
    {
     "data": {
      "text/plain": [
       "201"
      ]
     },
     "execution_count": 7,
     "metadata": {},
     "output_type": "execute_result"
    }
   ],
   "source": [
    "selected_con=label_IBM[['Cons','Topic_con']]\n",
    "selected_con=selected_con.dropna()\n",
    "selected_con.head()\n",
    "len(selected_con)"
   ]
  },
  {
   "cell_type": "markdown",
   "metadata": {},
   "source": [
    "## Start to lemmatize the manually labeled reviews \n",
    "- then compare with the lemmatized-analyzed reviews"
   ]
  },
  {
   "cell_type": "code",
   "execution_count": 8,
   "metadata": {},
   "outputs": [],
   "source": [
    "stop_words=stopwords.words('english')\n",
    "more_stopwords = \"\"\"etc nan also some just have from it's /via &amp; that they your there this into would can't\"\"\"\n",
    "stop_words += more_stopwords.split()"
   ]
  },
  {
   "cell_type": "code",
   "execution_count": 9,
   "metadata": {},
   "outputs": [],
   "source": [
    "### check kmeans clustering\n",
    "d = enchant.Dict(\"en_US\")    # english dictionary\n",
    "\n",
    "def text_cleaning(text):\n",
    "    text=text.lower()\n",
    "    nopunc = [char for char in text if char not in string.punctuation]\n",
    "    nopunc = ''.join(nopunc)\n",
    "    tokens=nltk.word_tokenize(nopunc)\n",
    "    tokens=[token for token in tokens if token.isalpha()]\n",
    "    tokens=[token for token in tokens if token not in stop_words]\n",
    "    tagged_tokens= nltk.pos_tag(tokens)\n",
    "        \n",
    "    words=filter(lambda x: d.check(x), tokens)\n",
    "    clean_word=[word for word in words if word not in stop_words]\n",
    "    return clean_word, tagged_tokens \n",
    "def taggedwords(review_list):\n",
    "    packed_words=[]\n",
    "    for review in review_list:     # use target list for analysis here is cons\n",
    "        packed_words.append(text_cleaning(review))\n",
    "        \n",
    "    review_words,tagged_tokens=zip(*packed_words)\n",
    "    return tagged_tokens\n",
    "\n",
    "wordnet_lemmatizer = WordNetLemmatizer()\n",
    "def get_wordnet_pos(pos_tag):\n",
    "    if pos_tag.startswith('J'):\n",
    "        return wordnet.ADJ\n",
    "    \n",
    "    elif pos_tag.startswith('V'):\n",
    "        return wordnet.VERB\n",
    "    \n",
    "    elif pos_tag.startswith('N'):\n",
    "        return wordnet.NOUN\n",
    "    \n",
    "    elif pos_tag.startswith('R'):\n",
    "        return wordnet.ADV\n",
    "    else:\n",
    "        return wordnet.NOUN"
   ]
  },
  {
   "cell_type": "code",
   "execution_count": 10,
   "metadata": {},
   "outputs": [
    {
     "data": {
      "text/plain": [
       "222"
      ]
     },
     "execution_count": 10,
     "metadata": {},
     "output_type": "execute_result"
    }
   ],
   "source": [
    "# output all lemmatized reviews-pro\n",
    "manuel_pros_tagged_tokens=taggedwords(selected_pro.Pros)\n",
    "manuel_pros_lemmatized_words=[] \n",
    "for idx, doc in enumerate(manuel_pros_tagged_tokens):\n",
    "    manuel_pros_lemmatized_words.append([wordnet_lemmatizer.lemmatize(word, get_wordnet_pos(tag)) for (word, tag) in doc])\n",
    "len(manuel_pros_lemmatized_words)\n",
    "\n",
    "manuel_pros_lemmatized_text=[\" \".join(item) for item in manuel_pros_lemmatized_words]"
   ]
  },
  {
   "cell_type": "code",
   "execution_count": 11,
   "metadata": {
    "scrolled": false
   },
   "outputs": [
    {
     "name": "stderr",
     "output_type": "stream",
     "text": [
      "/anaconda3/lib/python3.6/site-packages/ipykernel_launcher.py:2: SettingWithCopyWarning: \n",
      "A value is trying to be set on a copy of a slice from a DataFrame.\n",
      "Try using .loc[row_indexer,col_indexer] = value instead\n",
      "\n",
      "See the caveats in the documentation: http://pandas.pydata.org/pandas-docs/stable/indexing.html#indexing-view-versus-copy\n",
      "  \n"
     ]
    },
    {
     "data": {
      "text/html": [
       "<div>\n",
       "<style scoped>\n",
       "    .dataframe tbody tr th:only-of-type {\n",
       "        vertical-align: middle;\n",
       "    }\n",
       "\n",
       "    .dataframe tbody tr th {\n",
       "        vertical-align: top;\n",
       "    }\n",
       "\n",
       "    .dataframe thead th {\n",
       "        text-align: right;\n",
       "    }\n",
       "</style>\n",
       "<table border=\"1\" class=\"dataframe\">\n",
       "  <thead>\n",
       "    <tr style=\"text-align: right;\">\n",
       "      <th></th>\n",
       "      <th>Pros</th>\n",
       "      <th>Topic_pro</th>\n",
       "      <th>lemmatized_pro</th>\n",
       "    </tr>\n",
       "  </thead>\n",
       "  <tbody>\n",
       "    <tr>\n",
       "      <th>0</th>\n",
       "      <td>The people at IBM are some of the best you can...</td>\n",
       "      <td>people</td>\n",
       "      <td>people ibm best work consult industry knowledg...</td>\n",
       "    </tr>\n",
       "    <tr>\n",
       "      <th>1</th>\n",
       "      <td>Great place to work for life</td>\n",
       "      <td>culture</td>\n",
       "      <td>great place work life</td>\n",
       "    </tr>\n",
       "    <tr>\n",
       "      <th>2</th>\n",
       "      <td>Working with some very smart and talented peop...</td>\n",
       "      <td>people</td>\n",
       "      <td>work smart talented people interest challenge ...</td>\n",
       "    </tr>\n",
       "    <tr>\n",
       "      <th>3</th>\n",
       "      <td>It looks good on your resume</td>\n",
       "      <td>company brand</td>\n",
       "      <td>looks good resume</td>\n",
       "    </tr>\n",
       "    <tr>\n",
       "      <th>4</th>\n",
       "      <td>Working from home is allowed</td>\n",
       "      <td>flexibility</td>\n",
       "      <td>work home allow</td>\n",
       "    </tr>\n",
       "  </tbody>\n",
       "</table>\n",
       "</div>"
      ],
      "text/plain": [
       "                                                Pros      Topic_pro  \\\n",
       "0  The people at IBM are some of the best you can...         people   \n",
       "1                       Great place to work for life        culture   \n",
       "2  Working with some very smart and talented peop...         people   \n",
       "3                       It looks good on your resume  company brand   \n",
       "4                       Working from home is allowed   flexibility    \n",
       "\n",
       "                                      lemmatized_pro  \n",
       "0  people ibm best work consult industry knowledg...  \n",
       "1                              great place work life  \n",
       "2  work smart talented people interest challenge ...  \n",
       "3                                  looks good resume  \n",
       "4                                    work home allow  "
      ]
     },
     "execution_count": 11,
     "metadata": {},
     "output_type": "execute_result"
    }
   ],
   "source": [
    "# add lemmatized reviews to the dataframe (manually labeled reviews)\n",
    "selected_pro['lemmatized_pro']=manuel_pros_lemmatized_text\n",
    "selected_pro.head()"
   ]
  },
  {
   "cell_type": "markdown",
   "metadata": {},
   "source": [
    "## Create function to calculate the accuracy from Pros:\n",
    "manually label review vs. \n",
    "1. K-Means\n",
    "2. NMF\n",
    "3. LDA(sklearn)\n",
    "4. LDA(gensim)\n",
    "5. doc2vec"
   ]
  },
  {
   "cell_type": "code",
   "execution_count": 12,
   "metadata": {},
   "outputs": [],
   "source": [
    "def pro_accuracy(file):\n",
    "    pro=pd.read_csv(file,encoding = \"UTF-8\") \n",
    "    pro_pred=pro.loc[pro['pro_text'].isin(selected_pro['lemmatized_pro'])]\n",
    "    pro_pred=pro_pred.drop(pro_pred.columns[0], axis=1)\n",
    "    pro_pred=pro_pred.drop(pro_pred.columns[1], axis=1)\n",
    "    pro_pred=pro_pred.drop_duplicates()\n",
    "    \n",
    "    # mapping the reviews from 2 dataframes:\n",
    "    mapping = dict(selected_pro[['lemmatized_pro', 'Topic_pro']].values) \n",
    "    pro_pred['topic'] = pro_pred.pro_text.replace(mapping) \n",
    "\n",
    "    accuracy=sum(pro_pred.pro_topic==pro_pred.topic)/len(pro_pred)\n",
    "    \n",
    "    return accuracy"
   ]
  },
  {
   "cell_type": "code",
   "execution_count": 14,
   "metadata": {
    "scrolled": true
   },
   "outputs": [
    {
     "name": "stderr",
     "output_type": "stream",
     "text": [
      "/anaconda3/lib/python3.6/site-packages/IPython/core/interactiveshell.py:2856: DtypeWarning: Columns (1,2,3) have mixed types. Specify dtype option on import or set low_memory=False.\n",
      "  if self.run_code(code, result):\n"
     ]
    }
   ],
   "source": [
    "# output \n",
    "pro_out=[pro_accuracy(\"Pros_IBM_clustering.csv\"),pro_accuracy('Pros_IBM_NMF.csv'),\\\n",
    "         pro_accuracy('Pros_IBM_LDA.csv'),pro_accuracy('Pros_IBM_LDA_gensim_unigram.csv'),\\\n",
    "         pro_accuracy('Pros_IBM_doc2vec.csv')]\n",
    "\n",
    "\n",
    "algorithm=['3-round k-means','NMF','LDA-sklearn','LDA-gensim','doc2vec']\n",
    "\n",
    "#algorithm_comparision_pro=pd.DataFrame(zip(algorithm,pro_out),columns=['Algorithm','Accuracy'])\n"
   ]
  },
  {
   "cell_type": "code",
   "execution_count": 15,
   "metadata": {},
   "outputs": [
    {
     "data": {
      "text/html": [
       "<div>\n",
       "<style scoped>\n",
       "    .dataframe tbody tr th:only-of-type {\n",
       "        vertical-align: middle;\n",
       "    }\n",
       "\n",
       "    .dataframe tbody tr th {\n",
       "        vertical-align: top;\n",
       "    }\n",
       "\n",
       "    .dataframe thead th {\n",
       "        text-align: right;\n",
       "    }\n",
       "</style>\n",
       "<table border=\"1\" class=\"dataframe\">\n",
       "  <thead>\n",
       "    <tr style=\"text-align: right;\">\n",
       "      <th></th>\n",
       "      <th>Algorithm</th>\n",
       "      <th>Accuracy</th>\n",
       "    </tr>\n",
       "  </thead>\n",
       "  <tbody>\n",
       "    <tr>\n",
       "      <th>0</th>\n",
       "      <td>3-round k-means</td>\n",
       "      <td>0.279188</td>\n",
       "    </tr>\n",
       "    <tr>\n",
       "      <th>1</th>\n",
       "      <td>NMF</td>\n",
       "      <td>0.294416</td>\n",
       "    </tr>\n",
       "    <tr>\n",
       "      <th>2</th>\n",
       "      <td>LDA-sklearn</td>\n",
       "      <td>0.157360</td>\n",
       "    </tr>\n",
       "    <tr>\n",
       "      <th>3</th>\n",
       "      <td>LDA-gensim</td>\n",
       "      <td>0.223881</td>\n",
       "    </tr>\n",
       "    <tr>\n",
       "      <th>4</th>\n",
       "      <td>doc2vec</td>\n",
       "      <td>0.028851</td>\n",
       "    </tr>\n",
       "  </tbody>\n",
       "</table>\n",
       "</div>"
      ],
      "text/plain": [
       "         Algorithm  Accuracy\n",
       "0  3-round k-means  0.279188\n",
       "1              NMF  0.294416\n",
       "2      LDA-sklearn  0.157360\n",
       "3       LDA-gensim  0.223881\n",
       "4          doc2vec  0.028851"
      ]
     },
     "execution_count": 15,
     "metadata": {},
     "output_type": "execute_result"
    }
   ],
   "source": [
    "algorithm_comparision_pro=pd.DataFrame(list(zip(algorithm,pro_out)),columns=['Algorithm','Accuracy'])\n",
    "algorithm_comparision_pro"
   ]
  },
  {
   "cell_type": "markdown",
   "metadata": {},
   "source": [
    "## Create function to calculate the accuracy from Cons:\n",
    "manually label review vs. \n",
    "1. K-Means\n",
    "2. NMF\n",
    "3. LDA(sklearn)\n",
    "4. LDA(gensim)\n",
    "5. doc2vec"
   ]
  },
  {
   "cell_type": "code",
   "execution_count": 16,
   "metadata": {},
   "outputs": [
    {
     "data": {
      "text/plain": [
       "201"
      ]
     },
     "execution_count": 16,
     "metadata": {},
     "output_type": "execute_result"
    }
   ],
   "source": [
    "# output all lemmatized reviews-cons\n",
    "manuel_cons_tagged_tokens=taggedwords(selected_con.Cons)\n",
    "\n",
    "manuel_cons_lemmatized_words=[] \n",
    "for idx, doc in enumerate(manuel_cons_tagged_tokens):\n",
    "    manuel_cons_lemmatized_words.append([wordnet_lemmatizer.lemmatize(word, get_wordnet_pos(tag)) for (word, tag) in doc])\n",
    "len(manuel_cons_lemmatized_words)\n",
    "\n",
    "manuel_cons_lemmatized_text=[\" \".join(item) for item in manuel_cons_lemmatized_words]"
   ]
  },
  {
   "cell_type": "code",
   "execution_count": 17,
   "metadata": {},
   "outputs": [
    {
     "data": {
      "text/html": [
       "<div>\n",
       "<style scoped>\n",
       "    .dataframe tbody tr th:only-of-type {\n",
       "        vertical-align: middle;\n",
       "    }\n",
       "\n",
       "    .dataframe tbody tr th {\n",
       "        vertical-align: top;\n",
       "    }\n",
       "\n",
       "    .dataframe thead th {\n",
       "        text-align: right;\n",
       "    }\n",
       "</style>\n",
       "<table border=\"1\" class=\"dataframe\">\n",
       "  <thead>\n",
       "    <tr style=\"text-align: right;\">\n",
       "      <th></th>\n",
       "      <th>Cons</th>\n",
       "      <th>Topic_con</th>\n",
       "      <th>lemmatized_con</th>\n",
       "    </tr>\n",
       "  </thead>\n",
       "  <tbody>\n",
       "    <tr>\n",
       "      <th>0</th>\n",
       "      <td>As with most consulting companies</td>\n",
       "      <td>culture</td>\n",
       "      <td>consult company</td>\n",
       "    </tr>\n",
       "    <tr>\n",
       "      <th>1</th>\n",
       "      <td>IBM struggles with people outside of london l...</td>\n",
       "      <td>people</td>\n",
       "      <td>ibm struggle people outside london location</td>\n",
       "    </tr>\n",
       "    <tr>\n",
       "      <th>2</th>\n",
       "      <td>making it more difficult to be visible when c...</td>\n",
       "      <td>management</td>\n",
       "      <td>make difficult visible connect others community</td>\n",
       "    </tr>\n",
       "    <tr>\n",
       "      <th>3</th>\n",
       "      <td>Need to replace Ginni Rommety</td>\n",
       "      <td>management</td>\n",
       "      <td>need replace ginni rommety</td>\n",
       "    </tr>\n",
       "    <tr>\n",
       "      <th>4</th>\n",
       "      <td>- With layoffs every 6-9 months it is hard to ...</td>\n",
       "      <td>job security</td>\n",
       "      <td>layoff every month hard stay motivate focus</td>\n",
       "    </tr>\n",
       "  </tbody>\n",
       "</table>\n",
       "</div>"
      ],
      "text/plain": [
       "                                                Cons     Topic_con  \\\n",
       "0                  As with most consulting companies       culture   \n",
       "1   IBM struggles with people outside of london l...        people   \n",
       "2   making it more difficult to be visible when c...    management   \n",
       "3                      Need to replace Ginni Rommety    management   \n",
       "4  - With layoffs every 6-9 months it is hard to ...  job security   \n",
       "\n",
       "                                    lemmatized_con  \n",
       "0                                  consult company  \n",
       "1      ibm struggle people outside london location  \n",
       "2  make difficult visible connect others community  \n",
       "3                       need replace ginni rommety  \n",
       "4      layoff every month hard stay motivate focus  "
      ]
     },
     "execution_count": 17,
     "metadata": {},
     "output_type": "execute_result"
    }
   ],
   "source": [
    "selected_con['lemmatized_con']=manuel_cons_lemmatized_text\n",
    "selected_con.head()"
   ]
  },
  {
   "cell_type": "code",
   "execution_count": 18,
   "metadata": {},
   "outputs": [],
   "source": [
    "def con_accuracy(file):\n",
    "    con=pd.read_csv(file,encoding = \"UTF-8\") \n",
    "    con_pred=con.loc[con['con_text'].isin(selected_con['lemmatized_con'])]\n",
    "    con_pred=con_pred.drop(con_pred.columns[0], axis=1)\n",
    "    con_pred=con_pred.drop(con_pred.columns[1], axis=1)\n",
    "    con_pred=con_pred.drop_duplicates()\n",
    "    \n",
    "    # mapping the reviews from 2 dataframes:\n",
    "    mapping = dict(selected_con[['lemmatized_con', 'Topic_con']].values) \n",
    "    con_pred['topic'] = con_pred.con_text.replace(mapping) \n",
    "\n",
    "    accuracy=sum(con_pred.con_topic==con_pred.topic)/len(con_pred)\n",
    "    \n",
    "    return accuracy"
   ]
  },
  {
   "cell_type": "code",
   "execution_count": 19,
   "metadata": {},
   "outputs": [],
   "source": [
    "# output \n",
    "con_out=[con_accuracy(\"Cons_IBM_clustering.csv\"),con_accuracy('Cons_IBM_NMF.csv'),\\\n",
    "         con_accuracy('Cons_IBM_LDA.csv'),con_accuracy('Cons_IBM_LDA_gensim_unigram.csv')]\n",
    "\n",
    "\n",
    "algorithm_con=['3-round k-means','NMF','LDA-sklearn','LDA-gensim']\n"
   ]
  },
  {
   "cell_type": "code",
   "execution_count": 20,
   "metadata": {},
   "outputs": [
    {
     "data": {
      "text/html": [
       "<div>\n",
       "<style scoped>\n",
       "    .dataframe tbody tr th:only-of-type {\n",
       "        vertical-align: middle;\n",
       "    }\n",
       "\n",
       "    .dataframe tbody tr th {\n",
       "        vertical-align: top;\n",
       "    }\n",
       "\n",
       "    .dataframe thead th {\n",
       "        text-align: right;\n",
       "    }\n",
       "</style>\n",
       "<table border=\"1\" class=\"dataframe\">\n",
       "  <thead>\n",
       "    <tr style=\"text-align: right;\">\n",
       "      <th></th>\n",
       "      <th>Algorithm</th>\n",
       "      <th>Accuracy</th>\n",
       "    </tr>\n",
       "  </thead>\n",
       "  <tbody>\n",
       "    <tr>\n",
       "      <th>0</th>\n",
       "      <td>3-round k-means</td>\n",
       "      <td>0.200000</td>\n",
       "    </tr>\n",
       "    <tr>\n",
       "      <th>1</th>\n",
       "      <td>NMF</td>\n",
       "      <td>0.189474</td>\n",
       "    </tr>\n",
       "    <tr>\n",
       "      <th>2</th>\n",
       "      <td>LDA-sklearn</td>\n",
       "      <td>0.094737</td>\n",
       "    </tr>\n",
       "    <tr>\n",
       "      <th>3</th>\n",
       "      <td>LDA-gensim</td>\n",
       "      <td>0.137056</td>\n",
       "    </tr>\n",
       "  </tbody>\n",
       "</table>\n",
       "</div>"
      ],
      "text/plain": [
       "         Algorithm  Accuracy\n",
       "0  3-round k-means  0.200000\n",
       "1              NMF  0.189474\n",
       "2      LDA-sklearn  0.094737\n",
       "3       LDA-gensim  0.137056"
      ]
     },
     "execution_count": 20,
     "metadata": {},
     "output_type": "execute_result"
    }
   ],
   "source": [
    "algorithm_comparision_con=pd.DataFrame(list(zip(algorithm_con,con_out)),columns=['Algorithm','Accuracy'])\n",
    "algorithm_comparision_con"
   ]
  },
  {
   "cell_type": "code",
   "execution_count": null,
   "metadata": {},
   "outputs": [],
   "source": []
  }
 ],
 "metadata": {
  "kernelspec": {
   "display_name": "Python 3",
   "language": "python",
   "name": "python3"
  },
  "language_info": {
   "codemirror_mode": {
    "name": "ipython",
    "version": 3
   },
   "file_extension": ".py",
   "mimetype": "text/x-python",
   "name": "python",
   "nbconvert_exporter": "python",
   "pygments_lexer": "ipython3",
   "version": "3.6.4"
  }
 },
 "nbformat": 4,
 "nbformat_minor": 2
}
