{
 "cells": [
  {
   "cell_type": "markdown",
   "metadata": {},
   "source": [
    "# IBM comparing methods - NMF Pros"
   ]
  },
  {
   "cell_type": "code",
   "execution_count": 15,
   "metadata": {},
   "outputs": [],
   "source": [
    "from IPython.core.interactiveshell import InteractiveShell\n",
    "InteractiveShell.ast_node_interactivity = \"all\"\n",
    "import pandas as pd \n",
    "import numpy as np\n",
    "\n",
    "# NLP packages\n",
    "import re\n",
    "import nltk\n",
    "import string\n",
    "import enchant\n",
    "from nltk.corpus import stopwords\n",
    "from nltk.stem import WordNetLemmatizer \n",
    "from nltk.corpus import wordnet\n",
    "\n",
    "import seaborn as sns\n",
    "import matplotlib.pyplot as plt\n",
    "%matplotlib inline   \n",
    "\n",
    "\n",
    "from sklearn.decomposition import NMF\n",
    "from sklearn.model_selection import train_test_split\n",
    "from sklearn.feature_extraction.text import TfidfVectorizer\n",
    "from sklearn.preprocessing import normalize\n",
    "\n",
    "\n",
    "from sklearn.utils import shuffle"
   ]
  },
  {
   "cell_type": "code",
   "execution_count": 2,
   "metadata": {},
   "outputs": [],
   "source": [
    "df_IBM=pd.read_csv(\"IBM.csv\",encoding = \"UTF-8\")  #\"ISO-8859-1\"\n",
    "#change the order\n",
    "df_IBM =df_IBM[[ 'Employee ID',\n",
    "                 'Date',\n",
    "                 'Location',\n",
    "                 'Employee Status',\n",
    "                 'Employee Position',\n",
    "                 'Overall Rating',\n",
    "                 'Work Life Balance',\n",
    "                 'Company Culture',\n",
    "                 'Career Opportunity',\n",
    "                 'Benefit and Compensation',\n",
    "                 'Senior Management',\n",
    "                 'Helpful Count',\n",
    "                 'Evaluation',\n",
    "                 'Overall Comment',\n",
    "                 'Pros',\n",
    "                 'Cons',\n",
    "                 'Advice']]\n",
    "\n",
    "df_IBM['Company Name'] = df_IBM.apply(lambda _: 'IBM', axis=1)"
   ]
  },
  {
   "cell_type": "code",
   "execution_count": 3,
   "metadata": {},
   "outputs": [],
   "source": [
    "# create 2 more columns which is combined review & review length\n",
    "# combined review\n",
    "df_IBM['CombineReview'] = df_IBM[df_IBM.columns[-3:]].apply(lambda x: ' '.join(x.astype(str).astype(str)), axis=1)\n",
    "# review length\n",
    "df_IBM['review length'] = df_IBM['CombineReview'].apply(len)"
   ]
  },
  {
   "cell_type": "markdown",
   "metadata": {},
   "source": [
    "## New dataframe: matching the employee ID for splitted Pros comments "
   ]
  },
  {
   "cell_type": "code",
   "execution_count": 4,
   "metadata": {},
   "outputs": [
    {
     "data": {
      "text/html": [
       "<div>\n",
       "<style scoped>\n",
       "    .dataframe tbody tr th:only-of-type {\n",
       "        vertical-align: middle;\n",
       "    }\n",
       "\n",
       "    .dataframe tbody tr th {\n",
       "        vertical-align: top;\n",
       "    }\n",
       "\n",
       "    .dataframe thead th {\n",
       "        text-align: right;\n",
       "    }\n",
       "</style>\n",
       "<table border=\"1\" class=\"dataframe\">\n",
       "  <thead>\n",
       "    <tr style=\"text-align: right;\">\n",
       "      <th></th>\n",
       "      <th>Employee ID</th>\n",
       "      <th>Pros</th>\n",
       "    </tr>\n",
       "  </thead>\n",
       "  <tbody>\n",
       "    <tr>\n",
       "      <th>0</th>\n",
       "      <td>empReview_17651831</td>\n",
       "      <td>The working culture and environment is good here</td>\n",
       "    </tr>\n",
       "    <tr>\n",
       "      <th>1</th>\n",
       "      <td>empReview_17651831</td>\n",
       "      <td>Freedom to employees and facility of work fro...</td>\n",
       "    </tr>\n",
       "    <tr>\n",
       "      <th>3</th>\n",
       "      <td>empReview_19452793</td>\n",
       "      <td>Good working environment and opportunity to wo...</td>\n",
       "    </tr>\n",
       "    <tr>\n",
       "      <th>5</th>\n",
       "      <td>empReview_4852131</td>\n",
       "      <td>Disclaimer: A lot of what I'm writing below of...</td>\n",
       "    </tr>\n",
       "    <tr>\n",
       "      <th>6</th>\n",
       "      <td>empReview_4852131</td>\n",
       "      <td>But I found this to be fairly pervasive polic...</td>\n",
       "    </tr>\n",
       "  </tbody>\n",
       "</table>\n",
       "</div>"
      ],
      "text/plain": [
       "          Employee ID                                               Pros\n",
       "0  empReview_17651831   The working culture and environment is good here\n",
       "1  empReview_17651831   Freedom to employees and facility of work fro...\n",
       "3  empReview_19452793  Good working environment and opportunity to wo...\n",
       "5   empReview_4852131  Disclaimer: A lot of what I'm writing below of...\n",
       "6   empReview_4852131   But I found this to be fairly pervasive polic..."
      ]
     },
     "execution_count": 4,
     "metadata": {},
     "output_type": "execute_result"
    }
   ],
   "source": [
    "IBM_pro_reviews=df_IBM[['Employee ID','Pros', 'Company Name']]\n",
    "splitted_pros = pd.DataFrame(IBM_pro_reviews.Pros.str.split(r\"\\.|\\,|\\+|\\?|\\!|\\;\").tolist(), \\\n",
    "                             index=IBM_pro_reviews['Employee ID']).stack()\n",
    "\n",
    "splitted_pros = splitted_pros.reset_index()[['Employee ID', 0]] \n",
    "splitted_pros.columns = ['Employee ID', 'Pros'] \n",
    "cleaned_pros=[item for item in splitted_pros.Pros if len(str(item).split())>=2]\n",
    "splitted_pros=splitted_pros.loc[splitted_pros['Pros'].isin(cleaned_pros)]\n",
    "\n",
    "#splitted_pros['Company Name'] = splitted_pros.apply(lambda _: 'IBM', axis=1)\n",
    "splitted_pros.head()"
   ]
  },
  {
   "cell_type": "code",
   "execution_count": 5,
   "metadata": {},
   "outputs": [],
   "source": [
    "stop_words=stopwords.words('english')\n",
    "more_stopwords = \"\"\"etc nan also some just have from it's /via &amp; that they your there this into would can't\"\"\"\n",
    "stop_words += more_stopwords.split()"
   ]
  },
  {
   "cell_type": "code",
   "execution_count": 6,
   "metadata": {},
   "outputs": [
    {
     "data": {
      "text/plain": [
       "['The working culture and environment is good here',\n",
       " ' Freedom to employees and facility of work from home',\n",
       " 'Good working environment and opportunity to work different countries',\n",
       " \"Disclaimer: A lot of what I'm writing below of course depends on the work area and management chain\",\n",
       " ' But I found this to be fairly pervasive policies in IBM in my 9']"
      ]
     },
     "execution_count": 6,
     "metadata": {},
     "output_type": "execute_result"
    }
   ],
   "source": [
    "pros=[\"\".join(item) for item in splitted_pros.Pros]\n",
    "pros[0:5]"
   ]
  },
  {
   "cell_type": "code",
   "execution_count": 7,
   "metadata": {},
   "outputs": [],
   "source": [
    "d = enchant.Dict(\"en_US\")    # english dictionary\n",
    "\n",
    "def text_cleaning(text):\n",
    "    text=text.lower()\n",
    "    nopunc = [char for char in text if char not in string.punctuation]\n",
    "    nopunc = ''.join(nopunc)\n",
    "    tokens=nltk.word_tokenize(nopunc)\n",
    "    tokens=[token for token in tokens if token.isalpha()]\n",
    "    tokens=[token for token in tokens if token not in stop_words]\n",
    "    tagged_tokens= nltk.pos_tag(tokens)\n",
    "        \n",
    "    words=filter(lambda x: d.check(x), tokens)\n",
    "    clean_word=[word for word in words if word not in stop_words]\n",
    "    return clean_word, tagged_tokens \n",
    "\n",
    "def taggedwords(review_list):\n",
    "    packed_words=[]\n",
    "    for review in review_list:     # use target list for analysis here is cons\n",
    "        packed_words.append(text_cleaning(review))\n",
    "        \n",
    "    review_words,tagged_tokens=zip(*packed_words)\n",
    "    return tagged_tokens"
   ]
  },
  {
   "cell_type": "code",
   "execution_count": 8,
   "metadata": {},
   "outputs": [],
   "source": [
    "# obtain tagged_tokens in pros & cons\n",
    "pros_tagged_tokens=taggedwords(pros)\n",
    "\n",
    "#cons_tagged_tokens=taggedwords(cons)"
   ]
  },
  {
   "cell_type": "code",
   "execution_count": 9,
   "metadata": {},
   "outputs": [
    {
     "data": {
      "text/plain": [
       "90161"
      ]
     },
     "execution_count": 9,
     "metadata": {},
     "output_type": "execute_result"
    }
   ],
   "source": [
    "# obtain lemmatized reviews\n",
    "wordnet_lemmatizer = WordNetLemmatizer()\n",
    "def get_wordnet_pos(pos_tag):\n",
    "    if pos_tag.startswith('J'):\n",
    "        return wordnet.ADJ\n",
    "    \n",
    "    elif pos_tag.startswith('V'):\n",
    "        return wordnet.VERB\n",
    "    \n",
    "    elif pos_tag.startswith('N'):\n",
    "        return wordnet.NOUN\n",
    "    \n",
    "    elif pos_tag.startswith('R'):\n",
    "        return wordnet.ADV\n",
    "    else:\n",
    "        return wordnet.NOUN\n",
    "\n",
    "pros_lemmatized_words=[] \n",
    "for idx, doc in enumerate(pros_tagged_tokens):\n",
    "    pros_lemmatized_words.append([wordnet_lemmatizer.lemmatize(word, get_wordnet_pos(tag)) for (word, tag) in doc])\n",
    "len(pros_lemmatized_words)\n",
    "\n",
    "#cons_lemmatized_words=[] \n",
    "#for idx, doc in enumerate(cons_tagged_tokens):\n",
    "#    cons_lemmatized_words.append([wordnet_lemmatizer.lemmatize(word, get_wordnet_pos(tag)) for (word, tag) in doc])\n",
    "#len(cons_lemmatized_words)"
   ]
  },
  {
   "cell_type": "code",
   "execution_count": 10,
   "metadata": {},
   "outputs": [
    {
     "data": {
      "text/html": [
       "<div>\n",
       "<style scoped>\n",
       "    .dataframe tbody tr th:only-of-type {\n",
       "        vertical-align: middle;\n",
       "    }\n",
       "\n",
       "    .dataframe tbody tr th {\n",
       "        vertical-align: top;\n",
       "    }\n",
       "\n",
       "    .dataframe thead th {\n",
       "        text-align: right;\n",
       "    }\n",
       "</style>\n",
       "<table border=\"1\" class=\"dataframe\">\n",
       "  <thead>\n",
       "    <tr style=\"text-align: right;\">\n",
       "      <th></th>\n",
       "      <th>Employee ID</th>\n",
       "      <th>Pros</th>\n",
       "      <th>lemmatized_pros</th>\n",
       "    </tr>\n",
       "  </thead>\n",
       "  <tbody>\n",
       "    <tr>\n",
       "      <th>0</th>\n",
       "      <td>empReview_17651831</td>\n",
       "      <td>The working culture and environment is good here</td>\n",
       "      <td>working culture environment good</td>\n",
       "    </tr>\n",
       "    <tr>\n",
       "      <th>1</th>\n",
       "      <td>empReview_17651831</td>\n",
       "      <td>Freedom to employees and facility of work fro...</td>\n",
       "      <td>freedom employee facility work home</td>\n",
       "    </tr>\n",
       "    <tr>\n",
       "      <th>3</th>\n",
       "      <td>empReview_19452793</td>\n",
       "      <td>Good working environment and opportunity to wo...</td>\n",
       "      <td>good work environment opportunity work differe...</td>\n",
       "    </tr>\n",
       "    <tr>\n",
       "      <th>5</th>\n",
       "      <td>empReview_4852131</td>\n",
       "      <td>Disclaimer: A lot of what I'm writing below of...</td>\n",
       "      <td>disclaimer lot im write course depend work are...</td>\n",
       "    </tr>\n",
       "    <tr>\n",
       "      <th>6</th>\n",
       "      <td>empReview_4852131</td>\n",
       "      <td>But I found this to be fairly pervasive polic...</td>\n",
       "      <td>find fairly pervasive policy ibm</td>\n",
       "    </tr>\n",
       "  </tbody>\n",
       "</table>\n",
       "</div>"
      ],
      "text/plain": [
       "          Employee ID                                               Pros  \\\n",
       "0  empReview_17651831   The working culture and environment is good here   \n",
       "1  empReview_17651831   Freedom to employees and facility of work fro...   \n",
       "3  empReview_19452793  Good working environment and opportunity to wo...   \n",
       "5   empReview_4852131  Disclaimer: A lot of what I'm writing below of...   \n",
       "6   empReview_4852131   But I found this to be fairly pervasive polic...   \n",
       "\n",
       "                                     lemmatized_pros  \n",
       "0                   working culture environment good  \n",
       "1                freedom employee facility work home  \n",
       "3  good work environment opportunity work differe...  \n",
       "5  disclaimer lot im write course depend work are...  \n",
       "6                   find fairly pervasive policy ibm  "
      ]
     },
     "execution_count": 10,
     "metadata": {},
     "output_type": "execute_result"
    }
   ],
   "source": [
    "pros_lemmatized_text=[\" \".join(item) for item in pros_lemmatized_words]\n",
    "\n",
    "# add the lemmatized pros in data frame \n",
    "splitted_pros.loc[:,'lemmatized_pros'] = pros_lemmatized_text\n",
    "splitted_pros.head()"
   ]
  },
  {
   "cell_type": "code",
   "execution_count": 11,
   "metadata": {},
   "outputs": [
    {
     "data": {
      "text/html": [
       "<div>\n",
       "<style scoped>\n",
       "    .dataframe tbody tr th:only-of-type {\n",
       "        vertical-align: middle;\n",
       "    }\n",
       "\n",
       "    .dataframe tbody tr th {\n",
       "        vertical-align: top;\n",
       "    }\n",
       "\n",
       "    .dataframe thead th {\n",
       "        text-align: right;\n",
       "    }\n",
       "</style>\n",
       "<table border=\"1\" class=\"dataframe\">\n",
       "  <thead>\n",
       "    <tr style=\"text-align: right;\">\n",
       "      <th></th>\n",
       "      <th>Employee ID</th>\n",
       "      <th>Pros</th>\n",
       "      <th>lemmatized_pros</th>\n",
       "    </tr>\n",
       "  </thead>\n",
       "  <tbody>\n",
       "    <tr>\n",
       "      <th>0</th>\n",
       "      <td>empReview_17651831</td>\n",
       "      <td>The working culture and environment is good here</td>\n",
       "      <td>working culture environment good</td>\n",
       "    </tr>\n",
       "    <tr>\n",
       "      <th>1</th>\n",
       "      <td>empReview_17651831</td>\n",
       "      <td>Freedom to employees and facility of work fro...</td>\n",
       "      <td>freedom employee facility work home</td>\n",
       "    </tr>\n",
       "    <tr>\n",
       "      <th>3</th>\n",
       "      <td>empReview_19452793</td>\n",
       "      <td>Good working environment and opportunity to wo...</td>\n",
       "      <td>good work environment opportunity work differe...</td>\n",
       "    </tr>\n",
       "    <tr>\n",
       "      <th>5</th>\n",
       "      <td>empReview_4852131</td>\n",
       "      <td>Disclaimer: A lot of what I'm writing below of...</td>\n",
       "      <td>disclaimer lot im write course depend work are...</td>\n",
       "    </tr>\n",
       "    <tr>\n",
       "      <th>6</th>\n",
       "      <td>empReview_4852131</td>\n",
       "      <td>But I found this to be fairly pervasive polic...</td>\n",
       "      <td>find fairly pervasive policy ibm</td>\n",
       "    </tr>\n",
       "  </tbody>\n",
       "</table>\n",
       "</div>"
      ],
      "text/plain": [
       "          Employee ID                                               Pros  \\\n",
       "0  empReview_17651831   The working culture and environment is good here   \n",
       "1  empReview_17651831   Freedom to employees and facility of work fro...   \n",
       "3  empReview_19452793  Good working environment and opportunity to wo...   \n",
       "5   empReview_4852131  Disclaimer: A lot of what I'm writing below of...   \n",
       "6   empReview_4852131   But I found this to be fairly pervasive polic...   \n",
       "\n",
       "                                     lemmatized_pros  \n",
       "0                   working culture environment good  \n",
       "1                freedom employee facility work home  \n",
       "3  good work environment opportunity work differe...  \n",
       "5  disclaimer lot im write course depend work are...  \n",
       "6                   find fairly pervasive policy ibm  "
      ]
     },
     "execution_count": 11,
     "metadata": {},
     "output_type": "execute_result"
    },
    {
     "data": {
      "text/plain": [
       "87294"
      ]
     },
     "execution_count": 11,
     "metadata": {},
     "output_type": "execute_result"
    }
   ],
   "source": [
    "split_lemma_pros=splitted_pros.loc[splitted_pros['lemmatized_pros'].isin([item for item in splitted_pros.lemmatized_pros if len(str(item).split())>=2])]\n",
    "\n",
    "split_lemma_pros.head()\n",
    "len(split_lemma_pros)"
   ]
  },
  {
   "cell_type": "code",
   "execution_count": 12,
   "metadata": {},
   "outputs": [
    {
     "data": {
      "text/html": [
       "<div>\n",
       "<style scoped>\n",
       "    .dataframe tbody tr th:only-of-type {\n",
       "        vertical-align: middle;\n",
       "    }\n",
       "\n",
       "    .dataframe tbody tr th {\n",
       "        vertical-align: top;\n",
       "    }\n",
       "\n",
       "    .dataframe thead th {\n",
       "        text-align: right;\n",
       "    }\n",
       "</style>\n",
       "<table border=\"1\" class=\"dataframe\">\n",
       "  <thead>\n",
       "    <tr style=\"text-align: right;\">\n",
       "      <th></th>\n",
       "      <th>Employee ID</th>\n",
       "      <th>Pros</th>\n",
       "      <th>lemmatized_pros</th>\n",
       "    </tr>\n",
       "  </thead>\n",
       "  <tbody>\n",
       "    <tr>\n",
       "      <th>96051</th>\n",
       "      <td>empReview_4111476</td>\n",
       "      <td>Good quality of first line</td>\n",
       "      <td>good quality first line</td>\n",
       "    </tr>\n",
       "    <tr>\n",
       "      <th>39032</th>\n",
       "      <td>empReview_3268800</td>\n",
       "      <td>ample horizontal opportunities</td>\n",
       "      <td>ample horizontal opportunity</td>\n",
       "    </tr>\n",
       "    <tr>\n",
       "      <th>104453</th>\n",
       "      <td>empReview_1681650</td>\n",
       "      <td>Last 19 years have been exciting and fun year...</td>\n",
       "      <td>last year excite fun year great organization</td>\n",
       "    </tr>\n",
       "    <tr>\n",
       "      <th>116880</th>\n",
       "      <td>empReview_10618441</td>\n",
       "      <td>man arbeitet immer mit super guten und intere...</td>\n",
       "      <td>man arbeitet immer mit super guten und interes...</td>\n",
       "    </tr>\n",
       "    <tr>\n",
       "      <th>96322</th>\n",
       "      <td>empReview_4037632</td>\n",
       "      <td>As someone with a family</td>\n",
       "      <td>someone family</td>\n",
       "    </tr>\n",
       "  </tbody>\n",
       "</table>\n",
       "</div>"
      ],
      "text/plain": [
       "               Employee ID                                               Pros  \\\n",
       "96051    empReview_4111476                         Good quality of first line   \n",
       "39032    empReview_3268800                     ample horizontal opportunities   \n",
       "104453   empReview_1681650   Last 19 years have been exciting and fun year...   \n",
       "116880  empReview_10618441   man arbeitet immer mit super guten und intere...   \n",
       "96322    empReview_4037632                           As someone with a family   \n",
       "\n",
       "                                          lemmatized_pros  \n",
       "96051                             good quality first line  \n",
       "39032                        ample horizontal opportunity  \n",
       "104453       last year excite fun year great organization  \n",
       "116880  man arbeitet immer mit super guten und interes...  \n",
       "96322                                      someone family  "
      ]
     },
     "execution_count": 12,
     "metadata": {},
     "output_type": "execute_result"
    }
   ],
   "source": [
    "# shuffle the data before clustering\n",
    "pros_lemmatized_text=shuffle(split_lemma_pros)  # dataframe shuffle for later clustering\n",
    "pros_lemmatized_text.head()"
   ]
  },
  {
   "cell_type": "code",
   "execution_count": null,
   "metadata": {},
   "outputs": [],
   "source": []
  },
  {
   "cell_type": "markdown",
   "metadata": {},
   "source": [
    "## 1st time NMF topic modeling (20 topics)"
   ]
  },
  {
   "cell_type": "code",
   "execution_count": 13,
   "metadata": {},
   "outputs": [
    {
     "name": "stdout",
     "output_type": "stream",
     "text": [
      "['ability', 'ability change', 'ability get', 'ability grow', 'ability learn', 'ability move', 'ability telecommute', 'ability travel', 'ability work', 'able']\n",
      "(87294, 5615)\n"
     ]
    }
   ],
   "source": [
    "# NMF is able to use tf-idf, where LDA only work for the count. \n",
    "tfidf_vectorizer = TfidfVectorizer(min_df=10,ngram_range=(1,2),stop_words=stop_words)\n",
    "pro_tfidf = tfidf_vectorizer.fit_transform(pros_lemmatized_text.lemmatized_pros)\n",
    "tfidf_feature_names = tfidf_vectorizer.get_feature_names()\n",
    "print(tfidf_feature_names[0:10])\n",
    "print(pro_tfidf.shape)\n",
    "\n",
    "#X_train, X_test = train_test_split(pro_tfidf, test_size=0.1, random_state=0)\n",
    "\n",
    "no_topics = 20\n",
    "\n",
    "nmf = NMF(n_components=no_topics, \\\n",
    "          random_state=1, alpha=0.01, \\\n",
    "          init='nndsvd').fit(pro_tfidf)"
   ]
  },
  {
   "cell_type": "code",
   "execution_count": 14,
   "metadata": {
    "scrolled": true
   },
   "outputs": [
    {
     "name": "stdout",
     "output_type": "stream",
     "text": [
      "Topic 0:\n",
      "[('life', 4.03097942425011), ('work life', 3.939172367885524), ('life balance', 3.7726857382340864), ('balance', 3.4258770136165317), ('work', 2.290898451192122), ('good work', 1.1586693458902628), ('balance good', 0.34262524522569693), ('great work', 0.2609969706138936), ('balance work', 0.13119259065507224), ('balance great', 0.0711942274978185), ('excellent work', 0.06639480978180519), ('personal', 0.05483788208636366), ('personal life', 0.05440640744663689), ('excellent', 0.05216196184761258), ('balance ibm', 0.04542350291704125), ('work balance', 0.03626996706969194), ('well', 0.0336050612419094), ('balance flexibility', 0.03309035797883797), ('maintain', 0.03223515172744829), ('life work', 0.030683747689671123)]\n",
      "\n",
      "\n",
      "Topic 1:\n",
      "[('home', 3.525497713224411), ('work home', 3.471850031810003), ('work', 2.182741402300998), ('option', 0.37073616859278136), ('home option', 0.33269584638738314), ('ability work', 0.20913023093528813), ('ability', 0.19439940031058958), ('home facility', 0.16015248785132905), ('home office', 0.15863052673501635), ('facility', 0.15724044892116185), ('office', 0.15112480890472474), ('able work', 0.08277985786749932), ('option work', 0.07648258558433768), ('able', 0.0720862790593067), ('home opportunity', 0.06907300884500003), ('allow', 0.06656239662077926), ('opportunity work', 0.0609461527620661), ('home policy', 0.05569638468318483), ('home great', 0.05514666678116508), ('home flexibility', 0.052118931203622744)]\n",
      "\n",
      "\n",
      "Topic 2:\n",
      "[('good', 7.870121098797739), ('good work', 1.3073895841285514), ('good company', 0.6525420464477149), ('good people', 0.6307855910042711), ('pay', 0.6034438381449373), ('salary', 0.5959516786428646), ('good pay', 0.5335502678555153), ('good salary', 0.5215849281643575), ('good benefit', 0.40331083416285296), ('good place', 0.3517451222692324), ('management', 0.32529803588785), ('good environment', 0.3064838710762224), ('experience', 0.2647970004475375), ('good management', 0.2539308188767949), ('training', 0.24138880196624765), ('good training', 0.23170214583722681), ('team', 0.22196002622794547), ('learning', 0.22152944815024958), ('good learning', 0.21884584960165301), ('good worklife', 0.21204686714131843)]\n",
      "\n",
      "\n",
      "Topic 3:\n",
      "[('people', 4.037009318018447), ('great people', 1.9378065938033966), ('people work', 1.3908350145546167), ('good people', 0.9811619252306105), ('work', 0.6258103644165963), ('talented', 0.24603964859472174), ('nice people', 0.22155449225023346), ('talented people', 0.21744656285691252), ('intelligent', 0.11948838825011063), ('people great', 0.10427903939103673), ('friendly', 0.10000447364384416), ('friendly people', 0.09853091875644462), ('intelligent people', 0.09370038182723499), ('work great', 0.08981296928766246), ('many', 0.08897799809393922), ('work people', 0.08880224841298022), ('people around', 0.08751507778221963), ('meet', 0.08459259407462032), ('around', 0.08239529336124164), ('people nice', 0.07467332544273067)]\n",
      "\n",
      "\n",
      "Topic 4:\n",
      "[('environment', 4.573561005421363), ('work environment', 3.029294469237457), ('work', 1.7401320641170097), ('good environment', 0.5656249710599828), ('friendly', 0.5158523407716293), ('good work', 0.48308178197547097), ('friendly environment', 0.3562177572192711), ('great work', 0.33474884439764946), ('environment work', 0.32289747839769034), ('environment good', 0.28890542093760335), ('working environment', 0.22305046900606193), ('flexible work', 0.21761394050829952), ('great environment', 0.19419276971688687), ('good working', 0.1628438193204436), ('nice work', 0.15744744891540707), ('professional', 0.1504075361892463), ('friendly work', 0.10511994567253628), ('working', 0.1030178679679108), ('excellent', 0.1008076871129934), ('challenge', 0.09261607995550158)]\n",
      "\n",
      "\n",
      "Topic 5:\n",
      "[('company', 5.4658750603568915), ('company work', 1.6026725022409383), ('good company', 1.4886977992658765), ('great company', 1.096918294898057), ('big company', 0.8364380810563296), ('big', 0.8354475298979922), ('large', 0.6087200990969668), ('large company', 0.5712969667357435), ('work', 0.5395539735635683), ('best company', 0.2500431571315097), ('global company', 0.23801966532405708), ('global', 0.23206778951930757), ('best', 0.21764950181087386), ('within company', 0.16630492848581607), ('within', 0.15557120228725818), ('stable', 0.14961355702218307), ('world', 0.14788557734851446), ('company culture', 0.1361947257599383), ('one', 0.1348141982756854), ('company good', 0.13387498220730926)]\n",
      "\n",
      "\n",
      "Topic 6:\n",
      "[('great', 5.547759673476313), ('great people', 0.8735877017243036), ('great company', 0.6786514699504336), ('great benefit', 0.6633577813037809), ('great work', 0.6106700317889492), ('great place', 0.4219367669471736), ('team', 0.34121518086311164), ('great team', 0.28538746086479383), ('experience', 0.24816457140725076), ('great opportunity', 0.23819163832857368), ('colleague', 0.193514751831976), ('great colleague', 0.19341635522212436), ('work great', 0.17548023619978642), ('coworkers', 0.16663349330256383), ('great experience', 0.16549226539878323), ('ibm great', 0.16426368503447686), ('great technology', 0.1594744138481465), ('great coworkers', 0.15262792000046477), ('people great', 0.148897836146848), ('great environment', 0.14620835984185895)]\n",
      "\n",
      "\n",
      "Topic 7:\n",
      "[('opportunity', 5.209578556092963), ('career', 1.2667293065175116), ('lot opportunity', 0.8260353871721925), ('career opportunity', 0.6757811980211431), ('many', 0.6295603819647625), ('opportunity learn', 0.6208317506521885), ('growth', 0.581255764298065), ('grow', 0.5666733101482048), ('opportunity work', 0.5635415082894938), ('opportunity grow', 0.4310464582691337), ('great opportunity', 0.4259270507691947), ('many opportunity', 0.40017665634828115), ('good opportunity', 0.3765948043501799), ('learn opportunity', 0.37120377233346546), ('different', 0.30085880798428055), ('learning', 0.2756957896604706), ('growth opportunity', 0.25929374957025875), ('learning opportunity', 0.2551972225525702), ('travel', 0.23653207245511004), ('development', 0.2300075793712314)]\n",
      "\n",
      "\n",
      "Topic 8:\n",
      "[('flexible', 4.578669975982498), ('flexible work', 2.534497413356703), ('hour', 2.080839143640444), ('work', 0.9778636310999236), ('schedule', 0.9288463526627823), ('flexible hour', 0.8926466850196814), ('work hour', 0.8320373485686537), ('timing', 0.755440622872853), ('working', 0.7230314191129555), ('flexible working', 0.7072621835653532), ('working hour', 0.6425716470334552), ('work schedule', 0.5772028290579478), ('flexible timing', 0.5559800044841904), ('flexible schedule', 0.38249291982682104), ('time', 0.2881707360113314), ('work timing', 0.2318432321059325), ('location', 0.16323160451444313), ('flexible time', 0.15978796086386338), ('arrangement', 0.14887525189729284), ('work arrangement', 0.13616352142187949)]\n",
      "\n",
      "\n",
      "Topic 9:\n",
      "[('worklife', 3.04471607038623), ('worklife balance', 2.967104921656294), ('balance', 2.3802735585295367), ('good worklife', 0.9821598481225239), ('great worklife', 0.34589828864231403), ('balance good', 0.14605960671822518), ('excellent', 0.11888683002872308), ('excellent worklife', 0.11088992113252853), ('balance great', 0.06677408955982611), ('flexible worklife', 0.055921875169787805), ('balance work', 0.049949706202772205), ('maintain', 0.04947222340234638), ('decent worklife', 0.04322478376424024), ('well', 0.04051660521375076), ('decent', 0.037944040812781556), ('good', 0.03564579582896596), ('flexibility worklife', 0.033669588336423785), ('work balance', 0.030997390852135008), ('perfect', 0.02881701814884464), ('balance excellent', 0.026668260355480332)]\n",
      "\n",
      "\n",
      "Topic 10:\n",
      "[('place', 3.246216641154911), ('place work', 2.2524946460436834), ('work', 1.3825378459648836), ('good place', 1.3680371846914432), ('great place', 1.2839578978692343), ('place learn', 0.41929012196460946), ('best place', 0.2669218535586096), ('nice place', 0.24827779482306567), ('best', 0.24770175506454814), ('learn', 0.24067221006043094), ('place start', 0.2161131773823035), ('start', 0.21316852879736264), ('career', 0.18093712952403826), ('start career', 0.15357611520078654), ('work place', 0.1308491172322976), ('ibm great', 0.077792895643255), ('grow', 0.0747111578606055), ('excellent place', 0.06697757022574063), ('one', 0.06202635693436117), ('excellent', 0.05493788777911823)]\n",
      "\n",
      "\n",
      "Topic 11:\n",
      "[('benefit', 6.193180743618862), ('good benefit', 3.485069315034193), ('great benefit', 1.3127255669431461), ('benefit good', 0.490023038785915), ('decent', 0.4700935300789391), ('package', 0.3342743515308075), ('benefit package', 0.3318216470123131), ('decent benefit', 0.32396176872768245), ('health', 0.2162715209052224), ('excellent', 0.21127190908141047), ('good', 0.17924833418941724), ('excellent benefit', 0.17492845914003988), ('pay benefit', 0.17441902145493507), ('salary benefit', 0.16846220457688726), ('health benefit', 0.1388154816803123), ('employee', 0.12997300234445403), ('benefit great', 0.12116621704592956), ('average', 0.11612141837210696), ('medical', 0.11077032369289833), ('benefit decent', 0.10693796138551237)]\n",
      "\n",
      "\n",
      "Topic 12:\n",
      "[('culture', 3.757386746710464), ('work culture', 2.5644882275374195), ('work', 1.5159061787142123), ('good work', 0.8074599846963921), ('culture good', 0.36897639653376324), ('good culture', 0.3451449174617995), ('great culture', 0.23654660212884288), ('great work', 0.15939175933313263), ('company culture', 0.15099385158762885), ('excellent', 0.10529151553352181), ('excellent work', 0.08216417028857997), ('corporate culture', 0.0761673172182296), ('nice work', 0.07568518971375177), ('culture work', 0.07460735799348504), ('value', 0.07357748893621276), ('working culture', 0.06794559197514975), ('corporate', 0.06596552059473648), ('open', 0.06432514720962247), ('culture value', 0.06119543189677471), ('best', 0.055109079794388206)]\n",
      "\n",
      "\n",
      "Topic 13:\n",
      "[('ibm', 4.294448615419256), ('work ibm', 0.9401663973438079), ('employee', 0.5663870708284908), ('year', 0.41154823723615885), ('best', 0.38559499339632586), ('many', 0.27452055894441557), ('ibm great', 0.2700101638301944), ('ibm good', 0.2667754728327303), ('work', 0.257451841006811), ('one', 0.23716414617845907), ('experience', 0.23634858223880745), ('well', 0.225213937570574), ('job', 0.21696287136649053), ('get', 0.21404000090889055), ('provide', 0.19361654916321347), ('give', 0.14521434184114182), ('still', 0.14118486395878183), ('like', 0.13965883869239537), ('business', 0.1393092782789987), ('reason', 0.13660141469556886)]\n",
      "\n",
      "\n",
      "Topic 14:\n",
      "[('lot', 3.9770233880586487), ('learn', 2.4992009445750973), ('learn lot', 1.0113415210761936), ('lot opportunity', 0.8211600434369438), ('lot learn', 0.6424388584708809), ('opportunity learn', 0.3623739440282296), ('thing', 0.2993760086382218), ('learn opportunity', 0.2762214917724388), ('resource', 0.26383072318162865), ('lot resource', 0.201574998502126), ('experience', 0.19923698336814535), ('place learn', 0.167334768031545), ('lot different', 0.16263553473047848), ('lot thing', 0.15327724161930237), ('lot good', 0.14963757246687204), ('company lot', 0.13582134803106796), ('lot smart', 0.12861437878135587), ('lot flexibility', 0.12629302766285105), ('train', 0.12395598723500713), ('learn new', 0.11587964297845522)]\n",
      "\n",
      "\n",
      "Topic 15:\n",
      "[('flexibility', 4.918636029025756), ('flexibility work', 2.3899932253500906), ('work', 1.79421238304845), ('project', 1.2632276513940686), ('time', 1.2252976627418102), ('job', 0.5702236152470581), ('work flexibility', 0.5286547163778565), ('team', 0.4755446162570956), ('interesting', 0.4713871728379811), ('get', 0.43601099016834144), ('work hour', 0.39194258929651565), ('lot flexibility', 0.36683718476161364), ('location', 0.36270777227988316), ('great flexibility', 0.33113357478223787), ('hour', 0.32418205190211147), ('interesting project', 0.2944702915380322), ('home flexibility', 0.22525975876503085), ('time flexibility', 0.22113957712916732), ('challenge', 0.22100984074795726), ('good flexibility', 0.20725178629662297)]\n",
      "\n",
      "\n",
      "Topic 16:\n",
      "[('nice', 4.323359111569099), ('nice people', 1.0478769824132663), ('team', 0.6319073216807706), ('nice work', 0.6241997090977064), ('colleague', 0.48147028578594925), ('nice place', 0.3448508665684615), ('people nice', 0.33413174532438694), ('nice colleague', 0.27969076542828053), ('manager', 0.2300759240717851), ('management', 0.21516289508577735), ('coworkers', 0.2148155705503241), ('nice environment', 0.20996226102228444), ('office', 0.19719753944223467), ('people', 0.18959027916535318), ('nice company', 0.1476684504822253), ('nice team', 0.1308419973631031), ('atmosphere', 0.12198393770478214), ('employee', 0.10804583866580109), ('nice office', 0.10316338262617211), ('really nice', 0.09965876684384851)]\n",
      "\n",
      "\n",
      "Topic 17:\n",
      "[('smart', 3.194629742784586), ('smart people', 2.7314202220304646), ('people', 1.6433577894939226), ('lot smart', 0.3624930039347419), ('work smart', 0.35283415169613613), ('really smart', 0.14199998420940987), ('really', 0.14056155755855884), ('colleague', 0.1280959130341511), ('work', 0.12476696732076575), ('many smart', 0.11289120800254218), ('smart colleague', 0.09899786357294173), ('many', 0.08848015106248193), ('around', 0.08816707702535345), ('coworkers', 0.08809978242405186), ('people work', 0.08686321917797418), ('people around', 0.07419978852237684), ('smart coworkers', 0.0705198304261682), ('get', 0.06996659467973627), ('people smart', 0.06512365873024707), ('lot', 0.0641969798892827)]\n",
      "\n",
      "\n",
      "Topic 18:\n",
      "[('technology', 3.5701855932305637), ('new', 2.00340939611189), ('new technology', 1.2948406934946879), ('learn new', 0.7788054743629182), ('learn', 0.7648998125964365), ('exposure', 0.4491990754539261), ('edge', 0.41247502483487497), ('great technology', 0.37562718956441304), ('edge technology', 0.34092762921142217), ('get', 0.3284586253140063), ('late', 0.28149824380380567), ('cut', 0.2645379184468479), ('cut edge', 0.2615176839756089), ('lead', 0.24331452188323993), ('late technology', 0.23823255058800027), ('skill', 0.21970559130141404), ('thing', 0.2178113657008645), ('opportunity learn', 0.2072394677374532), ('new thing', 0.20599125770408286), ('access', 0.20568910249122185)]\n",
      "\n",
      "\n",
      "Topic 19:\n",
      "[('brand', 2.4288590286402365), ('name', 2.0995955155033954), ('brand name', 1.363350020892495), ('big', 0.98845521093104), ('recognition', 0.5734848321379135), ('big company', 0.3596420939445537), ('good brand', 0.34298586567117006), ('name recognition', 0.33965801700023124), ('resume', 0.3183176691575327), ('great brand', 0.2822771304061022), ('big brand', 0.24253715601256376), ('brand recognition', 0.24110039631621452), ('big name', 0.23586795048366593), ('value', 0.20023980661307225), ('strong', 0.19809602948345717), ('brand value', 0.13856357447711096), ('name resume', 0.13658030225902984), ('strong brand', 0.12941988497548182), ('good name', 0.12367970610884708), ('ibm brand', 0.11583950284046443)]\n",
      "\n",
      "\n"
     ]
    }
   ],
   "source": [
    "num_top_words=20\n",
    "for topic_idx, topic in enumerate(nmf.components_):\n",
    "    print (\"Topic %d:\" % (topic_idx))\n",
    "    # print out top 20 words per topic \n",
    "    words=[(tfidf_feature_names[i],topic[i]) \\\n",
    "           for i in topic.argsort()[::-1][0:num_top_words]]\n",
    "    print(words)\n",
    "    print(\"\\n\")"
   ]
  },
  {
   "cell_type": "markdown",
   "metadata": {},
   "source": [
    "### Conclusion after 1st NMF \n",
    "\n",
    "- not clear clutsers: 2, 13,16\n",
    "- 0,9: work-life\n",
    "- 1,8,15: flexiblility\n",
    "- 3,6,16,17: people\n",
    "- 4: work environment\n",
    "- 5,10,19: company brand\n",
    "- 7,14: opportunity\n",
    "- 11: benefit \n",
    "- 12: culture\n",
    "- 18: technology "
   ]
  },
  {
   "cell_type": "code",
   "execution_count": 19,
   "metadata": {
    "scrolled": true
   },
   "outputs": [],
   "source": [
    "# assign topic with highest probability as topics matrix using argmax(axis=1)\n",
    "\n",
    "topic_assign=nmf.transform(pro_tfidf)\n",
    "\n",
    "# after normalize to assign the topic in each document\n",
    "topics=normalize(np.copy(topic_assign), axis=1, norm='l1')\n",
    "pro_topics =topics.argmax(axis=1)\n",
    "pro_topics=pro_topics.tolist()"
   ]
  },
  {
   "cell_type": "markdown",
   "metadata": {},
   "source": [
    "### after 1st round NMF test"
   ]
  },
  {
   "cell_type": "code",
   "execution_count": 20,
   "metadata": {},
   "outputs": [
    {
     "data": {
      "text/html": [
       "<div>\n",
       "<style scoped>\n",
       "    .dataframe tbody tr th:only-of-type {\n",
       "        vertical-align: middle;\n",
       "    }\n",
       "\n",
       "    .dataframe tbody tr th {\n",
       "        vertical-align: top;\n",
       "    }\n",
       "\n",
       "    .dataframe thead th {\n",
       "        text-align: right;\n",
       "    }\n",
       "</style>\n",
       "<table border=\"1\" class=\"dataframe\">\n",
       "  <thead>\n",
       "    <tr style=\"text-align: right;\">\n",
       "      <th></th>\n",
       "      <th>pro_text</th>\n",
       "      <th>pro_label</th>\n",
       "      <th>Employee ID</th>\n",
       "    </tr>\n",
       "  </thead>\n",
       "  <tbody>\n",
       "    <tr>\n",
       "      <th>0</th>\n",
       "      <td>good quality first line</td>\n",
       "      <td>2</td>\n",
       "      <td>empReview_4111476</td>\n",
       "    </tr>\n",
       "    <tr>\n",
       "      <th>1</th>\n",
       "      <td>ample horizontal opportunity</td>\n",
       "      <td>7</td>\n",
       "      <td>empReview_3268800</td>\n",
       "    </tr>\n",
       "    <tr>\n",
       "      <th>2</th>\n",
       "      <td>last year excite fun year great organization</td>\n",
       "      <td>6</td>\n",
       "      <td>empReview_1681650</td>\n",
       "    </tr>\n",
       "    <tr>\n",
       "      <th>3</th>\n",
       "      <td>man arbeitet immer mit super guten und interes...</td>\n",
       "      <td>17</td>\n",
       "      <td>empReview_10618441</td>\n",
       "    </tr>\n",
       "    <tr>\n",
       "      <th>4</th>\n",
       "      <td>someone family</td>\n",
       "      <td>13</td>\n",
       "      <td>empReview_4037632</td>\n",
       "    </tr>\n",
       "  </tbody>\n",
       "</table>\n",
       "</div>"
      ],
      "text/plain": [
       "                                            pro_text  pro_label  \\\n",
       "0                            good quality first line          2   \n",
       "1                       ample horizontal opportunity          7   \n",
       "2       last year excite fun year great organization          6   \n",
       "3  man arbeitet immer mit super guten und interes...         17   \n",
       "4                                     someone family         13   \n",
       "\n",
       "          Employee ID  \n",
       "0   empReview_4111476  \n",
       "1   empReview_3268800  \n",
       "2   empReview_1681650  \n",
       "3  empReview_10618441  \n",
       "4   empReview_4037632  "
      ]
     },
     "execution_count": 20,
     "metadata": {},
     "output_type": "execute_result"
    }
   ],
   "source": [
    "# after kmeans' results\n",
    "test=pd.DataFrame(list(zip(pros_lemmatized_text.lemmatized_pros,\\\n",
    "                           list(pro_topics),\\\n",
    "                           pros_lemmatized_text['Employee ID'])), columns=['pro_text','pro_label','Employee ID']) \n",
    "test.head()"
   ]
  },
  {
   "cell_type": "code",
   "execution_count": 21,
   "metadata": {},
   "outputs": [
    {
     "data": {
      "text/plain": [
       "<Container object of 20 artists>"
      ]
     },
     "execution_count": 21,
     "metadata": {},
     "output_type": "execute_result"
    },
    {
     "data": {
      "text/plain": [
       "Text(0.5,0,'Topics')"
      ]
     },
     "execution_count": 21,
     "metadata": {},
     "output_type": "execute_result"
    },
    {
     "data": {
      "text/plain": [
       "Text(0,0.5,'# of reviews')"
      ]
     },
     "execution_count": 21,
     "metadata": {},
     "output_type": "execute_result"
    },
    {
     "data": {
      "text/plain": [
       "Text(0.5,1,'1st Round NMF results')"
      ]
     },
     "execution_count": 21,
     "metadata": {},
     "output_type": "execute_result"
    },
    {
     "data": {
      "image/png": "[encoded data removed]",
      "text/plain": [
       "<matplotlib.figure.Figure at 0x1a1a0b0780>"
      ]
     },
     "metadata": {},
     "output_type": "display_data"
    }
   ],
   "source": [
    "NMF1_distribution=pd.DataFrame(test.groupby(['pro_label'])['pro_label'].count())\n",
    "NMF1_distribution.index=range(0,20)  \n",
    "#cluster1_distribution\n",
    "plt.bar(NMF1_distribution.index,NMF1_distribution.pro_label)\n",
    "plt.xlabel('Topics')\n",
    "plt.ylabel('# of reviews')\n",
    "plt.title('1st Round NMF results') "
   ]
  },
  {
   "cell_type": "markdown",
   "metadata": {},
   "source": [
    "## re NMF un-clear topics"
   ]
  },
  {
   "cell_type": "code",
   "execution_count": 22,
   "metadata": {},
   "outputs": [
    {
     "data": {
      "text/plain": [
       "24692"
      ]
     },
     "execution_count": 22,
     "metadata": {},
     "output_type": "execute_result"
    },
    {
     "data": {
      "text/html": [
       "<div>\n",
       "<style scoped>\n",
       "    .dataframe tbody tr th:only-of-type {\n",
       "        vertical-align: middle;\n",
       "    }\n",
       "\n",
       "    .dataframe tbody tr th {\n",
       "        vertical-align: top;\n",
       "    }\n",
       "\n",
       "    .dataframe thead th {\n",
       "        text-align: right;\n",
       "    }\n",
       "</style>\n",
       "<table border=\"1\" class=\"dataframe\">\n",
       "  <thead>\n",
       "    <tr style=\"text-align: right;\">\n",
       "      <th></th>\n",
       "      <th>pro_text</th>\n",
       "      <th>Employee ID</th>\n",
       "    </tr>\n",
       "  </thead>\n",
       "  <tbody>\n",
       "    <tr>\n",
       "      <th>63812</th>\n",
       "      <td>saw morale employee go hill every year</td>\n",
       "      <td>empReview_7094817</td>\n",
       "    </tr>\n",
       "    <tr>\n",
       "      <th>23429</th>\n",
       "      <td>good atmosphere</td>\n",
       "      <td>empReview_2033982</td>\n",
       "    </tr>\n",
       "    <tr>\n",
       "      <th>67955</th>\n",
       "      <td>give training youre bench</td>\n",
       "      <td>empReview_6959404</td>\n",
       "    </tr>\n",
       "    <tr>\n",
       "      <th>9541</th>\n",
       "      <td>ibms train program highly regard industry</td>\n",
       "      <td>empReview_15632935</td>\n",
       "    </tr>\n",
       "    <tr>\n",
       "      <th>30131</th>\n",
       "      <td>offer tuition reimbursement advance education ...</td>\n",
       "      <td>empReview_110873</td>\n",
       "    </tr>\n",
       "  </tbody>\n",
       "</table>\n",
       "</div>"
      ],
      "text/plain": [
       "                                                pro_text         Employee ID\n",
       "63812             saw morale employee go hill every year   empReview_7094817\n",
       "23429                                    good atmosphere   empReview_2033982\n",
       "67955                          give training youre bench   empReview_6959404\n",
       "9541           ibms train program highly regard industry  empReview_15632935\n",
       "30131  offer tuition reimbursement advance education ...    empReview_110873"
      ]
     },
     "execution_count": 22,
     "metadata": {},
     "output_type": "execute_result"
    }
   ],
   "source": [
    "# select unclear topics and recombine into new data frame\n",
    "# drop the pro-label for later to create new labels\n",
    "re_NMF1=test.loc[test['pro_label'].isin([2,13,16])]\n",
    "len(re_NMF1)\n",
    "\n",
    "re_NMF1=re_NMF1.drop(columns=['pro_label'])\n",
    "re_NMF1=shuffle(re_NMF1)\n",
    "re_NMF1.head()"
   ]
  },
  {
   "cell_type": "code",
   "execution_count": 27,
   "metadata": {},
   "outputs": [
    {
     "name": "stdout",
     "output_type": "stream",
     "text": [
      "['ability', 'ability change', 'ability deliver', 'ability make', 'ability move', 'ability telecommute', 'ability work', 'able', 'able get', 'able move']\n",
      "(24692, 5349)\n"
     ]
    }
   ],
   "source": [
    "# NMF is able to use tf-idf, where LDA only work for the count. \n",
    "tfidf_vectorizer_1 = TfidfVectorizer(min_df=4,ngram_range=(1,2),stop_words=stop_words)\n",
    "pro_tfidf_1 = tfidf_vectorizer_1.fit_transform(re_NMF1.pro_text)\n",
    "tfidf_feature_names_1 = tfidf_vectorizer_1.get_feature_names()\n",
    "print(tfidf_feature_names_1[0:10])\n",
    "print(pro_tfidf_1.shape)\n",
    "\n",
    "\n",
    "no_topics = 8\n",
    "\n",
    "re_nmf = NMF(n_components=no_topics, \\\n",
    "          random_state=1, alpha=0.01, \\\n",
    "          init='nndsvd').fit(pro_tfidf_1)"
   ]
  },
  {
   "cell_type": "code",
   "execution_count": 28,
   "metadata": {},
   "outputs": [
    {
     "name": "stdout",
     "output_type": "stream",
     "text": [
      "[7, 0, 7, 7, 1]\n"
     ]
    }
   ],
   "source": [
    "# assign topic with highest probability as topics matrix using argmax(axis=1)\n",
    "\n",
    "topic_assign1=re_nmf.transform(pro_tfidf_1)\n",
    "\n",
    "# after normalize to assign the topic in each document\n",
    "topics_1=normalize(np.copy(topic_assign1), axis=1, norm='l1')\n",
    "   # high precision, high threshold\n",
    "re_pro_topics =topics_1.argmax(axis=1)\n",
    "re_pro_topics=re_pro_topics.tolist()\n",
    "print(re_pro_topics[0:5])"
   ]
  },
  {
   "cell_type": "code",
   "execution_count": 29,
   "metadata": {
    "scrolled": true
   },
   "outputs": [
    {
     "name": "stdout",
     "output_type": "stream",
     "text": [
      "Topic 0:\n",
      "[('functional', 4.682432443675504), ('good network', 0.5377556923865571), ('vacation day', 0.4157132288557297), ('team building', 0.356452116560964), ('every one', 0.3522149390309147), ('good long', 0.3339711217097812), ('get job', 0.2968256188022563), ('good entry', 0.2832693187319954), ('phone', 0.2820931519351158), ('quality people', 0.2803947372097495), ('lot intern', 0.24941494651531607), ('good compare', 0.2341289380654121), ('large enterprise', 0.23277862890632406), ('global', 0.2145022549071161), ('global exposure', 0.1826343132258456), ('liberty', 0.16603008393130142), ('library', 0.16603008393130142), ('goal', 0.1497505818295155), ('global experience', 0.14835305598434453), ('company brand', 0.14721127270641746)]\n",
      "\n",
      "\n",
      "Topic 1:\n",
      "[('hawaii', 3.095313129232761), ('vacation day', 2.063075099011698), ('various technology', 1.3796414694930004), ('come office', 0.5467799246871725), ('good network', 0.4712477074504169), ('well establish', 0.4676636061687569), ('believe', 0.41460341716733023), ('good perk', 0.3821318151504834), ('number different', 0.2657896752588437), ('lot technical', 0.2552962192164533), ('new position', 0.24817346258780723), ('process place', 0.21679142004958593), ('flow', 0.20382277160786455), ('every one', 0.19958119967184831), ('process procedure', 0.19052460691174555), ('home benefit', 0.18014063094315616), ('life balanceflexible', 0.17856752866349332), ('ibm name', 0.17459755646142733), ('learn great', 0.1697224546373789), ('player', 0.16003964270492738)]\n",
      "\n",
      "\n",
      "Topic 2:\n",
      "[('mom', 2.99778035809638), ('opportunity move', 1.6369024814811126), ('movement within', 1.36099267672591), ('opportunity take', 0.42154144641631686), ('employee friendly', 0.3806547910307055), ('vacation day', 0.37695993665399163), ('multicultural environment', 0.36560447283993097), ('client face', 0.3084987317830933), ('opportunity willing', 0.2654236586290017), ('morale', 0.24719230999535763), ('move', 0.18955617763929875), ('variety client', 0.18646108515305587), ('complete work', 0.11320066802401597), ('mostly good', 0.10558864953117694), ('networking opportunity', 0.1034478513796769), ('atmosphere', 0.08945736416533215), ('problem solve', 0.08826377742617324), ('multi', 0.085889152156333), ('move role', 0.08073991448112845), ('consistent', 0.0711768869444879)]\n",
      "\n",
      "\n",
      "Topic 3:\n",
      "[('opportunity', 3.167733406733624), ('goal', 2.0443481371947487), ('treat', 0.30783348659376825), ('opportunity contribute', 0.3009011049452672), ('company diverse', 0.3006846216256238), ('company environment', 0.24212954022524813), ('opportunity grow', 0.2337489870838861), ('functional', 0.15848740880907597), ('average', 0.10291217756881404), ('opportunity change', 0.0945873476220407), ('truly care', 0.07034413084936555), ('household', 0.06126329417787331), ('expand career', 0.056310900018779704), ('one good', 0.054254575292550344), ('opportunity across', 0.05245535838113903), ('new college', 0.052315736442037505), ('process well', 0.05206764757316776), ('expand knowledge', 0.051439894766692744), ('formal', 0.04913823967059656), ('produce', 0.04716181288754285)]\n",
      "\n",
      "\n",
      "Topic 4:\n",
      "[('really make', 3.173363920894234), ('good experience', 2.140103598978735), ('company diverse', 0.5307240042828318), ('company excellent', 0.3854847427660763), ('really work', 0.19787807376323188), ('functional', 0.18653827022322791), ('really want', 0.1780678221078639), ('average', 0.15333510652372187), ('service corp', 0.12675791652865545), ('sense', 0.11267642333184932), ('great start', 0.10333644096496541), ('great training', 0.09018001433159123), ('new college', 0.08911854618168259), ('average pay', 0.08761441206194738), ('mainframe', 0.06860634384198486), ('expand career', 0.05820083963207036), ('neat', 0.05707819378491632), ('really nice', 0.05690772244112789), ('recent', 0.05551923185217671), ('balance flexible', 0.051813407501443344)]\n",
      "\n",
      "\n",
      "Topic 5:\n",
      "[('looks', 3.241090921062566), ('global experience', 1.4456458237024088), ('lot big', 0.2259675117408355), ('solid company', 0.20412307619594594), ('rep', 0.1702728713551586), ('represent', 0.1597712724745914), ('lot information', 0.14944202198857345), ('soft', 0.13040789066975583), ('someone', 0.109780686679172), ('environment pretty', 0.09109316161551768), ('great place', 0.08162543534564663), ('per year', 0.08089354965406045), ('many company', 0.07400525412159067), ('many customer', 0.07299139463737493), ('lot great', 0.06913946252820767), ('environmentgreat', 0.06610414094366779), ('functional', 0.06496923778336233), ('leader technology', 0.06197817511172639), ('great start', 0.058071184108601216), ('perk like', 0.05610124979596805)]\n",
      "\n",
      "\n",
      "Topic 6:\n",
      "[('start get', 3.381213447010289), ('good insurance', 0.7842573965414927), ('still get', 0.6182479267676887), ('vacation day', 0.4646764725559691), ('manager always', 0.3641326644338393), ('steady', 0.3385843660814507), ('multi', 0.1748699912498089), ('environment pretty', 0.15418992729047293), ('lot information', 0.13960334657891535), ('fresher', 0.12442513147852136), ('equipment', 0.12380146734694347), ('friendly environment', 0.12280594650463743), ('soft', 0.11297176347453397), ('volunteer', 0.10525872830344664), ('great place', 0.10441244208433213), ('flexi', 0.09919498786931714), ('solid company', 0.09775081456754392), ('self learn', 0.09111511261740204), ('lot intern', 0.08575911597541581), ('stg', 0.08558552631529202)]\n",
      "\n",
      "\n",
      "Topic 7:\n",
      "[('diversified', 2.8446449975814745), ('first start', 1.1311238905378884), ('dont know', 0.9487552352005894), ('client face', 0.318216221619752), ('lot intern', 0.26506668707497955), ('treat', 0.256211551612028), ('buy', 0.1724929907200089), ('first year', 0.1432267613191653), ('cachet', 0.13822105563493187), ('partnership', 0.13266306637403624), ('high management', 0.12844701530980854), ('pull', 0.1267085105473979), ('technology cloud', 0.12465197638613085), ('specialize', 0.11511682347642826), ('technology company', 0.10873745718141285), ('get great', 0.10780893932516766), ('lot technical', 0.105182872892824), ('soft', 0.09143322479376316), ('purchase', 0.08771193361431077), ('great place', 0.08163491007934154)]\n",
      "\n",
      "\n"
     ]
    }
   ],
   "source": [
    "num_top_words=20\n",
    "for topic_idx, topic in enumerate(re_nmf.components_):\n",
    "    print (\"Topic %d:\" % (topic_idx))\n",
    "    # print out top 20 words per topic \n",
    "    words=[(tfidf_feature_names[i],topic[i]) \\\n",
    "           for i in topic.argsort()[::-1][0:num_top_words]]\n",
    "    print(words)\n",
    "    print(\"\\n\")"
   ]
  },
  {
   "cell_type": "code",
   "execution_count": null,
   "metadata": {},
   "outputs": [],
   "source": []
  },
  {
   "cell_type": "code",
   "execution_count": 30,
   "metadata": {},
   "outputs": [
    {
     "data": {
      "text/html": [
       "<div>\n",
       "<style scoped>\n",
       "    .dataframe tbody tr th:only-of-type {\n",
       "        vertical-align: middle;\n",
       "    }\n",
       "\n",
       "    .dataframe tbody tr th {\n",
       "        vertical-align: top;\n",
       "    }\n",
       "\n",
       "    .dataframe thead th {\n",
       "        text-align: right;\n",
       "    }\n",
       "</style>\n",
       "<table border=\"1\" class=\"dataframe\">\n",
       "  <thead>\n",
       "    <tr style=\"text-align: right;\">\n",
       "      <th></th>\n",
       "      <th>pro_text</th>\n",
       "      <th>pro_label</th>\n",
       "      <th>Employee ID</th>\n",
       "    </tr>\n",
       "  </thead>\n",
       "  <tbody>\n",
       "    <tr>\n",
       "      <th>0</th>\n",
       "      <td>saw morale employee go hill every year</td>\n",
       "      <td>7</td>\n",
       "      <td>empReview_7094817</td>\n",
       "    </tr>\n",
       "    <tr>\n",
       "      <th>1</th>\n",
       "      <td>good atmosphere</td>\n",
       "      <td>0</td>\n",
       "      <td>empReview_2033982</td>\n",
       "    </tr>\n",
       "    <tr>\n",
       "      <th>2</th>\n",
       "      <td>give training youre bench</td>\n",
       "      <td>7</td>\n",
       "      <td>empReview_6959404</td>\n",
       "    </tr>\n",
       "    <tr>\n",
       "      <th>3</th>\n",
       "      <td>ibms train program highly regard industry</td>\n",
       "      <td>7</td>\n",
       "      <td>empReview_15632935</td>\n",
       "    </tr>\n",
       "    <tr>\n",
       "      <th>4</th>\n",
       "      <td>offer tuition reimbursement advance education ...</td>\n",
       "      <td>1</td>\n",
       "      <td>empReview_110873</td>\n",
       "    </tr>\n",
       "  </tbody>\n",
       "</table>\n",
       "</div>"
      ],
      "text/plain": [
       "                                            pro_text  pro_label  \\\n",
       "0             saw morale employee go hill every year          7   \n",
       "1                                    good atmosphere          0   \n",
       "2                          give training youre bench          7   \n",
       "3          ibms train program highly regard industry          7   \n",
       "4  offer tuition reimbursement advance education ...          1   \n",
       "\n",
       "          Employee ID  \n",
       "0   empReview_7094817  \n",
       "1   empReview_2033982  \n",
       "2   empReview_6959404  \n",
       "3  empReview_15632935  \n",
       "4    empReview_110873  "
      ]
     },
     "execution_count": 30,
     "metadata": {},
     "output_type": "execute_result"
    },
    {
     "data": {
      "text/plain": [
       "24692"
      ]
     },
     "execution_count": 30,
     "metadata": {},
     "output_type": "execute_result"
    }
   ],
   "source": [
    "# after kmeans' results\n",
    "test1=pd.DataFrame(list(zip(re_NMF1.pro_text,\\\n",
    "                           list(re_pro_topics),\\\n",
    "                           re_NMF1['Employee ID'])), columns=['pro_text','pro_label','Employee ID']) \n",
    "test1.head()\n",
    "len(test1)"
   ]
  },
  {
   "cell_type": "code",
   "execution_count": 31,
   "metadata": {},
   "outputs": [
    {
     "data": {
      "text/plain": [
       "<Container object of 8 artists>"
      ]
     },
     "execution_count": 31,
     "metadata": {},
     "output_type": "execute_result"
    },
    {
     "data": {
      "text/plain": [
       "Text(0.5,0,'Topics')"
      ]
     },
     "execution_count": 31,
     "metadata": {},
     "output_type": "execute_result"
    },
    {
     "data": {
      "text/plain": [
       "Text(0,0.5,'# of reviews')"
      ]
     },
     "execution_count": 31,
     "metadata": {},
     "output_type": "execute_result"
    },
    {
     "data": {
      "text/plain": [
       "Text(0.5,1,'1st Round NMF results')"
      ]
     },
     "execution_count": 31,
     "metadata": {},
     "output_type": "execute_result"
    },
    {
     "data": {
      "image/png": "[encoded data removed]",
      "text/plain": [
       "<matplotlib.figure.Figure at 0x1a210eddd8>"
      ]
     },
     "metadata": {},
     "output_type": "display_data"
    }
   ],
   "source": [
    "NMF1_distribution=pd.DataFrame(test1.groupby(['pro_label'])['pro_label'].count())\n",
    "NMF1_distribution.index=range(0,8)  \n",
    "#cluster1_distribution\n",
    "plt.bar(NMF1_distribution.index,NMF1_distribution.pro_label)\n",
    "plt.xlabel('Topics')\n",
    "plt.ylabel('# of reviews')\n",
    "plt.title('1st Round NMF results') "
   ]
  },
  {
   "cell_type": "code",
   "execution_count": null,
   "metadata": {},
   "outputs": [],
   "source": []
  },
  {
   "cell_type": "markdown",
   "metadata": {},
   "source": [
    "### Conclusion after 1st NMF \n",
    "\n",
    "- not clear clutsers: 2,13,16\n",
    "- 0,9: work-life\n",
    "- 1,8,15: flexiblility\n",
    "- 3,6,17: people\n",
    "- 4: work environment\n",
    "- 5,10,19: company brand\n",
    "- 7,14: opportunity\n",
    "- 11: benefit \n",
    "- 12: culture\n",
    "- 18: technology "
   ]
  },
  {
   "cell_type": "code",
   "execution_count": 34,
   "metadata": {},
   "outputs": [
    {
     "name": "stderr",
     "output_type": "stream",
     "text": [
      "/anaconda3/lib/python3.6/site-packages/ipykernel_launcher.py:3: SettingWithCopyWarning: \n",
      "A value is trying to be set on a copy of a slice from a DataFrame.\n",
      "Try using .loc[row_indexer,col_indexer] = value instead\n",
      "\n",
      "See the caveats in the documentation: http://pandas.pydata.org/pandas-docs/stable/indexing.html#indexing-view-versus-copy\n",
      "  This is separate from the ipykernel package so we can avoid doing imports until\n"
     ]
    },
    {
     "data": {
      "text/html": [
       "<div>\n",
       "<style scoped>\n",
       "    .dataframe tbody tr th:only-of-type {\n",
       "        vertical-align: middle;\n",
       "    }\n",
       "\n",
       "    .dataframe tbody tr th {\n",
       "        vertical-align: top;\n",
       "    }\n",
       "\n",
       "    .dataframe thead th {\n",
       "        text-align: right;\n",
       "    }\n",
       "</style>\n",
       "<table border=\"1\" class=\"dataframe\">\n",
       "  <thead>\n",
       "    <tr style=\"text-align: right;\">\n",
       "      <th></th>\n",
       "      <th>pro_text</th>\n",
       "      <th>Employee ID</th>\n",
       "      <th>pro_cluster</th>\n",
       "    </tr>\n",
       "  </thead>\n",
       "  <tbody>\n",
       "    <tr>\n",
       "      <th>1</th>\n",
       "      <td>ample horizontal opportunity</td>\n",
       "      <td>empReview_3268800</td>\n",
       "      <td>opportunity</td>\n",
       "    </tr>\n",
       "    <tr>\n",
       "      <th>2</th>\n",
       "      <td>last year excite fun year great organization</td>\n",
       "      <td>empReview_1681650</td>\n",
       "      <td>people</td>\n",
       "    </tr>\n",
       "    <tr>\n",
       "      <th>3</th>\n",
       "      <td>man arbeitet immer mit super guten und interes...</td>\n",
       "      <td>empReview_10618441</td>\n",
       "      <td>people</td>\n",
       "    </tr>\n",
       "    <tr>\n",
       "      <th>5</th>\n",
       "      <td>flexible work cultureloads trainingno pressure...</td>\n",
       "      <td>empReview_6351145</td>\n",
       "      <td>flexiblility</td>\n",
       "    </tr>\n",
       "    <tr>\n",
       "      <th>6</th>\n",
       "      <td>lot change happen within spectrum</td>\n",
       "      <td>empReview_17240899</td>\n",
       "      <td>opportunity</td>\n",
       "    </tr>\n",
       "  </tbody>\n",
       "</table>\n",
       "</div>"
      ],
      "text/plain": [
       "                                            pro_text         Employee ID  \\\n",
       "1                       ample horizontal opportunity   empReview_3268800   \n",
       "2       last year excite fun year great organization   empReview_1681650   \n",
       "3  man arbeitet immer mit super guten und interes...  empReview_10618441   \n",
       "5  flexible work cultureloads trainingno pressure...   empReview_6351145   \n",
       "6                  lot change happen within spectrum  empReview_17240899   \n",
       "\n",
       "    pro_cluster  \n",
       "1   opportunity  \n",
       "2        people  \n",
       "3        people  \n",
       "5  flexiblility  \n",
       "6   opportunity  "
      ]
     },
     "execution_count": 34,
     "metadata": {},
     "output_type": "execute_result"
    },
    {
     "data": {
      "text/plain": [
       "62602"
      ]
     },
     "execution_count": 34,
     "metadata": {},
     "output_type": "execute_result"
    }
   ],
   "source": [
    "topics_1_NMF=test.loc[test['pro_label'].isin([0,9,1,8,15,3,6,17,4,5,10,19,7,14,11,12,18])]\n",
    "\n",
    "topics_1_NMF['pro_cluster'] = topics_1_NMF['pro_label'].\\\n",
    "replace([0,9,1,8,15,3,6,17,4,5,10,19,7,14,11,12,18],\\\n",
    "        ['work-life','work-life','flexiblility','flexiblility','flexiblility',\\\n",
    "         'people','people','people',\\\n",
    "         'work environment','company brand', 'company brand','company brand',\\\n",
    "         'opportunity','opportunity',\\\n",
    "         'benefit','culture','technology'])\n",
    "\n",
    "topics_1_NMF=topics_1_NMF.drop(columns=['pro_label'])\n",
    "topics_1_NMF.head()\n",
    "len(topics_1_NMF)"
   ]
  },
  {
   "cell_type": "code",
   "execution_count": 35,
   "metadata": {},
   "outputs": [
    {
     "data": {
      "text/plain": [
       "24692"
      ]
     },
     "execution_count": 35,
     "metadata": {},
     "output_type": "execute_result"
    },
    {
     "data": {
      "text/html": [
       "<div>\n",
       "<style scoped>\n",
       "    .dataframe tbody tr th:only-of-type {\n",
       "        vertical-align: middle;\n",
       "    }\n",
       "\n",
       "    .dataframe tbody tr th {\n",
       "        vertical-align: top;\n",
       "    }\n",
       "\n",
       "    .dataframe thead th {\n",
       "        text-align: right;\n",
       "    }\n",
       "</style>\n",
       "<table border=\"1\" class=\"dataframe\">\n",
       "  <thead>\n",
       "    <tr style=\"text-align: right;\">\n",
       "      <th></th>\n",
       "      <th>pro_text</th>\n",
       "      <th>Employee ID</th>\n",
       "      <th>pro_cluster</th>\n",
       "    </tr>\n",
       "  </thead>\n",
       "  <tbody>\n",
       "    <tr>\n",
       "      <th>0</th>\n",
       "      <td>saw morale employee go hill every year</td>\n",
       "      <td>empReview_7094817</td>\n",
       "      <td>unsplit</td>\n",
       "    </tr>\n",
       "    <tr>\n",
       "      <th>1</th>\n",
       "      <td>good atmosphere</td>\n",
       "      <td>empReview_2033982</td>\n",
       "      <td>unsplit</td>\n",
       "    </tr>\n",
       "    <tr>\n",
       "      <th>2</th>\n",
       "      <td>give training youre bench</td>\n",
       "      <td>empReview_6959404</td>\n",
       "      <td>unsplit</td>\n",
       "    </tr>\n",
       "    <tr>\n",
       "      <th>3</th>\n",
       "      <td>ibms train program highly regard industry</td>\n",
       "      <td>empReview_15632935</td>\n",
       "      <td>unsplit</td>\n",
       "    </tr>\n",
       "    <tr>\n",
       "      <th>4</th>\n",
       "      <td>offer tuition reimbursement advance education ...</td>\n",
       "      <td>empReview_110873</td>\n",
       "      <td>unsplit</td>\n",
       "    </tr>\n",
       "    <tr>\n",
       "      <th>5</th>\n",
       "      <td>good health insurance benefitsfamily work life...</td>\n",
       "      <td>empReview_1047189</td>\n",
       "      <td>unsplit</td>\n",
       "    </tr>\n",
       "    <tr>\n",
       "      <th>6</th>\n",
       "      <td>nice people good salary</td>\n",
       "      <td>empReview_2068406</td>\n",
       "      <td>unsplit</td>\n",
       "    </tr>\n",
       "    <tr>\n",
       "      <th>7</th>\n",
       "      <td>manager provide good training help grow within...</td>\n",
       "      <td>empReview_10575316</td>\n",
       "      <td>unsplit</td>\n",
       "    </tr>\n",
       "    <tr>\n",
       "      <th>8</th>\n",
       "      <td>look forward amazing future ibm</td>\n",
       "      <td>empReview_15063361</td>\n",
       "      <td>unsplit</td>\n",
       "    </tr>\n",
       "    <tr>\n",
       "      <th>9</th>\n",
       "      <td>ibm employee focus organization</td>\n",
       "      <td>empReview_14396003</td>\n",
       "      <td>unsplit</td>\n",
       "    </tr>\n",
       "    <tr>\n",
       "      <th>10</th>\n",
       "      <td>none none none none whatsoever</td>\n",
       "      <td>empReview_3790528</td>\n",
       "      <td>unsplit</td>\n",
       "    </tr>\n",
       "    <tr>\n",
       "      <th>11</th>\n",
       "      <td>good training</td>\n",
       "      <td>empReview_6502106</td>\n",
       "      <td>unsplit</td>\n",
       "    </tr>\n",
       "    <tr>\n",
       "      <th>12</th>\n",
       "      <td>strong focus employee development training</td>\n",
       "      <td>empReview_1745613</td>\n",
       "      <td>unsplit</td>\n",
       "    </tr>\n",
       "    <tr>\n",
       "      <th>13</th>\n",
       "      <td>true teamwork</td>\n",
       "      <td>empReview_9656045</td>\n",
       "      <td>unsplit</td>\n",
       "    </tr>\n",
       "    <tr>\n",
       "      <th>14</th>\n",
       "      <td>maybe hectic week</td>\n",
       "      <td>empReview_8374158</td>\n",
       "      <td>unsplit</td>\n",
       "    </tr>\n",
       "  </tbody>\n",
       "</table>\n",
       "</div>"
      ],
      "text/plain": [
       "                                             pro_text         Employee ID  \\\n",
       "0              saw morale employee go hill every year   empReview_7094817   \n",
       "1                                     good atmosphere   empReview_2033982   \n",
       "2                           give training youre bench   empReview_6959404   \n",
       "3           ibms train program highly regard industry  empReview_15632935   \n",
       "4   offer tuition reimbursement advance education ...    empReview_110873   \n",
       "5   good health insurance benefitsfamily work life...   empReview_1047189   \n",
       "6                             nice people good salary   empReview_2068406   \n",
       "7   manager provide good training help grow within...  empReview_10575316   \n",
       "8                     look forward amazing future ibm  empReview_15063361   \n",
       "9                     ibm employee focus organization  empReview_14396003   \n",
       "10                     none none none none whatsoever   empReview_3790528   \n",
       "11                                      good training   empReview_6502106   \n",
       "12         strong focus employee development training   empReview_1745613   \n",
       "13                                      true teamwork   empReview_9656045   \n",
       "14                                  maybe hectic week   empReview_8374158   \n",
       "\n",
       "   pro_cluster  \n",
       "0      unsplit  \n",
       "1      unsplit  \n",
       "2      unsplit  \n",
       "3      unsplit  \n",
       "4      unsplit  \n",
       "5      unsplit  \n",
       "6      unsplit  \n",
       "7      unsplit  \n",
       "8      unsplit  \n",
       "9      unsplit  \n",
       "10     unsplit  \n",
       "11     unsplit  \n",
       "12     unsplit  \n",
       "13     unsplit  \n",
       "14     unsplit  "
      ]
     },
     "execution_count": 35,
     "metadata": {},
     "output_type": "execute_result"
    }
   ],
   "source": [
    "# after 1st re-NMF, all unclear topics\n",
    "NMF2=test1\n",
    "len(NMF2)\n",
    "\n",
    "NMF2['pro_cluster'] = NMF2.apply(lambda _: 'unsplit', axis=1)\n",
    "\n",
    "NMF2=NMF2.drop(columns=['pro_label'])\n",
    "NMF2[0:15]"
   ]
  },
  {
   "cell_type": "code",
   "execution_count": 36,
   "metadata": {},
   "outputs": [
    {
     "data": {
      "text/plain": [
       "87294"
      ]
     },
     "execution_count": 36,
     "metadata": {},
     "output_type": "execute_result"
    }
   ],
   "source": [
    "IBM_row_merged_pros = pd.concat([topics_1_NMF,NMF2], ignore_index=True)\n",
    "len(IBM_row_merged_pros)\n",
    "IBM_row_merged_pros.to_csv('Pros_IBM_NMF.csv')"
   ]
  },
  {
   "cell_type": "code",
   "execution_count": null,
   "metadata": {},
   "outputs": [],
   "source": []
  },
  {
   "cell_type": "code",
   "execution_count": null,
   "metadata": {},
   "outputs": [],
   "source": []
  }
 ],
 "metadata": {
  "kernelspec": {
   "display_name": "Python 3",
   "language": "python",
   "name": "python3"
  },
  "language_info": {
   "codemirror_mode": {
    "name": "ipython",
    "version": 3
   },
   "file_extension": ".py",
   "mimetype": "text/x-python",
   "name": "python",
   "nbconvert_exporter": "python",
   "pygments_lexer": "ipython3",
   "version": "3.6.4"
  }
 },
 "nbformat": 4,
 "nbformat_minor": 2
}
