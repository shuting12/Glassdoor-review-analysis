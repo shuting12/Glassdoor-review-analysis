{
 "cells": [
  {
   "cell_type": "markdown",
   "metadata": {},
   "source": [
    "## IBM comparing methods - kMeans Clustering"
   ]
  },
  {
   "cell_type": "code",
   "execution_count": 1,
   "metadata": {},
   "outputs": [],
   "source": [
    "from IPython.core.interactiveshell import InteractiveShell\n",
    "InteractiveShell.ast_node_interactivity = \"all\"\n",
    "import pandas as pd \n",
    "import numpy as np\n",
    "\n",
    "# NLP packages\n",
    "import re\n",
    "import nltk\n",
    "import string\n",
    "import enchant\n",
    "from nltk.corpus import stopwords\n",
    "from nltk.stem import WordNetLemmatizer \n",
    "from nltk.corpus import wordnet\n",
    "\n",
    "import seaborn as sns\n",
    "import matplotlib.pyplot as plt\n",
    "%matplotlib inline   \n",
    "\n",
    "from sklearn.model_selection import train_test_split\n",
    "from sklearn.metrics import precision_recall_fscore_support\n",
    "from sklearn.pipeline import Pipeline\n",
    "from sklearn.model_selection import GridSearchCV\n",
    "\n",
    "\n",
    "from sklearn.feature_extraction.text import TfidfVectorizer\n",
    "from sklearn import metrics\n",
    "from sklearn.cluster import KMeans\n",
    "\n",
    "from sklearn.utils import shuffle"
   ]
  },
  {
   "cell_type": "code",
   "execution_count": 2,
   "metadata": {
    "scrolled": true
   },
   "outputs": [],
   "source": [
    "df_IBM=pd.read_csv(\"IBM.csv\",encoding = \"UTF-8\")  #\"ISO-8859-1\"\n",
    "#change the order\n",
    "df_IBM =df_IBM[[ 'Employee ID',\n",
    "                 'Date',\n",
    "                 'Location',\n",
    "                 'Employee Status',\n",
    "                 'Employee Position',\n",
    "                 'Overall Rating',\n",
    "                 'Work Life Balance',\n",
    "                 'Company Culture',\n",
    "                 'Career Opportunity',\n",
    "                 'Benefit and Compensation',\n",
    "                 'Senior Management',\n",
    "                 'Helpful Count',\n",
    "                 'Evaluation',\n",
    "                 'Overall Comment',\n",
    "                 'Pros',\n",
    "                 'Cons',\n",
    "                 'Advice']]\n",
    "\n",
    "df_IBM['Company Name'] = df_IBM.apply(lambda _: 'IBM', axis=1)\n",
    "#df_IBM[\"Employee Status\"].value_counts() \n",
    "#df_IBM[\"Employee Position\"].value_counts() \n",
    "#df_IBM[\"Date\"].value_counts() "
   ]
  },
  {
   "cell_type": "code",
   "execution_count": 3,
   "metadata": {},
   "outputs": [],
   "source": [
    "# create 2 more columns which is combined review & review length\n",
    "# combined review\n",
    "df_IBM['CombineReview'] = df_IBM[df_IBM.columns[-3:]].apply(lambda x: ' '.join(x.astype(str).astype(str)), axis=1)\n",
    "# review length\n",
    "df_IBM['review length'] = df_IBM['CombineReview'].apply(len)"
   ]
  },
  {
   "cell_type": "markdown",
   "metadata": {},
   "source": [
    "## New dataframe: matching the employee ID for splitted Pros comments "
   ]
  },
  {
   "cell_type": "code",
   "execution_count": 5,
   "metadata": {},
   "outputs": [
    {
     "data": {
      "text/html": [
       "<div>\n",
       "<style scoped>\n",
       "    .dataframe tbody tr th:only-of-type {\n",
       "        vertical-align: middle;\n",
       "    }\n",
       "\n",
       "    .dataframe tbody tr th {\n",
       "        vertical-align: top;\n",
       "    }\n",
       "\n",
       "    .dataframe thead th {\n",
       "        text-align: right;\n",
       "    }\n",
       "</style>\n",
       "<table border=\"1\" class=\"dataframe\">\n",
       "  <thead>\n",
       "    <tr style=\"text-align: right;\">\n",
       "      <th></th>\n",
       "      <th>Employee ID</th>\n",
       "      <th>Pros</th>\n",
       "    </tr>\n",
       "  </thead>\n",
       "  <tbody>\n",
       "    <tr>\n",
       "      <th>0</th>\n",
       "      <td>empReview_17651831</td>\n",
       "      <td>The working culture and environment is good here</td>\n",
       "    </tr>\n",
       "    <tr>\n",
       "      <th>1</th>\n",
       "      <td>empReview_17651831</td>\n",
       "      <td>Freedom to employees and facility of work fro...</td>\n",
       "    </tr>\n",
       "    <tr>\n",
       "      <th>3</th>\n",
       "      <td>empReview_19452793</td>\n",
       "      <td>Good working environment and opportunity to wo...</td>\n",
       "    </tr>\n",
       "    <tr>\n",
       "      <th>5</th>\n",
       "      <td>empReview_4852131</td>\n",
       "      <td>Disclaimer: A lot of what I'm writing below of...</td>\n",
       "    </tr>\n",
       "    <tr>\n",
       "      <th>6</th>\n",
       "      <td>empReview_4852131</td>\n",
       "      <td>But I found this to be fairly pervasive polic...</td>\n",
       "    </tr>\n",
       "  </tbody>\n",
       "</table>\n",
       "</div>"
      ],
      "text/plain": [
       "          Employee ID                                               Pros\n",
       "0  empReview_17651831   The working culture and environment is good here\n",
       "1  empReview_17651831   Freedom to employees and facility of work fro...\n",
       "3  empReview_19452793  Good working environment and opportunity to wo...\n",
       "5   empReview_4852131  Disclaimer: A lot of what I'm writing below of...\n",
       "6   empReview_4852131   But I found this to be fairly pervasive polic..."
      ]
     },
     "execution_count": 5,
     "metadata": {},
     "output_type": "execute_result"
    },
    {
     "data": {
      "text/plain": [
       "pandas.core.frame.DataFrame"
      ]
     },
     "execution_count": 5,
     "metadata": {},
     "output_type": "execute_result"
    }
   ],
   "source": [
    "IBM_pro_reviews=df_IBM[['Employee ID','Pros', 'Company Name']]\n",
    "splitted_pros = pd.DataFrame(IBM_pro_reviews.Pros.str.split(r\"\\.|\\,|\\+|\\?|\\!|\\;\").tolist(), \\\n",
    "                             index=IBM_pro_reviews['Employee ID']).stack()\n",
    "\n",
    "splitted_pros = splitted_pros.reset_index()[['Employee ID', 0]] \n",
    "splitted_pros.columns = ['Employee ID', 'Pros'] \n",
    "cleaned_pros=[item for item in splitted_pros.Pros if len(str(item).split())>=2]\n",
    "splitted_pros=splitted_pros.loc[splitted_pros['Pros'].isin(cleaned_pros)]\n",
    "\n",
    "#splitted_pros['Company Name'] = splitted_pros.apply(lambda _: 'IBM', axis=1)\n",
    "splitted_pros.head()\n",
    "type(splitted_pros)"
   ]
  },
  {
   "cell_type": "code",
   "execution_count": 6,
   "metadata": {
    "scrolled": true
   },
   "outputs": [
    {
     "data": {
      "text/plain": [
       "['The working culture and environment is good here',\n",
       " ' Freedom to employees and facility of work from home',\n",
       " 'Good working environment and opportunity to work different countries',\n",
       " \"Disclaimer: A lot of what I'm writing below of course depends on the work area and management chain\",\n",
       " ' But I found this to be fairly pervasive policies in IBM in my 9']"
      ]
     },
     "execution_count": 6,
     "metadata": {},
     "output_type": "execute_result"
    }
   ],
   "source": [
    "pros=[\"\".join(item) for item in splitted_pros.Pros]\n",
    "pros[0:5]"
   ]
  },
  {
   "cell_type": "code",
   "execution_count": 7,
   "metadata": {},
   "outputs": [],
   "source": [
    "stop_words=stopwords.words('english')\n",
    "more_stopwords = \"\"\"etc nan also some just have from it's /via &amp; that they your there this into would can't\"\"\"\n",
    "stop_words += more_stopwords.split()"
   ]
  },
  {
   "cell_type": "code",
   "execution_count": 8,
   "metadata": {},
   "outputs": [],
   "source": [
    "d = enchant.Dict(\"en_US\")    # english dictionary\n",
    "\n",
    "def text_cleaning(text):\n",
    "    text=text.lower()\n",
    "    nopunc = [char for char in text if char not in string.punctuation]\n",
    "    nopunc = ''.join(nopunc)\n",
    "    tokens=nltk.word_tokenize(nopunc)\n",
    "    tokens=[token for token in tokens if token.isalpha()]\n",
    "    tokens=[token for token in tokens if token not in stop_words]\n",
    "    tagged_tokens= nltk.pos_tag(tokens)\n",
    "        \n",
    "    words=filter(lambda x: d.check(x), tokens)\n",
    "    clean_word=[word for word in words if word not in stop_words]\n",
    "    return clean_word, tagged_tokens \n",
    "\n",
    "def taggedwords(review_list):\n",
    "    packed_words=[]\n",
    "    for review in review_list:     # use target list for analysis here is cons\n",
    "        packed_words.append(text_cleaning(review))\n",
    "        \n",
    "    review_words,tagged_tokens=zip(*packed_words)\n",
    "    return tagged_tokens"
   ]
  },
  {
   "cell_type": "code",
   "execution_count": 9,
   "metadata": {},
   "outputs": [],
   "source": [
    "# obtain tagged_tokens in pros & cons\n",
    "pros_tagged_tokens=taggedwords(pros)\n",
    "\n",
    "#cons_tagged_tokens=taggedwords(cons)"
   ]
  },
  {
   "cell_type": "code",
   "execution_count": 10,
   "metadata": {},
   "outputs": [
    {
     "data": {
      "text/plain": [
       "90161"
      ]
     },
     "execution_count": 10,
     "metadata": {},
     "output_type": "execute_result"
    }
   ],
   "source": [
    "# obtain lemmatized reviews\n",
    "wordnet_lemmatizer = WordNetLemmatizer()\n",
    "def get_wordnet_pos(pos_tag):\n",
    "    if pos_tag.startswith('J'):\n",
    "        return wordnet.ADJ\n",
    "    \n",
    "    elif pos_tag.startswith('V'):\n",
    "        return wordnet.VERB\n",
    "    \n",
    "    elif pos_tag.startswith('N'):\n",
    "        return wordnet.NOUN\n",
    "    \n",
    "    elif pos_tag.startswith('R'):\n",
    "        return wordnet.ADV\n",
    "    else:\n",
    "        return wordnet.NOUN\n",
    "\n",
    "pros_lemmatized_words=[] \n",
    "for idx, doc in enumerate(pros_tagged_tokens):\n",
    "    pros_lemmatized_words.append([wordnet_lemmatizer.lemmatize(word, get_wordnet_pos(tag)) for (word, tag) in doc])\n",
    "len(pros_lemmatized_words)\n",
    "\n",
    "#cons_lemmatized_words=[] \n",
    "#for idx, doc in enumerate(cons_tagged_tokens):\n",
    "#    cons_lemmatized_words.append([wordnet_lemmatizer.lemmatize(word, get_wordnet_pos(tag)) for (word, tag) in doc])\n",
    "#len(cons_lemmatized_words)"
   ]
  },
  {
   "cell_type": "code",
   "execution_count": 11,
   "metadata": {},
   "outputs": [
    {
     "data": {
      "text/html": [
       "<div>\n",
       "<style scoped>\n",
       "    .dataframe tbody tr th:only-of-type {\n",
       "        vertical-align: middle;\n",
       "    }\n",
       "\n",
       "    .dataframe tbody tr th {\n",
       "        vertical-align: top;\n",
       "    }\n",
       "\n",
       "    .dataframe thead th {\n",
       "        text-align: right;\n",
       "    }\n",
       "</style>\n",
       "<table border=\"1\" class=\"dataframe\">\n",
       "  <thead>\n",
       "    <tr style=\"text-align: right;\">\n",
       "      <th></th>\n",
       "      <th>Employee ID</th>\n",
       "      <th>Pros</th>\n",
       "      <th>lemmatized_pros</th>\n",
       "    </tr>\n",
       "  </thead>\n",
       "  <tbody>\n",
       "    <tr>\n",
       "      <th>0</th>\n",
       "      <td>empReview_17651831</td>\n",
       "      <td>The working culture and environment is good here</td>\n",
       "      <td>working culture environment good</td>\n",
       "    </tr>\n",
       "    <tr>\n",
       "      <th>1</th>\n",
       "      <td>empReview_17651831</td>\n",
       "      <td>Freedom to employees and facility of work fro...</td>\n",
       "      <td>freedom employee facility work home</td>\n",
       "    </tr>\n",
       "    <tr>\n",
       "      <th>3</th>\n",
       "      <td>empReview_19452793</td>\n",
       "      <td>Good working environment and opportunity to wo...</td>\n",
       "      <td>good work environment opportunity work differe...</td>\n",
       "    </tr>\n",
       "    <tr>\n",
       "      <th>5</th>\n",
       "      <td>empReview_4852131</td>\n",
       "      <td>Disclaimer: A lot of what I'm writing below of...</td>\n",
       "      <td>disclaimer lot im write course depend work are...</td>\n",
       "    </tr>\n",
       "    <tr>\n",
       "      <th>6</th>\n",
       "      <td>empReview_4852131</td>\n",
       "      <td>But I found this to be fairly pervasive polic...</td>\n",
       "      <td>find fairly pervasive policy ibm</td>\n",
       "    </tr>\n",
       "  </tbody>\n",
       "</table>\n",
       "</div>"
      ],
      "text/plain": [
       "          Employee ID                                               Pros  \\\n",
       "0  empReview_17651831   The working culture and environment is good here   \n",
       "1  empReview_17651831   Freedom to employees and facility of work fro...   \n",
       "3  empReview_19452793  Good working environment and opportunity to wo...   \n",
       "5   empReview_4852131  Disclaimer: A lot of what I'm writing below of...   \n",
       "6   empReview_4852131   But I found this to be fairly pervasive polic...   \n",
       "\n",
       "                                     lemmatized_pros  \n",
       "0                   working culture environment good  \n",
       "1                freedom employee facility work home  \n",
       "3  good work environment opportunity work differe...  \n",
       "5  disclaimer lot im write course depend work are...  \n",
       "6                   find fairly pervasive policy ibm  "
      ]
     },
     "execution_count": 11,
     "metadata": {},
     "output_type": "execute_result"
    }
   ],
   "source": [
    "pros_lemmatized_text=[\" \".join(item) for item in pros_lemmatized_words]\n",
    "\n",
    "# add the lemmatized pros in data frame \n",
    "splitted_pros.loc[:,'lemmatized_pros'] = pros_lemmatized_text\n",
    "splitted_pros.head()"
   ]
  },
  {
   "cell_type": "code",
   "execution_count": 203,
   "metadata": {},
   "outputs": [
    {
     "data": {
      "text/html": [
       "<div>\n",
       "<style scoped>\n",
       "    .dataframe tbody tr th:only-of-type {\n",
       "        vertical-align: middle;\n",
       "    }\n",
       "\n",
       "    .dataframe tbody tr th {\n",
       "        vertical-align: top;\n",
       "    }\n",
       "\n",
       "    .dataframe thead th {\n",
       "        text-align: right;\n",
       "    }\n",
       "</style>\n",
       "<table border=\"1\" class=\"dataframe\">\n",
       "  <thead>\n",
       "    <tr style=\"text-align: right;\">\n",
       "      <th></th>\n",
       "      <th>Employee ID</th>\n",
       "      <th>Pros</th>\n",
       "      <th>lemmatized_pros</th>\n",
       "    </tr>\n",
       "  </thead>\n",
       "  <tbody>\n",
       "    <tr>\n",
       "      <th>0</th>\n",
       "      <td>empReview_17651831</td>\n",
       "      <td>The working culture and environment is good here</td>\n",
       "      <td>working culture environment good</td>\n",
       "    </tr>\n",
       "    <tr>\n",
       "      <th>1</th>\n",
       "      <td>empReview_17651831</td>\n",
       "      <td>Freedom to employees and facility of work fro...</td>\n",
       "      <td>freedom employee facility work home</td>\n",
       "    </tr>\n",
       "    <tr>\n",
       "      <th>3</th>\n",
       "      <td>empReview_19452793</td>\n",
       "      <td>Good working environment and opportunity to wo...</td>\n",
       "      <td>good work environment opportunity work differe...</td>\n",
       "    </tr>\n",
       "    <tr>\n",
       "      <th>5</th>\n",
       "      <td>empReview_4852131</td>\n",
       "      <td>Disclaimer: A lot of what I'm writing below of...</td>\n",
       "      <td>disclaimer lot im write course depend work are...</td>\n",
       "    </tr>\n",
       "    <tr>\n",
       "      <th>6</th>\n",
       "      <td>empReview_4852131</td>\n",
       "      <td>But I found this to be fairly pervasive polic...</td>\n",
       "      <td>find fairly pervasive policy ibm</td>\n",
       "    </tr>\n",
       "  </tbody>\n",
       "</table>\n",
       "</div>"
      ],
      "text/plain": [
       "          Employee ID                                               Pros  \\\n",
       "0  empReview_17651831   The working culture and environment is good here   \n",
       "1  empReview_17651831   Freedom to employees and facility of work fro...   \n",
       "3  empReview_19452793  Good working environment and opportunity to wo...   \n",
       "5   empReview_4852131  Disclaimer: A lot of what I'm writing below of...   \n",
       "6   empReview_4852131   But I found this to be fairly pervasive polic...   \n",
       "\n",
       "                                     lemmatized_pros  \n",
       "0                   working culture environment good  \n",
       "1                freedom employee facility work home  \n",
       "3  good work environment opportunity work differe...  \n",
       "5  disclaimer lot im write course depend work are...  \n",
       "6                   find fairly pervasive policy ibm  "
      ]
     },
     "execution_count": 203,
     "metadata": {},
     "output_type": "execute_result"
    },
    {
     "data": {
      "text/plain": [
       "87294"
      ]
     },
     "execution_count": 203,
     "metadata": {},
     "output_type": "execute_result"
    }
   ],
   "source": [
    "split_lemma_pros=splitted_pros.loc[splitted_pros['lemmatized_pros'].isin([item for item in splitted_pros.lemmatized_pros if len(str(item).split())>=2])]\n",
    "\n",
    "split_lemma_pros.head()\n",
    "len(split_lemma_pros)"
   ]
  },
  {
   "cell_type": "markdown",
   "metadata": {},
   "source": [
    "## 1st round Clustering kmeans"
   ]
  },
  {
   "cell_type": "code",
   "execution_count": 13,
   "metadata": {},
   "outputs": [
    {
     "data": {
      "text/html": [
       "<div>\n",
       "<style scoped>\n",
       "    .dataframe tbody tr th:only-of-type {\n",
       "        vertical-align: middle;\n",
       "    }\n",
       "\n",
       "    .dataframe tbody tr th {\n",
       "        vertical-align: top;\n",
       "    }\n",
       "\n",
       "    .dataframe thead th {\n",
       "        text-align: right;\n",
       "    }\n",
       "</style>\n",
       "<table border=\"1\" class=\"dataframe\">\n",
       "  <thead>\n",
       "    <tr style=\"text-align: right;\">\n",
       "      <th></th>\n",
       "      <th>Employee ID</th>\n",
       "      <th>Pros</th>\n",
       "      <th>lemmatized_pros</th>\n",
       "    </tr>\n",
       "  </thead>\n",
       "  <tbody>\n",
       "    <tr>\n",
       "      <th>74929</th>\n",
       "      <td>empReview_12368119</td>\n",
       "      <td>best opportunity to learn</td>\n",
       "      <td>best opportunity learn</td>\n",
       "    </tr>\n",
       "    <tr>\n",
       "      <th>107576</th>\n",
       "      <td>empReview_1219674</td>\n",
       "      <td>Very Open workcultureNo racial/gender bias</td>\n",
       "      <td>open workcultureno racialgender bias</td>\n",
       "    </tr>\n",
       "    <tr>\n",
       "      <th>46057</th>\n",
       "      <td>empReview_911206</td>\n",
       "      <td>Lots of opportunitiesLong-term career prospect...</td>\n",
       "      <td>lot opportunitieslongterm career prospectschal...</td>\n",
       "    </tr>\n",
       "    <tr>\n",
       "      <th>16608</th>\n",
       "      <td>empReview_11198971</td>\n",
       "      <td>Part-time work available</td>\n",
       "      <td>parttime work available</td>\n",
       "    </tr>\n",
       "    <tr>\n",
       "      <th>89267</th>\n",
       "      <td>empReview_7071794</td>\n",
       "      <td>flexible working hours</td>\n",
       "      <td>flexible working hour</td>\n",
       "    </tr>\n",
       "  </tbody>\n",
       "</table>\n",
       "</div>"
      ],
      "text/plain": [
       "               Employee ID                                               Pros  \\\n",
       "74929   empReview_12368119                          best opportunity to learn   \n",
       "107576   empReview_1219674         Very Open workcultureNo racial/gender bias   \n",
       "46057     empReview_911206  Lots of opportunitiesLong-term career prospect...   \n",
       "16608   empReview_11198971                           Part-time work available   \n",
       "89267    empReview_7071794                             flexible working hours   \n",
       "\n",
       "                                          lemmatized_pros  \n",
       "74929                              best opportunity learn  \n",
       "107576               open workcultureno racialgender bias  \n",
       "46057   lot opportunitieslongterm career prospectschal...  \n",
       "16608                             parttime work available  \n",
       "89267                               flexible working hour  "
      ]
     },
     "execution_count": 13,
     "metadata": {},
     "output_type": "execute_result"
    }
   ],
   "source": [
    "# shuffle the data before clustering\n",
    "pros_lemmatized_text=shuffle(split_lemma_pros)  # dataframe shuffle for later clustering\n",
    "pros_lemmatized_text.head()"
   ]
  },
  {
   "cell_type": "code",
   "execution_count": 14,
   "metadata": {},
   "outputs": [
    {
     "name": "stdout",
     "output_type": "stream",
     "text": [
      "(87294, 5615)\n"
     ]
    }
   ],
   "source": [
    "tfidf_vect = TfidfVectorizer(stop_words=stop_words,ngram_range=(1,2),min_df=10) \n",
    "\n",
    "# generate tfidf matrix for pros & cons\n",
    "pros_cluster_dtm= tfidf_vect.fit_transform(pros_lemmatized_text.lemmatized_pros)\n",
    "\n",
    "#cons_cluster_dtm= tfidf_vect.fit_transform(cons_lemmatized_text)\n",
    "\n",
    "print (pros_cluster_dtm.shape)"
   ]
  },
  {
   "cell_type": "code",
   "execution_count": 15,
   "metadata": {},
   "outputs": [],
   "source": [
    "# randomly decided the clustering number\n",
    "pros_num_clusters=20\n",
    "pros_km = KMeans(n_clusters=pros_num_clusters, n_init=10).fit(pros_cluster_dtm)\n",
    "pros_clusters = pros_km.labels_.tolist()"
   ]
  },
  {
   "cell_type": "code",
   "execution_count": 16,
   "metadata": {
    "scrolled": true
   },
   "outputs": [
    {
     "name": "stdout",
     "output_type": "stream",
     "text": [
      "Cluster 0: learn; technology; new; lot; learn lot; new technology; learn new; great; thing; place learn; place; lot learn; edge; edge technology; work; great technology; exposure; new thing; good; late; experience; great place; skill; opportunity learn; late technology \n",
      "Cluster 1: work; great; team; lot; project; job; place; management; time; pay; nice; career; experience; colleague; manager; many; well; salary; training; client; coworkers; best; challenge; office; business \n",
      "Cluster 2: flexibility; flexibility work; work; home; work home; work flexibility; lot flexibility; hour; great flexibility; work hour; great; lot; time; location; good; good flexibility; schedule; time flexibility; work location; flexibility hour; flexibility good; timing; job; office; hour flexibility \n",
      "Cluster 3: ibm; work ibm; work; year; company; best; great; place; ibm great; good; people; many; career; technology; one; experience; place work; opportunity; still; provide; resume; within ibm; well; ibm good; within \n",
      "Cluster 4: get; get work; work; experience; lot; good; project; job; get job; people; get good; ibm; opportunity; easy get; easy; time; chance; opportunity get; get experience; technology; great; different; get chance; get opportunity; long \n",
      "Cluster 5: worklife; worklife balance; balance; good worklife; good; great worklife; great; balance good; excellent worklife; excellent; work; balance great; flexible; flexible worklife; maintain; home; flexibility; decent worklife; work home; ibm; balance work; decent; flexibility worklife; well; best \n",
      "Cluster 6: employee; employee friendly; friendly; ibm; company; good; work; care; benefit; great; employee work; care employee; employee benefit; well; trust; good employee; ibm employee; opportunity; respect; management; many; provide; trust employee; woman employee; policy \n",
      "Cluster 7: people; great people; people work; great; smart; smart people; good people; work; good; nice; nice people; talented; lot; talented people; people great; people nice; lot smart; work great; work smart; friendly; really; intelligent; friendly people; people around; around \n",
      "Cluster 8: benefit; good benefit; good; great benefit; great; benefit good; decent; benefit package; decent benefit; package; pay; pay benefit; salary; salary benefit; health; excellent benefit; excellent; benefit great; health benefit; compensation; medical; benefit decent; average; compensation benefit; good pay \n",
      "Cluster 9: help; willing help; willing; people; always; everyone; always willing; lot; career; work; ibm; need; people willing; employee; team; get; manager; help grow; help get; grow; resource; skill; help client; client; help lot \n",
      "Cluster 10: like; change; company; ibm; job; work; change job; career; feel like; feel; like work; opportunity; change career; change world; opportunity change; world; within; like ibm; role; year; technology; many; without; thing; like travel \n",
      "Cluster 11: opportunity; lot; lot opportunity; learn; career; opportunity learn; career opportunity; opportunity work; grow; many; learn opportunity; great; great opportunity; growth; opportunity grow; good; many opportunity; work; good opportunity; different; company; learning opportunity; growth opportunity; learning; opportunity move \n",
      "Cluster 12: good; good place; place; work; salary; good salary; good pay; pay; good work; place work; management; good management; experience; team; good training; training; start; good resume; good team; resume; good experience; project; good project; learning; manager \n",
      "Cluster 13: flexible; flexible work; hour; work; schedule; flexible hour; timing; flexible working; working; working hour; flexible timing; work hour; work schedule; flexible schedule; time; flexible time; work timing; home; arrangement; location; work arrangement; work home; option; work time; hour work \n",
      "Cluster 14: brand; name; brand name; recognition; name recognition; good brand; big; brand recognition; great brand; good; big brand; resume; big name; great; brand value; value; strong brand; strong; ibm; name resume; good name; ibm brand; company; recognize; global brand \n",
      "Cluster 15: culture; work culture; work; good; good work; good culture; culture good; great culture; great; great work; nice; flexible; corporate culture; working culture; culture value; nice work; value; corporate; flexible work; excellent; open; excellent work; best; working; open culture \n",
      "Cluster 16: environment; work environment; work; good; good environment; good work; friendly; friendly environment; working environment; flexible; environment work; great; flexible work; working; good working; nice; great work; environment good; great environment; nice work; nice environment; professional; professional environment; international environment; international \n",
      "Cluster 17: company; company work; good company; great company; big company; good; big; great; work; large company; large; global company; best company; global; best; ibm; stable; world; well; lot; stable company; company world; company culture; one; within company \n",
      "Cluster 18: work home; home; work; option; home option; ability work; ability; home facility; facility; able work; option work; home opportunity; able; opportunity; allow; home policy; flexible; home flexibility; home great; available; policy; good; time; flexibility; flexible work \n",
      "Cluster 19: work life; life; life balance; balance; work; good work; good; balance good; great work; great; balance work; balance great; excellent work; flexible; excellent; home; flexibility; ibm; company; flexible work; balance ibm; work home; best; well; culture \n"
     ]
    }
   ],
   "source": [
    "pros_labels = pros_km.labels_\n",
    "pros_centroids = pros_km.cluster_centers_\n",
    "pros_sorted_centroids = pros_centroids.argsort()[:, ::-1] \n",
    "\n",
    "voc_lookup= tfidf_vect.get_feature_names()\n",
    "\n",
    "for i in range(pros_num_clusters):\n",
    "    \n",
    "    pros_top_words=[voc_lookup[word_index] \\\n",
    "               for word_index in pros_sorted_centroids[i, :25]]\n",
    "    print(\"Cluster %d: %s \" % (i, \"; \".join(pros_top_words)))"
   ]
  },
  {
   "cell_type": "markdown",
   "metadata": {},
   "source": [
    "### Conclusion after 1st clustering \n",
    "\n",
    "- not clear clutsers: 1,3,4,10,12: \n",
    "- 0: technology\n",
    "- 2/13/18: flexible time/work hour/location\n",
    "- 5/19: work-life\n",
    "- 6/7/9: people/team/colleague\n",
    "- 8: benefit\n",
    "- 11: opportunity\n",
    "- 14/17: company/brand name\n",
    "- 15: culture\n",
    "- 16: work environment "
   ]
  },
  {
   "cell_type": "markdown",
   "metadata": {},
   "source": [
    "## plot 1st clustering distribution\n",
    "\n",
    "### number of reviews vs cluster name "
   ]
  },
  {
   "cell_type": "code",
   "execution_count": 21,
   "metadata": {},
   "outputs": [],
   "source": [
    "# after kmeans' results\n",
    "test=pd.DataFrame(list(zip(pros_lemmatized_text.lemmatized_pros,\\\n",
    "                           list(pros_labels),\\\n",
    "                           pros_lemmatized_text['Employee ID'])), columns=['pro_text','pro_label','Employee ID']) "
   ]
  },
  {
   "cell_type": "code",
   "execution_count": 33,
   "metadata": {
    "scrolled": false
   },
   "outputs": [
    {
     "data": {
      "text/plain": [
       "<Container object of 20 artists>"
      ]
     },
     "execution_count": 33,
     "metadata": {},
     "output_type": "execute_result"
    },
    {
     "data": {
      "text/plain": [
       "Text(0.5,0,'Clusters')"
      ]
     },
     "execution_count": 33,
     "metadata": {},
     "output_type": "execute_result"
    },
    {
     "data": {
      "text/plain": [
       "Text(0,0.5,'# of reviews')"
      ]
     },
     "execution_count": 33,
     "metadata": {},
     "output_type": "execute_result"
    },
    {
     "data": {
      "text/plain": [
       "Text(0.5,1,'1st Round clustering results')"
      ]
     },
     "execution_count": 33,
     "metadata": {},
     "output_type": "execute_result"
    },
    {
     "data": {
      "image/png": "[encoded data removed]",
      "text/plain": [
       "<matplotlib.figure.Figure at 0x1a25508cf8>"
      ]
     },
     "metadata": {},
     "output_type": "display_data"
    }
   ],
   "source": [
    "cluster1_distribution=pd.DataFrame(test.groupby(['pro_label'])['pro_label'].count())\n",
    "cluster1_distribution.index=range(0,20)  \n",
    "#cluster1_distribution\n",
    "plt.bar(cluster1_distribution.index,cluster1_distribution.pro_label)\n",
    "plt.xlabel('Clusters')\n",
    "plt.ylabel('# of reviews')\n",
    "plt.title('1st Round clustering results') "
   ]
  },
  {
   "cell_type": "markdown",
   "metadata": {},
   "source": [
    "### after 1st clustering identified groups\n",
    "\n",
    "1. group them and merge them to different topics\n",
    "2. identified reviews in this step: 36416"
   ]
  },
  {
   "cell_type": "markdown",
   "metadata": {},
   "source": [
    "## 1st round re-clustering the unsplitted cluster (s) \n",
    "1. un-splitted reviews: 50878"
   ]
  },
  {
   "cell_type": "code",
   "execution_count": 171,
   "metadata": {},
   "outputs": [
    {
     "data": {
      "text/plain": [
       "50878"
      ]
     },
     "execution_count": 171,
     "metadata": {},
     "output_type": "execute_result"
    },
    {
     "data": {
      "text/html": [
       "<div>\n",
       "<style scoped>\n",
       "    .dataframe tbody tr th:only-of-type {\n",
       "        vertical-align: middle;\n",
       "    }\n",
       "\n",
       "    .dataframe tbody tr th {\n",
       "        vertical-align: top;\n",
       "    }\n",
       "\n",
       "    .dataframe thead th {\n",
       "        text-align: right;\n",
       "    }\n",
       "</style>\n",
       "<table border=\"1\" class=\"dataframe\">\n",
       "  <thead>\n",
       "    <tr style=\"text-align: right;\">\n",
       "      <th></th>\n",
       "      <th>pro_text</th>\n",
       "      <th>Employee ID</th>\n",
       "    </tr>\n",
       "  </thead>\n",
       "  <tbody>\n",
       "    <tr>\n",
       "      <th>22083</th>\n",
       "      <td>scale company provide ability forefront servic...</td>\n",
       "      <td>empReview_41939</td>\n",
       "    </tr>\n",
       "    <tr>\n",
       "      <th>48337</th>\n",
       "      <td>interesting work</td>\n",
       "      <td>empReview_17606596</td>\n",
       "    </tr>\n",
       "    <tr>\n",
       "      <th>43029</th>\n",
       "      <td>reconnaissance internationale et puissance de feu</td>\n",
       "      <td>empReview_786676</td>\n",
       "    </tr>\n",
       "    <tr>\n",
       "      <th>14158</th>\n",
       "      <td>work top u client</td>\n",
       "      <td>empReview_12222771</td>\n",
       "    </tr>\n",
       "    <tr>\n",
       "      <th>75267</th>\n",
       "      <td>quality work</td>\n",
       "      <td>empReview_1560623</td>\n",
       "    </tr>\n",
       "  </tbody>\n",
       "</table>\n",
       "</div>"
      ],
      "text/plain": [
       "                                                pro_text         Employee ID\n",
       "22083  scale company provide ability forefront servic...     empReview_41939\n",
       "48337                                   interesting work  empReview_17606596\n",
       "43029  reconnaissance internationale et puissance de feu    empReview_786676\n",
       "14158                                  work top u client  empReview_12222771\n",
       "75267                                       quality work   empReview_1560623"
      ]
     },
     "execution_count": 171,
     "metadata": {},
     "output_type": "execute_result"
    }
   ],
   "source": [
    "# select unclear topics and recombine into new data frame\n",
    "# drop the pro-label for later to create new labels\n",
    "re_cluster1=test.loc[test['pro_label'].isin([1,3,4,10,12])]\n",
    "len(re_cluster1)\n",
    "\n",
    "re_cluster1=re_cluster1.drop(columns=['pro_label'])\n",
    "re_cluster1=shuffle(re_cluster1)\n",
    "re_cluster1.head()"
   ]
  },
  {
   "cell_type": "code",
   "execution_count": 172,
   "metadata": {
    "scrolled": true
   },
   "outputs": [
    {
     "name": "stdout",
     "output_type": "stream",
     "text": [
      "(50878, 7952)\n",
      "re-Cluster 0: salary; good salary; good; competitive; competitive salary; decent salary; decent; salary good; average; start salary; salary competitive; start; great salary; average salary; high salary; great; high; ok; fair; benefit \n",
      "re-Cluster 1: lot; job; management; career; team; project; many; nice; manager; training; well; colleague; experience; process; people; office; resource; client; year; like \n",
      "re-Cluster 2: get; get work; work; opportunity; lot; people; experience; job; good; project; get job; get good; technology; ibm; chance; easy get; easy; learn; get experience; opportunity get \n",
      "re-Cluster 3: work; interesting; project; life; team; home; interesting project; hard; interesting work; challenge; remote; work life; remotely; people; balance; work remotely; work home; pressure; work pressure; team work \n",
      "re-Cluster 4: place; place work; good place; work; great place; good; great; place start; nice place; place learn; start; best place; learn; nice; start career; ibm; career; best; ibm great; ibm good \n",
      "re-Cluster 5: pay; good pay; good; decent; pay good; decent pay; competitive; great pay; competitive pay; pay well; well; great; average; pay decent; pay competitive; well pay; fair; ok; fair pay; overtime \n",
      "re-Cluster 6: good; good work; work; management; good management; good training; training; good resume; team; resume; experience; good team; good experience; good project; good learning; learning; project; manager; looks good; looks \n",
      "re-Cluster 7: business; world; large; organization; around; around world; work; world class; global; class; client; change; project; people; ibm; company; exposure; service; many; different \n",
      "re-Cluster 8: great; great team; team; work; great colleague; experience; great work; colleague; great experience; great training; great place; training; great product; product; place; atmosphere; work great; great resume; career; resume \n",
      "re-Cluster 9: ibm; work ibm; work; company; year; people; best; good; opportunity; technology; many; career; one; experience; still; within; within ibm; provide; great; lot \n",
      "re-Cluster 10: time; work; work time; vacation; vacation time; take; flex; long time; flex time; long; good; take time; time work; pay time; spend; pay; ibm; free time; get; need \n",
      "re-Cluster 11: coworkers; great coworkers; great; good coworkers; friendly; smart coworkers; friendly coworkers; smart; nice coworkers; good; nice; intelligent; coworkers great; helpful; intelligent coworkers; talented coworkers; talented; professional; helpful coworkers; supportive \n"
     ]
    }
   ],
   "source": [
    "# new TfidfVectorizer setting\n",
    "tfidf_vect_recluster1 = TfidfVectorizer(stop_words=stop_words,ngram_range=(1,2),min_df=5) \n",
    "re_cluster1_pro_dtm= tfidf_vect_recluster1.fit_transform(list(re_cluster1.pro_text))\n",
    "print (re_cluster1_pro_dtm.shape)\n",
    "\n",
    "re_num_clusters1=12\n",
    "re_cluster1_km = KMeans(n_clusters=re_num_clusters1, n_init=10).fit(re_cluster1_pro_dtm)\n",
    "pro_re_clusters1 = re_cluster1_km.labels_.tolist()\n",
    "\n",
    "recluster1_pros_labels = re_cluster1_km.labels_\n",
    "recluster1_pros_centroids = re_cluster1_km.cluster_centers_\n",
    "recluster1_pros_sorted_centroids = recluster1_pros_centroids.argsort()[:, ::-1] \n",
    "\n",
    "voc_lookup= tfidf_vect_recluster1.get_feature_names()\n",
    "for i in range(re_num_clusters1):\n",
    "    \n",
    "    recluster1_pros_top_words=[voc_lookup[word_index] \\\n",
    "               for word_index in recluster1_pros_sorted_centroids[i, :20]]\n",
    "    print(\"re-Cluster %d: %s \" % (i, \"; \".join(recluster1_pros_top_words)))"
   ]
  },
  {
   "cell_type": "markdown",
   "metadata": {},
   "source": [
    "### Conclusion after 1st round re-clustering  (12 topics)\n",
    "-- re-Cluster topics \n",
    "- 1,2,9: not clear\n",
    "- 0,5: salary\n",
    "- 3,10: flexibility\n",
    "- 4, 7: company brand/global\n",
    "- 6: career path/growth\n",
    "- 8: culture\n",
    "- 11: people/team/colleague"
   ]
  },
  {
   "cell_type": "code",
   "execution_count": 199,
   "metadata": {
    "scrolled": false
   },
   "outputs": [
    {
     "data": {
      "text/plain": [
       "50878"
      ]
     },
     "execution_count": 199,
     "metadata": {},
     "output_type": "execute_result"
    },
    {
     "data": {
      "text/plain": [
       "<Container object of 12 artists>"
      ]
     },
     "execution_count": 199,
     "metadata": {},
     "output_type": "execute_result"
    },
    {
     "data": {
      "text/plain": [
       "Text(0.5,0,'Clusters')"
      ]
     },
     "execution_count": 199,
     "metadata": {},
     "output_type": "execute_result"
    },
    {
     "data": {
      "text/plain": [
       "Text(0,0.5,'# of reviews')"
      ]
     },
     "execution_count": 199,
     "metadata": {},
     "output_type": "execute_result"
    },
    {
     "data": {
      "text/plain": [
       "Text(0.5,1,'1st Round re-clustering results')"
      ]
     },
     "execution_count": 199,
     "metadata": {},
     "output_type": "execute_result"
    },
    {
     "data": {
      "image/png": "[encoded data removed]",
      "text/plain": [
       "<matplotlib.figure.Figure at 0x1a266be5c0>"
      ]
     },
     "metadata": {},
     "output_type": "display_data"
    }
   ],
   "source": [
    "# after kmeans' reclustering \n",
    "test1=pd.DataFrame(list(zip(re_cluster1.pro_text,list(recluster1_pros_labels),re_cluster1['Employee ID'])), columns=['pro_text','pro_label','Employee ID'])\n",
    "len(test1)\n",
    "recluster1_distribution=pd.DataFrame(test1.groupby(['pro_label'])['pro_label'].count())\n",
    "recluster1_distribution.index=range(0,12)  \n",
    "\n",
    "#cluster1_distribution\n",
    "plt.bar(recluster1_distribution.index,recluster1_distribution.pro_label)\n",
    "plt.xlabel('Clusters')\n",
    "plt.ylabel('# of reviews')\n",
    "plt.title('1st Round re-clustering results') "
   ]
  },
  {
   "cell_type": "markdown",
   "metadata": {},
   "source": [
    "## 2nd time reclustering need change min-df"
   ]
  },
  {
   "cell_type": "code",
   "execution_count": 209,
   "metadata": {
    "scrolled": true
   },
   "outputs": [
    {
     "data": {
      "text/plain": [
       "32472"
      ]
     },
     "execution_count": 209,
     "metadata": {},
     "output_type": "execute_result"
    }
   ],
   "source": [
    "# after kmeans' reclustering all un-clear topics\n",
    "re_cluster2=test1.loc[test1['pro_label'].isin(['1','2','9'])]\n",
    "len(re_cluster2)\n",
    "re_cluster2=shuffle(re_cluster2)"
   ]
  },
  {
   "cell_type": "code",
   "execution_count": 210,
   "metadata": {},
   "outputs": [
    {
     "name": "stdout",
     "output_type": "stream",
     "text": [
      "(32472, 5536)\n"
     ]
    }
   ],
   "source": [
    "tfidf_vect_recluster2 = TfidfVectorizer(stop_words=stop_words,ngram_range=(1,2),min_df=5) \n",
    "re_cluster2_pro_dtm= tfidf_vect_recluster2.fit_transform(list(re_cluster2.pro_text))\n",
    "print (re_cluster2_pro_dtm.shape)"
   ]
  },
  {
   "cell_type": "code",
   "execution_count": 211,
   "metadata": {
    "scrolled": true
   },
   "outputs": [
    {
     "name": "stdout",
     "output_type": "stream",
     "text": [
      "reCluster2 0: process; colleague; friendly; professional; orient; process orient; friendly colleague; helpful; smart; smart colleague; well; atmosphere; friendly atmosphere; development; professional growth; professional development; helpful colleague; growth; supportive; process driven \n",
      "reCluster2 1: team; member; team member; global team; friendly; friendly team; global; excellent team; supportive; helpful; excellent; support; many team; team mate; mate; helpful team; many; strong; part; manager \n",
      "reCluster2 2: management; senior management; supportive; senior; project management; support; management team; supportive management; project; excellent; upper; micro; micro management; upper management; team; strong; level; excellent management; professional; support management \n",
      "reCluster2 3: career; project; many; manager; training; experience; client; well; year; office; like; one; global; people; industry; skill; big; best; growth; resource \n",
      "reCluster2 4: nice; nice colleague; colleague; nice office; nice team; office; nice atmosphere; team; atmosphere; manager; colleague nice; nice manager; building; really nice; nice facility; really; facility; ibm; nice campus; nice work \n",
      "reCluster2 5: job; job security; security; get job; get; change; change job; stable job; stability; stable; job stability; many; easy; company; ibm; secure; different; challenge; first job; challenge job \n",
      "reCluster2 6: ibm; work; work ibm; company; good; best; year; people; technology; great; opportunity; many; career; one; place; experience; still; name; resume; within \n",
      "reCluster2 7: get; work; get work; good; opportunity; people; experience; project; get good; great; technology; chance; ibm; easy get; opportunity get; easy; get experience; company; get chance; get opportunity \n",
      "reCluster2 8: role; free; job role; different; different role; job; move; variety role; variety; change; change role; coffee; opportunity; free coffee; ibm; within; training; company; free parking; new role \n",
      "reCluster2 9: lot; lot resource; resource; train; get; lot train; training; lot training; lot different; different; people; available; ibm; experience; project; lot freedom; get lot; freedom; career; lot experience \n"
     ]
    }
   ],
   "source": [
    "re_num_clusters2=10\n",
    "re_cluster2_km = KMeans(n_clusters=re_num_clusters2, n_init=10).fit(re_cluster2_pro_dtm)\n",
    "pro_re_clusters2 = re_cluster2_km.labels_.tolist()\n",
    "\n",
    "recluster2_pros_labels = re_cluster2_km.labels_\n",
    "recluster2_pros_centroids = re_cluster2_km.cluster_centers_\n",
    "recluster2_pros_sorted_centroids = recluster2_pros_centroids.argsort()[:, ::-1] \n",
    "\n",
    "voc_lookup= tfidf_vect_recluster2.get_feature_names()\n",
    "\n",
    "for i in range(re_num_clusters2):\n",
    "    \n",
    "    recluster2_pros_top_words=[voc_lookup[word_index] \\\n",
    "               for word_index in recluster2_pros_sorted_centroids[i, :20]]\n",
    "    print(\"reCluster2 %d: %s \" % (i, \"; \".join(recluster2_pros_top_words)))"
   ]
  },
  {
   "cell_type": "markdown",
   "metadata": {},
   "source": [
    "### Conclusion after 2nd round re-clustering  (10 topics)\n",
    "-- re-Cluster topics \n",
    "- 0,3, is not clear, multilabel--> put as multi\n",
    "- 1: people\n",
    "- 2: management\n",
    "- 4: work environment\n",
    "- 5: job security\n",
    "- 6: company brand\n",
    "- 7: work/project\n",
    "- 8: career path/growth\n",
    "- 9: opportunity"
   ]
  },
  {
   "cell_type": "code",
   "execution_count": 212,
   "metadata": {},
   "outputs": [
    {
     "data": {
      "text/plain": [
       "<Container object of 10 artists>"
      ]
     },
     "execution_count": 212,
     "metadata": {},
     "output_type": "execute_result"
    },
    {
     "data": {
      "text/plain": [
       "Text(0.5,0,'Clusters')"
      ]
     },
     "execution_count": 212,
     "metadata": {},
     "output_type": "execute_result"
    },
    {
     "data": {
      "text/plain": [
       "Text(0,0.5,'# of reviews')"
      ]
     },
     "execution_count": 212,
     "metadata": {},
     "output_type": "execute_result"
    },
    {
     "data": {
      "text/plain": [
       "Text(0.5,1,'2nd Round re-clustering results')"
      ]
     },
     "execution_count": 212,
     "metadata": {},
     "output_type": "execute_result"
    },
    {
     "data": {
      "image/png": "[encoded data removed]",
      "text/plain": [
       "<matplotlib.figure.Figure at 0x1a3122e5c0>"
      ]
     },
     "metadata": {},
     "output_type": "display_data"
    }
   ],
   "source": [
    "# after kmeans' 2nd reclustering \n",
    "test2=pd.DataFrame(list(zip(re_cluster2.pro_text,list(recluster2_pros_labels),re_cluster2['Employee ID'])), columns=['pro_text','pro_label','Employee ID'])\n",
    "\n",
    "recluster2_distribution=pd.DataFrame(test2.groupby(['pro_label'])['pro_label'].count())\n",
    "recluster2_distribution.index=range(0,10)  \n",
    "\n",
    "#cluster1_distribution\n",
    "plt.bar(recluster2_distribution.index,recluster2_distribution.pro_label)\n",
    "plt.xlabel('Clusters')\n",
    "plt.ylabel('# of reviews')\n",
    "plt.title('2nd Round re-clustering results') "
   ]
  },
  {
   "cell_type": "markdown",
   "metadata": {},
   "source": [
    "## clean the topics from the clustering results for later visulization\n",
    "\n",
    "### 1st round\n",
    "- not clear clutsers: 1,3,4,10,12: \n",
    "- 0: technology\n",
    "- 2/13/18: flexible time/work hour/location\n",
    "- 5/19: work-life\n",
    "- 6/7/9: people/team/colleague\n",
    "- 8: benefit\n",
    "- 11: opportunity\n",
    "- 14/17: company/brand name\n",
    "- 15: culture\n",
    "- 16: work enviroment \n",
    "\n",
    "\n",
    "### Conclusion after 1st round re-clustering  (12 topics)\n",
    "-- re-Cluster topics \n",
    "- 1,2,9: not clear\n",
    "- 0,5: salary\n",
    "- 3,10: flexibility\n",
    "- 4, 7: company brand/global\n",
    "- 6: career path/growth\n",
    "- 8: culture\n",
    "- 11: people/team/colleague\n",
    "\n",
    "\n",
    "### Conclusion after 2nd round re-clustering  (10 topics)\n",
    "-- re-Cluster topics \n",
    "- 0,3, is not clear, multilabel--> put as culture\n",
    "- 1: people\n",
    "- 2: management\n",
    "- 4: work environment\n",
    "- 5: job security\n",
    "- 6: company brand\n",
    "- 7: work/project\n",
    "- 8: career path/growth\n",
    "- 9: opportunity"
   ]
  },
  {
   "cell_type": "code",
   "execution_count": 213,
   "metadata": {},
   "outputs": [
    {
     "name": "stderr",
     "output_type": "stream",
     "text": [
      "/anaconda3/lib/python3.6/site-packages/ipykernel_launcher.py:3: SettingWithCopyWarning: \n",
      "A value is trying to be set on a copy of a slice from a DataFrame.\n",
      "Try using .loc[row_indexer,col_indexer] = value instead\n",
      "\n",
      "See the caveats in the documentation: http://pandas.pydata.org/pandas-docs/stable/indexing.html#indexing-view-versus-copy\n",
      "  This is separate from the ipykernel package so we can avoid doing imports until\n"
     ]
    },
    {
     "data": {
      "text/html": [
       "<div>\n",
       "<style scoped>\n",
       "    .dataframe tbody tr th:only-of-type {\n",
       "        vertical-align: middle;\n",
       "    }\n",
       "\n",
       "    .dataframe tbody tr th {\n",
       "        vertical-align: top;\n",
       "    }\n",
       "\n",
       "    .dataframe thead th {\n",
       "        text-align: right;\n",
       "    }\n",
       "</style>\n",
       "<table border=\"1\" class=\"dataframe\">\n",
       "  <thead>\n",
       "    <tr style=\"text-align: right;\">\n",
       "      <th></th>\n",
       "      <th>pro_text</th>\n",
       "      <th>Employee ID</th>\n",
       "      <th>pro_cluster</th>\n",
       "    </tr>\n",
       "  </thead>\n",
       "  <tbody>\n",
       "    <tr>\n",
       "      <th>0</th>\n",
       "      <td>best opportunity learn</td>\n",
       "      <td>empReview_12368119</td>\n",
       "      <td>opportunity</td>\n",
       "    </tr>\n",
       "    <tr>\n",
       "      <th>2</th>\n",
       "      <td>lot opportunitieslongterm career prospectschal...</td>\n",
       "      <td>empReview_911206</td>\n",
       "      <td>people</td>\n",
       "    </tr>\n",
       "    <tr>\n",
       "      <th>4</th>\n",
       "      <td>flexible working hour</td>\n",
       "      <td>empReview_7071794</td>\n",
       "      <td>flexiblility</td>\n",
       "    </tr>\n",
       "    <tr>\n",
       "      <th>10</th>\n",
       "      <td>great work environment</td>\n",
       "      <td>empReview_8250251</td>\n",
       "      <td>work environment</td>\n",
       "    </tr>\n",
       "    <tr>\n",
       "      <th>11</th>\n",
       "      <td>work home</td>\n",
       "      <td>empReview_11066335</td>\n",
       "      <td>flexiblility</td>\n",
       "    </tr>\n",
       "  </tbody>\n",
       "</table>\n",
       "</div>"
      ],
      "text/plain": [
       "                                             pro_text         Employee ID  \\\n",
       "0                              best opportunity learn  empReview_12368119   \n",
       "2   lot opportunitieslongterm career prospectschal...    empReview_911206   \n",
       "4                               flexible working hour   empReview_7071794   \n",
       "10                             great work environment   empReview_8250251   \n",
       "11                                          work home  empReview_11066335   \n",
       "\n",
       "         pro_cluster  \n",
       "0        opportunity  \n",
       "2             people  \n",
       "4       flexiblility  \n",
       "10  work environment  \n",
       "11      flexiblility  "
      ]
     },
     "execution_count": 213,
     "metadata": {},
     "output_type": "execute_result"
    },
    {
     "data": {
      "text/plain": [
       "36416"
      ]
     },
     "execution_count": 213,
     "metadata": {},
     "output_type": "execute_result"
    }
   ],
   "source": [
    "topics_1stclustering=test.loc[test['pro_label'].isin([0,2,13,18,5,19,6,7,9,8,11,14,17,15,16])]\n",
    "\n",
    "topics_1stclustering['pro_cluster'] = topics_1stclustering['pro_label'].\\\n",
    "replace([0,2,13,18,5,19,6,7,9,8,11,14,17,15,16],\\\n",
    "        ['technology',\\\n",
    "         'flexiblility','flexiblility','flexiblility',\\\n",
    "         'work-life','work-life',\\\n",
    "         'people','people','people',\\\n",
    "         'benefit',\\\n",
    "         'opportunity',\\\n",
    "         'company brand', 'company brand',\\\n",
    "        'culture',\\\n",
    "        'work environment'])\n",
    "\n",
    "topics_1stclustering=topics_1stclustering.drop(columns=['pro_label'])\n",
    "topics_1stclustering.head()\n",
    "len(topics_1stclustering)"
   ]
  },
  {
   "cell_type": "code",
   "execution_count": 231,
   "metadata": {},
   "outputs": [
    {
     "data": {
      "text/plain": [
       "16909"
      ]
     },
     "execution_count": 231,
     "metadata": {},
     "output_type": "execute_result"
    },
    {
     "name": "stderr",
     "output_type": "stream",
     "text": [
      "/anaconda3/lib/python3.6/site-packages/ipykernel_launcher.py:9: SettingWithCopyWarning: \n",
      "A value is trying to be set on a copy of a slice from a DataFrame.\n",
      "Try using .loc[row_indexer,col_indexer] = value instead\n",
      "\n",
      "See the caveats in the documentation: http://pandas.pydata.org/pandas-docs/stable/indexing.html#indexing-view-versus-copy\n",
      "  if __name__ == '__main__':\n"
     ]
    },
    {
     "data": {
      "text/html": [
       "<div>\n",
       "<style scoped>\n",
       "    .dataframe tbody tr th:only-of-type {\n",
       "        vertical-align: middle;\n",
       "    }\n",
       "\n",
       "    .dataframe tbody tr th {\n",
       "        vertical-align: top;\n",
       "    }\n",
       "\n",
       "    .dataframe thead th {\n",
       "        text-align: right;\n",
       "    }\n",
       "</style>\n",
       "<table border=\"1\" class=\"dataframe\">\n",
       "  <thead>\n",
       "    <tr style=\"text-align: right;\">\n",
       "      <th></th>\n",
       "      <th>pro_text</th>\n",
       "      <th>Employee ID</th>\n",
       "      <th>pro_cluster</th>\n",
       "    </tr>\n",
       "  </thead>\n",
       "  <tbody>\n",
       "    <tr>\n",
       "      <th>1</th>\n",
       "      <td>interesting work</td>\n",
       "      <td>empReview_17606596</td>\n",
       "      <td>flexiblility</td>\n",
       "    </tr>\n",
       "    <tr>\n",
       "      <th>3</th>\n",
       "      <td>work top u client</td>\n",
       "      <td>empReview_12222771</td>\n",
       "      <td>flexiblility</td>\n",
       "    </tr>\n",
       "    <tr>\n",
       "      <th>4</th>\n",
       "      <td>quality work</td>\n",
       "      <td>empReview_1560623</td>\n",
       "      <td>flexiblility</td>\n",
       "    </tr>\n",
       "    <tr>\n",
       "      <th>7</th>\n",
       "      <td>learn opportunityinternational backgroundcapab...</td>\n",
       "      <td>empReview_1852835</td>\n",
       "      <td>company brand</td>\n",
       "    </tr>\n",
       "    <tr>\n",
       "      <th>10</th>\n",
       "      <td>good train new job</td>\n",
       "      <td>empReview_9951212</td>\n",
       "      <td>career growth</td>\n",
       "    </tr>\n",
       "  </tbody>\n",
       "</table>\n",
       "</div>"
      ],
      "text/plain": [
       "                                             pro_text         Employee ID  \\\n",
       "1                                    interesting work  empReview_17606596   \n",
       "3                                   work top u client  empReview_12222771   \n",
       "4                                        quality work   empReview_1560623   \n",
       "7   learn opportunityinternational backgroundcapab...   empReview_1852835   \n",
       "10                                 good train new job   empReview_9951212   \n",
       "\n",
       "      pro_cluster  \n",
       "1    flexiblility  \n",
       "3    flexiblility  \n",
       "4    flexiblility  \n",
       "7   company brand  \n",
       "10  career growth  "
      ]
     },
     "execution_count": 231,
     "metadata": {},
     "output_type": "execute_result"
    }
   ],
   "source": [
    "\n",
    "\n",
    "# after 1st re-clustering\n",
    "reclustering1=test1.loc[test1['pro_label'].isin([0,5,3,10,4,7,6,8,11])]\n",
    "len(re_cluster_clear)\n",
    "\n",
    "#reclustering1=re_cluster1.loc[re_cluster1['pro_label'].isin([0,5,3,10,4,7,6,8,11])]\n",
    "\n",
    "reclustering1['pro_cluster'] = reclustering1['pro_label'].\\\n",
    "replace([0,5,3,10,4,7,6,8,11],\\\n",
    "        ['salary','salary',\\\n",
    "         'flexiblility','flexiblility',\\\n",
    "         'company brand','company brand',\\\n",
    "         'career growth','culture','people'])\n",
    "\n",
    "reclustering1=reclustering1.drop(columns=['pro_label'])\n",
    "\n",
    "reclustering1.head()"
   ]
  },
  {
   "cell_type": "code",
   "execution_count": 232,
   "metadata": {},
   "outputs": [
    {
     "data": {
      "text/plain": [
       "32472"
      ]
     },
     "execution_count": 232,
     "metadata": {},
     "output_type": "execute_result"
    },
    {
     "data": {
      "text/html": [
       "<div>\n",
       "<style scoped>\n",
       "    .dataframe tbody tr th:only-of-type {\n",
       "        vertical-align: middle;\n",
       "    }\n",
       "\n",
       "    .dataframe tbody tr th {\n",
       "        vertical-align: top;\n",
       "    }\n",
       "\n",
       "    .dataframe thead th {\n",
       "        text-align: right;\n",
       "    }\n",
       "</style>\n",
       "<table border=\"1\" class=\"dataframe\">\n",
       "  <thead>\n",
       "    <tr style=\"text-align: right;\">\n",
       "      <th></th>\n",
       "      <th>pro_text</th>\n",
       "      <th>Employee ID</th>\n",
       "      <th>pro_cluster</th>\n",
       "    </tr>\n",
       "  </thead>\n",
       "  <tbody>\n",
       "    <tr>\n",
       "      <th>0</th>\n",
       "      <td>unlimited wfh sick leaf</td>\n",
       "      <td>empReview_10060883</td>\n",
       "      <td>unsplit</td>\n",
       "    </tr>\n",
       "    <tr>\n",
       "      <th>1</th>\n",
       "      <td>job security</td>\n",
       "      <td>empReview_3368422</td>\n",
       "      <td>job security</td>\n",
       "    </tr>\n",
       "    <tr>\n",
       "      <th>2</th>\n",
       "      <td>fast pace</td>\n",
       "      <td>empReview_6538144</td>\n",
       "      <td>unsplit</td>\n",
       "    </tr>\n",
       "    <tr>\n",
       "      <th>3</th>\n",
       "      <td>limited risk loose job</td>\n",
       "      <td>empReview_3275385</td>\n",
       "      <td>job security</td>\n",
       "    </tr>\n",
       "    <tr>\n",
       "      <th>4</th>\n",
       "      <td>ibm resume always bonus point</td>\n",
       "      <td>empReview_951560</td>\n",
       "      <td>company brand</td>\n",
       "    </tr>\n",
       "    <tr>\n",
       "      <th>5</th>\n",
       "      <td>ibms policy management flexible come work remo...</td>\n",
       "      <td>empReview_9437441</td>\n",
       "      <td>unsplit</td>\n",
       "    </tr>\n",
       "    <tr>\n",
       "      <th>6</th>\n",
       "      <td>approachable friendly senior management team</td>\n",
       "      <td>empReview_2599005</td>\n",
       "      <td>management</td>\n",
       "    </tr>\n",
       "    <tr>\n",
       "      <th>7</th>\n",
       "      <td>much proud seat</td>\n",
       "      <td>empReview_2265781</td>\n",
       "      <td>unsplit</td>\n",
       "    </tr>\n",
       "    <tr>\n",
       "      <th>8</th>\n",
       "      <td>constant innovation</td>\n",
       "      <td>empReview_7871313</td>\n",
       "      <td>unsplit</td>\n",
       "    </tr>\n",
       "    <tr>\n",
       "      <th>9</th>\n",
       "      <td>still lot smart regional people try something</td>\n",
       "      <td>empReview_10443993</td>\n",
       "      <td>opportunity</td>\n",
       "    </tr>\n",
       "    <tr>\n",
       "      <th>10</th>\n",
       "      <td>junior resource</td>\n",
       "      <td>empReview_167735</td>\n",
       "      <td>unsplit</td>\n",
       "    </tr>\n",
       "    <tr>\n",
       "      <th>11</th>\n",
       "      <td>brand still carry weight</td>\n",
       "      <td>empReview_6307340</td>\n",
       "      <td>unsplit</td>\n",
       "    </tr>\n",
       "    <tr>\n",
       "      <th>12</th>\n",
       "      <td>client vary</td>\n",
       "      <td>empReview_10840096</td>\n",
       "      <td>unsplit</td>\n",
       "    </tr>\n",
       "    <tr>\n",
       "      <th>13</th>\n",
       "      <td>opportunités pour ceux aimant linitiative</td>\n",
       "      <td>empReview_12044391</td>\n",
       "      <td>unsplit</td>\n",
       "    </tr>\n",
       "    <tr>\n",
       "      <th>14</th>\n",
       "      <td>count heavily resume</td>\n",
       "      <td>empReview_4004929</td>\n",
       "      <td>unsplit</td>\n",
       "    </tr>\n",
       "  </tbody>\n",
       "</table>\n",
       "</div>"
      ],
      "text/plain": [
       "                                             pro_text         Employee ID  \\\n",
       "0                             unlimited wfh sick leaf  empReview_10060883   \n",
       "1                                        job security   empReview_3368422   \n",
       "2                                           fast pace   empReview_6538144   \n",
       "3                              limited risk loose job   empReview_3275385   \n",
       "4                       ibm resume always bonus point    empReview_951560   \n",
       "5   ibms policy management flexible come work remo...   empReview_9437441   \n",
       "6        approachable friendly senior management team   empReview_2599005   \n",
       "7                                     much proud seat   empReview_2265781   \n",
       "8                                 constant innovation   empReview_7871313   \n",
       "9       still lot smart regional people try something  empReview_10443993   \n",
       "10                                    junior resource    empReview_167735   \n",
       "11                           brand still carry weight   empReview_6307340   \n",
       "12                                        client vary  empReview_10840096   \n",
       "13          opportunités pour ceux aimant linitiative  empReview_12044391   \n",
       "14                               count heavily resume   empReview_4004929   \n",
       "\n",
       "      pro_cluster  \n",
       "0         unsplit  \n",
       "1    job security  \n",
       "2         unsplit  \n",
       "3    job security  \n",
       "4   company brand  \n",
       "5         unsplit  \n",
       "6      management  \n",
       "7         unsplit  \n",
       "8         unsplit  \n",
       "9     opportunity  \n",
       "10        unsplit  \n",
       "11        unsplit  \n",
       "12        unsplit  \n",
       "13        unsplit  \n",
       "14        unsplit  "
      ]
     },
     "execution_count": 232,
     "metadata": {},
     "output_type": "execute_result"
    }
   ],
   "source": [
    "\n",
    "# after 1st re-clustering\n",
    "reclustering2=test2\n",
    "len(reclustering2)\n",
    "\n",
    "#reclustering2=re_cluster2.loc[re_cluster2['pro_label'].isin([0,3,5,7,8,9])]\n",
    "reclustering2['pro_cluster'] = reclustering2['pro_label'].\\\n",
    "replace([0,1,2,3,4,5,6,7,8,9],\\\n",
    "        ['unsplit','people','management','unsplit','work environment','job security','company brand',\\\n",
    "         'work/project','career growth','opportunity'])\n",
    "\n",
    "reclustering2=reclustering2.drop(columns=['pro_label'])\n",
    "reclustering2[0:15]"
   ]
  },
  {
   "cell_type": "code",
   "execution_count": 234,
   "metadata": {},
   "outputs": [
    {
     "data": {
      "text/plain": [
       "87294"
      ]
     },
     "execution_count": 234,
     "metadata": {},
     "output_type": "execute_result"
    }
   ],
   "source": [
    "IBM_row_merged_pros = pd.concat([topics_1stclustering,reclustering1, reclustering2], ignore_index=True)\n",
    "len(IBM_row_merged_pros)\n",
    "IBM_row_merged_pros.to_csv('Pros_IBM_3_clustering.csv')"
   ]
  },
  {
   "cell_type": "code",
   "execution_count": 26,
   "metadata": {},
   "outputs": [
    {
     "data": {
      "text/plain": [
       "36312"
      ]
     },
     "execution_count": 26,
     "metadata": {},
     "output_type": "execute_result"
    },
    {
     "data": {
      "text/plain": [
       "87294"
      ]
     },
     "execution_count": 26,
     "metadata": {},
     "output_type": "execute_result"
    }
   ],
   "source": [
    "len(df_IBM)\n",
    "len(split_lemma_pros)"
   ]
  },
  {
   "cell_type": "code",
   "execution_count": 78,
   "metadata": {},
   "outputs": [
    {
     "data": {
      "text/plain": [
       "36416"
      ]
     },
     "execution_count": 78,
     "metadata": {},
     "output_type": "execute_result"
    },
    {
     "data": {
      "text/plain": [
       "50878"
      ]
     },
     "execution_count": 78,
     "metadata": {},
     "output_type": "execute_result"
    }
   ],
   "source": [
    "len(topics_1stclustering)\n",
    "len(re_cluster1)"
   ]
  },
  {
   "cell_type": "code",
   "execution_count": null,
   "metadata": {},
   "outputs": [],
   "source": [
    "# label_reviews=df_IBM.sample(n=100, frac=None, replace=False, weights=None, random_state=None, axis=None)\n",
    "# label_cons_sentences=[\"\".join(item) for item in df_IBM.Cons]\n",
    "# label_pros_sentences=[\"\".join(item) for item in df_IBM.Pros]\n",
    "\n",
    "# label_pros=[]\n",
    "# for line in label_pros_sentences:\n",
    "#     label_pros.append(re.split(r\"\\.|\\,|\\+|\\?|\\!|\\;\",line))\n",
    "# pros=sum(label_pros, [])\n",
    "# pros=[item for item in pros if item != '']\n",
    "# pros=[\"\".join(item) for item in pros if len(str(item).split())>=2]\n",
    "\n",
    "# label_cons=[]\n",
    "# for line in label_cons_sentences:\n",
    "#    label_cons.append(re.split(r\"\\.|\\,|\\+|\\?|\\!|\\;\",line))\n",
    "# cons=sum(label_cons, [])\n",
    "#cons=[item for item in cons if item != '']\n",
    "# cons=[\"\".join(item) for item in cons if len(str(item).split())>=2]"
   ]
  }
 ],
 "metadata": {
  "kernelspec": {
   "display_name": "Python 3",
   "language": "python",
   "name": "python3"
  },
  "language_info": {
   "codemirror_mode": {
    "name": "ipython",
    "version": 3
   },
   "file_extension": ".py",
   "mimetype": "text/x-python",
   "name": "python",
   "nbconvert_exporter": "python",
   "pygments_lexer": "ipython3",
   "version": "3.6.4"
  }
 },
 "nbformat": 4,
 "nbformat_minor": 2
}
