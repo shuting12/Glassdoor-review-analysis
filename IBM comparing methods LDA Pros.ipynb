{
 "cells": [
  {
   "cell_type": "markdown",
   "metadata": {},
   "source": [
    "# IBM comparing methods - LDA Pros"
   ]
  },
  {
   "cell_type": "code",
   "execution_count": 1,
   "metadata": {},
   "outputs": [],
   "source": [
    "from IPython.core.interactiveshell import InteractiveShell\n",
    "InteractiveShell.ast_node_interactivity = \"all\"\n",
    "import pandas as pd \n",
    "import numpy as np\n",
    "\n",
    "# NLP packages\n",
    "import re\n",
    "import nltk\n",
    "import string\n",
    "import enchant\n",
    "from nltk.corpus import stopwords\n",
    "from nltk.stem import WordNetLemmatizer \n",
    "from nltk.corpus import wordnet\n",
    "\n",
    "import seaborn as sns\n",
    "import matplotlib.pyplot as plt\n",
    "%matplotlib inline   \n",
    "\n",
    "from sklearn.feature_extraction.text import CountVectorizer\n",
    "\n",
    "from sklearn.decomposition import LatentDirichletAllocation\n",
    "from sklearn.preprocessing import MultiLabelBinarizer\n",
    "import itertools\n",
    "\n",
    "from sklearn.feature_extraction.text import TfidfVectorizer\n",
    "\n",
    "from sklearn.utils import shuffle"
   ]
  },
  {
   "cell_type": "code",
   "execution_count": 2,
   "metadata": {},
   "outputs": [],
   "source": [
    "df_IBM=pd.read_csv(\"IBM.csv\",encoding = \"UTF-8\")  #\"ISO-8859-1\"\n",
    "#change the order\n",
    "df_IBM =df_IBM[[ 'Employee ID',\n",
    "                 'Date',\n",
    "                 'Location',\n",
    "                 'Employee Status',\n",
    "                 'Employee Position',\n",
    "                 'Overall Rating',\n",
    "                 'Work Life Balance',\n",
    "                 'Company Culture',\n",
    "                 'Career Opportunity',\n",
    "                 'Benefit and Compensation',\n",
    "                 'Senior Management',\n",
    "                 'Helpful Count',\n",
    "                 'Evaluation',\n",
    "                 'Overall Comment',\n",
    "                 'Pros',\n",
    "                 'Cons',\n",
    "                 'Advice']]\n",
    "\n",
    "df_IBM['Company Name'] = df_IBM.apply(lambda _: 'IBM', axis=1)"
   ]
  },
  {
   "cell_type": "code",
   "execution_count": 3,
   "metadata": {},
   "outputs": [],
   "source": [
    "# create 2 more columns which is combined review & review length\n",
    "# combined review\n",
    "df_IBM['CombineReview'] = df_IBM[df_IBM.columns[-3:]].apply(lambda x: ' '.join(x.astype(str).astype(str)), axis=1)\n",
    "# review length\n",
    "df_IBM['review length'] = df_IBM['CombineReview'].apply(len)"
   ]
  },
  {
   "cell_type": "markdown",
   "metadata": {},
   "source": [
    "## New dataframe: matching the employee ID for splitted Pros comments "
   ]
  },
  {
   "cell_type": "code",
   "execution_count": 4,
   "metadata": {},
   "outputs": [
    {
     "data": {
      "text/html": [
       "<div>\n",
       "<style scoped>\n",
       "    .dataframe tbody tr th:only-of-type {\n",
       "        vertical-align: middle;\n",
       "    }\n",
       "\n",
       "    .dataframe tbody tr th {\n",
       "        vertical-align: top;\n",
       "    }\n",
       "\n",
       "    .dataframe thead th {\n",
       "        text-align: right;\n",
       "    }\n",
       "</style>\n",
       "<table border=\"1\" class=\"dataframe\">\n",
       "  <thead>\n",
       "    <tr style=\"text-align: right;\">\n",
       "      <th></th>\n",
       "      <th>Employee ID</th>\n",
       "      <th>Pros</th>\n",
       "    </tr>\n",
       "  </thead>\n",
       "  <tbody>\n",
       "    <tr>\n",
       "      <th>0</th>\n",
       "      <td>empReview_17651831</td>\n",
       "      <td>The working culture and environment is good here</td>\n",
       "    </tr>\n",
       "    <tr>\n",
       "      <th>1</th>\n",
       "      <td>empReview_17651831</td>\n",
       "      <td>Freedom to employees and facility of work fro...</td>\n",
       "    </tr>\n",
       "    <tr>\n",
       "      <th>3</th>\n",
       "      <td>empReview_19452793</td>\n",
       "      <td>Good working environment and opportunity to wo...</td>\n",
       "    </tr>\n",
       "    <tr>\n",
       "      <th>5</th>\n",
       "      <td>empReview_4852131</td>\n",
       "      <td>Disclaimer: A lot of what I'm writing below of...</td>\n",
       "    </tr>\n",
       "    <tr>\n",
       "      <th>6</th>\n",
       "      <td>empReview_4852131</td>\n",
       "      <td>But I found this to be fairly pervasive polic...</td>\n",
       "    </tr>\n",
       "  </tbody>\n",
       "</table>\n",
       "</div>"
      ],
      "text/plain": [
       "          Employee ID                                               Pros\n",
       "0  empReview_17651831   The working culture and environment is good here\n",
       "1  empReview_17651831   Freedom to employees and facility of work fro...\n",
       "3  empReview_19452793  Good working environment and opportunity to wo...\n",
       "5   empReview_4852131  Disclaimer: A lot of what I'm writing below of...\n",
       "6   empReview_4852131   But I found this to be fairly pervasive polic..."
      ]
     },
     "execution_count": 4,
     "metadata": {},
     "output_type": "execute_result"
    }
   ],
   "source": [
    "IBM_pro_reviews=df_IBM[['Employee ID','Pros', 'Company Name']]\n",
    "splitted_pros = pd.DataFrame(IBM_pro_reviews.Pros.str.split(r\"\\.|\\,|\\+|\\?|\\!|\\;\").tolist(), \\\n",
    "                             index=IBM_pro_reviews['Employee ID']).stack()\n",
    "\n",
    "splitted_pros = splitted_pros.reset_index()[['Employee ID', 0]] \n",
    "splitted_pros.columns = ['Employee ID', 'Pros'] \n",
    "cleaned_pros=[item for item in splitted_pros.Pros if len(str(item).split())>=2]\n",
    "splitted_pros=splitted_pros.loc[splitted_pros['Pros'].isin(cleaned_pros)]\n",
    "\n",
    "#splitted_pros['Company Name'] = splitted_pros.apply(lambda _: 'IBM', axis=1)\n",
    "splitted_pros.head()"
   ]
  },
  {
   "cell_type": "code",
   "execution_count": 5,
   "metadata": {},
   "outputs": [],
   "source": [
    "stop_words=stopwords.words('english')\n",
    "more_stopwords = \"\"\"etc nan also some just have from it's /via &amp; that they your there this into would can't\"\"\"\n",
    "stop_words += more_stopwords.split()"
   ]
  },
  {
   "cell_type": "code",
   "execution_count": 6,
   "metadata": {},
   "outputs": [
    {
     "data": {
      "text/plain": [
       "['The working culture and environment is good here',\n",
       " ' Freedom to employees and facility of work from home',\n",
       " 'Good working environment and opportunity to work different countries',\n",
       " \"Disclaimer: A lot of what I'm writing below of course depends on the work area and management chain\",\n",
       " ' But I found this to be fairly pervasive policies in IBM in my 9']"
      ]
     },
     "execution_count": 6,
     "metadata": {},
     "output_type": "execute_result"
    }
   ],
   "source": [
    "pros=[\"\".join(item) for item in splitted_pros.Pros]\n",
    "pros[0:5]"
   ]
  },
  {
   "cell_type": "code",
   "execution_count": 7,
   "metadata": {},
   "outputs": [],
   "source": [
    "d = enchant.Dict(\"en_US\")    # english dictionary\n",
    "\n",
    "def text_cleaning(text):\n",
    "    text=text.lower()\n",
    "    nopunc = [char for char in text if char not in string.punctuation]\n",
    "    nopunc = ''.join(nopunc)\n",
    "    tokens=nltk.word_tokenize(nopunc)\n",
    "    tokens=[token for token in tokens if token.isalpha()]\n",
    "    tokens=[token for token in tokens if token not in stop_words]\n",
    "    tagged_tokens= nltk.pos_tag(tokens)\n",
    "        \n",
    "    words=filter(lambda x: d.check(x), tokens)\n",
    "    clean_word=[word for word in words if word not in stop_words]\n",
    "    return clean_word, tagged_tokens \n",
    "\n",
    "def taggedwords(review_list):\n",
    "    packed_words=[]\n",
    "    for review in review_list:     # use target list for analysis here is cons\n",
    "        packed_words.append(text_cleaning(review))\n",
    "        \n",
    "    review_words,tagged_tokens=zip(*packed_words)\n",
    "    return tagged_tokens"
   ]
  },
  {
   "cell_type": "code",
   "execution_count": 8,
   "metadata": {},
   "outputs": [],
   "source": [
    "# obtain tagged_tokens in pros & cons\n",
    "pros_tagged_tokens=taggedwords(pros)\n",
    "\n",
    "#cons_tagged_tokens=taggedwords(cons)"
   ]
  },
  {
   "cell_type": "code",
   "execution_count": 9,
   "metadata": {},
   "outputs": [
    {
     "data": {
      "text/plain": [
       "90161"
      ]
     },
     "execution_count": 9,
     "metadata": {},
     "output_type": "execute_result"
    }
   ],
   "source": [
    "# obtain lemmatized reviews\n",
    "wordnet_lemmatizer = WordNetLemmatizer()\n",
    "def get_wordnet_pos(pos_tag):\n",
    "    if pos_tag.startswith('J'):\n",
    "        return wordnet.ADJ\n",
    "    \n",
    "    elif pos_tag.startswith('V'):\n",
    "        return wordnet.VERB\n",
    "    \n",
    "    elif pos_tag.startswith('N'):\n",
    "        return wordnet.NOUN\n",
    "    \n",
    "    elif pos_tag.startswith('R'):\n",
    "        return wordnet.ADV\n",
    "    else:\n",
    "        return wordnet.NOUN\n",
    "\n",
    "pros_lemmatized_words=[] \n",
    "for idx, doc in enumerate(pros_tagged_tokens):\n",
    "    pros_lemmatized_words.append([wordnet_lemmatizer.lemmatize(word, get_wordnet_pos(tag)) for (word, tag) in doc])\n",
    "len(pros_lemmatized_words)\n",
    "\n",
    "#cons_lemmatized_words=[] \n",
    "#for idx, doc in enumerate(cons_tagged_tokens):\n",
    "#    cons_lemmatized_words.append([wordnet_lemmatizer.lemmatize(word, get_wordnet_pos(tag)) for (word, tag) in doc])\n",
    "#len(cons_lemmatized_words)"
   ]
  },
  {
   "cell_type": "code",
   "execution_count": 10,
   "metadata": {},
   "outputs": [
    {
     "data": {
      "text/html": [
       "<div>\n",
       "<style scoped>\n",
       "    .dataframe tbody tr th:only-of-type {\n",
       "        vertical-align: middle;\n",
       "    }\n",
       "\n",
       "    .dataframe tbody tr th {\n",
       "        vertical-align: top;\n",
       "    }\n",
       "\n",
       "    .dataframe thead th {\n",
       "        text-align: right;\n",
       "    }\n",
       "</style>\n",
       "<table border=\"1\" class=\"dataframe\">\n",
       "  <thead>\n",
       "    <tr style=\"text-align: right;\">\n",
       "      <th></th>\n",
       "      <th>Employee ID</th>\n",
       "      <th>Pros</th>\n",
       "      <th>lemmatized_pros</th>\n",
       "    </tr>\n",
       "  </thead>\n",
       "  <tbody>\n",
       "    <tr>\n",
       "      <th>0</th>\n",
       "      <td>empReview_17651831</td>\n",
       "      <td>The working culture and environment is good here</td>\n",
       "      <td>working culture environment good</td>\n",
       "    </tr>\n",
       "    <tr>\n",
       "      <th>1</th>\n",
       "      <td>empReview_17651831</td>\n",
       "      <td>Freedom to employees and facility of work fro...</td>\n",
       "      <td>freedom employee facility work home</td>\n",
       "    </tr>\n",
       "    <tr>\n",
       "      <th>3</th>\n",
       "      <td>empReview_19452793</td>\n",
       "      <td>Good working environment and opportunity to wo...</td>\n",
       "      <td>good work environment opportunity work differe...</td>\n",
       "    </tr>\n",
       "    <tr>\n",
       "      <th>5</th>\n",
       "      <td>empReview_4852131</td>\n",
       "      <td>Disclaimer: A lot of what I'm writing below of...</td>\n",
       "      <td>disclaimer lot im write course depend work are...</td>\n",
       "    </tr>\n",
       "    <tr>\n",
       "      <th>6</th>\n",
       "      <td>empReview_4852131</td>\n",
       "      <td>But I found this to be fairly pervasive polic...</td>\n",
       "      <td>find fairly pervasive policy ibm</td>\n",
       "    </tr>\n",
       "  </tbody>\n",
       "</table>\n",
       "</div>"
      ],
      "text/plain": [
       "          Employee ID                                               Pros  \\\n",
       "0  empReview_17651831   The working culture and environment is good here   \n",
       "1  empReview_17651831   Freedom to employees and facility of work fro...   \n",
       "3  empReview_19452793  Good working environment and opportunity to wo...   \n",
       "5   empReview_4852131  Disclaimer: A lot of what I'm writing below of...   \n",
       "6   empReview_4852131   But I found this to be fairly pervasive polic...   \n",
       "\n",
       "                                     lemmatized_pros  \n",
       "0                   working culture environment good  \n",
       "1                freedom employee facility work home  \n",
       "3  good work environment opportunity work differe...  \n",
       "5  disclaimer lot im write course depend work are...  \n",
       "6                   find fairly pervasive policy ibm  "
      ]
     },
     "execution_count": 10,
     "metadata": {},
     "output_type": "execute_result"
    }
   ],
   "source": [
    "pros_lemmatized_text=[\" \".join(item) for item in pros_lemmatized_words]\n",
    "\n",
    "# add the lemmatized pros in data frame \n",
    "splitted_pros.loc[:,'lemmatized_pros'] = pros_lemmatized_text\n",
    "splitted_pros.head()"
   ]
  },
  {
   "cell_type": "code",
   "execution_count": 11,
   "metadata": {},
   "outputs": [
    {
     "data": {
      "text/html": [
       "<div>\n",
       "<style scoped>\n",
       "    .dataframe tbody tr th:only-of-type {\n",
       "        vertical-align: middle;\n",
       "    }\n",
       "\n",
       "    .dataframe tbody tr th {\n",
       "        vertical-align: top;\n",
       "    }\n",
       "\n",
       "    .dataframe thead th {\n",
       "        text-align: right;\n",
       "    }\n",
       "</style>\n",
       "<table border=\"1\" class=\"dataframe\">\n",
       "  <thead>\n",
       "    <tr style=\"text-align: right;\">\n",
       "      <th></th>\n",
       "      <th>Employee ID</th>\n",
       "      <th>Pros</th>\n",
       "      <th>lemmatized_pros</th>\n",
       "    </tr>\n",
       "  </thead>\n",
       "  <tbody>\n",
       "    <tr>\n",
       "      <th>0</th>\n",
       "      <td>empReview_17651831</td>\n",
       "      <td>The working culture and environment is good here</td>\n",
       "      <td>working culture environment good</td>\n",
       "    </tr>\n",
       "    <tr>\n",
       "      <th>1</th>\n",
       "      <td>empReview_17651831</td>\n",
       "      <td>Freedom to employees and facility of work fro...</td>\n",
       "      <td>freedom employee facility work home</td>\n",
       "    </tr>\n",
       "    <tr>\n",
       "      <th>3</th>\n",
       "      <td>empReview_19452793</td>\n",
       "      <td>Good working environment and opportunity to wo...</td>\n",
       "      <td>good work environment opportunity work differe...</td>\n",
       "    </tr>\n",
       "    <tr>\n",
       "      <th>5</th>\n",
       "      <td>empReview_4852131</td>\n",
       "      <td>Disclaimer: A lot of what I'm writing below of...</td>\n",
       "      <td>disclaimer lot im write course depend work are...</td>\n",
       "    </tr>\n",
       "    <tr>\n",
       "      <th>6</th>\n",
       "      <td>empReview_4852131</td>\n",
       "      <td>But I found this to be fairly pervasive polic...</td>\n",
       "      <td>find fairly pervasive policy ibm</td>\n",
       "    </tr>\n",
       "  </tbody>\n",
       "</table>\n",
       "</div>"
      ],
      "text/plain": [
       "          Employee ID                                               Pros  \\\n",
       "0  empReview_17651831   The working culture and environment is good here   \n",
       "1  empReview_17651831   Freedom to employees and facility of work fro...   \n",
       "3  empReview_19452793  Good working environment and opportunity to wo...   \n",
       "5   empReview_4852131  Disclaimer: A lot of what I'm writing below of...   \n",
       "6   empReview_4852131   But I found this to be fairly pervasive polic...   \n",
       "\n",
       "                                     lemmatized_pros  \n",
       "0                   working culture environment good  \n",
       "1                freedom employee facility work home  \n",
       "3  good work environment opportunity work differe...  \n",
       "5  disclaimer lot im write course depend work are...  \n",
       "6                   find fairly pervasive policy ibm  "
      ]
     },
     "execution_count": 11,
     "metadata": {},
     "output_type": "execute_result"
    },
    {
     "data": {
      "text/plain": [
       "87294"
      ]
     },
     "execution_count": 11,
     "metadata": {},
     "output_type": "execute_result"
    }
   ],
   "source": [
    "split_lemma_pros=splitted_pros.loc[splitted_pros['lemmatized_pros'].isin([item for item in splitted_pros.lemmatized_pros if len(str(item).split())>=2])]\n",
    "\n",
    "split_lemma_pros.head()\n",
    "len(split_lemma_pros)"
   ]
  },
  {
   "cell_type": "code",
   "execution_count": 12,
   "metadata": {
    "scrolled": true
   },
   "outputs": [
    {
     "data": {
      "text/html": [
       "<div>\n",
       "<style scoped>\n",
       "    .dataframe tbody tr th:only-of-type {\n",
       "        vertical-align: middle;\n",
       "    }\n",
       "\n",
       "    .dataframe tbody tr th {\n",
       "        vertical-align: top;\n",
       "    }\n",
       "\n",
       "    .dataframe thead th {\n",
       "        text-align: right;\n",
       "    }\n",
       "</style>\n",
       "<table border=\"1\" class=\"dataframe\">\n",
       "  <thead>\n",
       "    <tr style=\"text-align: right;\">\n",
       "      <th></th>\n",
       "      <th>Employee ID</th>\n",
       "      <th>Pros</th>\n",
       "      <th>lemmatized_pros</th>\n",
       "    </tr>\n",
       "  </thead>\n",
       "  <tbody>\n",
       "    <tr>\n",
       "      <th>9097</th>\n",
       "      <td>empReview_14097495</td>\n",
       "      <td>Great place to learn/grow</td>\n",
       "      <td>great place learngrow</td>\n",
       "    </tr>\n",
       "    <tr>\n",
       "      <th>74821</th>\n",
       "      <td>empReview_12399850</td>\n",
       "      <td>- International environment</td>\n",
       "      <td>international environment</td>\n",
       "    </tr>\n",
       "    <tr>\n",
       "      <th>24743</th>\n",
       "      <td>empReview_7904838</td>\n",
       "      <td>o Ample parking</td>\n",
       "      <td>ample parking</td>\n",
       "    </tr>\n",
       "    <tr>\n",
       "      <th>3213</th>\n",
       "      <td>empReview_17227778</td>\n",
       "      <td>Got a very good amount of help from my seniors...</td>\n",
       "      <td>got good amount help senior technically improve</td>\n",
       "    </tr>\n",
       "    <tr>\n",
       "      <th>10734</th>\n",
       "      <td>empReview_13621219</td>\n",
       "      <td>good people</td>\n",
       "      <td>good people</td>\n",
       "    </tr>\n",
       "  </tbody>\n",
       "</table>\n",
       "</div>"
      ],
      "text/plain": [
       "              Employee ID                                               Pros  \\\n",
       "9097   empReview_14097495                          Great place to learn/grow   \n",
       "74821  empReview_12399850                        - International environment   \n",
       "24743   empReview_7904838                                    o Ample parking   \n",
       "3213   empReview_17227778  Got a very good amount of help from my seniors...   \n",
       "10734  empReview_13621219                                        good people   \n",
       "\n",
       "                                       lemmatized_pros  \n",
       "9097                             great place learngrow  \n",
       "74821                        international environment  \n",
       "24743                                    ample parking  \n",
       "3213   got good amount help senior technically improve  \n",
       "10734                                      good people  "
      ]
     },
     "execution_count": 12,
     "metadata": {},
     "output_type": "execute_result"
    }
   ],
   "source": [
    "# shuffle the data before clustering\n",
    "pros_lemmatized_text=shuffle(split_lemma_pros)  # dataframe shuffle for later clustering\n",
    "pros_lemmatized_text.head()"
   ]
  },
  {
   "cell_type": "code",
   "execution_count": 48,
   "metadata": {
    "scrolled": true
   },
   "outputs": [
    {
     "data": {
      "text/plain": [
       "87294"
      ]
     },
     "execution_count": 48,
     "metadata": {},
     "output_type": "execute_result"
    },
    {
     "data": {
      "text/plain": [
       "['great', 'place', 'learngrow']"
      ]
     },
     "execution_count": 48,
     "metadata": {},
     "output_type": "execute_result"
    }
   ],
   "source": [
    "lemma_pros=[\"\".join(item) for item in pros_lemmatized_text.lemmatized_pros]\n",
    "text_list = [i.split() for i in lemma_pros]\n",
    "len(text_list)\n",
    "text_list[0]"
   ]
  },
  {
   "cell_type": "code",
   "execution_count": 116,
   "metadata": {},
   "outputs": [],
   "source": [
    "def bigrams(line):\n",
    "    tokens = line.split(\" \")\n",
    "    return [(tokens[i], tokens[i+1]) for i in range(0, len(tokens)-1)]"
   ]
  },
  {
   "cell_type": "code",
   "execution_count": 131,
   "metadata": {},
   "outputs": [
    {
     "data": {
      "text/plain": [
       "[['great_place', 'place_learngrow'], ['international_environment']]"
      ]
     },
     "execution_count": 131,
     "metadata": {},
     "output_type": "execute_result"
    },
    {
     "data": {
      "text/plain": [
       "['great_place place_learngrow', 'international_environment']"
      ]
     },
     "execution_count": 131,
     "metadata": {},
     "output_type": "execute_result"
    },
    {
     "data": {
      "text/plain": [
       "87294"
      ]
     },
     "execution_count": 131,
     "metadata": {},
     "output_type": "execute_result"
    },
    {
     "data": {
      "text/plain": [
       "[['great_place', 'place_learngrow'], ['international_environment']]"
      ]
     },
     "execution_count": 131,
     "metadata": {},
     "output_type": "execute_result"
    }
   ],
   "source": [
    "results=[]\n",
    "for line in lemma_pros:\n",
    "    results.append([\"_\".join(item) for item in bigrams(line)])\n",
    "results[0:2]\n",
    "\n",
    "results_1=[\" \".join(item) for item in results]\n",
    "results_1[0:2]\n",
    "\n",
    "bigram_list = [i.split() for i in results_1]\n",
    "len(bigram_list)\n",
    "bigram_list[0:2]"
   ]
  },
  {
   "cell_type": "code",
   "execution_count": null,
   "metadata": {},
   "outputs": [],
   "source": []
  },
  {
   "cell_type": "code",
   "execution_count": null,
   "metadata": {},
   "outputs": [],
   "source": []
  },
  {
   "cell_type": "code",
   "execution_count": null,
   "metadata": {},
   "outputs": [],
   "source": []
  },
  {
   "cell_type": "code",
   "execution_count": 26,
   "metadata": {},
   "outputs": [
    {
     "name": "stdout",
     "output_type": "stream",
     "text": [
      "Dictionary(18429 unique tokens: ['great', 'learngrow', 'place', 'environment', 'international']...)\n"
     ]
    }
   ],
   "source": [
    "# Importing Gensim\n",
    "import gensim\n",
    "from gensim import corpora\n",
    "\n",
    "# Creating the term dictionary of our courpus, where every unique term is assigned an index. dictionary = corpora.Dictionary(doc_clean)\n",
    "dictionary = corpora.Dictionary(text_list)\n",
    "dictionary.save('dictionary.dict')\n",
    "print (dictionary)"
   ]
  },
  {
   "cell_type": "code",
   "execution_count": 28,
   "metadata": {},
   "outputs": [
    {
     "data": {
      "text/plain": [
       "87294"
      ]
     },
     "execution_count": 28,
     "metadata": {},
     "output_type": "execute_result"
    },
    {
     "name": "stdout",
     "output_type": "stream",
     "text": [
      "[(16, 1), (30, 1), (31, 1), (74, 1), (104, 1), (171, 2), (272, 1), (273, 1), (274, 1)]\n"
     ]
    }
   ],
   "source": [
    "# Converting list of documents (corpus) into Document Term Matrix using dictionary prepared above.\n",
    "doc_term_matrix = [dictionary.doc2bow(doc) for doc in text_list]\n",
    "corpora.MmCorpus.serialize('corpus.mm', doc_term_matrix)\n",
    "\n",
    "len(doc_term_matrix)\n",
    "print (doc_term_matrix[100])"
   ]
  },
  {
   "cell_type": "markdown",
   "metadata": {},
   "source": [
    "### LDA 10 topics"
   ]
  },
  {
   "cell_type": "code",
   "execution_count": 32,
   "metadata": {},
   "outputs": [
    {
     "name": "stdout",
     "output_type": "stream",
     "text": [
      "used: 538.55s\n"
     ]
    }
   ],
   "source": [
    "from time import time\n",
    "import logging\n",
    "\n",
    "logging.basicConfig(format='%(asctime)s : %(levelname)s : %(message)s', level=logging.INFO,\n",
    "                   filename='running.log',filemode='w')\n",
    "\n",
    "start = time()\n",
    "# Creating the object for LDA model using gensim library\n",
    "Lda = gensim.models.ldamodel.LdaModel\n",
    "\n",
    "# Running and Trainign LDA model on the document term matrix.\n",
    "ldamodel = Lda(doc_term_matrix, num_topics=15, id2word = dictionary, passes=50)\n",
    "print('used: {:.2f}s'.format(time()-start))"
   ]
  },
  {
   "cell_type": "code",
   "execution_count": 33,
   "metadata": {},
   "outputs": [
    {
     "name": "stdout",
     "output_type": "stream",
     "text": [
      "[(6, '0.069*\"career\" + 0.069*\"good\" + 0.039*\"training\" + 0.036*\"skill\"'), (4, '0.060*\"technology\" + 0.034*\"help\" + 0.034*\"support\" + 0.030*\"always\"')]\n"
     ]
    }
   ],
   "source": [
    "print(ldamodel.print_topics(num_topics=2, num_words=4))"
   ]
  },
  {
   "cell_type": "code",
   "execution_count": 34,
   "metadata": {
    "scrolled": true
   },
   "outputs": [
    {
     "name": "stdout",
     "output_type": "stream",
     "text": [
      "0\n",
      "0.216*\"work\" + 0.124*\"home\" + 0.095*\"flexible\" + 0.053*\"flexibility\" + 0.046*\"hour\" + 0.043*\"time\" + 0.031*\"option\" + 0.025*\"office\" + 0.019*\"location\" + 0.019*\"schedule\"\n",
      "1\n",
      "0.257*\"great\" + 0.152*\"people\" + 0.111*\"work\" + 0.036*\"company\" + 0.033*\"excellent\" + 0.027*\"product\" + 0.015*\"ibm\" + 0.015*\"talented\" + 0.011*\"meet\" + 0.010*\"individual\"\n",
      "2\n",
      "0.048*\"one\" + 0.047*\"company\" + 0.044*\"ibm\" + 0.042*\"brand\" + 0.041*\"name\" + 0.039*\"world\" + 0.027*\"want\" + 0.025*\"value\" + 0.025*\"much\" + 0.024*\"make\"\n",
      "3\n",
      "0.089*\"pay\" + 0.081*\"nice\" + 0.040*\"take\" + 0.034*\"offer\" + 0.025*\"competitive\" + 0.024*\"right\" + 0.023*\"develop\" + 0.022*\"care\" + 0.017*\"system\" + 0.016*\"ibm\"\n",
      "4\n",
      "0.060*\"technology\" + 0.034*\"help\" + 0.034*\"support\" + 0.030*\"always\" + 0.030*\"long\" + 0.030*\"process\" + 0.027*\"still\" + 0.025*\"ibm\" + 0.022*\"use\" + 0.021*\"leave\"\n",
      "5\n",
      "0.139*\"benefit\" + 0.103*\"good\" + 0.087*\"culture\" + 0.045*\"salary\" + 0.028*\"decent\" + 0.017*\"free\" + 0.016*\"package\" + 0.014*\"health\" + 0.014*\"u\" + 0.013*\"average\"\n",
      "6\n",
      "0.069*\"career\" + 0.069*\"good\" + 0.039*\"training\" + 0.036*\"skill\" + 0.035*\"opportunity\" + 0.034*\"growth\" + 0.031*\"professional\" + 0.029*\"technical\" + 0.027*\"start\" + 0.025*\"development\"\n",
      "7\n",
      "0.182*\"environment\" + 0.071*\"worklife\" + 0.066*\"good\" + 0.059*\"balance\" + 0.042*\"customer\" + 0.017*\"corporate\" + 0.016*\"amaze\" + 0.016*\"tech\" + 0.013*\"amount\" + 0.011*\"working\"\n",
      "8\n",
      "0.085*\"project\" + 0.066*\"job\" + 0.063*\"management\" + 0.053*\"get\" + 0.043*\"client\" + 0.037*\"many\" + 0.030*\"challenge\" + 0.020*\"base\" + 0.017*\"interesting\" + 0.016*\"chance\"\n",
      "9\n",
      "0.090*\"experience\" + 0.060*\"smart\" + 0.049*\"people\" + 0.032*\"day\" + 0.021*\"get\" + 0.018*\"need\" + 0.015*\"every\" + 0.014*\"problem\" + 0.014*\"gain\" + 0.014*\"multiple\"\n",
      "10\n",
      "0.318*\"work\" + 0.222*\"good\" + 0.090*\"life\" + 0.073*\"balance\" + 0.058*\"place\" + 0.035*\"best\" + 0.022*\"ibm\" + 0.010*\"interest\" + 0.007*\"late\" + 0.006*\"wonderful\"\n",
      "11\n",
      "0.090*\"team\" + 0.066*\"well\" + 0.043*\"manager\" + 0.039*\"like\" + 0.025*\"know\" + 0.023*\"ibm\" + 0.020*\"part\" + 0.020*\"compensation\" + 0.019*\"focus\" + 0.017*\"job\"\n",
      "12\n",
      "0.118*\"opportunity\" + 0.110*\"learn\" + 0.101*\"lot\" + 0.051*\"new\" + 0.036*\"technology\" + 0.028*\"thing\" + 0.023*\"industry\" + 0.022*\"grow\" + 0.022*\"different\" + 0.021*\"really\"\n",
      "13\n",
      "0.062*\"friendly\" + 0.055*\"global\" + 0.048*\"colleague\" + 0.045*\"give\" + 0.031*\"employee\" + 0.031*\"working\" + 0.027*\"hard\" + 0.026*\"atmosphere\" + 0.024*\"knowledge\" + 0.023*\"helpful\"\n",
      "14\n",
      "0.141*\"company\" + 0.033*\"large\" + 0.033*\"ibm\" + 0.031*\"year\" + 0.031*\"big\" + 0.030*\"resource\" + 0.029*\"move\" + 0.027*\"opportunity\" + 0.025*\"lot\" + 0.025*\"within\"\n"
     ]
    }
   ],
   "source": [
    "for i in ldamodel.print_topics(): \n",
    "    for j in i: \n",
    "        print (j)"
   ]
  },
  {
   "cell_type": "code",
   "execution_count": 35,
   "metadata": {},
   "outputs": [],
   "source": [
    "ldamodel.save('topic.model')"
   ]
  },
  {
   "cell_type": "markdown",
   "metadata": {},
   "source": [
    "### load model "
   ]
  },
  {
   "cell_type": "code",
   "execution_count": 37,
   "metadata": {},
   "outputs": [],
   "source": [
    "from gensim.models import LdaModel\n",
    "loading = LdaModel.load('topic.model')"
   ]
  },
  {
   "cell_type": "code",
   "execution_count": 38,
   "metadata": {},
   "outputs": [
    {
     "name": "stdout",
     "output_type": "stream",
     "text": [
      "[(14, '0.141*\"company\" + 0.033*\"large\" + 0.033*\"ibm\" + 0.031*\"year\"'), (13, '0.062*\"friendly\" + 0.055*\"global\" + 0.048*\"colleague\" + 0.045*\"give\"')]\n"
     ]
    }
   ],
   "source": [
    "print(loading.print_topics(num_topics=2, num_words=4))"
   ]
  },
  {
   "cell_type": "code",
   "execution_count": 39,
   "metadata": {},
   "outputs": [],
   "source": [
    "import pyLDAvis.gensim\n",
    "import gensim\n",
    "pyLDAvis.enable_notebook()"
   ]
  },
  {
   "cell_type": "code",
   "execution_count": 40,
   "metadata": {},
   "outputs": [],
   "source": [
    "d = gensim.corpora.Dictionary.load('dictionary.dict')\n",
    "c = gensim.corpora.MmCorpus('corpus.mm')\n",
    "lda = gensim.models.LdaModel.load('topic.model')"
   ]
  },
  {
   "cell_type": "code",
   "execution_count": 41,
   "metadata": {},
   "outputs": [
    {
     "data": {
      "text/html": [
       "\n",
       "<link rel=\"stylesheet\" type=\"text/css\" href=\"https://cdn.rawgit.com/bmabey/pyLDAvis/files/ldavis.v1.0.0.css\">\n",
       "\n",
       "\n",
       "<div id=\"ldavis_el766948228045442932080456\"></div>\n",
       "<script type=\"text/javascript\">\n",
       "\n",
       "var ldavis_el766948228045442932080456_data = {\"mdsDat\": {\"Freq\": [8.838810920715332, 8.748461723327637, 8.332213401794434, 7.786108493804932, 7.512862205505371, 7.335373878479004, 6.817646503448486, 6.740983009338379, 6.05085563659668, 5.868706703186035, 5.753405570983887, 5.605274677276611, 5.138071537017822, 4.749283790588379, 4.72193717956543], \"cluster\": [1, 1, 1, 1, 1, 1, 1, 1, 1, 1, 1, 1, 1, 1, 1], \"topics\": [1, 2, 3, 4, 5, 6, 7, 8, 9, 10, 11, 12, 13, 14, 15], \"x\": [-0.327469132257287, 0.1855262894349084, 0.16617687142646087, -0.14330361120007812, -0.22175307852702336, -0.06131554227900739, 0.12304320859562783, 0.17063054140299044, 0.12533865944409503, 0.08608711755384801, -0.12089924989730226, 0.06996275341200729, 0.049797466742419784, 0.059052562066294494, -0.16087485591795087], \"y\": [-0.014969960614222122, -0.005928749403764027, -0.09191473967963315, -0.27045702621125955, -0.21958224318150912, 0.17268026113696217, -0.08256039800375574, 0.002917993614947256, 0.03085064857371161, 0.007260084831526096, 0.22597950196327252, -0.0942546389821513, 0.035737845110075585, 0.09484195061656499, 0.20939947022923458]}, \"tinfo\": {\"Category\": [\"Default\", \"Default\", \"Default\", \"Default\", \"Default\", \"Default\", \"Default\", \"Default\", \"Default\", \"Default\", \"Default\", \"Default\", \"Default\", \"Default\", \"Default\", \"Default\", \"Default\", \"Default\", \"Default\", \"Default\", \"Default\", \"Default\", \"Default\", \"Default\", \"Default\", \"Default\", \"Default\", \"Default\", \"Default\", \"Default\", \"Topic1\", \"Topic1\", \"Topic1\", \"Topic1\", \"Topic1\", \"Topic1\", \"Topic1\", \"Topic1\", \"Topic1\", \"Topic1\", \"Topic1\", \"Topic1\", \"Topic1\", \"Topic1\", \"Topic1\", \"Topic1\", \"Topic1\", \"Topic1\", \"Topic1\", \"Topic1\", \"Topic1\", \"Topic1\", \"Topic1\", \"Topic1\", \"Topic1\", \"Topic1\", \"Topic1\", \"Topic1\", \"Topic1\", \"Topic1\", \"Topic1\", \"Topic1\", \"Topic1\", \"Topic1\", \"Topic1\", \"Topic1\", \"Topic1\", \"Topic1\", \"Topic2\", \"Topic2\", \"Topic2\", \"Topic2\", \"Topic2\", \"Topic2\", \"Topic2\", \"Topic2\", \"Topic2\", \"Topic2\", \"Topic2\", \"Topic2\", \"Topic2\", \"Topic2\", \"Topic2\", \"Topic2\", \"Topic2\", \"Topic2\", \"Topic2\", \"Topic2\", \"Topic2\", \"Topic2\", \"Topic2\", \"Topic2\", \"Topic2\", \"Topic2\", \"Topic2\", \"Topic2\", \"Topic2\", \"Topic2\", \"Topic2\", \"Topic2\", \"Topic2\", \"Topic2\", \"Topic2\", \"Topic2\", \"Topic2\", \"Topic2\", \"Topic2\", \"Topic2\", \"Topic2\", \"Topic2\", \"Topic2\", \"Topic2\", \"Topic2\", \"Topic2\", \"Topic2\", \"Topic2\", \"Topic2\", \"Topic3\", \"Topic3\", \"Topic3\", \"Topic3\", \"Topic3\", \"Topic3\", \"Topic3\", \"Topic3\", \"Topic3\", \"Topic3\", \"Topic3\", \"Topic3\", \"Topic3\", \"Topic3\", \"Topic3\", \"Topic3\", \"Topic3\", \"Topic3\", \"Topic3\", \"Topic3\", \"Topic3\", \"Topic3\", \"Topic3\", \"Topic3\", \"Topic3\", \"Topic3\", \"Topic3\", \"Topic3\", \"Topic3\", \"Topic3\", \"Topic3\", \"Topic3\", \"Topic3\", \"Topic3\", \"Topic3\", \"Topic3\", \"Topic3\", \"Topic3\", \"Topic3\", \"Topic3\", \"Topic3\", \"Topic3\", \"Topic3\", \"Topic3\", \"Topic3\", \"Topic3\", \"Topic3\", \"Topic4\", \"Topic4\", \"Topic4\", \"Topic4\", \"Topic4\", \"Topic4\", \"Topic4\", \"Topic4\", \"Topic4\", \"Topic4\", \"Topic4\", \"Topic4\", \"Topic4\", \"Topic4\", \"Topic4\", \"Topic4\", \"Topic4\", \"Topic4\", \"Topic4\", \"Topic4\", \"Topic4\", \"Topic4\", \"Topic4\", \"Topic4\", \"Topic4\", \"Topic4\", \"Topic4\", \"Topic4\", \"Topic4\", \"Topic4\", \"Topic4\", \"Topic4\", \"Topic4\", \"Topic4\", \"Topic4\", \"Topic4\", \"Topic4\", \"Topic5\", \"Topic5\", \"Topic5\", \"Topic5\", \"Topic5\", \"Topic5\", \"Topic5\", \"Topic5\", \"Topic5\", \"Topic5\", \"Topic5\", \"Topic5\", \"Topic5\", \"Topic5\", \"Topic5\", \"Topic5\", \"Topic5\", \"Topic5\", \"Topic5\", \"Topic5\", \"Topic5\", \"Topic5\", \"Topic5\", \"Topic5\", \"Topic5\", \"Topic5\", \"Topic5\", \"Topic5\", \"Topic5\", \"Topic5\", \"Topic5\", \"Topic5\", \"Topic5\", \"Topic5\", \"Topic5\", \"Topic5\", \"Topic5\", \"Topic5\", \"Topic5\", \"Topic6\", \"Topic6\", \"Topic6\", \"Topic6\", \"Topic6\", \"Topic6\", \"Topic6\", \"Topic6\", \"Topic6\", \"Topic6\", \"Topic6\", \"Topic6\", \"Topic6\", \"Topic6\", \"Topic6\", \"Topic6\", \"Topic6\", \"Topic6\", \"Topic6\", \"Topic6\", \"Topic6\", \"Topic6\", \"Topic6\", \"Topic6\", \"Topic6\", \"Topic6\", \"Topic6\", \"Topic6\", \"Topic6\", \"Topic6\", \"Topic6\", \"Topic6\", \"Topic6\", \"Topic6\", \"Topic6\", \"Topic6\", \"Topic6\", \"Topic6\", \"Topic7\", \"Topic7\", \"Topic7\", \"Topic7\", \"Topic7\", \"Topic7\", \"Topic7\", \"Topic7\", \"Topic7\", \"Topic7\", \"Topic7\", \"Topic7\", \"Topic7\", \"Topic7\", \"Topic7\", \"Topic7\", \"Topic7\", \"Topic7\", \"Topic7\", \"Topic7\", \"Topic7\", \"Topic7\", \"Topic7\", \"Topic7\", \"Topic7\", \"Topic7\", \"Topic7\", \"Topic7\", \"Topic7\", \"Topic7\", \"Topic7\", \"Topic7\", \"Topic7\", \"Topic7\", \"Topic7\", \"Topic7\", \"Topic7\", \"Topic7\", \"Topic7\", \"Topic7\", \"Topic7\", \"Topic7\", \"Topic8\", \"Topic8\", \"Topic8\", \"Topic8\", \"Topic8\", \"Topic8\", \"Topic8\", \"Topic8\", \"Topic8\", \"Topic8\", \"Topic8\", \"Topic8\", \"Topic8\", \"Topic8\", \"Topic8\", \"Topic8\", \"Topic8\", \"Topic8\", \"Topic8\", \"Topic8\", \"Topic8\", \"Topic8\", \"Topic8\", \"Topic8\", \"Topic8\", \"Topic8\", \"Topic8\", \"Topic8\", \"Topic8\", \"Topic8\", \"Topic8\", \"Topic8\", \"Topic8\", \"Topic8\", \"Topic8\", \"Topic8\", \"Topic8\", \"Topic8\", \"Topic8\", \"Topic8\", \"Topic8\", \"Topic8\", \"Topic8\", \"Topic9\", \"Topic9\", \"Topic9\", \"Topic9\", \"Topic9\", \"Topic9\", \"Topic9\", \"Topic9\", \"Topic9\", \"Topic9\", \"Topic9\", \"Topic9\", \"Topic9\", \"Topic9\", \"Topic9\", \"Topic9\", \"Topic9\", \"Topic9\", \"Topic9\", \"Topic9\", \"Topic9\", \"Topic9\", \"Topic9\", \"Topic9\", \"Topic9\", \"Topic9\", \"Topic9\", \"Topic9\", \"Topic9\", \"Topic9\", \"Topic9\", \"Topic9\", \"Topic9\", \"Topic9\", \"Topic9\", \"Topic9\", \"Topic9\", \"Topic9\", \"Topic9\", \"Topic10\", \"Topic10\", \"Topic10\", \"Topic10\", \"Topic10\", \"Topic10\", \"Topic10\", \"Topic10\", \"Topic10\", \"Topic10\", \"Topic10\", \"Topic10\", \"Topic10\", \"Topic10\", \"Topic10\", \"Topic10\", \"Topic10\", \"Topic10\", \"Topic10\", \"Topic10\", \"Topic10\", \"Topic10\", \"Topic10\", \"Topic10\", \"Topic10\", \"Topic10\", \"Topic10\", \"Topic10\", \"Topic10\", \"Topic10\", \"Topic10\", \"Topic10\", \"Topic10\", \"Topic10\", \"Topic10\", \"Topic10\", \"Topic11\", \"Topic11\", \"Topic11\", \"Topic11\", \"Topic11\", \"Topic11\", \"Topic11\", \"Topic11\", \"Topic11\", \"Topic11\", \"Topic11\", \"Topic11\", \"Topic11\", \"Topic11\", \"Topic11\", \"Topic11\", \"Topic11\", \"Topic11\", \"Topic11\", \"Topic11\", \"Topic11\", \"Topic11\", \"Topic11\", \"Topic11\", \"Topic11\", \"Topic11\", \"Topic11\", \"Topic11\", \"Topic11\", \"Topic11\", \"Topic11\", \"Topic11\", \"Topic11\", \"Topic11\", \"Topic11\", \"Topic12\", \"Topic12\", \"Topic12\", \"Topic12\", \"Topic12\", \"Topic12\", \"Topic12\", \"Topic12\", \"Topic12\", \"Topic12\", \"Topic12\", \"Topic12\", \"Topic12\", \"Topic12\", \"Topic12\", \"Topic12\", \"Topic12\", \"Topic12\", \"Topic12\", \"Topic12\", \"Topic12\", \"Topic12\", \"Topic12\", \"Topic12\", \"Topic12\", \"Topic12\", \"Topic12\", \"Topic12\", \"Topic12\", \"Topic12\", \"Topic12\", \"Topic12\", \"Topic12\", \"Topic12\", \"Topic12\", \"Topic12\", \"Topic12\", \"Topic12\", \"Topic12\", \"Topic13\", \"Topic13\", \"Topic13\", \"Topic13\", \"Topic13\", \"Topic13\", \"Topic13\", \"Topic13\", \"Topic13\", \"Topic13\", \"Topic13\", \"Topic13\", \"Topic13\", \"Topic13\", \"Topic13\", \"Topic13\", \"Topic13\", \"Topic13\", \"Topic13\", \"Topic13\", \"Topic13\", \"Topic13\", \"Topic13\", \"Topic13\", \"Topic13\", \"Topic13\", \"Topic13\", \"Topic13\", \"Topic13\", \"Topic13\", \"Topic13\", \"Topic13\", \"Topic13\", \"Topic13\", \"Topic13\", \"Topic13\", \"Topic14\", \"Topic14\", \"Topic14\", \"Topic14\", \"Topic14\", \"Topic14\", \"Topic14\", \"Topic14\", \"Topic14\", \"Topic14\", \"Topic14\", \"Topic14\", \"Topic14\", \"Topic14\", \"Topic14\", \"Topic14\", \"Topic14\", \"Topic14\", \"Topic14\", \"Topic14\", \"Topic14\", \"Topic14\", \"Topic14\", \"Topic14\", \"Topic14\", \"Topic14\", \"Topic14\", \"Topic14\", \"Topic14\", \"Topic14\", \"Topic14\", \"Topic14\", \"Topic14\", \"Topic14\", \"Topic15\", \"Topic15\", \"Topic15\", \"Topic15\", \"Topic15\", \"Topic15\", \"Topic15\", \"Topic15\", \"Topic15\", \"Topic15\", \"Topic15\", \"Topic15\", \"Topic15\", \"Topic15\", \"Topic15\", \"Topic15\", \"Topic15\", \"Topic15\", \"Topic15\", \"Topic15\", \"Topic15\", \"Topic15\", \"Topic15\", \"Topic15\", \"Topic15\", \"Topic15\", \"Topic15\", \"Topic15\", \"Topic15\", \"Topic15\", \"Topic15\", \"Topic15\", \"Topic15\", \"Topic15\", \"Topic15\"], \"Freq\": [21118.0, 7997.0, 13443.0, 5823.0, 7085.0, 3438.0, 3733.0, 6033.0, 3827.0, 3184.0, 4384.0, 3158.0, 3701.0, 2839.0, 2282.0, 2163.0, 2022.0, 1988.0, 1834.0, 2569.0, 2648.0, 2554.0, 1657.0, 2192.0, 1683.0, 1590.0, 1796.0, 1593.0, 1344.0, 2692.0, 3157.704345703125, 250.46090698242188, 212.94432067871094, 183.904052734375, 172.7787628173828, 125.28382873535156, 120.63899993896484, 115.17227935791016, 105.15679931640625, 104.97323608398438, 96.54173278808594, 89.37895202636719, 88.11859893798828, 83.30330657958984, 78.19046020507812, 68.07157897949219, 63.97743606567383, 61.88441467285156, 51.850460052490234, 50.607791900634766, 43.478736877441406, 43.239986419677734, 41.815948486328125, 41.72809982299805, 38.5235595703125, 36.71931076049805, 36.68098449707031, 35.81647491455078, 35.63080978393555, 34.533565521240234, 2049.93994140625, 1228.0770263671875, 2579.769775390625, 349.1363525390625, 7819.89697265625, 11203.404296875, 769.5076904296875, 115.1154556274414, 3826.60205078125, 1796.0567626953125, 974.1378784179688, 572.1602783203125, 423.9830322265625, 418.9690856933594, 401.7436218261719, 306.9452209472656, 280.6393737792969, 261.2541198730469, 225.58197021484375, 218.4721221923828, 207.05743408203125, 183.59864807128906, 182.11874389648438, 174.48284912109375, 171.94931030273438, 160.11402893066406, 159.0283966064453, 143.24618530273438, 140.04368591308594, 130.8118896484375, 128.99362182617188, 128.26895141601562, 127.25338745117188, 122.89810180664062, 121.10881042480469, 117.45922088623047, 116.24881744384766, 110.52875518798828, 3542.350830078125, 802.1227416992188, 4115.6669921875, 763.4202270507812, 551.1728515625, 743.132080078125, 330.8775939941406, 396.99462890625, 1247.0789794921875, 757.434814453125, 230.29266357421875, 233.34324645996094, 648.2816772460938, 302.5693359375, 408.92108154296875, 263.8753967285156, 348.5218811035156, 233.1552276611328, 221.79661560058594, 1112.80908203125, 1004.1753540039062, 957.8108520507812, 825.28369140625, 709.6055908203125, 604.2978515625, 568.6759643554688, 529.8167114257812, 449.3340759277344, 426.5108642578125, 282.5909118652344, 242.5066680908203, 236.88311767578125, 224.6333465576172, 205.56980895996094, 194.41659545898438, 193.96127319335938, 192.67431640625, 191.4695587158203, 187.4659423828125, 182.6607666015625, 181.8546905517578, 179.6313934326172, 173.0465087890625, 167.35311889648438, 159.3116912841797, 159.1274871826172, 156.24652099609375, 147.64366149902344, 139.5302276611328, 1033.664794921875, 4693.79345703125, 1023.1945190429688, 592.8074340820312, 534.9948120117188, 300.9295654296875, 665.3428344726562, 1085.9447021484375, 840.9807739257812, 473.0108642578125, 899.57275390625, 539.4142456054688, 239.68301391601562, 224.74679565429688, 225.76943969726562, 216.1604766845703, 217.25811767578125, 7996.99560546875, 828.1746826171875, 474.6708984375, 344.76177978515625, 321.31781005859375, 301.3557434082031, 288.2117004394531, 285.9546203613281, 247.69442749023438, 246.0624542236328, 238.1638946533203, 229.74876403808594, 206.12403869628906, 169.31068420410156, 148.77896118164062, 135.9376220703125, 135.58712768554688, 127.70655059814453, 113.67543029785156, 112.63554382324219, 104.26104736328125, 101.15130615234375, 98.92668151855469, 97.65545654296875, 92.51454162597656, 91.73611450195312, 90.7830581665039, 90.12673950195312, 89.69621276855469, 85.57481384277344, 1026.47412109375, 4731.1240234375, 195.12245178222656, 203.47508239746094, 3441.283935546875, 1121.8492431640625, 476.9981994628906, 3732.18310546875, 2838.353515625, 1592.8603515625, 1388.4735107421875, 940.89892578125, 747.0942993164062, 566.8941040039062, 562.7885131835938, 458.27947998046875, 376.6623840332031, 309.6396179199219, 241.48304748535156, 218.55079650878906, 180.66270446777344, 177.1302947998047, 169.1262664794922, 147.35797119140625, 124.60189056396484, 116.63675689697266, 106.99015045166016, 106.72219848632812, 100.52552795410156, 90.51206970214844, 90.45189666748047, 82.15904998779297, 76.8223876953125, 74.77762603759766, 69.67028045654297, 58.9806022644043, 58.541507720947266, 426.70184326171875, 1301.2523193359375, 558.9371337890625, 6472.7890625, 169.32196044921875, 141.2326202392578, 119.20155334472656, 105.21235656738281, 103.02253723144531, 1140.953857421875, 1050.7340087890625, 994.2964477539062, 893.6163330078125, 850.6176147460938, 779.1632690429688, 744.5392456054688, 729.1588745117188, 622.9161376953125, 620.7012939453125, 558.6757202148438, 547.8563232421875, 480.8200988769531, 458.9873046875, 388.9494934082031, 320.3569030761719, 300.7676696777344, 281.9499816894531, 259.40020751953125, 220.25430297851562, 220.221923828125, 208.1040802001953, 203.1143798828125, 201.69747924804688, 196.45791625976562, 187.28199768066406, 162.37428283691406, 140.14556884765625, 128.86880493164062, 127.50699615478516, 2028.9293212890625, 2008.81396484375, 403.9399108886719, 1017.82080078125, 503.5493469238281, 546.0716552734375, 240.72781372070312, 256.8524475097656, 1314.3277587890625, 1132.479736328125, 1110.8414306640625, 1065.438232421875, 746.2993774414062, 691.910888671875, 688.1552124023438, 603.2509765625, 467.0216064453125, 425.8963317871094, 414.32159423828125, 402.47283935546875, 376.0372619628906, 347.51849365234375, 262.49029541015625, 219.73194885253906, 219.01695251464844, 217.3524932861328, 216.3982391357422, 213.14251708984375, 205.54083251953125, 203.95372009277344, 179.7445068359375, 161.67510986328125, 160.0921173095703, 149.86900329589844, 144.5848846435547, 137.5643310546875, 131.0291290283203, 118.82159423828125, 478.89263916015625, 649.2824096679688, 300.6141662597656, 285.55859375, 353.4479675292969, 1203.33837890625, 1268.6431884765625, 225.37005615234375, 273.5123291015625, 360.25469970703125, 338.5260314941406, 393.5547790527344, 2281.869873046875, 1683.0439453125, 1143.7314453125, 801.0946655273438, 527.8302612304688, 465.99310302734375, 432.4237060546875, 428.0623779296875, 333.6684875488281, 333.4874267578125, 320.97344970703125, 309.4732666015625, 277.138671875, 263.2662353515625, 185.31752014160156, 159.30067443847656, 157.8384552001953, 153.44297790527344, 145.17320251464844, 132.7193603515625, 132.48191833496094, 127.15715789794922, 120.367919921875, 118.78147888183594, 117.85305786132812, 117.29322814941406, 116.45230865478516, 111.79662322998047, 109.19998168945312, 107.87605285644531, 1782.2147216796875, 1427.3685302734375, 347.8919372558594, 329.8936462402344, 311.8270263671875, 992.92333984375, 418.8361511230469, 345.9554138183594, 325.4903564453125, 279.0137023925781, 148.7735137939453, 214.43939208984375, 180.5037078857422, 2162.317138671875, 1590.09912109375, 930.9382934570312, 612.357177734375, 484.98077392578125, 475.49090576171875, 464.7016906738281, 382.0992431640625, 370.5179748535156, 318.32965087890625, 293.15228271484375, 291.6228942871094, 288.6593933105469, 262.1123962402344, 259.5207824707031, 237.59706115722656, 234.3354949951172, 205.18170166015625, 202.02481079101562, 195.98876953125, 174.3647003173828, 173.23526000976562, 154.68255615234375, 153.79225158691406, 147.25267028808594, 145.37527465820312, 142.8712615966797, 134.2732696533203, 126.99867248535156, 126.96005249023438, 1043.686767578125, 335.9845886230469, 342.3442077636719, 257.71533203125, 214.6618194580078, 409.7531433105469, 548.8917846679688, 291.78314208984375, 245.9087677001953, 796.3200073242188, 709.6475830078125, 697.5755004882812, 643.1083984375, 513.1509399414062, 492.7254333496094, 482.67877197265625, 481.16754150390625, 439.81256103515625, 417.2398681640625, 414.01263427734375, 405.11407470703125, 372.29608154296875, 317.394287109375, 311.4962158203125, 270.1804504394531, 262.8938903808594, 246.4440155029297, 244.94284057617188, 242.0941925048828, 230.11712646484375, 189.42581176757812, 187.59820556640625, 184.7961883544922, 182.40362548828125, 180.16033935546875, 171.18968200683594, 153.6926727294922, 152.0370635986328, 152.01577758789062, 801.3130493164062, 696.0949096679688, 1400.6962890625, 573.7978515625, 238.94610595703125, 198.3936309814453, 3183.441650390625, 1987.265380859375, 633.6657104492188, 387.1783752441406, 361.00616455078125, 325.910400390625, 314.2928161621094, 301.4490661621094, 290.3500061035156, 286.5492248535156, 251.57687377929688, 235.27780151367188, 225.89007568359375, 223.8472442626953, 187.9766082763672, 177.50765991210938, 166.54393005371094, 144.50181579589844, 140.4715576171875, 124.66911315917969, 113.8686294555664, 113.25255584716797, 111.87169647216797, 108.86920928955078, 101.98947143554688, 95.64703369140625, 86.21759796142578, 82.65222930908203, 79.47736358642578, 77.05331420898438, 1021.704345703125, 2368.355224609375, 204.50645446777344, 155.7227325439453, 121.21959686279297, 2021.74072265625, 1332.009521484375, 712.4993286132812, 319.89666748046875, 312.8048400878906, 311.16815185546875, 293.98046875, 276.9911804199219, 270.4028015136719, 254.6731719970703, 233.97610473632812, 221.29649353027344, 216.9672393798828, 210.66221618652344, 196.7032470703125, 173.8314666748047, 172.39273071289062, 171.10572814941406, 169.0937957763672, 163.407958984375, 161.6492462158203, 159.6496124267578, 144.57275390625, 144.4145050048828, 139.0343780517578, 138.45458984375, 137.0939483642578, 135.16542053222656, 129.98257446289062, 128.24546813964844, 339.0112609863281, 398.133544921875, 1091.2423095703125, 462.4023742675781, 177.5965576171875, 235.25131225585938, 268.85565185546875, 297.9553527832031, 202.71383666992188, 1833.2845458984375, 1656.6234130859375, 814.0509033203125, 692.3826904296875, 505.1822509765625, 491.8350524902344, 464.5227966308594, 447.3643493652344, 349.859619140625, 331.25732421875, 313.2063903808594, 308.67041015625, 291.9178161621094, 260.9411926269531, 243.71963500976562, 230.9037322998047, 199.73382568359375, 190.4051055908203, 183.21356201171875, 176.52737426757812, 167.16427612304688, 160.1563720703125, 158.73971557617188, 158.52528381347656, 147.19190979003906, 136.1940155029297, 134.66177368164062, 134.61656188964844, 132.33132934570312, 131.56539916992188, 315.1705627441406, 314.0276794433594, 270.01116943359375, 336.8749694824219, 239.54354858398438, 154.05523681640625, 1170.606689453125, 1044.274169921875, 912.888671875, 860.9237060546875, 515.4397583007812, 491.374755859375, 428.29876708984375, 344.8074951171875, 339.474609375, 335.2448425292969, 332.095703125, 281.72418212890625, 270.7352294921875, 226.1559295654297, 204.93072509765625, 191.6393280029297, 187.1979522705078, 182.93434143066406, 173.41790771484375, 161.27120971679688, 145.98785400390625, 144.13624572753906, 140.0191192626953, 127.3836441040039, 117.9271469116211, 116.87425994873047, 108.56753540039062, 106.8185043334961, 102.62696838378906, 98.25032806396484, 578.53515625, 462.9251708984375, 580.5694580078125, 271.6842956542969, 3437.23193359375, 1343.3089599609375, 786.09521484375, 322.97589111328125, 302.2950439453125, 299.33197021484375, 254.07215881347656, 206.28421020507812, 195.5595245361328, 190.83042907714844, 186.0797119140625, 166.35874938964844, 163.32618713378906, 145.17031860351562, 125.31685638427734, 119.02886962890625, 118.9050521850586, 118.28834533691406, 117.93579864501953, 116.87325286865234, 115.13644409179688, 112.98926544189453, 110.57756805419922, 107.77299499511719, 107.29021453857422, 98.53128051757812, 96.21281433105469, 89.42913055419922, 88.78298950195312, 86.31427764892578, 1121.0426025390625, 110.66272735595703, 1246.0142822265625, 207.5558319091797, 134.29249572753906], \"Term\": [\"work\", \"great\", \"good\", \"people\", \"company\", \"environment\", \"home\", \"opportunity\", \"learn\", \"benefit\", \"lot\", \"life\", \"balance\", \"flexible\", \"project\", \"team\", \"experience\", \"culture\", \"pay\", \"career\", \"technology\", \"place\", \"nice\", \"job\", \"management\", \"well\", \"new\", \"flexibility\", \"worklife\", \"get\", \"life\", \"late\", \"wonderful\", \"since\", \"ibms\", \"last\", \"space\", \"ethic\", \"next\", \"im\", \"relaxed\", \"expose\", \"maintain\", \"regard\", \"push\", \"face\", \"planet\", \"perspective\", \"enviroment\", \"balancegood\", \"fully\", \"proper\", \"ai\", \"subject\", \"emerge\", \"telecommute\", \"cuttingedge\", \"relevant\", \"spirit\", \"hotel\", \"place\", \"best\", \"balance\", \"interest\", \"good\", \"work\", \"ibm\", \"personal\", \"learn\", \"new\", \"thing\", \"learning\", \"across\", \"variety\", \"wide\", \"range\", \"field\", \"supportive\", \"advancement\", \"mentor\", \"bright\", \"portfolio\", \"mind\", \"self\", \"cloud\", \"vast\", \"broad\", \"event\", \"platform\", \"expert\", \"past\", \"building\", \"continue\", \"onsite\", \"size\", \"cognitive\", \"offering\", \"material\", \"lot\", \"industry\", \"opportunity\", \"grow\", \"exposure\", \"really\", \"top\", \"travel\", \"technology\", \"different\", \"various\", \"plenty\", \"many\", \"access\", \"get\", \"area\", \"ibm\", \"knowledge\", \"business\", \"large\", \"resource\", \"move\", \"within\", \"role\", \"organization\", \"service\", \"train\", \"position\", \"huge\", \"try\", \"number\", \"especially\", \"possible\", \"graduate\", \"advance\", \"room\", \"old\", \"money\", \"scope\", \"another\", \"course\", \"choose\", \"breadth\", \"low\", \"performance\", \"corporation\", \"match\", \"bad\", \"usually\", \"year\", \"company\", \"big\", \"available\", \"around\", \"come\", \"many\", \"ibm\", \"lot\", \"different\", \"opportunity\", \"career\", \"ability\", \"area\", \"provide\", \"change\", \"grow\", \"great\", \"product\", \"talented\", \"meet\", \"individual\", \"leadership\", \"innovative\", \"pressure\", \"potential\", \"solid\", \"less\", \"line\", \"community\", \"deal\", \"engineer\", \"standard\", \"goal\", \"competent\", \"partner\", \"happy\", \"experienced\", \"outstanding\", \"quickly\", \"discount\", \"unit\", \"city\", \"true\", \"vision\", \"force\", \"laptop\", \"excellent\", \"people\", \"country\", \"share\", \"work\", \"company\", \"ibm\", \"home\", \"flexible\", \"flexibility\", \"hour\", \"option\", \"office\", \"location\", \"schedule\", \"timing\", \"facility\", \"freedom\", \"remote\", \"remotely\", \"cv\", \"month\", \"mostly\", \"due\", \"promote\", \"task\", \"patent\", \"promotion\", \"actually\", \"stress\", \"arrangement\", \"transfer\", \"receive\", \"allows\", \"cost\", \"steady\", \"objective\", \"allow\", \"time\", \"ability\", \"work\", \"available\", \"need\", \"employee\", \"travel\", \"provide\", \"training\", \"skill\", \"growth\", \"professional\", \"technical\", \"start\", \"development\", \"high\", \"resume\", \"coworkers\", \"program\", \"level\", \"look\", \"research\", \"recognition\", \"quality\", \"path\", \"tool\", \"build\", \"employer\", \"fresher\", \"improve\", \"drive\", \"enough\", \"expertise\", \"organisation\", \"kind\", \"truly\", \"division\", \"type\", \"career\", \"good\", \"provide\", \"opportunity\", \"place\", \"ibm\", \"personal\", \"employee\", \"one\", \"brand\", \"name\", \"world\", \"want\", \"value\", \"much\", \"easy\", \"think\", \"open\", \"respect\", \"pro\", \"international\", \"dont\", \"everything\", \"never\", \"join\", \"online\", \"may\", \"fantastic\", \"recognize\", \"reward\", \"positive\", \"establish\", \"anything\", \"outside\", \"often\", \"door\", \"worldwide\", \"collaboration\", \"strong\", \"make\", \"network\", \"internal\", \"find\", \"ibm\", \"company\", \"hire\", \"education\", \"best\", \"big\", \"get\", \"project\", \"management\", \"client\", \"challenge\", \"base\", \"interesting\", \"chance\", \"depend\", \"first\", \"family\", \"do\", \"keep\", \"intelligent\", \"fun\", \"department\", \"enterprise\", \"trust\", \"assignment\", \"involve\", \"complex\", \"hand\", \"school\", \"bring\", \"talk\", \"domain\", \"initiative\", \"far\", \"depends\", \"general\", \"inside\", \"job\", \"get\", \"market\", \"way\", \"even\", \"many\", \"change\", \"area\", \"business\", \"manager\", \"future\", \"employee\", \"different\", \"team\", \"well\", \"like\", \"know\", \"part\", \"compensation\", \"focus\", \"sale\", \"pretty\", \"feel\", \"security\", \"enjoy\", \"senior\", \"generally\", \"intern\", \"idea\", \"information\", \"member\", \"end\", \"cool\", \"consult\", \"wfh\", \"several\", \"case\", \"treat\", \"capability\", \"strategy\", \"relationship\", \"might\", \"dedicate\", \"manager\", \"solution\", \"software\", \"see\", \"highly\", \"job\", \"ibm\", \"really\", \"employee\", \"support\", \"always\", \"long\", \"still\", \"use\", \"leave\", \"innovation\", \"policy\", \"willing\", \"lead\", \"edge\", \"leader\", \"term\", \"youre\", \"overall\", \"cut\", \"reputation\", \"nothing\", \"young\", \"almost\", \"sick\", \"ever\", \"unlimited\", \"amazing\", \"hr\", \"else\", \"infrastructure\", \"point\", \"design\", \"issue\", \"help\", \"process\", \"technology\", \"ibm\", \"time\", \"employee\", \"benefit\", \"culture\", \"decent\", \"free\", \"package\", \"health\", \"u\", \"average\", \"de\", \"plan\", \"orient\", \"reason\", \"quite\", \"include\", \"insurance\", \"small\", \"compare\", \"et\", \"least\", \"review\", \"choice\", \"india\", \"although\", \"leaf\", \"thats\", \"transformation\", \"mature\", \"step\", \"begin\", \"probably\", \"salary\", \"good\", \"process\", \"ibm\", \"employee\", \"experience\", \"smart\", \"day\", \"problem\", \"gain\", \"multiple\", \"set\", \"peer\", \"week\", \"something\", \"responsibility\", \"manage\", \"love\", \"staff\", \"full\", \"fast\", \"bonus\", \"watson\", \"ibmers\", \"medical\", \"understand\", \"expect\", \"knowledgeable\", \"motivate\", \"ton\", \"reasonable\", \"college\", \"impact\", \"solve\", \"youll\", \"every\", \"need\", \"people\", \"get\", \"stay\", \"help\", \"time\", \"ibm\", \"employee\", \"pay\", \"nice\", \"take\", \"offer\", \"competitive\", \"right\", \"develop\", \"care\", \"system\", \"talent\", \"group\", \"stable\", \"diversity\", \"awesome\", \"say\", \"though\", \"ok\", \"put\", \"seem\", \"fairly\", \"fair\", \"perk\", \"little\", \"executive\", \"others\", \"ibmer\", \"scale\", \"relatively\", \"activity\", \"cant\", \"able\", \"salary\", \"time\", \"ibm\", \"employee\", \"year\", \"friendly\", \"global\", \"colleague\", \"give\", \"hard\", \"atmosphere\", \"helpful\", \"vacation\", \"diverse\", \"possibility\", \"everyone\", \"woman\", \"could\", \"back\", \"reach\", \"extremely\", \"explore\", \"worker\", \"account\", \"advantage\", \"create\", \"anywhere\", \"together\", \"lots\", \"important\", \"globally\", \"workforce\", \"constant\", \"early\", \"follow\", \"working\", \"knowledge\", \"employee\", \"go\", \"environment\", \"worklife\", \"customer\", \"corporate\", \"amaze\", \"tech\", \"amount\", \"history\", \"plus\", \"class\", \"excite\", \"practice\", \"none\", \"stability\", \"complete\", \"firm\", \"live\", \"relax\", \"brilliant\", \"consultant\", \"consulting\", \"increase\", \"acquisition\", \"le\", \"teamwork\", \"agile\", \"forward\", \"play\", \"grad\", \"fine\", \"balance\", \"site\", \"good\", \"working\", \"excellent\"], \"Total\": [21118.0, 7997.0, 13443.0, 5823.0, 7085.0, 3438.0, 3733.0, 6033.0, 3827.0, 3184.0, 4384.0, 3158.0, 3701.0, 2839.0, 2282.0, 2163.0, 2022.0, 1988.0, 1834.0, 2569.0, 2648.0, 2554.0, 1657.0, 2192.0, 1683.0, 1590.0, 1796.0, 1593.0, 1344.0, 2692.0, 3158.608642578125, 251.3655548095703, 213.84896850585938, 184.80870056152344, 173.68341064453125, 126.18846893310547, 121.54364013671875, 116.07691955566406, 106.06143951416016, 105.87787628173828, 97.44637298583984, 90.2835922241211, 89.02323913574219, 84.20794677734375, 79.09510040283203, 68.9762191772461, 64.882080078125, 62.7890510559082, 52.755088806152344, 51.51242446899414, 44.38337326049805, 44.144622802734375, 42.7205810546875, 42.63273239135742, 39.42819595336914, 37.623939514160156, 37.58561706542969, 36.721107482910156, 36.53544235229492, 35.438201904296875, 2554.33056640625, 1589.1732177734375, 3701.6494140625, 435.324951171875, 13443.7919921875, 21118.255859375, 6343.888671875, 452.5793151855469, 3827.50390625, 1796.958984375, 975.0401000976562, 573.0625, 424.8851623535156, 419.8712158203125, 402.645751953125, 307.84735107421875, 281.54150390625, 262.15625, 226.48416137695312, 219.3743133544922, 207.95962524414062, 184.50083923339844, 183.02093505859375, 175.38504028320312, 172.85150146484375, 161.01622009277344, 159.9305877685547, 144.14837646484375, 140.9458770751953, 131.71408081054688, 129.89581298828125, 129.171142578125, 128.1555938720703, 123.80030059814453, 122.0110092163086, 118.36141967773438, 117.15101623535156, 111.43095397949219, 4384.171875, 924.7289428710938, 6033.837890625, 981.5182495117188, 679.5845336914062, 1035.752197265625, 441.4100341796875, 562.936279296875, 2648.61181640625, 1411.724609375, 303.15301513671875, 321.521484375, 2307.32275390625, 536.6336669921875, 2692.954345703125, 835.3529052734375, 6343.888671875, 696.913818359375, 1102.5205078125, 1113.7115478515625, 1005.077880859375, 958.71337890625, 826.1862182617188, 710.5081176757812, 605.2003784179688, 569.5784912109375, 530.71923828125, 450.2364807128906, 427.41326904296875, 283.4933166503906, 243.40916442871094, 237.78561401367188, 225.5358428955078, 206.47230529785156, 195.319091796875, 194.86376953125, 193.57681274414062, 192.37205505371094, 188.36843872070312, 183.56326293945312, 182.75718688964844, 180.5338897705078, 173.94900512695312, 168.255615234375, 160.2141876220703, 160.0299835205078, 157.14901733398438, 148.54615783691406, 140.43272399902344, 1188.555419921875, 7085.0634765625, 1362.5596923828125, 762.9688720703125, 850.8643188476562, 469.71478271484375, 2307.32275390625, 6343.888671875, 4384.171875, 1411.724609375, 6033.837890625, 2569.182861328125, 799.4595947265625, 835.3529052734375, 1001.919921875, 740.87646484375, 981.5182495117188, 7997.8994140625, 829.0781860351562, 475.5743408203125, 345.66522216796875, 322.22125244140625, 302.2591857910156, 289.1151428222656, 286.8580627441406, 248.59793090820312, 246.96595764160156, 239.06739807128906, 230.6522674560547, 207.0275421142578, 170.2141876220703, 149.68246459960938, 136.84112548828125, 136.49063110351562, 128.6100616455078, 114.57892608642578, 113.5390396118164, 105.16454315185547, 102.05480194091797, 99.8301773071289, 98.55895233154297, 93.41803741455078, 92.63961029052734, 91.68655395507812, 91.03023529052734, 90.5997085571289, 86.47830963134766, 1161.6026611328125, 5823.20361328125, 245.419921875, 263.4402160644531, 21118.255859375, 7085.0634765625, 6343.888671875, 3733.084716796875, 2839.255126953125, 1593.7620849609375, 1389.375244140625, 941.8006591796875, 747.9960327148438, 567.7958374023438, 563.6902465820312, 459.18115234375, 377.5640563964844, 310.5412902832031, 242.38478088378906, 219.45252990722656, 181.56443786621094, 178.0320281982422, 170.0279998779297, 148.25970458984375, 125.50361633300781, 117.53848266601562, 107.89187622070312, 107.6239242553711, 101.42725372314453, 91.4137954711914, 91.3536148071289, 83.06077575683594, 77.72411346435547, 75.67935180664062, 70.57200622558594, 59.88231658935547, 59.4432258605957, 489.4035949707031, 2079.767822265625, 799.4595947265625, 21118.255859375, 762.9688720703125, 679.70556640625, 2570.020751953125, 562.936279296875, 1001.919921875, 1141.8555908203125, 1051.6357421875, 995.1983642578125, 894.5182495117188, 851.51953125, 780.065185546875, 745.441162109375, 730.060791015625, 623.8180541992188, 621.6032104492188, 559.57763671875, 548.7582397460938, 481.72186279296875, 459.8890686035156, 389.85125732421875, 321.2586669921875, 301.66943359375, 282.85174560546875, 260.3019714355469, 221.15614318847656, 221.12376403808594, 209.00592041015625, 204.01622009277344, 202.5993194580078, 197.35975646972656, 188.183837890625, 163.276123046875, 141.0474090576172, 129.77064514160156, 128.40884399414062, 2569.182861328125, 13443.7919921875, 1001.919921875, 6033.837890625, 2554.33056640625, 6343.888671875, 452.5793151855469, 2570.020751953125, 1315.229248046875, 1133.3812255859375, 1111.742919921875, 1066.3397216796875, 747.2009887695312, 692.8125, 689.0568237304688, 604.152587890625, 467.923095703125, 426.7978210449219, 415.22308349609375, 403.37432861328125, 376.9387512207031, 348.41998291015625, 263.39178466796875, 220.6334991455078, 219.9185028076172, 218.25404357910156, 217.29978942871094, 214.0440673828125, 206.4423828125, 204.8552703857422, 180.64605712890625, 162.57666015625, 160.99366760253906, 150.7705535888672, 145.48643493652344, 138.46588134765625, 131.93067932128906, 119.72312927246094, 606.2108764648438, 1008.3814697265625, 393.7315979003906, 380.27484130859375, 577.1356811523438, 6343.888671875, 7085.0634765625, 300.7476806640625, 467.65264892578125, 1589.1732177734375, 1362.5596923828125, 2692.954345703125, 2282.769775390625, 1683.9439697265625, 1144.6314697265625, 801.9948120117188, 528.7304077148438, 466.8931579589844, 433.3237609863281, 428.9624328613281, 334.56854248046875, 334.3874816894531, 321.8735046386719, 310.3733215332031, 278.0387268066406, 264.1662902832031, 186.21763610839844, 160.20079040527344, 158.7385711669922, 154.3430938720703, 146.0733184814453, 133.61947631835938, 133.3820343017578, 128.0572509765625, 121.26801300048828, 119.68157196044922, 118.7531509399414, 118.19332122802734, 117.35240173339844, 112.69671630859375, 110.1000747680664, 108.7761459350586, 2192.802734375, 2692.954345703125, 468.81182861328125, 441.0608215332031, 415.2218017578125, 2307.32275390625, 740.87646484375, 835.3529052734375, 1102.5205078125, 1323.535400390625, 227.36659240722656, 2570.020751953125, 1411.724609375, 2163.216796875, 1590.998779296875, 931.8380737304688, 613.2569580078125, 485.8804931640625, 476.390625, 465.6014099121094, 382.99896240234375, 371.4176940917969, 319.2293701171875, 294.052001953125, 292.5226135253906, 289.5591125488281, 263.0121154785156, 260.4205017089844, 238.49679565429688, 235.2352294921875, 206.08143615722656, 202.92454528808594, 196.8885040283203, 175.26443481445312, 174.13499450683594, 155.58229064941406, 154.69198608398438, 148.15240478515625, 146.27500915527344, 143.77099609375, 135.17300415039062, 127.89840698242188, 127.85978698730469, 1323.535400390625, 441.5124206542969, 458.574951171875, 340.34375, 313.9612731933594, 2192.802734375, 6343.888671875, 1035.752197265625, 2570.020751953125, 797.2191162109375, 710.5466918945312, 698.474609375, 644.0075073242188, 514.050048828125, 493.6244812011719, 483.57781982421875, 482.06658935546875, 440.71160888671875, 418.138916015625, 414.91168212890625, 406.01312255859375, 373.19512939453125, 318.2933349609375, 312.395263671875, 271.0794982910156, 263.7929382324219, 247.34307861328125, 245.84190368652344, 242.99325561523438, 231.0161895751953, 190.3248748779297, 188.4972686767578, 185.69525146484375, 183.3026885986328, 181.0594024658203, 172.0887451171875, 154.59173583984375, 152.93612670898438, 152.9148406982422, 1037.39697265625, 901.4365234375, 2648.61181640625, 6343.888671875, 2079.767822265625, 2570.020751953125, 3184.342529296875, 1988.1661376953125, 634.5665283203125, 388.0791320800781, 361.90692138671875, 326.8111572265625, 315.1935729980469, 302.3498229980469, 291.2507629394531, 287.4499816894531, 252.47767639160156, 236.17860412597656, 226.79087829589844, 224.748046875, 188.87741088867188, 178.40846252441406, 167.44473266601562, 145.40261840820312, 141.3723602294922, 125.56990051269531, 114.76941680908203, 114.1533432006836, 112.7724838256836, 109.7699966430664, 102.8902587890625, 96.54782104492188, 87.1183853149414, 83.55301666259766, 80.3781509399414, 77.9541015625, 1336.5655517578125, 13443.7919921875, 901.4365234375, 6343.888671875, 2570.020751953125, 2022.6390380859375, 1332.9078369140625, 713.3978271484375, 320.7950744628906, 313.7032470703125, 312.0665588378906, 294.8788757324219, 277.88958740234375, 271.30120849609375, 255.57159423828125, 234.87452697753906, 222.19491577148438, 217.86566162109375, 211.56063842773438, 197.60166931152344, 174.72988891601562, 173.29115295410156, 172.004150390625, 169.99221801757812, 164.30638122558594, 162.54766845703125, 160.54803466796875, 145.47117614746094, 145.31292724609375, 139.93280029296875, 139.35301208496094, 137.99237060546875, 136.0638427734375, 130.88099670410156, 129.14389038085938, 484.8569641113281, 679.70556640625, 5823.20361328125, 2692.954345703125, 266.9949951171875, 1037.39697265625, 2079.767822265625, 6343.888671875, 2570.020751953125, 1834.18212890625, 1657.52099609375, 814.9485473632812, 693.2803344726562, 506.079833984375, 492.7326354980469, 465.4203796386719, 448.2619323730469, 350.7572021484375, 332.1549072265625, 314.1039733886719, 309.5679931640625, 292.8153991699219, 261.8387756347656, 244.61724853515625, 231.8013458251953, 200.63143920898438, 191.30271911621094, 184.11117553710938, 177.42498779296875, 168.0618896484375, 161.05398559570312, 159.6373291015625, 159.4228973388672, 148.0895233154297, 137.0916290283203, 135.55938720703125, 135.51417541503906, 133.22894287109375, 132.4630126953125, 533.5863037109375, 1336.5655517578125, 2079.767822265625, 6343.888671875, 2570.020751953125, 1188.555419921875, 1171.502685546875, 1045.170166015625, 913.78466796875, 861.8197021484375, 516.3357543945312, 492.2707824707031, 429.1947937011719, 345.7035217285156, 340.3706359863281, 336.140869140625, 332.9917297363281, 282.6202087402344, 271.6312561035156, 227.05194091796875, 205.8267364501953, 192.53533935546875, 188.09396362304688, 183.83035278320312, 174.3139190673828, 162.16722106933594, 146.8838653564453, 145.03225708007812, 140.91513061523438, 128.2796630859375, 118.82315826416016, 117.77027130126953, 109.46354675292969, 107.71451568603516, 103.52297973632812, 99.1463394165039, 786.9194946289062, 696.913818359375, 2570.020751953125, 703.0018310546875, 3438.129150390625, 1344.2061767578125, 786.9924926757812, 323.8731689453125, 303.19232177734375, 300.229248046875, 254.9694366455078, 207.18148803710938, 196.45680236816406, 191.7277069091797, 186.97698974609375, 167.2560272216797, 164.2234649658203, 146.06759643554688, 126.2141342163086, 119.9261474609375, 119.80233001708984, 119.18562316894531, 118.83307647705078, 117.7705307006836, 116.03372192382812, 113.88654327392578, 111.47484588623047, 108.67027282714844, 108.18749237060547, 99.42855834960938, 97.11009216308594, 90.32640838623047, 89.68026733398438, 87.21155548095703, 3701.6494140625, 134.96023559570312, 13443.7919921875, 786.9194946289062, 1161.6026611328125], \"loglift\": [30.0, 29.0, 28.0, 27.0, 26.0, 25.0, 24.0, 23.0, 22.0, 21.0, 20.0, 19.0, 18.0, 17.0, 16.0, 15.0, 14.0, 13.0, 12.0, 11.0, 10.0, 9.0, 8.0, 7.0, 6.0, 5.0, 4.0, 3.0, 2.0, 1.0, 2.4256999492645264, 2.4223999977111816, 2.421799898147583, 2.421099901199341, 2.420799970626831, 2.418800115585327, 2.4184999465942383, 2.4182000160217285, 2.4175000190734863, 2.4173998832702637, 2.4166998863220215, 2.4158999919891357, 2.415800094604492, 2.4151999950408936, 2.4144999980926514, 2.4128000736236572, 2.4119999408721924, 2.4114999771118164, 2.4086999893188477, 2.4082999229431152, 2.405400037765503, 2.4052999019622803, 2.404599905014038, 2.404599905014038, 2.4028000831604004, 2.401700019836426, 2.401700019836426, 2.401099920272827, 2.400899887084961, 2.4001998901367188, 2.2060000896453857, 2.168299913406372, 2.0648999214172363, 2.205399990081787, 1.8841999769210815, 1.792099952697754, 0.3165000081062317, 1.0570000410079956, 2.4361000061035156, 2.435800075531006, 2.4354000091552734, 2.4347000122070312, 2.4342000484466553, 2.4340999126434326, 2.434000015258789, 2.4333999156951904, 2.4330999851226807, 2.432800054550171, 2.432300090789795, 2.4321999549865723, 2.4319000244140625, 2.4314000606536865, 2.4314000606536865, 2.4310998916625977, 2.4310998916625977, 2.4307000637054443, 2.4305999279022217, 2.430000066757202, 2.4298999309539795, 2.4293999671936035, 2.42930006980896, 2.42930006980896, 2.4291999340057373, 2.428999900817871, 2.4289000034332275, 2.4286000728607178, 2.4286000728607178, 2.4282000064849854, 2.223099946975708, 2.294100046157837, 2.0536999702453613, 2.184999942779541, 2.226900100708008, 2.104300022125244, 2.148099899291992, 2.0869998931884766, 1.6830999851226807, 1.8136999607086182, 2.161400079727173, 2.1157000064849854, 1.1668000221252441, 1.8632999658584595, 0.5514000058174133, 1.2839000225067139, -0.4652999937534332, 1.3413000106811523, 0.8327000141143799, 2.4842000007629395, 2.484100103378296, 2.484100103378296, 2.4839000701904297, 2.483799934387207, 2.4835000038146973, 2.4835000038146973, 2.483299970626831, 2.4830000400543213, 2.4828999042510986, 2.4818999767303467, 2.481300115585327, 2.4811999797821045, 2.4809999465942383, 2.4807000160217285, 2.4804000854492188, 2.4804000854492188, 2.4804000854492188, 2.480299949645996, 2.4802000522613525, 2.48009991645813, 2.48009991645813, 2.4800000190734863, 2.47979998588562, 2.4797000885009766, 2.4793999195098877, 2.4793999195098877, 2.479300022125244, 2.4788999557495117, 2.478600025177002, 2.345400094985962, 2.0732998847961426, 2.1986000537872314, 2.2327001094818115, 2.0209999084472656, 2.039799928665161, 1.2415000200271606, 0.7200000286102295, 0.833899974822998, 1.3916000127792358, 0.5817999839782715, 0.9241999983787537, 1.280400037765503, 1.1721999645233154, 0.9948999881744385, 1.2532000541687012, 0.9769999980926514, 2.5527000427246094, 2.5517001152038574, 2.5508999824523926, 2.5501999855041504, 2.549999952316284, 2.549799919128418, 2.5497000217437744, 2.5497000217437744, 2.5492000579833984, 2.5492000579833984, 2.5490000247955322, 2.5488998889923096, 2.5485000610351562, 2.547499895095825, 2.546799898147583, 2.5462000370025635, 2.5462000370025635, 2.545799970626831, 2.5448999404907227, 2.544800043106079, 2.5441999435424805, 2.5439000129699707, 2.5436999797821045, 2.543600082397461, 2.543100118637085, 2.5429999828338623, 2.5429000854492188, 2.5429000854492188, 2.542799949645996, 2.54229998588562, 2.4291999340057373, 2.345099925994873, 2.323499917984009, 2.2945001125335693, 0.7384999990463257, 0.7098000049591064, -0.0348999984562397, 2.5882999897003174, 2.588200092315674, 2.5880000591278076, 2.587899923324585, 2.587599992752075, 2.5873000621795654, 2.5869998931884766, 2.5869998931884766, 2.5866000652313232, 2.586199998855591, 2.585599899291992, 2.5848000049591064, 2.584399938583374, 2.5836000442504883, 2.5834999084472656, 2.583199977874756, 2.5824999809265137, 2.5813000202178955, 2.580899953842163, 2.580199956893921, 2.5801000595092773, 2.5796000957489014, 2.5785999298095703, 2.5785999298095703, 2.5776000022888184, 2.576900005340576, 2.5766000747680664, 2.575700044631958, 2.5734000205993652, 2.5732998847961426, 2.4514999389648438, 2.1196000576019287, 2.2307000160217285, 1.406000018119812, 1.0830999612808228, 1.017300009727478, -0.4823000133037567, 0.9114000201225281, 0.31380000710487366, 2.6117000579833984, 2.611599922180176, 2.611599922180176, 2.6115000247955322, 2.6113998889923096, 2.611299991607666, 2.611299991607666, 2.6112000942230225, 2.6110000610351562, 2.6110000610351562, 2.61080002784729, 2.61080002784729, 2.610599994659424, 2.6105000972747803, 2.610100030899048, 2.6096999645233154, 2.609499931335449, 2.609299898147583, 2.6089999675750732, 2.6084001064300537, 2.6084001064300537, 2.608099937438965, 2.6080000400543213, 2.6080000400543213, 2.6078999042510986, 2.6077001094818115, 2.6068999767303467, 2.6059999465942383, 2.6054999828338623, 2.6054000854492188, 2.3763999938964844, 0.7114999890327454, 1.7041000127792358, 0.8327000141143799, 0.9886000156402588, 0.1599999964237213, 1.9811999797821045, 0.3093000054359436, 2.684999942779541, 2.6849000453948975, 2.684799909591675, 2.684799909591675, 2.6844000816345215, 2.6844000816345215, 2.684299945831299, 2.6842000484466553, 2.6837000846862793, 2.683500051498413, 2.683500051498413, 2.6833999156951904, 2.683300018310547, 2.6830999851226807, 2.6821999549865723, 2.6816000938415527, 2.68149995803833, 2.68149995803833, 2.68149995803833, 2.6814000606536865, 2.681299924850464, 2.6812000274658203, 2.6807000637054443, 2.6800999641418457, 2.680000066757202, 2.6796998977661133, 2.6793999671936035, 2.6791000366210938, 2.678800106048584, 2.678100109100342, 2.449899911880493, 2.2453999519348145, 2.415800094604492, 2.399199962615967, 2.1953001022338867, 1.023300051689148, 0.9656000137329102, 2.3970999717712402, 2.1493000984191895, 1.2015000581741333, 1.2930999994277954, 0.762499988079071, 2.6965999603271484, 2.6963999271392822, 2.696199893951416, 2.6958000659942627, 2.6953001022338867, 2.694999933242798, 2.6949000358581543, 2.6949000358581543, 2.6942999362945557, 2.6942999362945557, 2.694200038909912, 2.6940999031066895, 2.693700075149536, 2.6935999393463135, 2.6921000480651855, 2.6912999153137207, 2.6912999153137207, 2.6910998821258545, 2.6907999515533447, 2.690200090408325, 2.690200090408325, 2.6898999214172363, 2.689500093460083, 2.6893999576568604, 2.6893999576568604, 2.689300060272217, 2.689300060272217, 2.6888999938964844, 2.688800096511841, 2.688699960708618, 2.4895999431610107, 2.0622000694274902, 2.398699998855591, 2.406599998474121, 2.410599946975708, 1.8538000583648682, 2.1266000270843506, 1.8154000043869019, 1.4768999814987183, 1.1402000188827515, 2.2727999687194824, 0.21330000460147858, 0.6401000022888184, 2.8046000003814697, 2.8043999671936035, 2.803999900817871, 2.803499937057495, 2.803100109100342, 2.803100109100342, 2.802999973297119, 2.8025999069213867, 2.802500009536743, 2.8020999431610107, 2.8018999099731445, 2.8018999099731445, 2.8018999099731445, 2.801500082015991, 2.801500082015991, 2.8011999130249023, 2.801100015640259, 2.800600051879883, 2.80049991607666, 2.8004000186920166, 2.799799919128418, 2.799799919128418, 2.7992000579833984, 2.799099922180176, 2.7988998889923096, 2.798799991607666, 2.7987000942230225, 2.79830002784729, 2.7978999614715576, 2.7978999614715576, 2.5673999786376953, 2.5318000316619873, 2.512700080871582, 2.526900053024292, 2.424799919128418, 1.1275999546051025, 0.35760000348091125, 1.538100004196167, 0.45829999446868896, 2.834399938583374, 2.8343000411987305, 2.834199905395508, 2.8341000080108643, 2.8338000774383545, 2.833699941635132, 2.833699941635132, 2.833699941635132, 2.8334999084472656, 2.833400011062622, 2.833400011062622, 2.8333001136779785, 2.8331000804901123, 2.83270001411438, 2.83270001411438, 2.832200050354004, 2.8320999145507812, 2.831899881362915, 2.831899881362915, 2.8317999839782715, 2.8315999507904053, 2.8308000564575195, 2.8308000564575195, 2.830699920654297, 2.8306000232696533, 2.8306000232696533, 2.8303000926971436, 2.829699993133545, 2.8296000957489014, 2.8296000957489014, 2.5773000717163086, 2.5769999027252197, 2.198499917984009, 0.4325999915599823, 0.6718000173568726, 0.27410000562667847, 2.85509991645813, 2.8548998832702637, 2.8540000915527344, 2.853100061416626, 2.8529000282287598, 2.85260009765625, 2.8524999618530273, 2.852400064468384, 2.852299928665161, 2.8522000312805176, 2.851799964904785, 2.851599931716919, 2.8513998985290527, 2.8513998985290527, 2.850600004196167, 2.8503000736236572, 2.8499999046325684, 2.8492000102996826, 2.8489999771118164, 2.8482000827789307, 2.8475000858306885, 2.8475000858306885, 2.847399950027466, 2.847100019454956, 2.84660005569458, 2.8459999561309814, 2.8450000286102295, 2.8445000648498535, 2.844099998474121, 2.8438000679016113, 2.586699962615967, 1.1190999746322632, 1.371999979019165, -0.8518000245094299, -0.19869999587535858, 2.88100004196167, 2.8808000087738037, 2.880199909210205, 2.878700017929077, 2.8785998821258545, 2.8785998821258545, 2.8784000873565674, 2.878200054168701, 2.8780999183654785, 2.8778998851776123, 2.8775999546051025, 2.8773999214172363, 2.8773000240325928, 2.87719988822937, 2.8768999576568604, 2.876300096511841, 2.876300096511841, 2.876199960708618, 2.876199960708618, 2.875999927520752, 2.8759000301361084, 2.8759000301361084, 2.8752999305725098, 2.8752999305725098, 2.875, 2.875, 2.8749001026153564, 2.874799966812134, 2.8745999336242676, 2.874500036239624, 2.5236001014709473, 2.34660005569458, 1.2069000005722046, 1.1195000410079956, 2.4737000465393066, 1.3976000547409058, 0.8356000185012817, -0.17679999768733978, 0.3416000008583069, 2.9679999351501465, 2.9679999351501465, 2.967400074005127, 2.9672000408172607, 2.9667000770568848, 2.9667000770568848, 2.966599941253662, 2.9665000438690186, 2.96589994430542, 2.9658000469207764, 2.96560001373291, 2.96560001373291, 2.965399980545044, 2.965100049972534, 2.9647998809814453, 2.964600086212158, 2.9639999866485596, 2.9637999534606934, 2.963599920272827, 2.963399887084961, 2.963099956512451, 2.962899923324585, 2.962899923324585, 2.9628000259399414, 2.962399959564209, 2.961899995803833, 2.9618000984191895, 2.9618000984191895, 2.961699962615967, 2.961699962615967, 2.441999912261963, 1.5200999975204468, 0.9269000291824341, 0.032999999821186066, 0.5956000089645386, 0.9253000020980835, 3.0464000701904297, 3.046299934387207, 3.0462000370025635, 3.046099901199341, 3.0453999042510986, 3.0453999042510986, 3.045099973678589, 3.044600009918213, 3.0445001125335693, 3.0445001125335693, 3.0445001125335693, 3.0439999103546143, 3.0439000129699707, 3.0432000160217285, 3.042799949645996, 3.0425000190734863, 3.0423998832702637, 3.04229998588562, 3.0420000553131104, 3.041599988937378, 3.041100025177002, 3.0409998893737793, 3.040800094604492, 3.0401999950408936, 3.039599895477295, 3.0394999980926514, 3.0390000343322754, 3.038800001144409, 3.0385000705718994, 3.038100004196167, 2.739500045776367, 2.6380999088287354, 1.559499979019165, 2.0964999198913574, 3.0527000427246094, 3.052299976348877, 3.051800012588501, 3.0501999855041504, 3.049999952316284, 3.049999952316284, 3.0494000911712646, 3.0485999584198, 3.0483999252319336, 3.04830002784729, 3.048099994659424, 3.047600030899048, 3.047499895095825, 3.046799898147583, 3.045799970626831, 3.0453999042510986, 3.0453999042510986, 3.0453999042510986, 3.0453999042510986, 3.045300006866455, 3.0452001094818115, 3.0450000762939453, 3.0448999404907227, 3.0446999073028564, 3.044600009918213, 3.0439000129699707, 3.0436999797821045, 3.0429999828338623, 3.0429000854492188, 3.04259991645813, 1.8583999872207642, 2.8545000553131104, 0.6743999719619751, 1.7201999425888062, 0.8953999876976013], \"logprob\": [30.0, 29.0, 28.0, 27.0, 26.0, 25.0, 24.0, 23.0, 22.0, 21.0, 20.0, 19.0, 18.0, 17.0, 16.0, 15.0, 14.0, 13.0, 12.0, 11.0, 10.0, 9.0, 8.0, 7.0, 6.0, 5.0, 4.0, 3.0, 2.0, 1.0, -2.4131999015808105, -4.947500228881836, -5.1097002029418945, -5.25629997253418, -5.318699836730957, -5.640200138092041, -5.677999973297119, -5.724299907684326, -5.815299987792969, -5.8171000480651855, -5.9008002281188965, -5.97790002822876, -5.992099761962891, -6.048299789428711, -6.111599922180176, -6.250199794769287, -6.31220006942749, -6.3454999923706055, -6.52239990234375, -6.5467000007629395, -6.698500156402588, -6.703999996185303, -6.737500190734863, -6.73960018157959, -6.819499969482422, -6.867499828338623, -6.868500232696533, -6.892300128936768, -6.897500038146973, -6.928800106048584, -2.8452000617980957, -3.357599973678589, -2.615299940109253, -4.615300178527832, -1.5062999725341797, -1.1468000411987305, -3.825000047683716, -5.724800109863281, -2.210700035095215, -2.967099905014038, -3.578900098800659, -4.111100196838379, -4.410799980163574, -4.422699928283691, -4.464700222015381, -4.733799934387207, -4.823400020599365, -4.894999980926514, -5.041800022125244, -5.073800086975098, -5.127500057220459, -5.247700214385986, -5.255799770355225, -5.298699855804443, -5.313300132751465, -5.3846001625061035, -5.39139986038208, -5.4959001541137695, -5.518499851226807, -5.586699962615967, -5.6006999015808105, -5.606400012969971, -5.614299774169922, -5.649099826812744, -5.66379976272583, -5.694399833679199, -5.704699993133545, -5.755199909210205, -2.287899971008301, -3.773200035095215, -2.1379001140594482, -3.822700023651123, -4.148399829864502, -3.849600076675415, -4.658699989318848, -4.476600170135498, -3.331899881362915, -3.8304998874664307, -5.021100044250488, -5.007999897003174, -3.9862000942230225, -4.748199939727783, -4.447000026702881, -4.885000228881836, -4.606800079345703, -5.008800029754639, -5.058700084686279, -3.3970999717712402, -3.499799966812134, -3.547100067138672, -3.696000099182129, -3.8469998836517334, -4.007699966430664, -4.068399906158447, -4.139200210571289, -4.303999900817871, -4.356100082397461, -4.7677001953125, -4.9207000732421875, -4.944200038909912, -4.997300148010254, -5.085899829864502, -5.14169979095459, -5.144100189208984, -5.150700092315674, -5.1570000648498535, -5.178100109100342, -5.204100131988525, -5.208499908447266, -5.220799922943115, -5.258200168609619, -5.291600227355957, -5.34089994430542, -5.3420000076293945, -5.360300064086914, -5.416900157928467, -5.473499774932861, -3.470900058746338, -1.9577000141143799, -3.4809999465942383, -4.026899814605713, -4.129499912261963, -4.704899787902832, -3.911400079727173, -3.4214999675750732, -3.6772000789642334, -4.252600193023682, -3.609800100326538, -4.121200084686279, -4.932400226593018, -4.996799945831299, -4.992199897766113, -5.035699844360352, -5.030600070953369, -1.357100009918213, -3.6247000694274902, -4.181300163269043, -4.501100063323975, -4.571499824523926, -4.635700225830078, -4.680200099945068, -4.6880998611450195, -4.831699848175049, -4.838399887084961, -4.870999813079834, -4.9070000648498535, -5.015500068664551, -5.212200164794922, -5.3414998054504395, -5.431700229644775, -5.434299945831299, -5.494200229644775, -5.610599994659424, -5.619800090789795, -5.697000026702881, -5.72730016708374, -5.749599933624268, -5.762499809265137, -5.8165998458862305, -5.824999809265137, -5.8354997634887695, -5.842700004577637, -5.847499847412109, -5.894599914550781, -3.410099983215332, -1.8819999694824219, -5.070300102233887, -5.02839994430542, -2.2002999782562256, -3.321199893951416, -4.176400184631348, -2.0834999084472656, -2.3571999073028564, -2.9349000453948975, -3.0722999572753906, -3.461400032043457, -3.691999912261963, -3.9679999351501465, -3.9753000736236572, -4.180699825286865, -4.3769001960754395, -4.572800159454346, -4.821400165557861, -4.921199798583984, -5.111599922180176, -5.13129997253418, -5.177599906921387, -5.315400123596191, -5.483099937438965, -5.549200057983398, -5.635499954223633, -5.638000011444092, -5.697800159454346, -5.802700042724609, -5.803400039672852, -5.899600028991699, -5.966700077056885, -5.99370002746582, -6.0644001960754395, -6.230999946594238, -6.238500118255615, -4.252099990844727, -3.1370999813079834, -3.9821999073028564, -1.5328999757766724, -5.176400184631348, -5.357800006866455, -5.527400016784668, -5.652200222015381, -5.673299789428711, -3.2446999549865723, -3.3271000385284424, -3.3822999000549316, -3.489000082015991, -3.538300037384033, -3.6261000633239746, -3.6714999675750732, -3.6923999786376953, -3.849900007247925, -3.8534998893737793, -3.958699941635132, -3.978300094604492, -4.108799934387207, -4.155300140380859, -4.320899963378906, -4.514900207519531, -4.578000068664551, -4.642600059509277, -4.725900173187256, -4.889500141143799, -4.889699935913086, -4.946300029754639, -4.9704999923706055, -4.977499961853027, -5.003900051116943, -5.051700115203857, -5.194399833679199, -5.341599941253662, -5.42549991607666, -5.436100006103516, -2.6689999103546143, -2.678999900817871, -4.2829999923706055, -3.3589000701904297, -4.062600135803223, -3.981600046157837, -4.800600051879883, -4.735799789428711, -3.0299999713897705, -3.178999900817871, -3.198199987411499, -3.240000009536743, -3.5959999561309814, -3.6717000007629395, -3.6770999431610107, -3.808799982070923, -4.064700126647949, -4.156899929046631, -4.184500217437744, -4.213500022888184, -4.281400203704834, -4.360300064086914, -4.640900135040283, -4.818699836730957, -4.822000026702881, -4.829599857330322, -4.834000110626221, -4.8491997718811035, -4.885499954223633, -4.893199920654297, -5.019599914550781, -5.125500202178955, -5.13539981842041, -5.201399803161621, -5.237299919128418, -5.2870001792907715, -5.335700035095215, -5.433499813079834, -4.039599895477295, -3.735300064086914, -4.505300045013428, -4.556700229644775, -4.343400001525879, -3.118299961090088, -3.0653998851776123, -4.793399810791016, -4.599800109863281, -4.3242998123168945, -4.386499881744385, -4.235899925231934, -2.467099905014038, -2.7715001106262207, -3.1577999591827393, -3.5137999057769775, -3.930999994277954, -4.055600166320801, -4.13040018081665, -4.140500068664551, -4.389699935913086, -4.390200138092041, -4.428500175476074, -4.464900016784668, -4.575300216674805, -4.6265997886657715, -4.977700233459473, -5.129000186920166, -5.138199806213379, -5.166500091552734, -5.22189998626709, -5.311600208282471, -5.313399791717529, -5.354400157928467, -5.409299850463867, -5.422500133514404, -5.4303998947143555, -5.435100078582764, -5.442299842834473, -5.483099937438965, -5.5065999031066895, -5.518799781799316, -2.714200019836426, -2.936199903488159, -4.347899913787842, -4.401000022888184, -4.457399845123291, -3.2992000579833984, -4.162300109863281, -4.353499889373779, -4.4145002365112305, -4.56850004196167, -5.197400093078613, -4.8317999839782715, -5.0040998458862305, -2.412899971008301, -2.7202999591827393, -3.2555999755859375, -3.674499988555908, -3.9077000617980957, -3.927500009536743, -3.9504001140594482, -4.146100044250488, -4.1768999099731445, -4.328700065612793, -4.411099910736084, -4.416299819946289, -4.426599979400635, -4.5229997634887695, -4.5329999923706055, -4.621200084686279, -4.635000228881836, -4.767899990081787, -4.783400058746338, -4.813700199127197, -4.930699825286865, -4.93720006942749, -5.0503997802734375, -5.05620002746582, -5.099699974060059, -5.112500190734863, -5.129899978637695, -5.19189977645874, -5.247600078582764, -5.247900009155273, -3.1412999629974365, -4.274700164794922, -4.25600004196167, -4.539899826049805, -4.722700119018555, -4.076200008392334, -3.783900022506714, -4.415800094604492, -4.5868000984191895, -3.381200075149536, -3.496500015258789, -3.5136001110076904, -3.594899892807007, -3.82069993019104, -3.861299991607666, -3.8819000720977783, -3.884999990463257, -3.974900007247925, -4.027599811553955, -4.035299777984619, -4.05709981918335, -4.141499996185303, -4.30109977722168, -4.319900035858154, -4.462100028991699, -4.489500045776367, -4.554100036621094, -4.560200214385986, -4.571899890899658, -4.622600078582764, -4.817200183868408, -4.826900005340576, -4.8420000076293945, -4.855000019073486, -4.867400169372559, -4.918499946594238, -5.026299953460693, -5.037099838256836, -5.037300109863281, -3.375, -3.5157999992370605, -2.816499948501587, -3.7090001106262207, -4.585000038146973, -4.770999908447266, -1.9757000207901, -2.446899890899658, -3.589900016784668, -4.082499980926514, -4.152500152587891, -4.254799842834473, -4.291100025177002, -4.332799911499023, -4.370299816131592, -4.383500099182129, -4.513599872589111, -4.580599784851074, -4.621300220489502, -4.63040018081665, -4.805099964141846, -4.862400054931641, -4.92609977722168, -5.0680999755859375, -5.096399784088135, -5.215700149536133, -5.306399822235107, -5.311800003051758, -5.323999881744385, -5.351200103759766, -5.416500091552734, -5.4807000160217285, -5.584499835968018, -5.626800060272217, -5.665900230407715, -5.696899890899658, -3.1122000217437744, -2.271399974822998, -4.720799922943115, -4.993299961090088, -5.243800163269043, -2.403599977493286, -2.8208999633789062, -3.446500062942505, -4.247300148010254, -4.269700050354004, -4.275000095367432, -4.3317999839782715, -4.391300201416016, -4.41540002822876, -4.475299835205078, -4.560100078582764, -4.615799903869629, -4.6356000900268555, -4.66510009765625, -4.73360013961792, -4.8572001457214355, -4.865499973297119, -4.873000144958496, -4.884900093078613, -4.919099807739258, -4.929900169372559, -4.942299842834473, -5.041500091552734, -5.042600154876709, -5.080599784851074, -5.084799766540527, -5.094600200653076, -5.108799934387207, -5.147900104522705, -5.161399841308594, -4.189300060272217, -4.028500080108643, -3.02020001411438, -3.8789000511169434, -4.8358001708984375, -4.554699897766113, -4.42110013961792, -4.318399906158447, -4.703499794006348, -2.414400100708008, -2.515700101852417, -3.226300001144409, -3.3880999088287354, -3.703399896621704, -3.73009991645813, -3.7873001098632812, -3.824899911880493, -4.070700168609619, -4.125400066375732, -4.181399822235107, -4.196000099182129, -4.251800060272217, -4.363999843597412, -4.432300090789795, -4.486299991607666, -4.63129997253418, -4.679100036621094, -4.717599868774414, -4.754799842834473, -4.809299945831299, -4.852099895477295, -4.861000061035156, -4.862400054931641, -4.936500072479248, -5.014200210571289, -5.0254998207092285, -5.025899887084961, -5.043000221252441, -5.048799991607666, -4.17519998550415, -4.178800106048584, -4.329800128936768, -4.10860013961792, -4.44950008392334, -4.890999794006348, -2.7843000888824463, -2.8984999656677246, -3.0329999923706055, -3.091599941253662, -3.604599952697754, -3.652400016784668, -3.789799928665161, -4.0065999031066895, -4.022200107574463, -4.0346999168396, -4.0441999435424805, -4.208700180053711, -4.248499870300293, -4.428400039672852, -4.526899814605713, -4.593999862670898, -4.617400169372559, -4.640500068664551, -4.693900108337402, -4.766499996185303, -4.866099834442139, -4.878799915313721, -4.907800197601318, -5.002399921417236, -5.079500198364258, -5.088500022888184, -5.162199974060059, -5.178500175476074, -5.218500137329102, -5.2621002197265625, -3.4890999794006348, -3.7119998931884766, -3.485599994659424, -4.244999885559082, -1.7014000415802002, -2.640899896621704, -3.1767001152038574, -4.066199779510498, -4.132400035858154, -4.142300128936768, -4.30620002746582, -4.514599800109863, -4.567999839782715, -4.592400074005127, -4.617599964141846, -4.729700088500977, -4.7480998039245605, -4.865900039672852, -5.013000011444092, -5.064499855041504, -5.065499782562256, -5.070700168609619, -5.073699951171875, -5.082699775695801, -5.097700119018555, -5.116499900817871, -5.1381001472473145, -5.16379976272583, -5.168300151824951, -5.253399848937988, -5.277299880981445, -5.350399971008301, -5.357600212097168, -5.385799884796143, -2.8217999935150146, -5.13730001449585, -2.716099977493286, -4.508399963378906, -4.94379997253418]}, \"token.table\": {\"Topic\": [3, 5, 8, 12, 13, 2, 3, 6, 7, 14, 15, 2, 13, 5, 3, 2, 14, 15, 1, 5, 8, 5, 10, 11, 10, 15, 10, 15, 3, 7, 14, 2, 3, 8, 3, 7, 12, 5, 8, 14, 3, 5, 11, 13, 14, 3, 1, 15, 1, 8, 11, 11, 1, 7, 3, 7, 12, 7, 3, 2, 15, 8, 2, 6, 2, 2, 3, 4, 8, 9, 10, 12, 13, 9, 13, 3, 6, 9, 8, 8, 3, 7, 8, 11, 3, 4, 15, 8, 2, 2, 7, 14, 12, 3, 9, 13, 4, 3, 4, 7, 11, 9, 4, 13, 15, 8, 14, 9, 15, 15, 2, 9, 15, 3, 5, 14, 4, 13, 3, 6, 14, 11, 15, 10, 1, 5, 12, 11, 4, 11, 9, 8, 8, 8, 10, 13, 6, 2, 3, 8, 4, 14, 13, 6, 8, 8, 7, 7, 6, 5, 14, 7, 10, 2, 7, 10, 1, 3, 5, 6, 7, 8, 9, 10, 11, 12, 13, 14, 6, 9, 4, 9, 6, 8, 1, 15, 3, 7, 11, 1, 8, 9, 2, 10, 10, 12, 14, 7, 4, 15, 15, 13, 12, 12, 4, 2, 6, 14, 1, 2, 8, 14, 1, 5, 13, 13, 8, 7, 8, 12, 9, 2, 3, 7, 9, 15, 15, 8, 5, 5, 9, 14, 4, 15, 11, 5, 6, 14, 12, 1, 8, 6, 8, 12, 8, 9, 2, 7, 8, 12, 14, 14, 14, 8, 9, 10, 12, 14, 4, 1, 6, 11, 15, 15, 3, 4, 13, 2, 3, 6, 8, 4, 14, 11, 10, 12, 14, 6, 6, 9, 7, 12, 15, 5, 1, 5, 10, 3, 1, 2, 3, 4, 6, 7, 9, 10, 11, 12, 13, 13, 12, 1, 9, 1, 12, 14, 6, 11, 15, 11, 4, 2, 7, 9, 10, 8, 10, 4, 8, 11, 8, 1, 6, 8, 9, 6, 7, 7, 8, 10, 8, 9, 7, 8, 6, 9, 2, 14, 12, 4, 3, 1, 1, 15, 10, 10, 4, 11, 2, 2, 11, 10, 4, 6, 1, 9, 4, 13, 15, 5, 10, 6, 2, 3, 14, 12, 3, 1, 3, 7, 9, 12, 8, 8, 9, 2, 3, 8, 7, 8, 3, 2, 11, 7, 12, 4, 9, 2, 9, 2, 3, 5, 5, 12, 3, 7, 12, 7, 5, 10, 12, 4, 7, 7, 2, 1, 13, 15, 10, 3, 5, 13, 2, 5, 7, 13, 3, 7, 7, 2, 7, 2, 3, 6, 5, 6, 3, 11, 13, 7, 4, 10, 11, 9, 4, 2, 5, 6, 13, 12, 4, 12, 3, 13, 1, 6, 12, 1, 1, 6, 11, 1, 2, 15, 2, 3, 15, 10, 10, 2, 3, 7, 14, 3, 4, 15, 4, 9, 7, 11, 12, 10, 11, 4, 6, 6, 8, 5, 5, 1, 2, 3, 5, 6, 15, 1, 13, 6, 4, 11, 2, 14, 2, 9, 11, 12, 5, 6, 7, 1, 9, 13, 15, 1, 1, 5, 5, 10, 6, 3, 7, 12, 6, 11, 7, 13, 3, 3, 11, 13, 9, 13, 13, 5, 8, 3, 9, 3, 9, 13, 2, 9, 3, 12, 9, 2, 4, 10, 1, 5, 15, 2, 6, 11, 12, 2, 9, 4, 2, 9, 12, 12, 1, 1, 15, 13, 12, 4, 6, 3, 12, 5, 11, 10, 9, 5, 7, 9, 1, 10, 2, 13, 13, 13, 4, 8, 5, 9, 15, 15, 6, 2, 10, 1, 10, 11, 2, 7, 13, 5, 10, 12, 13, 5, 14, 12, 6, 2, 7, 3, 6, 5, 11, 2, 5, 13, 9, 4, 6, 8, 3, 6, 11, 12, 4, 10, 10, 3, 14, 7, 2, 2, 8, 2, 4, 7, 12, 8, 10, 12, 9, 9, 2, 10, 3, 14, 1, 1, 4, 5, 14, 14, 14, 15, 15, 7, 7, 3, 13, 12, 10, 10], \"Freq\": [0.30020278692245483, 0.6992223262786865, 0.17616644501686096, 0.23238977789878845, 0.5903449654579163, 0.5646309852600098, 0.11553505808115005, 0.20125460624694824, 0.11739852279424667, 0.9924623370170593, 0.9957403540611267, 0.9979166984558105, 0.9907757043838501, 0.9957875609397888, 0.9932464957237244, 0.9978622794151306, 0.9928023815155029, 0.9956898093223572, 0.9831327199935913, 0.8724905252456665, 0.12668479979038239, 0.9910233020782471, 0.9959124326705933, 0.9931500554084778, 0.9992306232452393, 0.996067464351654, 0.9962559342384338, 0.9961978197097778, 0.9969314932823181, 0.9938278794288635, 0.9928825497627258, 0.31603410840034485, 0.26934725046157837, 0.4141961932182312, 0.6287723779678345, 0.21037431061267853, 0.15983746945858002, 0.9851827025413513, 0.9912980198860168, 0.9974185228347778, 0.777226984500885, 0.2215031385421753, 0.9955355525016785, 0.9967966079711914, 0.9953669309616089, 0.99632328748703, 0.6969866156578064, 0.30283796787261963, 0.9900524020195007, 0.9986185431480408, 0.9828541874885559, 0.9995784163475037, 0.7727288603782654, 0.22653289139270782, 0.7507928013801575, 0.24879643321037292, 0.9925492405891418, 0.9987813234329224, 0.9945443272590637, 0.9953855276107788, 0.9929895401000977, 0.9895437359809875, 0.9941812753677368, 0.9949982166290283, 0.9909334182739258, 0.20135679841041565, 0.152378112077713, 0.0879802256822586, 0.29477909207344055, 0.11246956139802933, 0.09523632377386093, 0.05532776936888695, 0.9965046048164368, 0.9912834763526917, 0.9971848130226135, 0.2097943276166916, 0.7897452712059021, 0.9955266714096069, 0.9987595677375793, 0.9969450831413269, 0.2915465831756592, 0.14172403514385223, 0.5655463933944702, 0.9932959675788879, 0.997042715549469, 0.9930956959724426, 0.9962044954299927, 0.999448299407959, 0.9950737953186035, 0.988497793674469, 0.9939599633216858, 0.999141275882721, 0.9928085207939148, 0.6408144235610962, 0.2001214474439621, 0.1575424075126648, 0.9950366616249084, 0.6625205278396606, 0.1583613157272339, 0.17910918593406677, 0.9973440170288086, 0.99708092212677, 0.9952564835548401, 0.9978662729263306, 0.9903803467750549, 0.9953638911247253, 0.9933665990829468, 0.9927855730056763, 0.9934573769569397, 0.9910911917686462, 0.9909828901290894, 0.9954872727394104, 0.9973039627075195, 0.9935638308525085, 0.9918947219848633, 0.9976760745048523, 0.7945564985275269, 0.19965779781341553, 0.9958568811416626, 0.9990295767784119, 0.9939825534820557, 0.9994134902954102, 0.9987388849258423, 0.9960177540779114, 0.9844191074371338, 0.9968912601470947, 0.9980406165122986, 0.9957055449485779, 0.9928666949272156, 0.9991072416305542, 0.99327552318573, 0.9934611916542053, 0.9977563619613647, 0.9938177466392517, 0.993878960609436, 0.9990967512130737, 0.9994081854820251, 0.5362235903739929, 0.33505117893218994, 0.12821197509765625, 0.9943287372589111, 0.9959731101989746, 0.9972153306007385, 0.9940614700317383, 0.9972862005233765, 0.9936578273773193, 0.9987946152687073, 0.996635377407074, 0.9950188994407654, 0.9915034174919128, 0.994948148727417, 0.9980922341346741, 0.997802734375, 0.41269946098327637, 0.5859049558639526, 0.994148850440979, 0.9891398549079895, 0.06964924186468124, 0.04630312696099281, 0.09999918937683105, 0.08248960971832275, 0.08326780796051025, 0.09571906924247742, 0.07704217731952667, 0.04708133265376091, 0.07898768782615662, 0.09338445961475372, 0.22606821358203888, 0.9947722554206848, 0.9954438805580139, 0.9954406023025513, 0.9982134103775024, 0.9970418214797974, 0.9925044775009155, 0.9856868982315063, 0.9996715784072876, 0.9966961145401001, 0.9964529871940613, 0.9972310066223145, 0.9907223582267761, 0.751405656337738, 0.2480601966381073, 0.9920333623886108, 0.9930388927459717, 0.299057275056839, 0.6991752982139587, 0.9970217347145081, 0.9947159290313721, 0.8832624554634094, 0.11535786092281342, 0.9947748184204102, 0.9973472952842712, 0.9965865015983582, 0.9996840357780457, 0.9889264702796936, 0.9945785403251648, 0.9931102395057678, 0.9941839575767517, 0.9857826828956604, 0.8107894659042358, 0.1883503794670105, 0.9972195029258728, 0.985846996307373, 0.9985060691833496, 0.9936815500259399, 0.9976046681404114, 0.995850682258606, 0.9951221942901611, 0.9884757399559021, 0.9958227872848511, 0.996148943901062, 0.9980766177177429, 0.21831955015659332, 0.6116412878036499, 0.16807140409946442, 0.9861078858375549, 0.9922773241996765, 0.9983006715774536, 0.9995218515396118, 0.9995579123497009, 0.9987083077430725, 0.9884378910064697, 0.9933806657791138, 0.9885687232017517, 0.9972193241119385, 0.9982569217681885, 0.9949179291725159, 0.999570906162262, 0.996955156326294, 0.9688313007354736, 0.995585024356842, 0.343058317899704, 0.6553293466567993, 0.9977582693099976, 0.9900084137916565, 0.9961518049240112, 0.15187780559062958, 0.14630772173404694, 0.5299013257026672, 0.17155879735946655, 0.9990488886833191, 0.9988803863525391, 0.9934595227241516, 0.2119482457637787, 0.11664265394210815, 0.17780892550945282, 0.10668535530567169, 0.3869122266769409, 0.9964053630828857, 0.5816811323165894, 0.14943701028823853, 0.17614078521728516, 0.09268218278884888, 0.9924145340919495, 0.9977124929428101, 0.9998875260353088, 0.9964853525161743, 0.777367115020752, 0.2210860550403595, 0.9987958669662476, 0.9896385073661804, 0.9952523708343506, 0.9974130392074585, 0.9975179433822632, 0.7721248865127563, 0.22652852535247803, 0.9972162246704102, 0.9985469579696655, 0.31214040517807007, 0.6847978234291077, 0.7481354475021362, 0.2493784874677658, 0.9942973256111145, 0.99970942735672, 0.9876347780227661, 0.9990101456642151, 0.9928932189941406, 0.9990330934524536, 0.1213766559958458, 0.05501357465982437, 0.1711883693933487, 0.0751904770731926, 0.0860670804977417, 0.18963132798671722, 0.08653998374938965, 0.09048078209161758, 0.024590594694018364, 0.046974342316389084, 0.05312199145555496, 0.9920372366905212, 0.9941631555557251, 0.9960651993751526, 0.9979169964790344, 0.9917085766792297, 0.9921813011169434, 0.9930723905563354, 0.9951871037483215, 0.9966716170310974, 0.9922155737876892, 0.9898965358734131, 0.9962099194526672, 0.8672811985015869, 0.13193054497241974, 0.9947489500045776, 0.9936733245849609, 0.9899036288261414, 0.9988051056861877, 0.9961429238319397, 0.992864727973938, 0.9953545928001404, 0.9962641000747681, 0.8016999959945679, 0.19525644183158875, 0.9980869889259338, 0.9983853101730347, 0.24718964099884033, 0.7520875930786133, 0.9975095391273499, 0.992652177810669, 0.9940173029899597, 0.8126586079597473, 0.18697533011436462, 0.9958234429359436, 0.9955752491950989, 0.9921842813491821, 0.9979503750801086, 0.3343311548233032, 0.664357602596283, 0.9967610239982605, 0.9944690465927124, 0.9993610978126526, 0.9905818104743958, 0.9945674538612366, 0.9938320517539978, 0.997276246547699, 0.997504711151123, 0.9958341121673584, 0.9929853677749634, 0.9998683333396912, 0.9981459379196167, 0.9902926087379456, 0.9987348914146423, 0.995535135269165, 0.9986182451248169, 0.9998072981834412, 0.9991006255149841, 0.9971720576286316, 0.9960076212882996, 0.9933028817176819, 0.9985983967781067, 0.9993205070495605, 0.9985014796257019, 0.8079062700271606, 0.19182641804218292, 0.9900244474411011, 0.9960266351699829, 0.9925374388694763, 0.9885059595108032, 0.19734595715999603, 0.643605649471283, 0.158670112490654, 0.9946222305297852, 0.9994394183158875, 0.21079905331134796, 0.7887964248657227, 0.2808449864387512, 0.2882128357887268, 0.43036893010139465, 0.2559662461280823, 0.7423020601272583, 0.9926883578300476, 0.9961325526237488, 0.9871624708175659, 0.9940184354782104, 0.9920490980148315, 0.998075544834137, 0.9947524070739746, 0.9937353134155273, 0.9929755926132202, 0.9944217801094055, 0.9928677082061768, 0.9942031502723694, 0.9939539432525635, 0.9909648299217224, 0.999255895614624, 0.9984662532806396, 0.9965822696685791, 0.9993317723274231, 0.2074427604675293, 0.20597153902053833, 0.5855476260185242, 0.2336617112159729, 0.7644801735877991, 0.9971287250518799, 0.9994663000106812, 0.9899922013282776, 0.9996857047080994, 0.9925500154495239, 0.9945699572563171, 0.9983190298080444, 0.9925436973571777, 0.9981532096862793, 0.9901749491691589, 0.998668372631073, 0.9966564774513245, 0.9968527555465698, 0.9970202445983887, 0.9990653991699219, 0.9942542314529419, 0.993535578250885, 0.9981306791305542, 0.6821529269218445, 0.1491587907075882, 0.16871517896652222, 0.9991498589515686, 0.993709146976471, 0.9980165362358093, 0.9981080293655396, 0.9926428198814392, 0.9948892593383789, 0.9896643757820129, 0.9955336451530457, 0.9974940419197083, 0.9981878399848938, 0.9949473738670349, 0.9931036233901978, 0.9917336106300354, 0.9977809190750122, 0.9993554949760437, 0.9967987537384033, 0.8124393820762634, 0.18735390901565552, 0.9924214482307434, 0.993455708026886, 0.2540991008281708, 0.5325033664703369, 0.2121175229549408, 0.9874333143234253, 0.8025586009025574, 0.19731196761131287, 0.9984346032142639, 0.9864048957824707, 0.993289053440094, 0.9853153824806213, 0.7246794104576111, 0.2705884575843811, 0.997674822807312, 0.9961722493171692, 0.9977874755859375, 0.9972854256629944, 0.9972537159919739, 0.996423602104187, 0.9966059923171997, 0.9976241588592529, 0.9975947737693787, 0.9924904108047485, 0.997008740901947, 0.9988753795623779, 0.9965929388999939, 0.9877607226371765, 0.9975215792655945, 0.7721009254455566, 0.2274147868156433, 0.9986995458602905, 0.9994206428527832, 0.998967707157135, 0.9996628165245056, 0.9959872364997864, 0.994202733039856, 0.9740710854530334, 0.18863782286643982, 0.22556692361831665, 0.10280262678861618, 0.403225839138031, 0.07984670251607895, 0.9861546158790588, 0.9931902885437012, 0.996082067489624, 0.991684079170227, 0.996512770652771, 0.9972475171089172, 0.995983362197876, 0.7173530459403992, 0.2819207012653351, 0.99500972032547, 0.9902907609939575, 0.9906835556030273, 0.9978164434432983, 0.9978570938110352, 0.9856551885604858, 0.9913222193717957, 0.996205747127533, 0.9900522828102112, 0.9954193234443665, 0.980362594127655, 0.994286835193634, 0.9979379177093506, 0.9969940781593323, 0.998066782951355, 0.9989275932312012, 0.997054398059845, 0.9962766170501709, 0.9986886382102966, 0.9954614639282227, 0.9958249926567078, 0.9985131025314331, 0.9992848634719849, 0.9955673217773438, 0.7646463513374329, 0.23493048548698425, 0.9973917603492737, 0.9974766969680786, 0.9958735108375549, 0.9987754821777344, 0.9917439222335815, 0.9927353262901306, 0.9964224100112915, 0.2409328818321228, 0.7580571174621582, 0.993964672088623, 0.992102861404419, 0.9980691075325012, 0.9989843368530273, 0.9970195293426514, 0.9962573647499084, 0.22395972907543182, 0.7705733180046082, 0.995601236820221, 0.9956241250038147, 0.1704205721616745, 0.8224644660949707, 0.9917137622833252, 0.999395489692688, 0.9977105259895325, 0.9993188977241516, 0.25077688694000244, 0.7457886338233948, 0.9960886836051941, 0.2378188967704773, 0.7610204815864563, 0.9932687282562256, 0.997763454914093, 0.9955272078514099, 0.9853445887565613, 0.9926910996437073, 0.9981651902198792, 0.9973499774932861, 0.9938532710075378, 0.9986345171928406, 0.3333395719528198, 0.6666791439056396, 0.985265851020813, 0.9933812618255615, 0.9984355568885803, 0.9946373105049133, 0.9954733848571777, 0.7901540994644165, 0.207848459482193, 0.9851585030555725, 0.9984707832336426, 0.9955894351005554, 0.9978412389755249, 0.9988360404968262, 0.9965229630470276, 0.9987923502922058, 0.9943051338195801, 0.9954186677932739, 0.9994375109672546, 0.989023745059967, 0.9959056377410889, 0.9993898868560791, 0.47081267833709717, 0.5289563536643982, 0.9834164381027222, 0.9967975616455078, 0.9913474917411804, 0.9989332556724548, 0.9980272650718689, 0.9965429902076721, 0.6255505681037903, 0.11491667479276657, 0.12934136390686035, 0.12982217967510223, 0.9974277019500732, 0.9935057759284973, 0.9933339357376099, 0.9969887137413025, 0.749869704246521, 0.24920140206813812, 0.9986447691917419, 0.9992507100105286, 0.9872289299964905, 0.9943259358406067, 0.7052307724952698, 0.1865219920873642, 0.10658399760723114, 0.992221474647522, 0.9925119280815125, 0.9925740361213684, 0.995347261428833, 0.9982598423957825, 0.996816098690033, 0.9962131977081299, 0.9966307282447815, 0.995525062084198, 0.997361958026886, 0.9979572892189026, 0.9969186186790466, 0.9979649782180786, 0.9988272190093994, 0.9979250431060791, 0.758692741394043, 0.23750382661819458, 0.993688702583313, 0.9886825084686279, 0.9983927011489868, 0.9941620826721191, 0.7481961250305176, 0.24939870834350586, 0.9952038526535034, 0.9993722438812256, 0.9934821128845215, 0.9983962178230286, 0.9983853101730347, 0.9985642433166504, 0.9978054761886597, 0.9960300326347351, 0.530488908290863, 0.16293959319591522, 0.3065120577812195, 0.9954830408096313, 0.9957652688026428, 0.7357804775238037, 0.26432183384895325, 0.9991027116775513, 0.9987436532974243, 0.992945671081543, 0.8699636459350586, 0.12956905364990234, 0.9911425113677979, 0.9965754151344299, 0.9959366321563721], \"Term\": [\"ability\", \"ability\", \"able\", \"able\", \"able\", \"access\", \"access\", \"access\", \"access\", \"account\", \"acquisition\", \"across\", \"activity\", \"actually\", \"advance\", \"advancement\", \"advantage\", \"agile\", \"ai\", \"allow\", \"allow\", \"allows\", \"almost\", \"although\", \"always\", \"amaze\", \"amazing\", \"amount\", \"another\", \"anything\", \"anywhere\", \"area\", \"area\", \"area\", \"around\", \"around\", \"around\", \"arrangement\", \"assignment\", \"atmosphere\", \"available\", \"available\", \"average\", \"awesome\", \"back\", \"bad\", \"balance\", \"balance\", \"balancegood\", \"base\", \"begin\", \"benefit\", \"best\", \"best\", \"big\", \"big\", \"bonus\", \"brand\", \"breadth\", \"bright\", \"brilliant\", \"bring\", \"broad\", \"build\", \"building\", \"business\", \"business\", \"business\", \"business\", \"business\", \"business\", \"business\", \"cant\", \"capability\", \"care\", \"career\", \"career\", \"case\", \"challenge\", \"chance\", \"change\", \"change\", \"change\", \"choice\", \"choose\", \"city\", \"class\", \"client\", \"cloud\", \"cognitive\", \"collaboration\", \"colleague\", \"college\", \"come\", \"come\", \"come\", \"community\", \"company\", \"company\", \"company\", \"compare\", \"compensation\", \"competent\", \"competitive\", \"complete\", \"complex\", \"constant\", \"consult\", \"consultant\", \"consulting\", \"continue\", \"cool\", \"corporate\", \"corporation\", \"cost\", \"could\", \"country\", \"country\", \"course\", \"coworkers\", \"create\", \"culture\", \"customer\", \"cut\", \"cuttingedge\", \"cv\", \"day\", \"de\", \"deal\", \"decent\", \"dedicate\", \"department\", \"depend\", \"depends\", \"design\", \"develop\", \"development\", \"different\", \"different\", \"different\", \"discount\", \"diverse\", \"diversity\", \"division\", \"do\", \"domain\", \"dont\", \"door\", \"drive\", \"due\", \"early\", \"easy\", \"edge\", \"education\", \"education\", \"else\", \"emerge\", \"employee\", \"employee\", \"employee\", \"employee\", \"employee\", \"employee\", \"employee\", \"employee\", \"employee\", \"employee\", \"employee\", \"employer\", \"end\", \"engineer\", \"enjoy\", \"enough\", \"enterprise\", \"enviroment\", \"environment\", \"especially\", \"establish\", \"et\", \"ethic\", \"even\", \"even\", \"event\", \"ever\", \"every\", \"every\", \"everyone\", \"everything\", \"excellent\", \"excellent\", \"excite\", \"executive\", \"expect\", \"experience\", \"experienced\", \"expert\", \"expertise\", \"explore\", \"expose\", \"exposure\", \"exposure\", \"extremely\", \"face\", \"facility\", \"fair\", \"fairly\", \"family\", \"fantastic\", \"far\", \"fast\", \"feel\", \"field\", \"find\", \"find\", \"find\", \"fine\", \"firm\", \"first\", \"flexibility\", \"flexible\", \"focus\", \"follow\", \"force\", \"forward\", \"free\", \"freedom\", \"fresher\", \"friendly\", \"full\", \"fully\", \"fun\", \"future\", \"future\", \"gain\", \"general\", \"generally\", \"get\", \"get\", \"get\", \"get\", \"give\", \"global\", \"globally\", \"go\", \"go\", \"go\", \"go\", \"go\", \"goal\", \"good\", \"good\", \"good\", \"good\", \"grad\", \"graduate\", \"great\", \"group\", \"grow\", \"grow\", \"growth\", \"hand\", \"happy\", \"hard\", \"health\", \"help\", \"help\", \"helpful\", \"high\", \"highly\", \"highly\", \"hire\", \"hire\", \"history\", \"home\", \"hotel\", \"hour\", \"hr\", \"huge\", \"ibm\", \"ibm\", \"ibm\", \"ibm\", \"ibm\", \"ibm\", \"ibm\", \"ibm\", \"ibm\", \"ibm\", \"ibm\", \"ibmer\", \"ibmers\", \"ibms\", \"idea\", \"im\", \"impact\", \"important\", \"improve\", \"include\", \"increase\", \"india\", \"individual\", \"industry\", \"industry\", \"information\", \"infrastructure\", \"initiative\", \"innovation\", \"innovative\", \"inside\", \"insurance\", \"intelligent\", \"interest\", \"interest\", \"interesting\", \"intern\", \"internal\", \"internal\", \"international\", \"involve\", \"issue\", \"job\", \"job\", \"join\", \"keep\", \"kind\", \"know\", \"knowledge\", \"knowledge\", \"knowledgeable\", \"laptop\", \"large\", \"last\", \"late\", \"le\", \"lead\", \"leader\", \"leadership\", \"leaf\", \"learn\", \"learning\", \"least\", \"leave\", \"less\", \"level\", \"life\", \"like\", \"line\", \"little\", \"live\", \"location\", \"long\", \"look\", \"lot\", \"lot\", \"lots\", \"love\", \"low\", \"maintain\", \"make\", \"make\", \"make\", \"manage\", \"management\", \"manager\", \"manager\", \"many\", \"many\", \"many\", \"market\", \"market\", \"match\", \"material\", \"mature\", \"may\", \"medical\", \"meet\", \"member\", \"mentor\", \"might\", \"mind\", \"money\", \"month\", \"mostly\", \"motivate\", \"move\", \"much\", \"multiple\", \"name\", \"need\", \"need\", \"need\", \"network\", \"network\", \"never\", \"new\", \"next\", \"nice\", \"none\", \"nothing\", \"number\", \"objective\", \"offer\", \"offering\", \"office\", \"often\", \"ok\", \"old\", \"one\", \"online\", \"onsite\", \"open\", \"opportunity\", \"opportunity\", \"opportunity\", \"option\", \"organisation\", \"organization\", \"orient\", \"others\", \"outside\", \"outstanding\", \"overall\", \"package\", \"part\", \"partner\", \"past\", \"patent\", \"path\", \"pay\", \"peer\", \"people\", \"people\", \"performance\", \"perk\", \"personal\", \"personal\", \"personal\", \"perspective\", \"place\", \"place\", \"plan\", \"planet\", \"platform\", \"play\", \"plenty\", \"plenty\", \"plus\", \"point\", \"policy\", \"portfolio\", \"position\", \"positive\", \"possibility\", \"possible\", \"potential\", \"practice\", \"pressure\", \"pretty\", \"pro\", \"probably\", \"problem\", \"process\", \"process\", \"product\", \"professional\", \"program\", \"project\", \"promote\", \"promotion\", \"proper\", \"provide\", \"provide\", \"provide\", \"provide\", \"provide\", \"push\", \"put\", \"quality\", \"quickly\", \"quite\", \"range\", \"reach\", \"really\", \"really\", \"reason\", \"reasonable\", \"receive\", \"recognition\", \"recognize\", \"regard\", \"relationship\", \"relatively\", \"relax\", \"relaxed\", \"relevant\", \"remote\", \"remotely\", \"reputation\", \"research\", \"resource\", \"respect\", \"responsibility\", \"resume\", \"review\", \"reward\", \"right\", \"role\", \"room\", \"salary\", \"salary\", \"sale\", \"say\", \"scale\", \"schedule\", \"school\", \"scope\", \"security\", \"see\", \"see\", \"seem\", \"self\", \"senior\", \"service\", \"set\", \"several\", \"share\", \"share\", \"sick\", \"since\", \"site\", \"site\", \"size\", \"skill\", \"small\", \"smart\", \"software\", \"software\", \"solid\", \"solution\", \"solution\", \"solve\", \"something\", \"space\", \"spirit\", \"stability\", \"stable\", \"staff\", \"standard\", \"start\", \"stay\", \"stay\", \"steady\", \"step\", \"still\", \"strategy\", \"stress\", \"strong\", \"strong\", \"subject\", \"support\", \"supportive\", \"system\", \"take\", \"talent\", \"talented\", \"talk\", \"task\", \"team\", \"teamwork\", \"tech\", \"technical\", \"technology\", \"technology\", \"telecommute\", \"term\", \"thats\", \"thing\", \"think\", \"though\", \"time\", \"time\", \"time\", \"time\", \"timing\", \"together\", \"ton\", \"tool\", \"top\", \"top\", \"train\", \"training\", \"transfer\", \"transformation\", \"travel\", \"travel\", \"travel\", \"treat\", \"true\", \"truly\", \"trust\", \"try\", \"type\", \"u\", \"understand\", \"unit\", \"unlimited\", \"use\", \"usually\", \"vacation\", \"value\", \"variety\", \"various\", \"various\", \"vast\", \"vision\", \"want\", \"watson\", \"way\", \"way\", \"week\", \"well\", \"wfh\", \"wide\", \"willing\", \"within\", \"woman\", \"wonderful\", \"work\", \"work\", \"work\", \"worker\", \"workforce\", \"working\", \"working\", \"worklife\", \"world\", \"worldwide\", \"year\", \"year\", \"youll\", \"young\", \"youre\"]}, \"R\": 30, \"lambda.step\": 0.01, \"plot.opts\": {\"xlab\": \"PC1\", \"ylab\": \"PC2\"}, \"topic.order\": [11, 13, 15, 2, 1, 7, 3, 9, 12, 5, 6, 10, 4, 14, 8]};\n",
       "\n",
       "function LDAvis_load_lib(url, callback){\n",
       "  var s = document.createElement('script');\n",
       "  s.src = url;\n",
       "  s.async = true;\n",
       "  s.onreadystatechange = s.onload = callback;\n",
       "  s.onerror = function(){console.warn(\"failed to load library \" + url);};\n",
       "  document.getElementsByTagName(\"head\")[0].appendChild(s);\n",
       "}\n",
       "\n",
       "if(typeof(LDAvis) !== \"undefined\"){\n",
       "   // already loaded: just create the visualization\n",
       "   !function(LDAvis){\n",
       "       new LDAvis(\"#\" + \"ldavis_el766948228045442932080456\", ldavis_el766948228045442932080456_data);\n",
       "   }(LDAvis);\n",
       "}else if(typeof define === \"function\" && define.amd){\n",
       "   // require.js is available: use it to load d3/LDAvis\n",
       "   require.config({paths: {d3: \"https://cdnjs.cloudflare.com/ajax/libs/d3/3.5.5/d3.min\"}});\n",
       "   require([\"d3\"], function(d3){\n",
       "      window.d3 = d3;\n",
       "      LDAvis_load_lib(\"https://cdn.rawgit.com/bmabey/pyLDAvis/files/ldavis.v1.0.0.js\", function(){\n",
       "        new LDAvis(\"#\" + \"ldavis_el766948228045442932080456\", ldavis_el766948228045442932080456_data);\n",
       "      });\n",
       "    });\n",
       "}else{\n",
       "    // require.js not available: dynamically load d3 & LDAvis\n",
       "    LDAvis_load_lib(\"https://cdnjs.cloudflare.com/ajax/libs/d3/3.5.5/d3.min.js\", function(){\n",
       "         LDAvis_load_lib(\"https://cdn.rawgit.com/bmabey/pyLDAvis/files/ldavis.v1.0.0.js\", function(){\n",
       "                 new LDAvis(\"#\" + \"ldavis_el766948228045442932080456\", ldavis_el766948228045442932080456_data);\n",
       "            })\n",
       "         });\n",
       "}\n",
       "</script>"
      ],
      "text/plain": [
       "PreparedData(topic_coordinates=           Freq  cluster  topics         x         y\n",
       "topic                                               \n",
       "10     8.838811        1       1 -0.327469 -0.014970\n",
       "12     8.748462        1       2  0.185526 -0.005929\n",
       "14     8.332213        1       3  0.166177 -0.091915\n",
       "1      7.786108        1       4 -0.143304 -0.270457\n",
       "0      7.512862        1       5 -0.221753 -0.219582\n",
       "6      7.335374        1       6 -0.061316  0.172680\n",
       "2      6.817647        1       7  0.123043 -0.082560\n",
       "8      6.740983        1       8  0.170631  0.002918\n",
       "11     6.050856        1       9  0.125339  0.030851\n",
       "4      5.868707        1      10  0.086087  0.007260\n",
       "5      5.753406        1      11 -0.120899  0.225980\n",
       "9      5.605275        1      12  0.069963 -0.094255\n",
       "3      5.138072        1      13  0.049797  0.035738\n",
       "13     4.749284        1      14  0.059053  0.094842\n",
       "7      4.721937        1      15 -0.160875  0.209399, topic_info=     Category          Freq         Term         Total  loglift  logprob\n",
       "term                                                                    \n",
       "16    Default  21118.000000         work  21118.000000  30.0000  30.0000\n",
       "0     Default   7997.000000        great   7997.000000  29.0000  29.0000\n",
       "8     Default  13443.000000         good  13443.000000  28.0000  28.0000\n",
       "14    Default   5823.000000       people   5823.000000  27.0000  27.0000\n",
       "104   Default   7085.000000      company   7085.000000  26.0000  26.0000\n",
       "3     Default   3438.000000  environment   3438.000000  25.0000  25.0000\n",
       "401   Default   3733.000000         home   3733.000000  24.0000  24.0000\n",
       "30    Default   6033.000000  opportunity   6033.000000  23.0000  23.0000\n",
       "17    Default   3827.000000        learn   3827.000000  22.0000  22.0000\n",
       "42    Default   3184.000000      benefit   3184.000000  21.0000  21.0000\n",
       "24    Default   4384.000000          lot   4384.000000  20.0000  20.0000\n",
       "53    Default   3158.000000         life   3158.000000  19.0000  19.0000\n",
       "52    Default   3701.000000      balance   3701.000000  18.0000  18.0000\n",
       "113   Default   2839.000000     flexible   2839.000000  17.0000  17.0000\n",
       "87    Default   2282.000000      project   2282.000000  16.0000  16.0000\n",
       "166   Default   2163.000000         team   2163.000000  15.0000  15.0000\n",
       "28    Default   2022.000000   experience   2022.000000  14.0000  14.0000\n",
       "15    Default   1988.000000      culture   1988.000000  13.0000  13.0000\n",
       "225   Default   1834.000000          pay   1834.000000  12.0000  12.0000\n",
       "21    Default   2569.000000       career   2569.000000  11.0000  11.0000\n",
       "218   Default   2648.000000   technology   2648.000000  10.0000  10.0000\n",
       "2     Default   2554.000000        place   2554.000000   9.0000   9.0000\n",
       "156   Default   1657.000000         nice   1657.000000   8.0000   8.0000\n",
       "49    Default   2192.000000          job   2192.000000   7.0000   7.0000\n",
       "57    Default   1683.000000   management   1683.000000   6.0000   6.0000\n",
       "44    Default   1590.000000         well   1590.000000   5.0000   5.0000\n",
       "18    Default   1796.000000          new   1796.000000   4.0000   4.0000\n",
       "66    Default   1593.000000  flexibility   1593.000000   3.0000   3.0000\n",
       "146   Default   1344.000000     worklife   1344.000000   2.0000   2.0000\n",
       "29    Default   2692.000000          get   2692.000000   1.0000   1.0000\n",
       "...       ...           ...          ...           ...      ...      ...\n",
       "392   Topic15    299.331970         tech    300.229248   3.0500  -4.1423\n",
       "7     Topic15    254.072159       amount    254.969437   3.0494  -4.3062\n",
       "2064  Topic15    206.284210      history    207.181488   3.0486  -4.5146\n",
       "634   Topic15    195.559525         plus    196.456802   3.0484  -4.5680\n",
       "67    Topic15    190.830429        class    191.727707   3.0483  -4.5924\n",
       "1353  Topic15    186.079712       excite    186.976990   3.0481  -4.6176\n",
       "1165  Topic15    166.358749     practice    167.256027   3.0476  -4.7297\n",
       "974   Topic15    163.326187         none    164.223465   3.0475  -4.7481\n",
       "1335  Topic15    145.170319    stability    146.067596   3.0468  -4.8659\n",
       "826   Topic15    125.316856     complete    126.214134   3.0458  -5.0130\n",
       "884   Topic15    119.028870         firm    119.926147   3.0454  -5.0645\n",
       "1331  Topic15    118.905052         live    119.802330   3.0454  -5.0655\n",
       "1579  Topic15    118.288345        relax    119.185623   3.0454  -5.0707\n",
       "1055  Topic15    117.935799    brilliant    118.833076   3.0454  -5.0737\n",
       "441   Topic15    116.873253   consultant    117.770531   3.0453  -5.0827\n",
       "933   Topic15    115.136444   consulting    116.033722   3.0452  -5.0977\n",
       "419   Topic15    112.989265     increase    113.886543   3.0450  -5.1165\n",
       "786   Topic15    110.577568  acquisition    111.474846   3.0449  -5.1381\n",
       "797   Topic15    107.772995           le    108.670273   3.0447  -5.1638\n",
       "968   Topic15    107.290215     teamwork    108.187492   3.0446  -5.1683\n",
       "846   Topic15     98.531281        agile     99.428558   3.0439  -5.2534\n",
       "384   Topic15     96.212814      forward     97.110092   3.0437  -5.2773\n",
       "460   Topic15     89.429131         play     90.326408   3.0430  -5.3504\n",
       "1126  Topic15     88.782990         grad     89.680267   3.0429  -5.3576\n",
       "827   Topic15     86.314278         fine     87.211555   3.0426  -5.3858\n",
       "52    Topic15   1121.042603      balance   3701.649414   1.8584  -2.8218\n",
       "2476  Topic15    110.662727         site    134.960236   2.8545  -5.1373\n",
       "8     Topic15   1246.014282         good  13443.791992   0.6744  -2.7161\n",
       "103   Topic15    207.555832      working    786.919495   1.7202  -4.5084\n",
       "286   Topic15    134.292496    excellent   1161.602661   0.8954  -4.9438\n",
       "\n",
       "[617 rows x 6 columns], token_table=      Topic      Freq         Term\n",
       "term                              \n",
       "125       3  0.300203      ability\n",
       "125       5  0.699222      ability\n",
       "96        8  0.176166         able\n",
       "96       12  0.232390         able\n",
       "96       13  0.590345         able\n",
       "247       2  0.564631       access\n",
       "247       3  0.115535       access\n",
       "247       6  0.201255       access\n",
       "247       7  0.117399       access\n",
       "1133     14  0.992462      account\n",
       "786      15  0.995740  acquisition\n",
       "581       2  0.997917       across\n",
       "956      13  0.990776     activity\n",
       "429       5  0.995788     actually\n",
       "1024      3  0.993246      advance\n",
       "327       2  0.997862  advancement\n",
       "1973     14  0.992802    advantage\n",
       "846      15  0.995690        agile\n",
       "917       1  0.983133           ai\n",
       "486       5  0.872491        allow\n",
       "486       8  0.126685        allow\n",
       "134       5  0.991023       allows\n",
       "1146     10  0.995912       almost\n",
       "1440     11  0.993150     although\n",
       "160      10  0.999231       always\n",
       "79       15  0.996067        amaze\n",
       "117      10  0.996256      amazing\n",
       "7        15  0.996198       amount\n",
       "527       3  0.996931      another\n",
       "1290      7  0.993828     anything\n",
       "...     ...       ...          ...\n",
       "284       8  0.237504      various\n",
       "659       2  0.993689         vast\n",
       "335       4  0.988683       vision\n",
       "490       7  0.998393         want\n",
       "1680     12  0.994162       watson\n",
       "208       8  0.748196          way\n",
       "208      10  0.249399          way\n",
       "602      12  0.995204         week\n",
       "44        9  0.999372         well\n",
       "849       9  0.993482          wfh\n",
       "1002      2  0.998396         wide\n",
       "94       10  0.998385      willing\n",
       "65        3  0.998564       within\n",
       "540      14  0.997805        woman\n",
       "763       1  0.996030    wonderful\n",
       "16        1  0.530489         work\n",
       "16        4  0.162940         work\n",
       "16        5  0.306512         work\n",
       "213      14  0.995483       worker\n",
       "770      14  0.995765    workforce\n",
       "103      14  0.735780      working\n",
       "103      15  0.264322      working\n",
       "146      15  0.999103     worklife\n",
       "71        7  0.998744        world\n",
       "1219      7  0.992946    worldwide\n",
       "380       3  0.869964         year\n",
       "380      13  0.129569         year\n",
       "231      12  0.991143        youll\n",
       "1088     10  0.996575        young\n",
       "95       10  0.995937        youre\n",
       "\n",
       "[642 rows x 3 columns], R=30, lambda_step=0.01, plot_opts={'xlab': 'PC1', 'ylab': 'PC2'}, topic_order=[11, 13, 15, 2, 1, 7, 3, 9, 12, 5, 6, 10, 4, 14, 8])"
      ]
     },
     "execution_count": 41,
     "metadata": {},
     "output_type": "execute_result"
    }
   ],
   "source": [
    "data = pyLDAvis.gensim.prepare(lda, c, d)\n",
    "data"
   ]
  },
  {
   "cell_type": "markdown",
   "metadata": {},
   "source": [
    "### Bigram test"
   ]
  },
  {
   "cell_type": "code",
   "execution_count": 140,
   "metadata": {},
   "outputs": [
    {
     "name": "stdout",
     "output_type": "stream",
     "text": [
      "Dictionary(124475 unique tokens: ['great_place', 'place_learngrow', 'international_environment', 'ample_parking', 'amount_help']...)\n"
     ]
    }
   ],
   "source": [
    "# Creating the term dictionary of our courpus, where every unique term is assigned an index. dictionary = corpora.Dictionary(doc_clean)\n",
    "dictionary_bigram = corpora.Dictionary(bigram_list)\n",
    "dictionary_bigram.save('dictionary_bigram.dict')\n",
    "print (dictionary_bigram)"
   ]
  },
  {
   "cell_type": "code",
   "execution_count": 135,
   "metadata": {},
   "outputs": [
    {
     "data": {
      "text/plain": [
       "87294"
      ]
     },
     "execution_count": 135,
     "metadata": {},
     "output_type": "execute_result"
    },
    {
     "name": "stdout",
     "output_type": "stream",
     "text": [
      "[(255, 1), (257, 1), (327, 1), (328, 1), (329, 1), (330, 1), (331, 1), (332, 1), (333, 1)]\n"
     ]
    }
   ],
   "source": [
    "# Converting list of documents (corpus) into Document Term Matrix using dictionary prepared above.\n",
    "bigram_doc_term_matrix = [dictionary_bigram.doc2bow(doc) for doc in bigram_list]\n",
    "corpora.MmCorpus.serialize('corpus.mm', bigram_doc_term_matrix)\n",
    "\n",
    "len(bigram_doc_term_matrix)\n",
    "print (bigram_doc_term_matrix[100])"
   ]
  },
  {
   "cell_type": "code",
   "execution_count": 136,
   "metadata": {},
   "outputs": [
    {
     "name": "stdout",
     "output_type": "stream",
     "text": [
      "used: 777.16s\n"
     ]
    }
   ],
   "source": [
    "logging.basicConfig(format='%(asctime)s : %(levelname)s : %(message)s', level=logging.INFO,\n",
    "                   filename='running.log',filemode='w')\n",
    "\n",
    "start = time()\n",
    "# Creating the object for LDA model using gensim library\n",
    "Lda_bigram = gensim.models.ldamodel.LdaModel\n",
    "\n",
    "# Running and Trainign LDA model on the document term matrix.\n",
    "ldamodel_bigram = Lda_bigram(bigram_doc_term_matrix, num_topics=15, id2word = dictionary_bigram, passes=50)\n",
    "print('used: {:.2f}s'.format(time()-start))"
   ]
  },
  {
   "cell_type": "code",
   "execution_count": 137,
   "metadata": {
    "scrolled": true
   },
   "outputs": [
    {
     "name": "stdout",
     "output_type": "stream",
     "text": [
      "0\n",
      "0.017*\"good_people\" + 0.011*\"place_learn\" + 0.007*\"benefit_good\" + 0.006*\"good_culture\" + 0.005*\"people_work\" + 0.005*\"friendly_environment\" + 0.005*\"late_technology\" + 0.005*\"work_pressure\" + 0.004*\"good_start\" + 0.004*\"lot_good\"\n",
      "1\n",
      "0.010*\"good_environment\" + 0.007*\"good_learning\" + 0.006*\"flexible_schedule\" + 0.005*\"competitive_salary\" + 0.005*\"lot_resource\" + 0.004*\"learning_opportunity\" + 0.004*\"chance_work\" + 0.004*\"work_large\" + 0.004*\"people_good\" + 0.003*\"lot_flexibility\"\n",
      "2\n",
      "0.046*\"work_environment\" + 0.027*\"good_benefit\" + 0.015*\"big_company\" + 0.009*\"ibm_great\" + 0.008*\"career_growth\" + 0.006*\"nice_work\" + 0.006*\"work_people\" + 0.006*\"lot_different\" + 0.005*\"good_career\" + 0.005*\"get_good\"\n",
      "3\n",
      "0.008*\"flexible_timing\" + 0.007*\"good_experience\" + 0.005*\"team_member\" + 0.004*\"job_role\" + 0.004*\"great_technology\" + 0.004*\"provide_good\" + 0.004*\"good_job\" + 0.003*\"work_flexibility\" + 0.003*\"great_coworkers\" + 0.003*\"professional_development\"\n",
      "4\n",
      "0.040*\"flexible_work\" + 0.016*\"work_hour\" + 0.012*\"home_option\" + 0.010*\"flexibility_work\" + 0.010*\"work_schedule\" + 0.006*\"able_work\" + 0.004*\"work_location\" + 0.004*\"hour_work\" + 0.004*\"brand_recognition\" + 0.004*\"decent_pay\"\n",
      "5\n",
      "0.025*\"smart_people\" + 0.012*\"brand_name\" + 0.008*\"nice_people\" + 0.007*\"work_great\" + 0.006*\"people_work\" + 0.006*\"name_recognition\" + 0.005*\"lot_smart\" + 0.005*\"work_time\" + 0.005*\"work_ibm\" + 0.004*\"work_smart\"\n",
      "6\n",
      "0.008*\"cut_edge\" + 0.005*\"culture_good\" + 0.005*\"edge_technology\" + 0.005*\"good_team\" + 0.005*\"company_lot\" + 0.005*\"company_good\" + 0.004*\"different_job\" + 0.003*\"training_opportunity\" + 0.003*\"name_resume\" + 0.003*\"plenty_opportunity\"\n",
      "7\n",
      "0.040*\"worklife_balance\" + 0.013*\"good_worklife\" + 0.009*\"opportunity_grow\" + 0.009*\"start_career\" + 0.007*\"great_team\" + 0.007*\"good_training\" + 0.007*\"team_work\" + 0.006*\"place_start\" + 0.006*\"global_company\" + 0.005*\"environment_good\"\n",
      "8\n",
      "0.037*\"place_work\" + 0.026*\"great_place\" + 0.023*\"good_place\" + 0.014*\"learn_new\" + 0.014*\"new_technology\" + 0.007*\"work_remotely\" + 0.007*\"one_best\" + 0.007*\"new_thing\" + 0.007*\"ibm_good\" + 0.006*\"best_company\"\n",
      "9\n",
      "0.020*\"work_ibm\" + 0.010*\"move_around\" + 0.009*\"within_company\" + 0.009*\"many_different\" + 0.009*\"many_opportunity\" + 0.008*\"good_working\" + 0.007*\"opportunity_move\" + 0.007*\"talented_people\" + 0.006*\"working_environment\" + 0.006*\"wide_range\"\n",
      "10\n",
      "0.030*\"great_people\" + 0.024*\"people_work\" + 0.021*\"opportunity_work\" + 0.018*\"lot_opportunity\" + 0.014*\"opportunity_learn\" + 0.011*\"great_opportunity\" + 0.010*\"good_pay\" + 0.007*\"job_security\" + 0.006*\"employee_friendly\" + 0.006*\"around_world\"\n",
      "11\n",
      "0.016*\"learn_lot\" + 0.012*\"get_work\" + 0.008*\"good_resume\" + 0.006*\"interesting_project\" + 0.005*\"willing_help\" + 0.005*\"good_project\" + 0.005*\"work_different\" + 0.005*\"great_experience\" + 0.005*\"company_world\" + 0.004*\"hard_work\"\n",
      "12\n",
      "0.093*\"work_life\" + 0.082*\"life_balance\" + 0.055*\"good_work\" + 0.024*\"work_culture\" + 0.019*\"great_work\" + 0.011*\"good_salary\" + 0.010*\"career_opportunity\" + 0.008*\"balance_good\" + 0.008*\"learn_opportunity\" + 0.007*\"lot_learn\"\n",
      "13\n",
      "0.013*\"large_company\" + 0.012*\"flexible_working\" + 0.011*\"working_hour\" + 0.008*\"benefit_package\" + 0.006*\"home_facility\" + 0.005*\"pretty_good\" + 0.004*\"different_area\" + 0.004*\"company_provide\" + 0.003*\"remote_work\" + 0.003*\"great_culture\"\n",
      "14\n",
      "0.112*\"work_home\" + 0.024*\"company_work\" + 0.023*\"good_company\" + 0.019*\"great_company\" + 0.016*\"great_benefit\" + 0.012*\"ability_work\" + 0.009*\"flexible_hour\" + 0.008*\"career_path\" + 0.007*\"flexibility_work\" + 0.006*\"balance_work\"\n"
     ]
    }
   ],
   "source": [
    "# check each topic\n",
    "for i in ldamodel_bigram.print_topics(): \n",
    "    for j in i: \n",
    "        print (j)"
   ]
  },
  {
   "cell_type": "code",
   "execution_count": 138,
   "metadata": {},
   "outputs": [],
   "source": [
    "ldamodel_bigram.save('topic_bigram.model')"
   ]
  },
  {
   "cell_type": "code",
   "execution_count": 141,
   "metadata": {},
   "outputs": [],
   "source": [
    "d_bigram = gensim.corpora.Dictionary.load('dictionary_bigram.dict')\n",
    "c_bigram = gensim.corpora.MmCorpus('corpus.mm')\n",
    "lda_bigram = gensim.models.LdaModel.load('topic_bigram.model')"
   ]
  },
  {
   "cell_type": "code",
   "execution_count": 143,
   "metadata": {},
   "outputs": [
    {
     "data": {
      "text/html": [
       "\n",
       "<link rel=\"stylesheet\" type=\"text/css\" href=\"https://cdn.rawgit.com/bmabey/pyLDAvis/files/ldavis.v1.0.0.css\">\n",
       "\n",
       "\n",
       "<div id=\"ldavis_el766957581948169184456503\"></div>\n",
       "<script type=\"text/javascript\">\n",
       "\n",
       "var ldavis_el766957581948169184456503_data = {\"mdsDat\": {\"Freq\": [6.8732171058654785, 6.720337390899658, 6.713336944580078, 6.694036483764648, 6.688784599304199, 6.683905601501465, 6.666306972503662, 6.663809776306152, 6.657861709594727, 6.643309593200684, 6.6420578956604, 6.638592720031738, 6.607619762420654, 6.568953514099121, 6.537868022918701], \"cluster\": [1, 1, 1, 1, 1, 1, 1, 1, 1, 1, 1, 1, 1, 1, 1], \"topics\": [1, 2, 3, 4, 5, 6, 7, 8, 9, 10, 11, 12, 13, 14, 15], \"x\": [0.3133647483699647, -0.05366892181536929, -0.015418601062450743, -0.04768706998237757, -0.0036287854959952703, -0.010492074327745066, -0.017471611554096753, -0.01276953049618982, -0.05484269748050695, -0.018933223122328122, 0.000782430442807203, 0.02257890957827312, -0.017389256406673628, -0.017232582960921797, -0.06719173368638978], \"y\": [-0.06349483032930374, -0.0526671230309587, -0.0008416449391254104, -0.051386210154654784, -0.0003095496275765758, 0.09952974298750163, -0.003922776485651249, 0.0010596654275567953, -0.05973916959261253, -0.0032855762238215083, -0.046516996199407905, 0.2774435886966016, -0.011020516614415546, 0.002721400939759879, -0.08757000485389206]}, \"tinfo\": {\"Category\": [\"Default\", \"Default\", \"Default\", \"Default\", \"Default\", \"Default\", \"Default\", \"Default\", \"Default\", \"Default\", \"Default\", \"Default\", \"Default\", \"Default\", \"Default\", \"Default\", \"Default\", \"Default\", \"Default\", \"Default\", \"Default\", \"Default\", \"Default\", \"Default\", \"Default\", \"Default\", \"Default\", \"Default\", \"Default\", \"Default\", \"Topic1\", \"Topic1\", \"Topic1\", \"Topic1\", \"Topic1\", \"Topic1\", \"Topic1\", \"Topic1\", \"Topic1\", \"Topic1\", \"Topic1\", \"Topic1\", \"Topic1\", \"Topic1\", \"Topic1\", \"Topic1\", \"Topic1\", \"Topic1\", \"Topic1\", \"Topic1\", \"Topic1\", \"Topic1\", \"Topic1\", \"Topic1\", \"Topic1\", \"Topic1\", \"Topic1\", \"Topic1\", \"Topic1\", \"Topic1\", \"Topic1\", \"Topic1\", \"Topic2\", \"Topic2\", \"Topic2\", \"Topic2\", \"Topic2\", \"Topic2\", \"Topic2\", \"Topic2\", \"Topic2\", \"Topic2\", \"Topic2\", \"Topic2\", \"Topic2\", \"Topic2\", \"Topic2\", \"Topic2\", \"Topic2\", \"Topic2\", \"Topic2\", \"Topic2\", \"Topic2\", \"Topic2\", \"Topic2\", \"Topic2\", \"Topic2\", \"Topic2\", \"Topic2\", \"Topic2\", \"Topic2\", \"Topic2\", \"Topic2\", \"Topic2\", \"Topic2\", \"Topic2\", \"Topic2\", \"Topic2\", \"Topic2\", \"Topic3\", \"Topic3\", \"Topic3\", \"Topic3\", \"Topic3\", \"Topic3\", \"Topic3\", \"Topic3\", \"Topic3\", \"Topic3\", \"Topic3\", \"Topic3\", \"Topic3\", \"Topic3\", \"Topic3\", \"Topic3\", \"Topic3\", \"Topic3\", \"Topic3\", \"Topic3\", \"Topic3\", \"Topic3\", \"Topic3\", \"Topic3\", \"Topic3\", \"Topic3\", \"Topic3\", \"Topic3\", \"Topic3\", \"Topic3\", \"Topic4\", \"Topic4\", \"Topic4\", \"Topic4\", \"Topic4\", \"Topic4\", \"Topic4\", \"Topic4\", \"Topic4\", \"Topic4\", \"Topic4\", \"Topic4\", \"Topic4\", \"Topic4\", \"Topic4\", \"Topic4\", \"Topic4\", \"Topic4\", \"Topic4\", \"Topic4\", \"Topic4\", \"Topic4\", \"Topic4\", \"Topic4\", \"Topic4\", \"Topic4\", \"Topic4\", \"Topic4\", \"Topic4\", \"Topic4\", \"Topic4\", \"Topic4\", \"Topic5\", \"Topic5\", \"Topic5\", \"Topic5\", \"Topic5\", \"Topic5\", \"Topic5\", \"Topic5\", \"Topic5\", \"Topic5\", \"Topic5\", \"Topic5\", \"Topic5\", \"Topic5\", \"Topic5\", \"Topic5\", \"Topic5\", \"Topic5\", \"Topic5\", \"Topic5\", \"Topic5\", \"Topic5\", \"Topic5\", \"Topic5\", \"Topic5\", \"Topic5\", \"Topic5\", \"Topic5\", \"Topic5\", \"Topic5\", \"Topic6\", \"Topic6\", \"Topic6\", \"Topic6\", \"Topic6\", \"Topic6\", \"Topic6\", \"Topic6\", \"Topic6\", \"Topic6\", \"Topic6\", \"Topic6\", \"Topic6\", \"Topic6\", \"Topic6\", \"Topic6\", \"Topic6\", \"Topic6\", \"Topic6\", \"Topic6\", \"Topic6\", \"Topic6\", \"Topic6\", \"Topic6\", \"Topic6\", \"Topic6\", \"Topic6\", \"Topic6\", \"Topic6\", \"Topic6\", \"Topic6\", \"Topic7\", \"Topic7\", \"Topic7\", \"Topic7\", \"Topic7\", \"Topic7\", \"Topic7\", \"Topic7\", \"Topic7\", \"Topic7\", \"Topic7\", \"Topic7\", \"Topic7\", \"Topic7\", \"Topic7\", \"Topic7\", \"Topic7\", \"Topic7\", \"Topic7\", \"Topic7\", \"Topic7\", \"Topic7\", \"Topic7\", \"Topic7\", \"Topic7\", \"Topic7\", \"Topic7\", \"Topic7\", \"Topic7\", \"Topic7\", \"Topic7\", \"Topic8\", \"Topic8\", \"Topic8\", \"Topic8\", \"Topic8\", \"Topic8\", \"Topic8\", \"Topic8\", \"Topic8\", \"Topic8\", \"Topic8\", \"Topic8\", \"Topic8\", \"Topic8\", \"Topic8\", \"Topic8\", \"Topic8\", \"Topic8\", \"Topic8\", \"Topic8\", \"Topic8\", \"Topic8\", \"Topic8\", \"Topic8\", \"Topic8\", \"Topic8\", \"Topic8\", \"Topic8\", \"Topic8\", \"Topic8\", \"Topic9\", \"Topic9\", \"Topic9\", \"Topic9\", \"Topic9\", \"Topic9\", \"Topic9\", \"Topic9\", \"Topic9\", \"Topic9\", \"Topic9\", \"Topic9\", \"Topic9\", \"Topic9\", \"Topic9\", \"Topic9\", \"Topic9\", \"Topic9\", \"Topic9\", \"Topic9\", \"Topic9\", \"Topic9\", \"Topic9\", \"Topic9\", \"Topic9\", \"Topic9\", \"Topic9\", \"Topic9\", \"Topic9\", \"Topic9\", \"Topic9\", \"Topic9\", \"Topic10\", \"Topic10\", \"Topic10\", \"Topic10\", \"Topic10\", \"Topic10\", \"Topic10\", \"Topic10\", \"Topic10\", \"Topic10\", \"Topic10\", \"Topic10\", \"Topic10\", \"Topic10\", \"Topic10\", \"Topic10\", \"Topic10\", \"Topic10\", \"Topic10\", \"Topic10\", \"Topic10\", \"Topic10\", \"Topic10\", \"Topic10\", \"Topic10\", \"Topic10\", \"Topic10\", \"Topic10\", \"Topic10\", \"Topic10\", \"Topic10\", \"Topic11\", \"Topic11\", \"Topic11\", \"Topic11\", \"Topic11\", \"Topic11\", \"Topic11\", \"Topic11\", \"Topic11\", \"Topic11\", \"Topic11\", \"Topic11\", \"Topic11\", \"Topic11\", \"Topic11\", \"Topic11\", \"Topic11\", \"Topic11\", \"Topic11\", \"Topic11\", \"Topic11\", \"Topic11\", \"Topic11\", \"Topic11\", \"Topic11\", \"Topic11\", \"Topic11\", \"Topic11\", \"Topic11\", \"Topic11\", \"Topic11\", \"Topic11\", \"Topic11\", \"Topic12\", \"Topic12\", \"Topic12\", \"Topic12\", \"Topic12\", \"Topic12\", \"Topic12\", \"Topic12\", \"Topic12\", \"Topic12\", \"Topic12\", \"Topic12\", \"Topic12\", \"Topic12\", \"Topic12\", \"Topic12\", \"Topic12\", \"Topic12\", \"Topic12\", \"Topic12\", \"Topic12\", \"Topic12\", \"Topic12\", \"Topic12\", \"Topic12\", \"Topic12\", \"Topic12\", \"Topic12\", \"Topic12\", \"Topic12\", \"Topic12\", \"Topic13\", \"Topic13\", \"Topic13\", \"Topic13\", \"Topic13\", \"Topic13\", \"Topic13\", \"Topic13\", \"Topic13\", \"Topic13\", \"Topic13\", \"Topic13\", \"Topic13\", \"Topic13\", \"Topic13\", \"Topic13\", \"Topic13\", \"Topic13\", \"Topic13\", \"Topic13\", \"Topic13\", \"Topic13\", \"Topic13\", \"Topic13\", \"Topic13\", \"Topic13\", \"Topic13\", \"Topic13\", \"Topic13\", \"Topic13\", \"Topic13\", \"Topic14\", \"Topic14\", \"Topic14\", \"Topic14\", \"Topic14\", \"Topic14\", \"Topic14\", \"Topic14\", \"Topic14\", \"Topic14\", \"Topic14\", \"Topic14\", \"Topic14\", \"Topic14\", \"Topic14\", \"Topic14\", \"Topic14\", \"Topic14\", \"Topic14\", \"Topic14\", \"Topic14\", \"Topic14\", \"Topic14\", \"Topic14\", \"Topic14\", \"Topic14\", \"Topic14\", \"Topic14\", \"Topic14\", \"Topic14\", \"Topic15\", \"Topic15\", \"Topic15\", \"Topic15\", \"Topic15\", \"Topic15\", \"Topic15\", \"Topic15\", \"Topic15\", \"Topic15\", \"Topic15\", \"Topic15\", \"Topic15\", \"Topic15\", \"Topic15\", \"Topic15\", \"Topic15\", \"Topic15\", \"Topic15\", \"Topic15\", \"Topic15\", \"Topic15\", \"Topic15\", \"Topic15\", \"Topic15\", \"Topic15\", \"Topic15\", \"Topic15\", \"Topic15\", \"Topic15\", \"Topic15\", \"Topic15\", \"Topic15\"], \"Freq\": [2321.0, 1987.0, 1749.0, 1182.0, 949.0, 830.0, 816.0, 757.0, 614.0, 552.0, 538.0, 524.0, 510.0, 722.0, 495.0, 484.0, 541.0, 431.0, 517.0, 405.0, 487.0, 384.0, 346.0, 331.0, 330.0, 330.0, 396.0, 312.0, 295.0, 295.0, 1986.547607421875, 1749.0452880859375, 1182.303466796875, 509.5105895996094, 405.2201232910156, 225.9911346435547, 215.59835815429688, 178.6974639892578, 161.5411376953125, 160.40463256835938, 152.0036163330078, 104.96893310546875, 100.62894439697266, 94.59751892089844, 81.97891998291016, 75.15792846679688, 72.80064392089844, 71.94544982910156, 63.73554992675781, 59.659732818603516, 48.474761962890625, 47.47529602050781, 42.04840850830078, 40.7171745300293, 39.152339935302734, 38.65949249267578, 36.43836212158203, 35.67484664916992, 33.11390686035156, 32.009674072265625, 138.89666748046875, 149.87387084960938, 204.45156860351562, 190.67369079589844, 167.36558532714844, 149.84803771972656, 128.1407470703125, 120.86587524414062, 112.48632049560547, 108.2095947265625, 91.95765686035156, 90.13765716552734, 76.1100845336914, 74.35257720947266, 67.75841522216797, 63.8766975402832, 63.324729919433594, 59.82433319091797, 53.675968170166016, 53.041507720947266, 44.52582550048828, 41.93812561035156, 41.863529205322266, 40.30084991455078, 38.93021011352539, 37.046478271484375, 37.0037956237793, 35.47728729248047, 34.38371276855469, 33.98896789550781, 33.28312683105469, 32.46863555908203, 195.64324951171875, 415.9680480957031, 181.6073760986328, 139.24005126953125, 44.01582336425781, 111.64968872070312, 54.37823486328125, 176.84169006347656, 136.51451110839844, 109.74442291259766, 84.53323364257812, 78.75196075439453, 74.86466217041016, 74.00543212890625, 71.80563354492188, 70.93284606933594, 58.76203918457031, 54.737548828125, 52.835872650146484, 49.73039245605469, 49.214149475097656, 47.557289123535156, 45.04890060424805, 44.60708236694336, 44.415428161621094, 39.298927307128906, 38.5599365234375, 36.1658935546875, 34.772735595703125, 34.042747497558594, 33.992557525634766, 31.856311798095703, 31.487842559814453, 31.383708953857422, 29.791316986083984, 29.658435821533203, 29.52305793762207, 345.9505310058594, 225.5968475341797, 152.1184539794922, 128.1494903564453, 112.18511962890625, 103.32449340820312, 97.51248168945312, 84.33290100097656, 83.84539794921875, 78.41810607910156, 70.94924926757812, 63.48360061645508, 62.69231033325195, 53.94563293457031, 52.52410888671875, 51.522735595703125, 48.900245666503906, 47.44800567626953, 46.3978157043457, 43.89600372314453, 42.97909927368164, 41.238853454589844, 40.21108627319336, 39.80522537231445, 38.52620315551758, 37.87200927734375, 37.47785186767578, 34.85273742675781, 33.404396057128906, 32.446590423583984, 113.77942657470703, 48.75732421875, 331.15570068359375, 251.0536651611328, 158.5233917236328, 131.64080810546875, 113.28014373779297, 103.01710510253906, 100.60726928710938, 97.05873107910156, 96.55593872070312, 90.4209213256836, 86.57238006591797, 76.19622802734375, 76.19351196289062, 70.58509826660156, 66.92919921875, 66.46961975097656, 65.40975952148438, 65.29251098632812, 61.525482177734375, 57.22369384765625, 56.0964241027832, 55.39698791503906, 54.45949172973633, 54.11866760253906, 52.394615173339844, 52.269752502441406, 51.01326370239258, 49.60990524291992, 45.96102523803711, 43.971500396728516, 829.3643188476562, 329.3361511230469, 240.435302734375, 201.5435028076172, 127.86852264404297, 89.32746887207031, 83.53466796875, 77.1792221069336, 73.1892318725586, 65.02069854736328, 55.3212890625, 50.686710357666016, 44.784446716308594, 43.773468017578125, 41.98677062988281, 39.20983123779297, 39.195274353027344, 38.263301849365234, 38.2349739074707, 37.893821716308594, 36.62885284423828, 36.08384323120117, 35.54671096801758, 33.55752944946289, 33.18120193481445, 31.49920654296875, 31.100997924804688, 30.247608184814453, 28.7862548828125, 28.041162490844727, 213.9729766845703, 158.7262420654297, 113.16651153564453, 105.70584106445312, 103.85057067871094, 100.96369171142578, 73.00735473632812, 72.6320571899414, 70.69450378417969, 68.77782440185547, 66.76974487304688, 66.68505859375, 64.38276672363281, 58.06565475463867, 57.350704193115234, 55.42322540283203, 54.14044952392578, 53.65819549560547, 52.62443542480469, 52.43294906616211, 50.51374816894531, 46.91722106933594, 46.63339614868164, 45.86799621582031, 44.2794075012207, 42.961585998535156, 42.43729019165039, 42.00946044921875, 40.8203125, 39.9078369140625, 38.218902587890625, 109.4981689453125, 201.08273315429688, 152.7015380859375, 119.92308807373047, 105.15013885498047, 94.8293685913086, 86.98704528808594, 81.94481658935547, 74.57678985595703, 73.55528259277344, 69.07698822021484, 56.689998626708984, 56.142051696777344, 54.72918701171875, 52.37051773071289, 51.4988899230957, 49.484519958496094, 46.798622131347656, 45.771385192871094, 43.98747253417969, 43.36886978149414, 42.22066116333008, 40.11268997192383, 38.723121643066406, 37.20396041870117, 36.60777282714844, 35.64539337158203, 35.27182388305664, 35.09604263305664, 33.85686492919922, 32.1995735168457, 523.7387084960938, 255.2099151611328, 165.28663635253906, 146.9693145751953, 115.44427490234375, 105.67009735107422, 100.87096405029297, 89.4583740234375, 82.61261749267578, 74.8564682006836, 65.0868911743164, 62.94341278076172, 57.48515319824219, 57.31193161010742, 56.31556701660156, 56.1688232421875, 55.988494873046875, 55.15673065185547, 50.47013854980469, 50.46917724609375, 48.94789505004883, 46.335853576660156, 44.885528564453125, 41.9463996887207, 41.6851921081543, 41.43891525268555, 40.791988372802734, 40.54682922363281, 38.50131607055664, 38.31145095825195, 119.68401336669922, 100.54906463623047, 263.3968505859375, 254.31118774414062, 235.20993041992188, 159.96633911132812, 123.96073913574219, 104.4455795288086, 89.64060974121094, 78.70500183105469, 69.73790740966797, 68.85784912109375, 66.78130340576172, 66.62085723876953, 65.16275024414062, 62.33125305175781, 51.77728271484375, 51.63921356201172, 48.559791564941406, 48.23447036743164, 45.22507095336914, 43.137901306152344, 42.98172378540039, 41.262210845947266, 40.72315216064453, 40.439029693603516, 38.81939697265625, 37.556766510009766, 37.48545837402344, 37.310325622558594, 36.62614822387695, 34.140140533447266, 34.686805725097656, 756.5887451171875, 537.9500122070312, 295.3298034667969, 295.00762939453125, 155.0508270263672, 149.11911010742188, 140.45774841308594, 138.43899536132812, 128.69773864746094, 120.37786865234375, 113.01805877685547, 90.34675598144531, 85.32225036621094, 73.8091049194336, 68.64705657958984, 67.45204162597656, 64.1318359375, 58.39035415649414, 56.08577346801758, 54.436100006103516, 54.32985305786133, 50.72526931762695, 48.361629486083984, 47.11171340942383, 46.459598541259766, 46.13949966430664, 44.067108154296875, 43.99424743652344, 40.83155822753906, 39.00920486450195, 476.13800048828125, 101.16876220703125, 55.35235595703125, 2320.892822265625, 495.2665100097656, 483.68585205078125, 383.3536071777344, 329.7979736328125, 249.30140686035156, 193.12738037109375, 156.25155639648438, 119.16114807128906, 109.32576751708984, 109.09441375732422, 101.6893310546875, 101.27347564697266, 92.22563171386719, 86.49334716796875, 66.79024505615234, 63.229454040527344, 56.46651077270508, 54.5648193359375, 51.843353271484375, 50.8606071472168, 47.29781723022461, 46.898311614990234, 43.85586929321289, 43.53294372558594, 43.341224670410156, 42.89677810668945, 41.47932434082031, 41.04934310913086, 40.7989387512207, 150.73355102539062, 815.3931884765625, 272.6702880859375, 195.5419158935547, 186.79165649414062, 143.89512634277344, 142.03981018066406, 136.99661254882812, 123.18424987792969, 118.92626190185547, 99.49344635009766, 89.02993774414062, 88.6833267211914, 75.1324234008789, 69.0859146118164, 66.25902557373047, 57.201988220214844, 54.66236114501953, 51.973899841308594, 48.753849029541016, 46.85679244995117, 45.00394821166992, 44.757545471191406, 43.33002471923828, 42.16193771362305, 41.96527099609375, 41.95265579223633, 41.047340393066406, 40.780303955078125, 40.06492233276367, 39.318904876708984, 64.74337768554688, 948.3613891601562, 552.0574951171875, 311.6217956542969, 178.50146484375, 172.62991333007812, 128.34893798828125, 125.69048309326172, 117.83084106445312, 107.4322280883789, 94.89558410644531, 86.84382629394531, 71.38116455078125, 61.8027229309082, 54.09769058227539, 53.49721145629883, 49.97532653808594, 49.795040130615234, 48.78133010864258, 47.353919982910156, 42.76471710205078, 42.229515075683594, 40.341766357421875, 40.23954772949219, 39.65371322631836, 37.78190231323242, 36.001991271972656, 33.95551681518555, 32.811363220214844, 32.467777252197266, 32.46146774291992, 613.8402709960938, 431.0748596191406, 218.0569305419922, 195.19651794433594, 139.49435424804688, 119.67794799804688, 116.37770080566406, 109.34020233154297, 106.6795425415039, 87.54413604736328, 87.49381256103516, 85.00189971923828, 75.53649139404297, 74.62816619873047, 66.57325744628906, 60.2279167175293, 56.69007110595703, 55.822757720947266, 52.15529251098633, 52.07086944580078, 49.03761291503906, 48.907318115234375, 45.67283630371094, 44.56267166137695, 44.05441665649414, 43.03899002075195, 42.83626174926758, 41.53778076171875, 39.33930206298828, 38.82138442993164, 375.2443542480469, 294.2311096191406, 488.06488037109375], \"Term\": [\"work_home\", \"work_life\", \"life_balance\", \"good_work\", \"work_environment\", \"flexible_work\", \"worklife_balance\", \"place_work\", \"great_people\", \"good_benefit\", \"great_place\", \"smart_people\", \"work_culture\", \"people_work\", \"company_work\", \"good_company\", \"good_place\", \"opportunity_work\", \"work_ibm\", \"great_work\", \"lot_opportunity\", \"great_company\", \"good_people\", \"learn_lot\", \"great_benefit\", \"work_hour\", \"opportunity_learn\", \"big_company\", \"learn_new\", \"new_technology\", \"work_life\", \"life_balance\", \"good_work\", \"work_culture\", \"great_work\", \"good_salary\", \"career_opportunity\", \"balance_good\", \"learn_opportunity\", \"lot_learn\", \"environment_work\", \"growth_opportunity\", \"people_great\", \"really_good\", \"look_good\", \"work_company\", \"learn_experience\", \"great_brand\", \"great_learn\", \"many_people\", \"flexible_time\", \"opportunity_advancement\", \"love_work\", \"good_flexibility\", \"people_willing\", \"ibm_really\", \"best_work\", \"world_wide\", \"life_balancegood\", \"leave_policy\", \"home_office\", \"good_opportunity\", \"move_around\", \"many_different\", \"good_working\", \"opportunity_move\", \"working_environment\", \"wide_range\", \"within_ibm\", \"work_good\", \"long_term\", \"work_many\", \"reason_work\", \"lead_edge\", \"friendly_people\", \"different_role\", \"ability_move\", \"skill_set\", \"allow_work\", \"bright_people\", \"different_thing\", \"big_blue\", \"take_time\", \"vacation_time\", \"company_value\", \"grow_skill\", \"allow_employee\", \"dress_code\", \"work_day\", \"provide_lot\", \"many_smart\", \"good_support\", \"within_company\", \"work_ibm\", \"many_opportunity\", \"talented_people\", \"career_ibm\", \"lot_opportunity\", \"edge_technology\", \"flexible_timing\", \"good_experience\", \"team_member\", \"job_role\", \"great_technology\", \"provide_good\", \"good_job\", \"work_flexibility\", \"great_coworkers\", \"professional_development\", \"open_door\", \"global_reach\", \"provide_opportunity\", \"great_learning\", \"year_ibm\", \"great_training\", \"get_involve\", \"ibm_name\", \"full_time\", \"opportunity_available\", \"lot_experience\", \"people_want\", \"opportunity_employee\", \"pro_work\", \"friendly_atmosphere\", \"many_good\", \"different_career\", \"ibm_flexible\", \"top_performer\", \"great_management\", \"good_people\", \"place_learn\", \"benefit_good\", \"good_culture\", \"friendly_environment\", \"late_technology\", \"work_pressure\", \"good_start\", \"lot_good\", \"take_care\", \"wide_variety\", \"really_great\", \"work_do\", \"great_resume\", \"health_care\", \"feel_like\", \"new_hire\", \"tech_company\", \"lot_new\", \"different_industry\", \"thing_learn\", \"start_salary\", \"best_part\", \"employee_benefit\", \"part_ibm\", \"quite_good\", \"many_year\", \"respect_individual\", \"best_practice\", \"career_progression\", \"people_work\", \"talented_people\", \"learn_lot\", \"get_work\", \"good_resume\", \"interesting_project\", \"willing_help\", \"good_project\", \"work_different\", \"great_experience\", \"company_world\", \"hard_work\", \"salary_benefit\", \"get_job\", \"project_work\", \"opportunity_career\", \"work_best\", \"looks_good\", \"opportunity_travel\", \"pay_good\", \"different_project\", \"option_work\", \"lot_thing\", \"good_thing\", \"work_team\", \"knowledge_base\", \"well_know\", \"job_do\", \"senior_management\", \"always_willing\", \"co_worker\", \"work_late\", \"flexible_work\", \"work_hour\", \"home_option\", \"work_schedule\", \"able_work\", \"work_location\", \"hour_work\", \"brand_recognition\", \"decent_pay\", \"balance_great\", \"technology_company\", \"work_arrangement\", \"lot_work\", \"term_work\", \"option_available\", \"international_environment\", \"ibm_lot\", \"vacation_day\", \"smart_colleague\", \"online_training\", \"area_work\", \"resource_learn\", \"different_opportunity\", \"ibm_pay\", \"want_learn\", \"relaxed_work\", \"good_location\", \"ibm_employee\", \"treat_employee\", \"ibm_global\", \"flexibility_work\", \"cut_edge\", \"culture_good\", \"good_team\", \"company_lot\", \"company_good\", \"different_job\", \"training_opportunity\", \"name_resume\", \"plenty_opportunity\", \"great_colleague\", \"job_opportunity\", \"want_work\", \"salary_good\", \"good_name\", \"health_benefit\", \"well_establish\", \"day_day\", \"company_offer\", \"great_pay\", \"work_big\", \"easy_get\", \"decent_salary\", \"year_ago\", \"move_within\", \"every_year\", \"work_anywhere\", \"move_different\", \"quality_work\", \"best_thing\", \"many_area\", \"edge_technology\", \"good_environment\", \"good_learning\", \"flexible_schedule\", \"competitive_salary\", \"lot_resource\", \"learning_opportunity\", \"chance_work\", \"work_large\", \"people_good\", \"lot_flexibility\", \"good_reputation\", \"huge_company\", \"people_world\", \"work_really\", \"entry_level\", \"work_one\", \"sick_leave\", \"get_chance\", \"work_learn\", \"good_technology\", \"lot_room\", \"advance_career\", \"new_challenge\", \"learning_experience\", \"international_company\", \"personal_development\", \"sick_day\", \"problem_solve\", \"make_sure\", \"pleasure_work\", \"smart_people\", \"brand_name\", \"nice_people\", \"work_great\", \"name_recognition\", \"lot_smart\", \"work_time\", \"work_smart\", \"interesting_work\", \"good_brand\", \"people_ibm\", \"great_product\", \"ibm_give\", \"excellent_benefit\", \"like_work\", \"depend_project\", \"give_opportunity\", \"technical_skill\", \"lot_training\", \"good_colleague\", \"company_name\", \"ibm_still\", \"product_service\", \"work_ethic\", \"ibm_india\", \"really_smart\", \"experience_work\", \"ibm_year\", \"even_though\", \"new_idea\", \"people_work\", \"work_ibm\", \"large_company\", \"flexible_working\", \"working_hour\", \"benefit_package\", \"home_facility\", \"pretty_good\", \"different_area\", \"company_provide\", \"remote_work\", \"great_culture\", \"company_many\", \"work_experience\", \"lot_train\", \"pay_well\", \"work_option\", \"competitive_pay\", \"business_unit\", \"change_job\", \"opportunity_good\", \"corporate_culture\", \"ibm_large\", \"long_time\", \"career_advancement\", \"ibm_one\", \"overall_good\", \"within_organization\", \"nice_colleague\", \"establish_company\", \"generally_good\", \"many_project\", \"many_opportunity\", \"place_work\", \"great_place\", \"learn_new\", \"new_technology\", \"work_remotely\", \"one_best\", \"new_thing\", \"ibm_good\", \"best_company\", \"work_hard\", \"best_place\", \"process_orient\", \"learn_grow\", \"opportunity_growth\", \"big_name\", \"employee_work\", \"high_level\", \"opportunity_within\", \"technology_work\", \"work_new\", \"ibm_best\", \"different_technology\", \"opportunity_get\", \"people_learn\", \"best_people\", \"freedom_work\", \"place_get\", \"project_management\", \"ibm_research\", \"give_good\", \"good_place\", \"opportunity_learn\", \"good_opportunity\", \"work_home\", \"company_work\", \"good_company\", \"great_company\", \"great_benefit\", \"ability_work\", \"flexible_hour\", \"career_path\", \"balance_work\", \"career_development\", \"excellent_work\", \"company_great\", \"ibm_offer\", \"challenge_work\", \"good_management\", \"company_culture\", \"resource_available\", \"work_place\", \"home_flexibility\", \"possibility_work\", \"professional_work\", \"home_opportunity\", \"work_remote\", \"great_flexibility\", \"work_force\", \"great_career\", \"work_work\", \"excellent_opportunity\", \"good_atmosphere\", \"lot_freedom\", \"flexibility_work\", \"worklife_balance\", \"good_worklife\", \"opportunity_grow\", \"start_career\", \"great_team\", \"good_training\", \"team_work\", \"place_start\", \"global_company\", \"environment_good\", \"work_timing\", \"great_worklife\", \"good_manager\", \"nice_place\", \"world_class\", \"grow_career\", \"gain_experience\", \"take_advantage\", \"friendly_work\", \"good_compensation\", \"compensation_benefit\", \"good_technical\", \"health_insurance\", \"knowledge_share\", \"stable_company\", \"company_start\", \"line_manager\", \"training_available\", \"first_line\", \"every_day\", \"good_place\", \"work_environment\", \"good_benefit\", \"big_company\", \"ibm_great\", \"career_growth\", \"nice_work\", \"work_people\", \"lot_different\", \"good_career\", \"get_good\", \"time_work\", \"enjoy_work\", \"good_exposure\", \"people_nice\", \"top_notch\", \"best_reason\", \"work_atmosphere\", \"ibm_big\", \"big_brand\", \"many_company\", \"great_deal\", \"home_policy\", \"development_opportunity\", \"cant_think\", \"small_company\", \"professional_growth\", \"make_difference\", \"find_good\", \"good_employee\", \"nothing_else\", \"great_people\", \"opportunity_work\", \"great_opportunity\", \"good_pay\", \"job_security\", \"employee_friendly\", \"around_world\", \"people_around\", \"ibm_provide\", \"decent_benefit\", \"great_environment\", \"new_skill\", \"intelligent_people\", \"pay_benefit\", \"work_lot\", \"brand_value\", \"learn_many\", \"many_thing\", \"lot_people\", \"company_learn\", \"lot_great\", \"change_career\", \"easy_work\", \"learn_work\", \"provide_great\", \"good_learn\", \"get_experience\", \"develop_skill\", \"last_year\", \"know_ibm\", \"lot_opportunity\", \"opportunity_learn\", \"people_work\"], \"Total\": [2321.0, 1987.0, 1749.0, 1182.0, 949.0, 830.0, 816.0, 757.0, 614.0, 552.0, 538.0, 524.0, 510.0, 722.0, 495.0, 484.0, 541.0, 431.0, 517.0, 405.0, 487.0, 384.0, 346.0, 331.0, 330.0, 330.0, 396.0, 312.0, 295.0, 295.0, 1987.215087890625, 1749.7127685546875, 1182.970947265625, 510.17816162109375, 405.8876953125, 226.65870666503906, 216.26593017578125, 179.3650360107422, 162.20870971679688, 161.07220458984375, 152.6711883544922, 105.636474609375, 101.2964859008789, 95.26506042480469, 82.6464614868164, 75.82546997070312, 73.46818542480469, 72.61299133300781, 64.4030990600586, 60.32728576660156, 49.14231491088867, 48.14284896850586, 42.71596145629883, 41.384727478027344, 39.81989669799805, 39.32704544067383, 37.10591506958008, 36.34239959716797, 33.78145980834961, 32.67722702026367, 174.54734802246094, 205.84556579589844, 205.11819458007812, 191.34031677246094, 168.03221130371094, 150.51466369628906, 128.807373046875, 121.53248596191406, 113.1529312133789, 108.87620544433594, 92.624267578125, 90.80426788330078, 76.77669525146484, 75.0191879272461, 68.4250259399414, 64.5433120727539, 63.99134826660156, 60.49095153808594, 54.342586517333984, 53.708126068115234, 45.19244384765625, 42.60474395751953, 42.530147552490234, 40.96746826171875, 39.59682846069336, 37.713096618652344, 37.670413970947266, 36.14390563964844, 35.050331115722656, 34.65558624267578, 33.949745178222656, 33.13525390625, 224.7469024658203, 517.1361694335938, 216.91323852539062, 188.61651611328125, 49.74915313720703, 487.5130615234375, 164.49560546875, 177.50994873046875, 137.18276977539062, 110.41265869140625, 85.20146942138672, 79.42019653320312, 75.53289794921875, 74.67366790771484, 72.47386932373047, 71.60108184814453, 59.43028259277344, 55.405792236328125, 53.50411605834961, 50.39863967895508, 49.88239288330078, 48.22553253173828, 45.71714401245117, 45.275325775146484, 45.08367156982422, 39.96717071533203, 39.228179931640625, 36.834136962890625, 35.44097900390625, 34.710994720458984, 34.66080093383789, 32.52455520629883, 32.15608596801758, 32.05195617675781, 30.459562301635742, 30.32668113708496, 30.191303253173828, 346.61846923828125, 226.26475524902344, 152.78636169433594, 128.81739807128906, 112.8530044555664, 103.99237823486328, 98.18036651611328, 85.00079345703125, 84.5132827758789, 79.08599090576172, 71.61713409423828, 64.1514892578125, 63.360198974609375, 54.613521575927734, 53.19199752807617, 52.19062805175781, 49.56813430786133, 48.11589431762695, 47.065704345703125, 44.56389236450195, 43.64698791503906, 41.906742095947266, 40.87897491455078, 40.473114013671875, 39.194091796875, 38.53989791870117, 38.1457405090332, 35.520626068115234, 34.07228469848633, 33.114479064941406, 722.1011352539062, 188.61651611328125, 331.82275390625, 251.720703125, 159.1904296875, 132.30784606933594, 113.94715881347656, 103.68412017822266, 101.27428436279297, 97.72574615478516, 97.22295379638672, 91.08793640136719, 87.23939514160156, 76.86324310302734, 76.86052703857422, 71.25211334228516, 67.5962142944336, 67.13663482666016, 66.07677459716797, 65.95952606201172, 62.1925048828125, 57.890716552734375, 56.76344680786133, 56.06401062011719, 55.12651443481445, 54.78569030761719, 53.06163787841797, 52.93677520751953, 51.6802864074707, 50.27692794799805, 46.628047943115234, 44.63852310180664, 830.0318603515625, 330.0037536621094, 241.10289001464844, 202.21109008789062, 128.53611755371094, 89.99504852294922, 84.2022476196289, 77.8468017578125, 73.8568115234375, 65.68827819824219, 55.988868713378906, 51.35429000854492, 45.4520263671875, 44.44104766845703, 42.65435028076172, 39.877410888671875, 39.86285400390625, 38.93088150024414, 38.90255355834961, 38.5614013671875, 37.29643249511719, 36.75142288208008, 36.214290618896484, 34.2251091003418, 33.84878158569336, 32.166786193847656, 31.768577575683594, 30.91518783569336, 29.453834533691406, 28.708742141723633, 365.32666015625, 159.3942108154297, 113.83447265625, 106.3738021850586, 104.5185317993164, 101.63165283203125, 73.6753158569336, 73.30001831054688, 71.36246490478516, 69.44578552246094, 67.43770599365234, 67.35301971435547, 65.05072784423828, 58.73361587524414, 58.0186653137207, 56.0911865234375, 54.80841064453125, 54.32615661621094, 53.292396545410156, 53.10091018676758, 51.18170928955078, 47.585182189941406, 47.30135726928711, 46.53595733642578, 44.94736862182617, 43.629547119140625, 43.10525131225586, 42.67742156982422, 41.48827362060547, 40.57579803466797, 38.886863708496094, 164.49560546875, 201.74986267089844, 153.36866760253906, 120.59019470214844, 105.81724548339844, 95.49647521972656, 87.6541519165039, 82.61192321777344, 75.243896484375, 74.2223892211914, 69.74409484863281, 57.357112884521484, 56.809165954589844, 55.396297454833984, 53.03763198852539, 52.1660041809082, 50.151634216308594, 47.465736389160156, 46.438499450683594, 44.65458297729492, 44.035980224609375, 42.88777160644531, 40.77980422973633, 39.390235900878906, 37.871070861816406, 37.27488708496094, 36.312503814697266, 35.93893814086914, 35.76315689086914, 34.52397918701172, 32.8666877746582, 524.4065551757812, 255.87783813476562, 165.95455932617188, 147.63723754882812, 116.1121826171875, 106.33800506591797, 101.53887176513672, 90.12628173828125, 83.28052520751953, 75.52437591552734, 65.75479888916016, 63.611324310302734, 58.1530647277832, 57.97984313964844, 56.98347854614258, 56.836734771728516, 56.65640640258789, 55.824642181396484, 51.1380500793457, 51.137088775634766, 49.615806579589844, 47.00376510620117, 45.55344009399414, 42.61431121826172, 42.35310363769531, 42.10682678222656, 41.45989990234375, 41.21474075317383, 39.169227600097656, 38.97936248779297, 722.1011352539062, 517.1361694335938, 264.0646667480469, 254.97901916503906, 235.8777618408203, 160.63417053222656, 124.62855529785156, 105.11339569091797, 90.30842590332031, 79.37281799316406, 70.40572357177734, 69.52566528320312, 67.4491195678711, 67.2886734008789, 65.83056640625, 62.99906539916992, 52.44509506225586, 52.30702590942383, 49.227603912353516, 48.90228271484375, 45.89288330078125, 43.80571365356445, 43.6495361328125, 41.930023193359375, 41.39096450805664, 41.106842041015625, 39.48720932006836, 38.224578857421875, 38.15327072143555, 37.97814178466797, 37.29396057128906, 34.807952880859375, 216.91323852539062, 757.255859375, 538.6171264648438, 295.9969482421875, 295.6747741699219, 155.71798706054688, 149.78627014160156, 141.12490844726562, 139.1061553955078, 129.36489868164062, 121.04501342773438, 113.6852035522461, 91.01390075683594, 85.98939514160156, 74.47624969482422, 69.31420135498047, 68.11918640136719, 64.79898071289062, 59.057498931884766, 56.7529182434082, 55.10324478149414, 54.99699783325195, 51.39241409301758, 49.02877426147461, 47.77885818481445, 47.12674331665039, 46.806644439697266, 44.7342529296875, 44.66139221191406, 41.49870300292969, 39.67634963989258, 541.50146484375, 396.0194091796875, 205.84556579589844, 2321.560791015625, 495.9344482421875, 484.3537902832031, 384.02154541015625, 330.4659118652344, 249.96934509277344, 193.79531860351562, 156.91949462890625, 119.8290786743164, 109.99369812011719, 109.76234436035156, 102.35726165771484, 101.94140625, 92.89356231689453, 87.1612777709961, 67.45817565917969, 63.89738464355469, 57.13444137573242, 55.232749938964844, 52.51128387451172, 51.52853775024414, 47.96574783325195, 47.56624221801758, 44.523799896240234, 44.20087432861328, 44.0091552734375, 43.5647087097168, 42.147254943847656, 41.7172737121582, 41.46686935424805, 365.32666015625, 816.0615234375, 273.338623046875, 196.21026611328125, 187.4600067138672, 144.5634765625, 142.70816040039062, 137.6649627685547, 123.85259246826172, 119.5946044921875, 100.16178894042969, 89.69828033447266, 89.35166931152344, 75.80076599121094, 69.75425720214844, 66.9273681640625, 57.870330810546875, 55.33070373535156, 52.642242431640625, 49.42219161987305, 47.52513122558594, 45.67228698730469, 45.42588424682617, 43.99836349487305, 42.83028030395508, 42.633609771728516, 42.62099838256836, 41.71567916870117, 41.44864273071289, 40.73326110839844, 39.987247467041016, 541.50146484375, 949.02978515625, 552.7258911132812, 312.29022216796875, 179.1698760986328, 173.29832458496094, 129.01734924316406, 126.35890197753906, 118.49925994873047, 108.10064697265625, 95.56400299072266, 87.51224517822266, 72.0495834350586, 62.47113800048828, 54.76610565185547, 54.165626525878906, 50.64374542236328, 50.46345520019531, 49.449745178222656, 48.0223388671875, 43.433135986328125, 42.89793395996094, 41.01018524169922, 40.90796661376953, 40.32212829589844, 38.450321197509766, 36.670406341552734, 34.623931884765625, 33.47978210449219, 33.136192321777344, 33.1298828125, 614.508056640625, 431.7426452636719, 218.72470092773438, 195.86428833007812, 140.16212463378906, 120.34571838378906, 117.04547119140625, 110.00797271728516, 107.3473129272461, 88.21190643310547, 88.16158294677734, 85.66967010498047, 76.20426177978516, 75.29593658447266, 67.24102783203125, 60.89569091796875, 57.357845306396484, 56.49053192138672, 52.82306671142578, 52.738643646240234, 49.705387115478516, 49.57509231567383, 46.34061050415039, 45.230445861816406, 44.722190856933594, 43.706764221191406, 43.50403594970703, 42.2055549621582, 40.007076263427734, 39.489158630371094, 487.5130615234375, 396.0194091796875, 722.1011352539062], \"loglift\": [30.0, 29.0, 28.0, 27.0, 26.0, 25.0, 24.0, 23.0, 22.0, 21.0, 20.0, 19.0, 18.0, 17.0, 16.0, 15.0, 14.0, 13.0, 12.0, 11.0, 10.0, 9.0, 8.0, 7.0, 6.0, 5.0, 4.0, 3.0, 2.0, 1.0, 2.6772000789642334, 2.6772000789642334, 2.677000045776367, 2.6761999130249023, 2.6758999824523926, 2.6745998859405518, 2.6744000911712646, 2.673799991607666, 2.6733999252319336, 2.6733999252319336, 2.6731998920440674, 2.6712000370025635, 2.6709001064300537, 2.6705000400543213, 2.6693999767303467, 2.6686999797821045, 2.6684000492095947, 2.668299913406372, 2.667099952697754, 2.6663999557495117, 2.6638998985290527, 2.663599967956543, 2.661799907684326, 2.66129994392395, 2.660599946975708, 2.660399913787842, 2.65939998626709, 2.6589999198913574, 2.657599925994873, 2.656899929046631, 2.4491000175476074, 2.3601999282836914, 2.6967999935150146, 2.696500062942505, 2.6960999965667725, 2.6956000328063965, 2.6947999000549316, 2.694499969482422, 2.6940999031066895, 2.6939001083374023, 2.6928000450134277, 2.692699909210205, 2.6912999153137207, 2.6910998821258545, 2.690200090408325, 2.6895999908447266, 2.6895999908447266, 2.688999891281128, 2.687700033187866, 2.6875, 2.6851999759674072, 2.684299945831299, 2.6842000484466553, 2.6835999488830566, 2.6830999851226807, 2.6821999549865723, 2.6821999549865723, 2.6814000606536865, 2.680799961090088, 2.6805999279022217, 2.6802000999450684, 2.6796998977661133, 2.561300039291382, 2.482300043106079, 2.52239990234375, 2.3965001106262207, 2.5776000022888184, 1.226099967956543, 1.5930999517440796, 2.6972999572753906, 2.696199893951416, 2.694999933242798, 2.69320011138916, 2.6926000118255615, 2.692199945449829, 2.6921000480651855, 2.691800117492676, 2.691699981689453, 2.6898000240325928, 2.6888999938964844, 2.688499927520752, 2.687700033187866, 2.6875998973846436, 2.6870999336242676, 2.686300039291382, 2.686199903488159, 2.6861000061035156, 2.6842000484466553, 2.6839001178741455, 2.682800054550171, 2.681999921798706, 2.6816000938415527, 2.6816000938415527, 2.680299997329712, 2.6800999641418457, 2.680000066757202, 2.6789000034332275, 2.678800106048584, 2.6786999702453613, 2.7019999027252197, 2.7009999752044678, 2.6995999813079834, 2.6988000869750977, 2.697999954223633, 2.697499990463257, 2.6970999240875244, 2.6960999965667725, 2.696000099182129, 2.695499897003174, 2.6946001052856445, 2.69350004196167, 2.6933999061584473, 2.6916000843048096, 2.6912999153137207, 2.6910998821258545, 2.6903998851776123, 2.690000057220459, 2.68969988822937, 2.6888999938964844, 2.688499927520752, 2.6879000663757324, 2.6875, 2.687299966812134, 2.686800003051758, 2.686500072479248, 2.686300039291382, 2.684999942779541, 2.6842000484466553, 2.6835999488830566, 0.8560000061988831, 1.351099967956543, 2.702699899673462, 2.7021000385284424, 2.700500011444092, 2.699700117111206, 2.698899984359741, 2.6982998847961426, 2.6981000900268555, 2.6979000568389893, 2.6979000568389893, 2.6974000930786133, 2.6970999240875244, 2.696000099182129, 2.696000099182129, 2.6953001022338867, 2.6947999000549316, 2.6947999000549316, 2.6946001052856445, 2.6946001052856445, 2.694000005722046, 2.6930999755859375, 2.6928999423980713, 2.6928000450134277, 2.6926000118255615, 2.692500114440918, 2.6921000480651855, 2.6921000480651855, 2.691699981689453, 2.6914000511169434, 2.6902999877929688, 2.68969988822937, 2.704699993133545, 2.703399896621704, 2.702699899673462, 2.702199935913086, 2.7002999782562256, 2.697999954223633, 2.697499990463257, 2.696899890899658, 2.6963999271392822, 2.6953001022338867, 2.69350004196167, 2.6923999786376953, 2.690700054168701, 2.6902999877929688, 2.68969988822937, 2.6886000633239746, 2.6886000633239746, 2.688199996948242, 2.688199996948242, 2.687999963760376, 2.6874001026153564, 2.6870999336242676, 2.6868999004364014, 2.685800075531006, 2.685499906539917, 2.684499979019165, 2.6842000484466553, 2.6835999488830566, 2.682499885559082, 2.6819000244140625, 2.1705000400543213, 2.703900098800659, 2.702199935913086, 2.7018001079559326, 2.70169997215271, 2.7014999389648438, 2.6989998817443848, 2.698899984359741, 2.698699951171875, 2.6984000205993652, 2.6981000900268555, 2.6981000900268555, 2.6977999210357666, 2.696700096130371, 2.696500062942505, 2.6960999965667725, 2.6958000659942627, 2.69569993019104, 2.695499897003174, 2.6953999996185303, 2.694999933242798, 2.694000005722046, 2.6939001083374023, 2.6935999393463135, 2.6930999755859375, 2.692699909210205, 2.692500114440918, 2.6923000812530518, 2.6919000148773193, 2.691499948501587, 2.6907999515533447, 2.301100015640259, 2.705199956893921, 2.7040998935699463, 2.702899932861328, 2.702199935913086, 2.7014999389648438, 2.7007999420166016, 2.7004001140594482, 2.6995999813079834, 2.69950008392334, 2.698899984359741, 2.6967999935150146, 2.696700096130371, 2.6963999271392822, 2.6958000659942627, 2.6956000328063965, 2.6951000690460205, 2.6942999362945557, 2.694000005722046, 2.6933999061584473, 2.69320011138916, 2.6928000450134277, 2.691999912261963, 2.6914000511169434, 2.690700054168701, 2.6903998851776123, 2.6898999214172363, 2.68969988822937, 2.6895999908447266, 2.688999891281128, 2.687999963760376, 2.7081000804901123, 2.7067999839782715, 2.7053000926971436, 2.7047998905181885, 2.7035999298095703, 2.7030999660491943, 2.7028000354766846, 2.701900005340576, 2.7012999057769775, 2.700500011444092, 2.699199914932251, 2.6988000869750977, 2.6977999210357666, 2.6977999210357666, 2.6975998878479004, 2.6975998878479004, 2.697499990463257, 2.6972999572753906, 2.696199893951416, 2.696199893951416, 2.6958000659942627, 2.6951000690460205, 2.6946001052856445, 2.6935999393463135, 2.69350004196167, 2.6933999061584473, 2.6930999755859375, 2.693000078201294, 2.692199945449829, 2.6921000480651855, 0.9121000170707703, 1.0716999769210815, 2.7090001106262207, 2.708899974822998, 2.708699941635132, 2.70740008354187, 2.706199884414673, 2.705199956893921, 2.7040998935699463, 2.7030999660491943, 2.7019999027252197, 2.701900005340576, 2.7016000747680664, 2.7016000747680664, 2.7014000415802, 2.700900077819824, 2.698699951171875, 2.698699951171875, 2.6979000568389893, 2.6977999210357666, 2.696899890899658, 2.696199893951416, 2.6960999965667725, 2.695499897003174, 2.6953001022338867, 2.695199966430664, 2.694499969482422, 2.6939001083374023, 2.6939001083374023, 2.6937999725341797, 2.69350004196167, 2.692199945449829, 0.8784000277519226, 2.710900068283081, 2.7105000019073486, 2.7095000743865967, 2.7095000743865967, 2.7074999809265137, 2.7072999477386475, 2.7070000171661377, 2.706899881362915, 2.7065999507904053, 2.706199884414673, 2.705899953842163, 2.704400062561035, 2.7039999961853027, 2.7028000354766846, 2.7021000385284424, 2.701900005340576, 2.7014000415802, 2.7004001140594482, 2.699899911880493, 2.6995999813079834, 2.69950008392334, 2.698699951171875, 2.697999954223633, 2.697700023651123, 2.697499990463257, 2.6974000930786133, 2.696700096130371, 2.696700096130371, 2.695499897003174, 2.6947999000549316, 2.5831000804901123, 1.347100019454956, 1.398300051689148, 2.7119998931884766, 2.710900068283081, 2.710900068283081, 2.7105000019073486, 2.710200071334839, 2.7095999717712402, 2.7088000774383545, 2.7079999446868896, 2.706700086593628, 2.706199884414673, 2.706199884414673, 2.705699920654297, 2.705699920654297, 2.7051000595092773, 2.7046000957489014, 2.7023000717163086, 2.7018001079559326, 2.700500011444092, 2.7000999450683594, 2.69950008392334, 2.699199914932251, 2.698199987411499, 2.6981000900268555, 2.697200059890747, 2.697000026702881, 2.697000026702881, 2.6967999935150146, 2.6963000297546387, 2.6960999965667725, 2.696000099182129, 1.8270000219345093, 2.716099977493286, 2.7144999504089355, 2.7135000228881836, 2.713399887084961, 2.7123000621795654, 2.7123000621795654, 2.712100028991699, 2.7114999294281006, 2.7112998962402344, 2.7102999687194824, 2.7095000743865967, 2.709399938583374, 2.7081000804901123, 2.7072999477386475, 2.706899881362915, 2.7053000926971436, 2.7047998905181885, 2.704200029373169, 2.7032999992370605, 2.7028000354766846, 2.702199935913086, 2.7021000385284424, 2.7016000747680664, 2.701200008392334, 2.7011001110076904, 2.7011001110076904, 2.7007999420166016, 2.700700044631958, 2.7004001140594482, 2.7000999450683594, 0.5929999947547913, 2.722100019454956, 2.72160005569458, 2.7207000255584717, 2.719099998474121, 2.7190001010894775, 2.717600107192993, 2.7174999713897705, 2.7172000408172607, 2.716599941253662, 2.7158000469207764, 2.715100049972534, 2.7135000228881836, 2.712100028991699, 2.7105000019073486, 2.710400104522705, 2.7095000743865967, 2.7095000743865967, 2.709199905395508, 2.7088000774383545, 2.7072999477386475, 2.7070999145507812, 2.706399917602539, 2.7063000202178955, 2.7060999870300293, 2.7053000926971436, 2.704400062561035, 2.7032999992370605, 2.7026000022888184, 2.702399969100952, 2.702399969100952, 2.7265000343322754, 2.7260000705718994, 2.7244999408721924, 2.724100112915039, 2.7228000164031982, 2.7219998836517334, 2.7218000888824463, 2.7214999198913574, 2.721299886703491, 2.7200000286102295, 2.7200000286102295, 2.7197000980377197, 2.7188000679016113, 2.7186999320983887, 2.717600107192993, 2.7165000438690186, 2.7158000469207764, 2.7156999111175537, 2.7147998809814453, 2.7147998809814453, 2.7139999866485596, 2.7139999866485596, 2.7130000591278076, 2.7126998901367188, 2.7125000953674316, 2.7121999263763428, 2.712100028991699, 2.7116000652313232, 2.710700035095215, 2.7105000019073486, 2.4658000469207764, 2.430500030517578, 2.3357999324798584], \"logprob\": [30.0, 29.0, 28.0, 27.0, 26.0, 25.0, 24.0, 23.0, 22.0, 21.0, 20.0, 19.0, 18.0, 17.0, 16.0, 15.0, 14.0, 13.0, 12.0, 11.0, 10.0, 9.0, 8.0, 7.0, 6.0, 5.0, 4.0, 3.0, 2.0, 1.0, -2.3780999183654785, -2.5053999423980713, -2.8970000743865967, -3.738800048828125, -3.9677999019622803, -4.551700115203857, -4.598800182342529, -4.786499977111816, -4.887499809265137, -4.894499778747559, -4.948299884796143, -5.318600177764893, -5.360799789428711, -5.422599792480469, -5.565800189971924, -5.652599811553955, -5.684500217437744, -5.696300029754639, -5.817500114440918, -5.883600234985352, -6.09119987487793, -6.111999988555908, -6.233399868011475, -6.265600204467773, -6.304800033569336, -6.317399978637695, -6.3765997886657715, -6.397799968719482, -6.472300052642822, -6.506199836730957, -5.03849983215332, -4.962399959564209, -4.62939977645874, -4.69920015335083, -4.829500198364258, -4.940100193023682, -5.09660005569458, -5.15500020980835, -5.226900100708008, -5.265699863433838, -5.428400039672852, -5.448400020599365, -5.617499828338623, -5.640900135040283, -5.733799934387207, -5.792799949645996, -5.801499843597412, -5.85830020904541, -5.966800212860107, -5.978700160980225, -6.15369987487793, -6.213500022888184, -6.2153000831604, -6.253399848937988, -6.288000106811523, -6.337600231170654, -6.338699817657471, -6.380799770355225, -6.412099838256836, -6.423699855804443, -6.444699764251709, -6.4695000648498535, -4.673399925231934, -3.919100046157837, -4.747900009155273, -5.013500213623047, -6.165200233459473, -5.234399795532227, -5.953800201416016, -4.773399829864502, -5.032299995422363, -5.250500202178955, -5.511499881744385, -5.582399845123291, -5.632999897003174, -5.644499778747559, -5.674699783325195, -5.686999797821045, -5.875199794769287, -5.946100234985352, -5.981500148773193, -6.042099952697754, -6.052499771118164, -6.086699962615967, -6.140900135040283, -6.1508002281188965, -6.155099868774414, -6.277500152587891, -6.296500205993652, -6.360599994659424, -6.399899959564209, -6.42110013961792, -6.422500133514404, -6.487400054931641, -6.499100208282471, -6.502399921417236, -6.554500102996826, -6.558899879455566, -6.563499927520752, -4.0995001792907715, -4.527100086212158, -4.92110013961792, -5.092599868774414, -5.2256999015808105, -5.3078999519348145, -5.365799903869629, -5.511000156402588, -5.5167999267578125, -5.583799839019775, -5.683800220489502, -5.795000076293945, -5.807600021362305, -5.957799911499023, -5.984499931335449, -6.003799915313721, -6.056000232696533, -6.08620023727417, -6.10860013961792, -6.164000034332275, -6.185100078582764, -6.226399898529053, -6.251699924468994, -6.2617998123168945, -6.29449987411499, -6.311600208282471, -6.3221001625061035, -6.394700050354004, -6.437099933624268, -6.46619987487793, -5.21150016784668, -6.058899879455566, -4.142399787902832, -4.419400215148926, -4.8790998458862305, -5.064899921417236, -5.215199947357178, -5.310100078582764, -5.333799839019775, -5.369699954986572, -5.374899864196777, -5.440499782562256, -5.484000205993652, -5.611700057983398, -5.611700057983398, -5.688199996948242, -5.741399765014648, -5.748300075531006, -5.7642998695373535, -5.76609992980957, -5.8256001472473145, -5.898099899291992, -5.917900085449219, -5.930500030517578, -5.9475998878479, -5.953800201416016, -5.986199855804443, -5.98859977722168, -6.012899875640869, -6.040800094604492, -6.117199897766113, -6.161499977111816, -3.223599910736084, -4.147200107574463, -4.4618000984191895, -4.638299942016602, -5.093299865722656, -5.452000141143799, -5.519000053405762, -5.598199844360352, -5.651199817657471, -5.769599914550781, -5.931099891662598, -6.018599987030029, -6.142399787902832, -6.165299892425537, -6.206900119781494, -6.275400161743164, -6.275700092315674, -6.299799919128418, -6.30049991607666, -6.309500217437744, -6.343500137329102, -6.358399868011475, -6.3734002113342285, -6.431000232696533, -6.442299842834473, -6.49429988861084, -6.5071001052856445, -6.534900188446045, -6.584400177001953, -6.610599994659424, -4.578400135040283, -4.874499797821045, -5.212800025939941, -5.281000137329102, -5.298699855804443, -5.326900005340576, -5.651100158691406, -5.656199932098389, -5.683300018310547, -5.7108001708984375, -5.7403998374938965, -5.741700172424316, -5.776800155639648, -5.880099773406982, -5.892499923706055, -5.926700115203857, -5.950099945068359, -5.959000110626221, -5.978499889373779, -5.982100009918213, -6.019400119781494, -6.093299865722656, -6.099299907684326, -6.115900039672852, -6.151100158691406, -6.181300163269043, -6.193600177764893, -6.203800201416016, -6.232500076293945, -6.255099773406982, -6.298299789428711, -5.245699882507324, -4.637599945068359, -4.912799835205078, -5.154399871826172, -5.285900115966797, -5.389200210571289, -5.475500106811523, -5.535200119018555, -5.62939977645874, -5.643199920654297, -5.706099987030029, -5.90369987487793, -5.913400173187256, -5.938899993896484, -5.982900142669678, -5.99970006942749, -6.039599895477295, -6.095399856567383, -6.117599964141846, -6.157400131225586, -6.171500205993652, -6.198400020599365, -6.249599933624268, -6.284800052642822, -6.324900150299072, -6.341000080108643, -6.367700099945068, -6.378200054168701, -6.383200168609619, -6.419099807739258, -6.469299793243408, -3.6793999671936035, -4.3983001708984375, -4.832699775695801, -4.950200080871582, -5.1915998458862305, -5.280099868774414, -5.326499938964844, -5.446599960327148, -5.526199817657471, -5.624800205230713, -5.764699935913086, -5.7982001304626465, -5.888899803161621, -5.891900062561035, -5.90939998626709, -5.9120001792907715, -5.915200233459473, -5.930200099945068, -6.019000053405762, -6.019000053405762, -6.049600124359131, -6.104499816894531, -6.136300086975098, -6.203999996185303, -6.21019983291626, -6.21619987487793, -6.231900215148926, -6.2378997802734375, -6.289700031280518, -6.294600009918213, -5.1554999351501465, -5.329699993133545, -4.364500045776367, -4.399600028991699, -4.477700233459473, -4.8632001876831055, -5.118199825286865, -5.2895002365112305, -5.442399978637695, -5.572500228881836, -5.69350004196167, -5.706200122833252, -5.736800193786621, -5.739200115203857, -5.761300086975098, -5.805699825286865, -5.991199970245361, -5.993899822235107, -6.0553998947143555, -6.062099933624268, -6.126500129699707, -6.173799991607666, -6.1774001121521, -6.218299865722656, -6.231400012969971, -6.238399982452393, -6.279300212860107, -6.312300205230713, -6.314199924468994, -6.318900108337402, -6.337399959564209, -6.407700061798096, -6.3917999267578125, -3.3092000484466553, -3.6501998901367188, -4.249899864196777, -4.250999927520752, -4.8942999839782715, -4.933300018310547, -4.993100166320801, -5.007599830627441, -5.08050012588501, -5.14739990234375, -5.2104997634887695, -5.4344000816345215, -5.491600036621094, -5.636499881744385, -5.709000110626221, -5.726600170135498, -5.777100086212158, -5.8709001541137695, -5.911099910736084, -5.940999984741211, -5.94290018081665, -6.011600017547607, -6.059299945831299, -6.0854997634887695, -6.099400043487549, -6.106299877166748, -6.152299880981445, -6.1539998054504395, -6.228600025177002, -6.274199962615967, -3.7723000049591064, -5.321199893951416, -5.924300193786621, -2.1877999305725098, -3.7323999404907227, -3.7560999393463135, -3.9885001182556152, -4.138999938964844, -4.418799877166748, -4.674099922180176, -4.886000156402588, -5.1570000648498535, -5.243199825286865, -5.245299816131592, -5.3155999183654785, -5.319699764251709, -5.4131999015808105, -5.477399826049805, -5.735899925231934, -5.7906999588012695, -5.903800010681152, -5.9380998611450195, -5.989299774169922, -6.008399963378906, -6.080999851226807, -6.0894999504089355, -6.156599998474121, -6.164000034332275, -6.168399810791016, -6.178699970245361, -6.212299823760986, -6.222700119018555, -6.228799819946289, -4.921999931335449, -3.229099988937378, -4.32450008392334, -4.6570000648498535, -4.7027997970581055, -4.963699817657471, -4.9766998291015625, -5.012899875640869, -5.119100093841553, -5.154300212860107, -5.332699775695801, -5.44379997253418, -5.447700023651123, -5.61359977722168, -5.697500228881836, -5.739200115203857, -5.886199951171875, -5.931600093841553, -5.982100009918213, -6.046000003814697, -6.085700035095215, -6.126100063323975, -6.1315999031066895, -6.164000034332275, -6.191299915313721, -6.196000099182129, -6.196300029754639, -6.218100070953369, -6.224599838256836, -6.242300033569336, -6.261099815368652, -5.762400150299072, -3.072200059890747, -3.613300085067749, -4.185200214385986, -4.742300033569336, -4.7758002281188965, -5.072199821472168, -5.093100070953369, -5.157700061798096, -5.250100135803223, -5.374199867248535, -5.462800025939941, -5.658899784088135, -5.802999973297119, -5.936200141906738, -5.947299957275391, -6.015399932861328, -6.019000053405762, -6.039599895477295, -6.069300174713135, -6.171199798583984, -6.183800220489502, -6.229599952697754, -6.232100009918213, -6.246799945831299, -6.295100212097168, -6.343400001525879, -6.401899814605713, -6.436200141906738, -6.446700096130371, -6.446899890899658, -3.502500057220459, -3.8559000492095947, -4.537399768829346, -4.648200035095215, -4.9842000007629395, -5.137400150299072, -5.16540002822876, -5.227700233459473, -5.252399921417236, -5.450099945068359, -5.4506001472473145, -5.479499816894531, -5.597599983215332, -5.6097002029418945, -5.723899841308594, -5.824100017547607, -5.8846001625061035, -5.900000095367432, -5.9679999351501465, -5.969600200653076, -6.029600143432617, -6.032299995422363, -6.1006999015808105, -6.12529993057251, -6.1367998123168945, -6.160099983215332, -6.16480016708374, -6.1956000328063965, -6.25, -6.263199806213379, -3.9946000576019287, -4.237800121307373, -3.731800079345703]}, \"token.table\": {\"Topic\": [2, 12, 6, 8, 2, 2, 5, 6, 15, 1, 6, 12, 4, 10, 11, 4, 11, 11, 4, 14, 7, 1, 2, 14, 14, 11, 9, 6, 15, 2, 10, 14, 10, 12, 14, 2, 13, 1, 12, 4, 12, 8, 15, 10, 5, 12, 7, 12, 15, 7, 10, 9, 7, 10, 13, 2, 12, 5, 13, 10, 8, 10, 7, 7, 7, 15, 6, 7, 9, 15, 14, 10, 3, 4, 7, 6, 5, 2, 11, 2, 2, 7, 15, 2, 7, 4, 15, 11, 14, 8, 13, 1, 10, 9, 13, 7, 9, 12, 12, 9, 4, 14, 13, 6, 12, 12, 8, 1, 3, 6, 10, 11, 3, 4, 2, 13, 3, 13, 10, 8, 15, 14, 3, 5, 5, 11, 9, 13, 3, 12, 14, 9, 14, 9, 12, 13, 4, 14, 8, 3, 14, 1, 3, 15, 8, 6, 12, 13, 7, 1, 11, 15, 4, 11, 13, 5, 8, 5, 1, 4, 2, 7, 13, 8, 5, 13, 1, 2, 13, 12, 1, 12, 7, 12, 3, 10, 14, 15, 5, 12, 1, 3, 3, 15, 7, 15, 11, 9, 4, 13, 3, 3, 1, 13, 13, 2, 1, 5, 7, 4, 13, 11, 10, 12, 1, 12, 12, 6, 14, 6, 8, 11, 14, 6, 3, 9, 6, 11, 14, 9, 10, 6, 3, 12, 10, 6, 15, 1, 11, 9, 9, 15, 5, 9, 8, 6, 5, 7, 3, 15, 15, 5, 13, 10, 15, 4, 2, 1, 11, 5, 15, 11, 1, 15, 8, 8, 1, 1, 1, 9, 13, 2, 10, 1, 5, 14, 3, 8, 12, 4, 15, 1, 4, 2, 15, 15, 8, 8, 9, 5, 10, 9, 6, 1, 14, 8, 7, 14, 2, 3, 2, 10, 1, 10, 2, 15, 4, 2, 7, 7, 9, 7, 8, 4, 9, 15, 11, 11, 10, 9, 13, 14, 14, 11, 6, 3, 1, 3, 5, 3, 11, 10, 13, 11, 11, 15, 2, 5, 11, 15, 6, 5, 10, 4, 15, 5, 10, 15, 8, 1, 9, 11, 14, 3, 1, 4, 9, 15, 8, 8, 11, 4, 13, 11, 8, 7, 12, 10, 3, 8, 11, 9, 3, 14, 12, 11, 5, 3, 15, 2, 3, 7, 4, 1, 4, 9, 2, 6, 10, 12, 6, 4, 5, 7, 5, 8, 8, 2, 14, 6, 9, 13, 13, 4, 13, 4, 2, 2, 4, 3, 13, 4, 9, 6, 11, 6, 4, 14, 14, 3, 13, 7, 6, 6, 2, 6, 7, 7, 5, 2, 4, 5, 2, 3, 2, 10, 7, 6, 14, 5, 7, 1, 1, 2, 5, 4, 14, 9, 10, 3, 12, 2, 9, 11, 12, 6, 2, 9, 8, 5, 8, 1, 6, 15, 2, 11, 8, 10, 14, 12, 4, 8, 12, 11, 6, 9, 5, 9, 13, 12, 2, 10, 13, 13, 1, 7, 3], \"Freq\": [0.9845080971717834, 0.9961221218109131, 0.9958290457725525, 0.980877697467804, 0.9822031855583191, 0.9936957955360413, 0.9944919347763062, 0.9920519590377808, 0.9910678267478943, 0.9979648590087891, 0.9895220398902893, 0.9930811524391174, 0.9948531985282898, 0.996052086353302, 0.9971793293952942, 0.978498101234436, 0.976091206073761, 0.9939727783203125, 0.9685291051864624, 0.987288773059845, 0.985809326171875, 0.9701957106590271, 0.9858056902885437, 0.9787111878395081, 0.9990706443786621, 0.9954670071601868, 0.9965693354606628, 0.989122211933136, 0.9852913618087769, 0.9868152737617493, 0.9953765273094177, 0.9920111298561096, 0.9905543327331543, 0.9909658432006836, 0.9982785582542419, 0.8844371438026428, 0.10050422698259354, 0.9987703561782837, 0.9941403269767761, 0.9663446545600891, 0.9903808236122131, 0.9925928115844727, 0.9883995652198792, 0.9815492630004883, 0.9865306615829468, 0.9932079911231995, 0.9937849044799805, 0.9965096712112427, 0.985994279384613, 0.9950388669967651, 0.9933413863182068, 0.9875885248184204, 0.9945133328437805, 0.9953029751777649, 0.9854297637939453, 0.9849273562431335, 0.9981157779693604, 0.9977067708969116, 0.9852802157402039, 0.9941303133964539, 0.9922768473625183, 0.9816071391105652, 0.992669403553009, 0.9975268244743347, 0.9939963221549988, 0.9975977540016174, 0.9883990287780762, 0.993628978729248, 0.9852782487869263, 0.9951296448707581, 0.9778046607971191, 0.9965847730636597, 0.9671796560287476, 0.9873464107513428, 0.9908338785171509, 0.9940826892852783, 0.9969046711921692, 0.9915822148323059, 0.9923643469810486, 0.9957416653633118, 0.9683513641357422, 0.9877024292945862, 0.9926498532295227, 0.32827624678611755, 0.6626316905021667, 0.9883103966712952, 0.9971272945404053, 0.9835701584815979, 0.985432505607605, 0.9776481986045837, 0.9884008765220642, 0.9956036806106567, 0.9742445945739746, 0.9956795573234558, 0.9753109216690063, 0.9855706095695496, 0.9831002950668335, 0.9727798700332642, 0.9930545687675476, 0.9889073371887207, 0.9963474869728088, 0.9856694936752319, 0.9819984436035156, 0.5857771039009094, 0.41332870721817017, 0.9958961009979248, 0.9951058030128479, 0.9767549633979797, 0.9971272349357605, 0.9987568259239197, 0.9961603879928589, 0.9827664494514465, 0.9838719964027405, 0.9924414753913879, 0.9937884211540222, 0.991457462310791, 0.9758008718490601, 0.9940231442451477, 0.9921177625656128, 0.9905574321746826, 0.9884140491485596, 0.9940981864929199, 0.9939188361167908, 0.9887691140174866, 0.9971368908882141, 0.9829533100128174, 0.9884142875671387, 0.9950281381607056, 0.9905779957771301, 0.9828063249588013, 0.9986867308616638, 0.9930568933486938, 0.9898183345794678, 0.9777638912200928, 0.9992695450782776, 0.9889504313468933, 0.9936546087265015, 0.9657114148139954, 0.996283233165741, 0.9986677169799805, 0.9924582839012146, 0.9907036423683167, 0.990978479385376, 0.9838293790817261, 0.9975962042808533, 0.9758070111274719, 0.9866766929626465, 0.9894359111785889, 0.9824424386024475, 0.728701651096344, 0.2671906054019928, 0.9955872893333435, 0.9982157349586487, 0.8790373206138611, 0.12003660947084427, 0.9934018850326538, 0.993773877620697, 0.9988037347793579, 0.9970938563346863, 0.988226056098938, 0.9657387733459473, 0.9964859485626221, 0.9906246066093445, 0.9764742255210876, 0.981021523475647, 0.9950376749038696, 0.9991792440414429, 0.9938570857048035, 0.9987611770629883, 0.9985901117324829, 0.9915580749511719, 0.9770694375038147, 0.9935094714164734, 0.9973399043083191, 0.9916051030158997, 0.9924392700195312, 0.9790681600570679, 0.9868243932723999, 0.992573618888855, 0.9882355332374573, 0.993740975856781, 0.9823105335235596, 0.9936636090278625, 0.9966866970062256, 0.9792675971984863, 0.9991732239723206, 0.9988542199134827, 0.9903897047042847, 0.9887661337852478, 0.9961022138595581, 0.9947091937065125, 0.984313428401947, 0.9978129267692566, 0.9960641860961914, 0.984960675239563, 0.9810915589332581, 0.9939748644828796, 0.9880561828613281, 0.9805461764335632, 0.9963904619216919, 0.9773090481758118, 0.9876698851585388, 0.9949565529823303, 0.9957860112190247, 0.7963455319404602, 0.2005186527967453, 0.9798659086227417, 0.9954256415367126, 0.9753674268722534, 0.9975980520248413, 0.9857563972473145, 0.9818717837333679, 0.9909049868583679, 0.9703968167304993, 0.9849123954772949, 0.9801719188690186, 0.9753126502037048, 0.9920481443405151, 0.9990518689155579, 0.991662859916687, 0.9851192831993103, 0.9783544540405273, 0.9759631156921387, 0.9907652139663696, 0.9730740189552307, 0.9934226870536804, 0.996764600276947, 0.9916839599609375, 0.9879826903343201, 0.9786450266838074, 0.994789719581604, 0.9973195195198059, 0.9976732730865479, 0.9966315627098083, 0.9926254153251648, 0.9779973030090332, 0.9823038578033447, 0.994758665561676, 0.9976353645324707, 0.9917086958885193, 0.9876128435134888, 0.9856588244438171, 0.9806146621704102, 0.9959681630134583, 0.9748275279998779, 0.9904571771621704, 0.9864143133163452, 0.9936273694038391, 0.9884939789772034, 0.9975205063819885, 0.9937611818313599, 0.996631920337677, 0.9987133145332336, 0.9949050545692444, 0.976999044418335, 0.9925371408462524, 0.9792752861976624, 0.999592661857605, 0.9768671989440918, 0.9827409982681274, 0.9828438758850098, 0.9932602047920227, 0.9778196215629578, 0.9921779632568359, 0.9830698370933533, 0.9957867860794067, 0.9773542284965515, 0.989331066608429, 0.9887411594390869, 0.9939265847206116, 0.9858086109161377, 0.9933433532714844, 0.9773570895195007, 0.22973743081092834, 0.769210159778595, 0.9844184517860413, 0.9948011040687561, 0.9793001413345337, 0.996821403503418, 0.9865503907203674, 0.987383246421814, 0.977745532989502, 0.9900548458099365, 0.9832389950752258, 0.9819797277450562, 0.9848227500915527, 0.9771937727928162, 0.9900275468826294, 0.9982213973999023, 0.9640476703643799, 0.8390451669692993, 0.16135483980178833, 0.9945748448371887, 0.9767882823944092, 0.9720249772071838, 0.991316556930542, 0.9699641466140747, 0.9945485591888428, 0.9841269254684448, 0.9789227247238159, 0.99042147397995, 0.9949207901954651, 0.9900930523872375, 0.9885383248329163, 0.9748748540878296, 0.9921830892562866, 0.9977178573608398, 0.9920290112495422, 0.9697726964950562, 0.99424809217453, 0.9891869425773621, 0.9921146035194397, 0.9658953547477722, 0.9947507381439209, 0.9854413866996765, 0.9926760196685791, 0.97626131772995, 0.9941832423210144, 0.9964616894721985, 0.9795167446136475, 0.979016900062561, 0.9805442094802856, 0.9989283680915833, 0.993605375289917, 0.25503799319267273, 0.7423878312110901, 0.9965806603431702, 0.9837042093276978, 0.9820937514305115, 0.998279869556427, 0.9846592545509338, 0.984613835811615, 0.987661600112915, 0.995047926902771, 0.9960696697235107, 0.9854528307914734, 0.9841415882110596, 0.9908372759819031, 0.9970037341117859, 0.9970731139183044, 0.9885209798812866, 0.9836986660957336, 0.9860113263130188, 0.9875573515892029, 0.9794098734855652, 0.15787261724472046, 0.16618171334266663, 0.6758056282997131, 0.9928461313247681, 0.99139404296875, 0.983586311340332, 0.9988299012184143, 0.9931160807609558, 0.9996621012687683, 0.9736301898956299, 0.9935808181762695, 0.9902633428573608, 0.9894076585769653, 0.9809352159500122, 0.9786608219146729, 0.9888599514961243, 0.9878507256507874, 0.9927598834037781, 0.9817180633544922, 0.9897428154945374, 0.9851909875869751, 0.988804042339325, 0.9929448366165161, 0.9838516116142273, 0.9810827970504761, 0.9920902848243713, 0.9882310628890991, 0.9859911799430847, 0.9972176551818848, 0.9820504784584045, 0.9737138152122498, 0.9898837208747864, 0.9637269973754883, 0.9942373633384705, 0.9859558343887329, 0.9795539379119873, 0.9853429794311523, 0.9972558617591858, 0.9875094294548035, 0.9868366122245789, 0.9738740921020508, 0.99018794298172, 0.9918838739395142, 0.9882882237434387, 0.9767996072769165, 0.9992247223854065, 0.9851382374763489, 0.9975461363792419, 0.9783628582954407, 0.987799882888794, 0.9862682223320007, 0.987534761428833, 0.7369450330734253, 0.25978636741638184, 0.9962625503540039, 0.9951696991920471, 0.9768081903457642, 0.9852280020713806, 0.9823381304740906, 0.9867333769798279, 0.9900756478309631, 0.9851768016815186, 0.9941465854644775, 0.978480339050293, 0.9892279505729675, 0.9891759157180786, 0.9959070086479187, 0.9845916628837585, 0.9760888814926147, 0.9763844609260559, 0.9749243259429932, 0.9838475584983826, 0.9852502346038818, 0.9799923896789551, 0.9956185817718506, 0.991382896900177, 0.9916877150535583, 0.8720921277999878, 0.12458458542823792, 0.9898108839988708, 0.9941247701644897, 0.9743592143058777, 0.9931010603904724, 0.9908159971237183, 0.9911797642707825, 0.9964497089385986, 0.9891135692596436, 0.999650776386261, 0.9700336456298828, 0.9972916841506958, 0.9943150877952576, 0.998914897441864, 0.9855843782424927, 0.9957098960876465, 0.9934614896774292, 0.9954554438591003, 0.9919523000717163, 0.9956837892532349, 0.9913667440414429, 0.9997584223747253, 0.9969583749771118, 0.8044303059577942, 0.19530639052391052, 0.9967585802078247, 0.9856957197189331, 0.9853411912918091, 0.9998917579650879, 0.9889432787895203, 0.9964154362678528, 0.9911428689956665, 0.9799785614013672, 0.9770369529724121, 0.9915131330490112, 0.9971596598625183, 0.9801443219184875, 0.9981629252433777, 0.9804359078407288, 0.9880957007408142, 0.9953891634941101, 0.9989560842514038, 0.9875032901763916, 0.979564905166626, 0.9946929216384888, 0.9922152161598206, 0.9870374798774719, 0.9937319159507751, 0.9962787628173828, 0.9986991882324219, 0.9861436486244202, 0.9905785322189331, 0.9884829521179199, 0.9953233599662781], \"Term\": [\"ability_move\", \"ability_work\", \"able_work\", \"advance_career\", \"allow_employee\", \"allow_work\", \"always_willing\", \"area_work\", \"around_world\", \"balance_good\", \"balance_great\", \"balance_work\", \"benefit_good\", \"benefit_package\", \"best_company\", \"best_part\", \"best_people\", \"best_place\", \"best_practice\", \"best_reason\", \"best_thing\", \"best_work\", \"big_blue\", \"big_brand\", \"big_company\", \"big_name\", \"brand_name\", \"brand_recognition\", \"brand_value\", \"bright_people\", \"business_unit\", \"cant_think\", \"career_advancement\", \"career_development\", \"career_growth\", \"career_ibm\", \"career_ibm\", \"career_opportunity\", \"career_path\", \"career_progression\", \"challenge_work\", \"chance_work\", \"change_career\", \"change_job\", \"co_worker\", \"company_culture\", \"company_good\", \"company_great\", \"company_learn\", \"company_lot\", \"company_many\", \"company_name\", \"company_offer\", \"company_provide\", \"company_start\", \"company_value\", \"company_work\", \"company_world\", \"compensation_benefit\", \"competitive_pay\", \"competitive_salary\", \"corporate_culture\", \"culture_good\", \"cut_edge\", \"day_day\", \"decent_benefit\", \"decent_pay\", \"decent_salary\", \"depend_project\", \"develop_skill\", \"development_opportunity\", \"different_area\", \"different_career\", \"different_industry\", \"different_job\", \"different_opportunity\", \"different_project\", \"different_role\", \"different_technology\", \"different_thing\", \"dress_code\", \"easy_get\", \"easy_work\", \"edge_technology\", \"edge_technology\", \"employee_benefit\", \"employee_friendly\", \"employee_work\", \"enjoy_work\", \"entry_level\", \"environment_good\", \"environment_work\", \"establish_company\", \"even_though\", \"every_day\", \"every_year\", \"excellent_benefit\", \"excellent_opportunity\", \"excellent_work\", \"experience_work\", \"feel_like\", \"find_good\", \"first_line\", \"flexibility_work\", \"flexibility_work\", \"flexible_hour\", \"flexible_schedule\", \"flexible_time\", \"flexible_timing\", \"flexible_work\", \"flexible_working\", \"freedom_work\", \"friendly_atmosphere\", \"friendly_environment\", \"friendly_people\", \"friendly_work\", \"full_time\", \"gain_experience\", \"generally_good\", \"get_chance\", \"get_experience\", \"get_good\", \"get_involve\", \"get_job\", \"get_work\", \"give_good\", \"give_opportunity\", \"global_company\", \"global_reach\", \"good_atmosphere\", \"good_benefit\", \"good_brand\", \"good_career\", \"good_colleague\", \"good_company\", \"good_compensation\", \"good_culture\", \"good_employee\", \"good_environment\", \"good_experience\", \"good_exposure\", \"good_flexibility\", \"good_job\", \"good_learn\", \"good_learning\", \"good_location\", \"good_management\", \"good_manager\", \"good_name\", \"good_opportunity\", \"good_opportunity\", \"good_pay\", \"good_people\", \"good_place\", \"good_place\", \"good_project\", \"good_reputation\", \"good_resume\", \"good_salary\", \"good_start\", \"good_support\", \"good_team\", \"good_technical\", \"good_technology\", \"good_thing\", \"good_training\", \"good_work\", \"good_working\", \"good_worklife\", \"great_benefit\", \"great_brand\", \"great_career\", \"great_colleague\", \"great_company\", \"great_coworkers\", \"great_culture\", \"great_deal\", \"great_environment\", \"great_experience\", \"great_flexibility\", \"great_learn\", \"great_learning\", \"great_management\", \"great_opportunity\", \"great_pay\", \"great_people\", \"great_place\", \"great_product\", \"great_resume\", \"great_team\", \"great_technology\", \"great_training\", \"great_work\", \"great_worklife\", \"grow_career\", \"grow_skill\", \"growth_opportunity\", \"hard_work\", \"health_benefit\", \"health_care\", \"health_insurance\", \"high_level\", \"home_facility\", \"home_flexibility\", \"home_office\", \"home_office\", \"home_opportunity\", \"home_option\", \"home_policy\", \"hour_work\", \"huge_company\", \"ibm_best\", \"ibm_big\", \"ibm_employee\", \"ibm_flexible\", \"ibm_give\", \"ibm_global\", \"ibm_good\", \"ibm_great\", \"ibm_india\", \"ibm_large\", \"ibm_lot\", \"ibm_name\", \"ibm_offer\", \"ibm_one\", \"ibm_pay\", \"ibm_provide\", \"ibm_really\", \"ibm_research\", \"ibm_still\", \"ibm_year\", \"intelligent_people\", \"interesting_project\", \"interesting_work\", \"international_company\", \"international_environment\", \"job_do\", \"job_opportunity\", \"job_role\", \"job_security\", \"know_ibm\", \"knowledge_base\", \"knowledge_share\", \"large_company\", \"last_year\", \"late_technology\", \"lead_edge\", \"learn_experience\", \"learn_grow\", \"learn_lot\", \"learn_many\", \"learn_new\", \"learn_opportunity\", \"learn_work\", \"learning_experience\", \"learning_opportunity\", \"leave_policy\", \"life_balance\", \"life_balancegood\", \"like_work\", \"line_manager\", \"long_term\", \"long_time\", \"look_good\", \"looks_good\", \"lot_different\", \"lot_experience\", \"lot_flexibility\", \"lot_freedom\", \"lot_good\", \"lot_great\", \"lot_learn\", \"lot_new\", \"lot_opportunity\", \"lot_opportunity\", \"lot_people\", \"lot_resource\", \"lot_room\", \"lot_smart\", \"lot_thing\", \"lot_train\", \"lot_training\", \"lot_work\", \"love_work\", \"make_difference\", \"make_sure\", \"many_area\", \"many_company\", \"many_different\", \"many_good\", \"many_opportunity\", \"many_opportunity\", \"many_people\", \"many_project\", \"many_smart\", \"many_thing\", \"many_year\", \"move_around\", \"move_different\", \"move_within\", \"name_recognition\", \"name_resume\", \"new_challenge\", \"new_hire\", \"new_idea\", \"new_skill\", \"new_technology\", \"new_thing\", \"nice_colleague\", \"nice_people\", \"nice_place\", \"nice_work\", \"nothing_else\", \"one_best\", \"online_training\", \"open_door\", \"opportunity_advancement\", \"opportunity_available\", \"opportunity_career\", \"opportunity_employee\", \"opportunity_get\", \"opportunity_good\", \"opportunity_grow\", \"opportunity_growth\", \"opportunity_learn\", \"opportunity_learn\", \"opportunity_move\", \"opportunity_travel\", \"opportunity_within\", \"opportunity_work\", \"option_available\", \"option_work\", \"overall_good\", \"part_ibm\", \"pay_benefit\", \"pay_good\", \"pay_well\", \"people_around\", \"people_good\", \"people_great\", \"people_ibm\", \"people_learn\", \"people_nice\", \"people_want\", \"people_willing\", \"people_work\", \"people_work\", \"people_work\", \"people_world\", \"personal_development\", \"place_get\", \"place_learn\", \"place_start\", \"place_work\", \"pleasure_work\", \"plenty_opportunity\", \"possibility_work\", \"pretty_good\", \"pro_work\", \"problem_solve\", \"process_orient\", \"product_service\", \"professional_development\", \"professional_growth\", \"professional_work\", \"project_management\", \"project_work\", \"provide_good\", \"provide_great\", \"provide_lot\", \"provide_opportunity\", \"quality_work\", \"quite_good\", \"really_good\", \"really_great\", \"really_smart\", \"reason_work\", \"relaxed_work\", \"remote_work\", \"resource_available\", \"resource_learn\", \"respect_individual\", \"salary_benefit\", \"salary_good\", \"senior_management\", \"sick_day\", \"sick_leave\", \"skill_set\", \"small_company\", \"smart_colleague\", \"smart_people\", \"stable_company\", \"start_career\", \"start_salary\", \"take_advantage\", \"take_care\", \"take_time\", \"talented_people\", \"talented_people\", \"team_member\", \"team_work\", \"tech_company\", \"technical_skill\", \"technology_company\", \"technology_work\", \"term_work\", \"thing_learn\", \"time_work\", \"top_notch\", \"top_performer\", \"training_available\", \"training_opportunity\", \"treat_employee\", \"vacation_day\", \"vacation_time\", \"want_learn\", \"want_work\", \"well_establish\", \"well_know\", \"wide_range\", \"wide_variety\", \"willing_help\", \"within_company\", \"within_company\", \"within_ibm\", \"within_organization\", \"work_anywhere\", \"work_arrangement\", \"work_atmosphere\", \"work_best\", \"work_big\", \"work_company\", \"work_culture\", \"work_day\", \"work_different\", \"work_do\", \"work_environment\", \"work_ethic\", \"work_experience\", \"work_flexibility\", \"work_force\", \"work_good\", \"work_great\", \"work_hard\", \"work_home\", \"work_hour\", \"work_ibm\", \"work_ibm\", \"work_large\", \"work_late\", \"work_learn\", \"work_life\", \"work_location\", \"work_lot\", \"work_many\", \"work_new\", \"work_one\", \"work_option\", \"work_people\", \"work_place\", \"work_pressure\", \"work_really\", \"work_remote\", \"work_remotely\", \"work_schedule\", \"work_smart\", \"work_team\", \"work_time\", \"work_timing\", \"work_work\", \"working_environment\", \"working_hour\", \"worklife_balance\", \"world_class\", \"world_wide\", \"year_ago\", \"year_ibm\"]}, \"R\": 30, \"lambda.step\": 0.01, \"plot.opts\": {\"xlab\": \"PC1\", \"ylab\": \"PC2\"}, \"topic.order\": [13, 10, 4, 1, 12, 5, 7, 2, 6, 14, 9, 15, 8, 3, 11]};\n",
       "\n",
       "function LDAvis_load_lib(url, callback){\n",
       "  var s = document.createElement('script');\n",
       "  s.src = url;\n",
       "  s.async = true;\n",
       "  s.onreadystatechange = s.onload = callback;\n",
       "  s.onerror = function(){console.warn(\"failed to load library \" + url);};\n",
       "  document.getElementsByTagName(\"head\")[0].appendChild(s);\n",
       "}\n",
       "\n",
       "if(typeof(LDAvis) !== \"undefined\"){\n",
       "   // already loaded: just create the visualization\n",
       "   !function(LDAvis){\n",
       "       new LDAvis(\"#\" + \"ldavis_el766957581948169184456503\", ldavis_el766957581948169184456503_data);\n",
       "   }(LDAvis);\n",
       "}else if(typeof define === \"function\" && define.amd){\n",
       "   // require.js is available: use it to load d3/LDAvis\n",
       "   require.config({paths: {d3: \"https://cdnjs.cloudflare.com/ajax/libs/d3/3.5.5/d3.min\"}});\n",
       "   require([\"d3\"], function(d3){\n",
       "      window.d3 = d3;\n",
       "      LDAvis_load_lib(\"https://cdn.rawgit.com/bmabey/pyLDAvis/files/ldavis.v1.0.0.js\", function(){\n",
       "        new LDAvis(\"#\" + \"ldavis_el766957581948169184456503\", ldavis_el766957581948169184456503_data);\n",
       "      });\n",
       "    });\n",
       "}else{\n",
       "    // require.js not available: dynamically load d3 & LDAvis\n",
       "    LDAvis_load_lib(\"https://cdnjs.cloudflare.com/ajax/libs/d3/3.5.5/d3.min.js\", function(){\n",
       "         LDAvis_load_lib(\"https://cdn.rawgit.com/bmabey/pyLDAvis/files/ldavis.v1.0.0.js\", function(){\n",
       "                 new LDAvis(\"#\" + \"ldavis_el766957581948169184456503\", ldavis_el766957581948169184456503_data);\n",
       "            })\n",
       "         });\n",
       "}\n",
       "</script>"
      ],
      "text/plain": [
       "PreparedData(topic_coordinates=           Freq  cluster  topics         x         y\n",
       "topic                                               \n",
       "12     6.873217        1       1  0.313365 -0.063495\n",
       "9      6.720337        1       2 -0.053669 -0.052667\n",
       "3      6.713337        1       3 -0.015419 -0.000842\n",
       "0      6.694036        1       4 -0.047687 -0.051386\n",
       "11     6.688785        1       5 -0.003629 -0.000310\n",
       "4      6.683906        1       6 -0.010492  0.099530\n",
       "6      6.666307        1       7 -0.017472 -0.003923\n",
       "1      6.663810        1       8 -0.012770  0.001060\n",
       "5      6.657862        1       9 -0.054843 -0.059739\n",
       "13     6.643310        1      10 -0.018933 -0.003286\n",
       "8      6.642058        1      11  0.000782 -0.046517\n",
       "14     6.638593        1      12  0.022579  0.277444\n",
       "7      6.607620        1      13 -0.017389 -0.011021\n",
       "2      6.568954        1      14 -0.017233  0.002721\n",
       "10     6.537868        1      15 -0.067192 -0.087570, topic_info=     Category         Freq                Term        Total  loglift  logprob\n",
       "term                                                                         \n",
       "537   Default  2321.000000           work_home  2321.000000  30.0000  30.0000\n",
       "357   Default  1987.000000           work_life  1987.000000  29.0000  29.0000\n",
       "88    Default  1749.000000        life_balance  1749.000000  28.0000  28.0000\n",
       "229   Default  1182.000000           good_work  1182.000000  27.0000  27.0000\n",
       "228   Default   949.000000    work_environment   949.000000  26.0000  26.0000\n",
       "169   Default   830.000000       flexible_work   830.000000  25.0000  25.0000\n",
       "156   Default   816.000000    worklife_balance   816.000000  24.0000  24.0000\n",
       "364   Default   757.000000          place_work   757.000000  23.0000  23.0000\n",
       "249   Default   614.000000        great_people   614.000000  22.0000  22.0000\n",
       "54    Default   552.000000        good_benefit   552.000000  21.0000  21.0000\n",
       "0     Default   538.000000         great_place   538.000000  20.0000  20.0000\n",
       "100   Default   524.000000        smart_people   524.000000  19.0000  19.0000\n",
       "12    Default   510.000000        work_culture   510.000000  18.0000  18.0000\n",
       "1745  Default   722.000000         people_work   722.000000  17.0000  17.0000\n",
       "355   Default   495.000000        company_work   495.000000  16.0000  16.0000\n",
       "356   Default   484.000000        good_company   484.000000  15.0000  15.0000\n",
       "405   Default   541.000000          good_place   541.000000  14.0000  14.0000\n",
       "257   Default   431.000000    opportunity_work   431.000000  13.0000  13.0000\n",
       "22    Default   517.000000            work_ibm   517.000000  12.0000  12.0000\n",
       "335   Default   405.000000          great_work   405.000000  11.0000  11.0000\n",
       "509   Default   487.000000     lot_opportunity   487.000000  10.0000  10.0000\n",
       "837   Default   384.000000       great_company   384.000000   9.0000   9.0000\n",
       "10    Default   346.000000         good_people   346.000000   8.0000   8.0000\n",
       "236   Default   331.000000           learn_lot   331.000000   7.0000   7.0000\n",
       "1115  Default   330.000000       great_benefit   330.000000   6.0000   6.0000\n",
       "826   Default   330.000000           work_hour   330.000000   5.0000   5.0000\n",
       "26    Default   396.000000   opportunity_learn   396.000000   4.0000   4.0000\n",
       "470   Default   312.000000         big_company   312.000000   3.0000   3.0000\n",
       "13    Default   295.000000           learn_new   295.000000   2.0000   2.0000\n",
       "256   Default   295.000000      new_technology   295.000000   1.0000   1.0000\n",
       "...       ...          ...                 ...          ...      ...      ...\n",
       "2476  Topic15   195.196518            good_pay   195.864288   2.7241  -4.6482\n",
       "2804  Topic15   139.494354        job_security   140.162125   2.7228  -4.9842\n",
       "1485  Topic15   119.677948   employee_friendly   120.345718   2.7220  -5.1374\n",
       "501   Topic15   116.377701        around_world   117.045471   2.7218  -5.1654\n",
       "1782  Topic15   109.340202       people_around   110.007973   2.7215  -5.2277\n",
       "2947  Topic15   106.679543         ibm_provide   107.347313   2.7213  -5.2524\n",
       "1833  Topic15    87.544136      decent_benefit    88.211906   2.7200  -5.4501\n",
       "2174  Topic15    87.493813   great_environment    88.161583   2.7200  -5.4506\n",
       "1600  Topic15    85.001900           new_skill    85.669670   2.7197  -5.4795\n",
       "4463  Topic15    75.536491  intelligent_people    76.204262   2.7188  -5.5976\n",
       "2477  Topic15    74.628166         pay_benefit    75.295937   2.7187  -5.6097\n",
       "7717  Topic15    66.573257            work_lot    67.241028   2.7176  -5.7239\n",
       "2327  Topic15    60.227917         brand_value    60.895691   2.7165  -5.8241\n",
       "6402  Topic15    56.690071          learn_many    57.357845   2.7158  -5.8846\n",
       "6403  Topic15    55.822758          many_thing    56.490532   2.7157  -5.9000\n",
       "2528  Topic15    52.155293          lot_people    52.823067   2.7148  -5.9680\n",
       "4268  Topic15    52.070869       company_learn    52.738644   2.7148  -5.9696\n",
       "3732  Topic15    49.037613           lot_great    49.705387   2.7140  -6.0296\n",
       "4190  Topic15    48.907318       change_career    49.575092   2.7140  -6.0323\n",
       "198   Topic15    45.672836           easy_work    46.340611   2.7130  -6.1007\n",
       "5579  Topic15    44.562672          learn_work    45.230446   2.7127  -6.1253\n",
       "1963  Topic15    44.054417       provide_great    44.722191   2.7125  -6.1368\n",
       "2803  Topic15    43.038990          good_learn    43.706764   2.7122  -6.1601\n",
       "23    Topic15    42.836262      get_experience    43.504036   2.7121  -6.1648\n",
       "2621  Topic15    41.537781       develop_skill    42.205555   2.7116  -6.1956\n",
       "3061  Topic15    39.339302           last_year    40.007076   2.7107  -6.2500\n",
       "2720  Topic15    38.821384            know_ibm    39.489159   2.7105  -6.2632\n",
       "509   Topic15   375.244354     lot_opportunity   487.513062   2.4658  -3.9946\n",
       "26    Topic15   294.231110   opportunity_learn   396.019409   2.4305  -4.2378\n",
       "1745  Topic15   488.064880         people_work   722.101135   2.3358  -3.7318\n",
       "\n",
       "[504 rows x 6 columns], token_table=       Topic      Freq                 Term\n",
       "term                                       \n",
       "579        2  0.984508         ability_move\n",
       "1724      12  0.996122         ability_work\n",
       "661        6  0.995829            able_work\n",
       "10926      8  0.980878       advance_career\n",
       "9228       2  0.982203       allow_employee\n",
       "1507       2  0.993696           allow_work\n",
       "3615       5  0.994492       always_willing\n",
       "4492       6  0.992052            area_work\n",
       "501       15  0.991068         around_world\n",
       "829        1  0.997965         balance_good\n",
       "960        6  0.989522        balance_great\n",
       "46        12  0.993081         balance_work\n",
       "2766       4  0.994853         benefit_good\n",
       "1187      10  0.996052      benefit_package\n",
       "890       11  0.997179         best_company\n",
       "1176       4  0.978498            best_part\n",
       "9366      11  0.976091          best_people\n",
       "2636      11  0.993973           best_place\n",
       "4144       4  0.968529        best_practice\n",
       "4216      14  0.987289          best_reason\n",
       "5802       7  0.985809           best_thing\n",
       "14323      1  0.970196            best_work\n",
       "7598       2  0.985806             big_blue\n",
       "11101     14  0.978711            big_brand\n",
       "470       14  0.999071          big_company\n",
       "4792      11  0.995467             big_name\n",
       "532        9  0.996569           brand_name\n",
       "1212       6  0.989122    brand_recognition\n",
       "2327      15  0.985291          brand_value\n",
       "9278       2  0.986815        bright_people\n",
       "...      ...       ...                  ...\n",
       "22         9  0.195306             work_ibm\n",
       "776        8  0.996759           work_large\n",
       "2201       5  0.985696            work_late\n",
       "237        8  0.985341           work_learn\n",
       "357        1  0.999892            work_life\n",
       "1904       6  0.988943        work_location\n",
       "7717      15  0.996415             work_lot\n",
       "766        2  0.991143            work_many\n",
       "2761      11  0.979979             work_new\n",
       "16787      8  0.977037             work_one\n",
       "760       10  0.991513          work_option\n",
       "620       14  0.997160          work_people\n",
       "1768      12  0.980144           work_place\n",
       "594        4  0.998163        work_pressure\n",
       "3465       8  0.980436          work_really\n",
       "6682      12  0.988096          work_remote\n",
       "2304      11  0.995389        work_remotely\n",
       "1428       6  0.998956        work_schedule\n",
       "453        9  0.987503           work_smart\n",
       "179        5  0.979565            work_team\n",
       "366        9  0.994693            work_time\n",
       "1498      13  0.992215          work_timing\n",
       "358       12  0.987037            work_work\n",
       "409        2  0.993732  working_environment\n",
       "538       10  0.996279         working_hour\n",
       "156       13  0.998699     worklife_balance\n",
       "67        13  0.986144          world_class\n",
       "4705       1  0.990579           world_wide\n",
       "3064       7  0.988483             year_ago\n",
       "19778      3  0.995323             year_ibm\n",
       "\n",
       "[477 rows x 3 columns], R=30, lambda_step=0.01, plot_opts={'xlab': 'PC1', 'ylab': 'PC2'}, topic_order=[13, 10, 4, 1, 12, 5, 7, 2, 6, 14, 9, 15, 8, 3, 11])"
      ]
     },
     "execution_count": 143,
     "metadata": {},
     "output_type": "execute_result"
    }
   ],
   "source": [
    "bigram_data = pyLDAvis.gensim.prepare(lda_bigram, c_bigram, d_bigram)\n",
    "bigram_data"
   ]
  },
  {
   "cell_type": "code",
   "execution_count": null,
   "metadata": {},
   "outputs": [],
   "source": []
  },
  {
   "cell_type": "code",
   "execution_count": null,
   "metadata": {},
   "outputs": [],
   "source": []
  },
  {
   "cell_type": "code",
   "execution_count": null,
   "metadata": {},
   "outputs": [],
   "source": []
  },
  {
   "cell_type": "code",
   "execution_count": null,
   "metadata": {},
   "outputs": [],
   "source": []
  },
  {
   "cell_type": "code",
   "execution_count": null,
   "metadata": {},
   "outputs": [],
   "source": []
  },
  {
   "cell_type": "markdown",
   "metadata": {},
   "source": [
    "## 1st time LDA topic modeling (20 topics)"
   ]
  },
  {
   "cell_type": "code",
   "execution_count": 144,
   "metadata": {},
   "outputs": [
    {
     "name": "stdout",
     "output_type": "stream",
     "text": [
      "['ability', 'ability change', 'ability get', 'ability grow', 'ability learn', 'ability move', 'ability telecommute', 'ability travel', 'ability work', 'able']\n",
      "(87294, 5615)\n"
     ]
    }
   ],
   "source": [
    "# Preprocessing - Create Term Frequency Matrix before LDA model\n",
    "\n",
    "tf_vectorizer = CountVectorizer(min_df=10,ngram_range=(1,2),stop_words=stop_words)  #max_df=0.90\n",
    "pro_tf = tf_vectorizer.fit_transform(pros_lemmatized_text.lemmatized_pros)\n",
    "\n",
    "tfidf_feature_names = tf_vectorizer.get_feature_names()\n",
    "print(tfidf_feature_names[0:10])\n",
    "print(pro_tf.shape)"
   ]
  },
  {
   "cell_type": "code",
   "execution_count": 159,
   "metadata": {},
   "outputs": [
    {
     "name": "stderr",
     "output_type": "stream",
     "text": [
      "/anaconda3/lib/python3.6/site-packages/sklearn/decomposition/online_lda.py:536: DeprecationWarning: The default value for 'learning_method' will be changed from 'online' to 'batch' in the release 0.20. This warning was introduced in 0.18.\n",
      "  DeprecationWarning)\n"
     ]
    },
    {
     "name": "stdout",
     "output_type": "stream",
     "text": [
      "iteration: 1 of max_iter: 10, perplexity: 1095.8275\n",
      "iteration: 2 of max_iter: 10, perplexity: 1083.1537\n",
      "iteration: 3 of max_iter: 10, perplexity: 1079.4473\n",
      "iteration: 4 of max_iter: 10, perplexity: 1077.9374\n",
      "iteration: 5 of max_iter: 10, perplexity: 1077.0794\n",
      "iteration: 6 of max_iter: 10, perplexity: 1076.4727\n",
      "iteration: 7 of max_iter: 10, perplexity: 1076.0157\n",
      "iteration: 8 of max_iter: 10, perplexity: 1075.7056\n",
      "iteration: 9 of max_iter: 10, perplexity: 1075.4806\n",
      "iteration: 10 of max_iter: 10, perplexity: 1075.2963\n"
     ]
    }
   ],
   "source": [
    "# LDA model\n",
    "num_topics = 20\n",
    "pro_lda = LatentDirichletAllocation(n_components=num_topics, \\\n",
    "                                max_iter=10,verbose=1,\n",
    "                                evaluate_every=1, n_jobs=1,\n",
    "                                random_state=0).fit(pro_tf)"
   ]
  },
  {
   "cell_type": "code",
   "execution_count": 160,
   "metadata": {
    "scrolled": false
   },
   "outputs": [
    {
     "name": "stdout",
     "output_type": "stream",
     "text": [
      "[[0.0125     0.0125     0.0125     0.0125     0.0125     0.0125\n",
      "  0.0125     0.0125     0.0125     0.0125     0.0125     0.0125\n",
      "  0.0125     0.0125     0.7625     0.0125     0.0125     0.0125\n",
      "  0.0125     0.0125    ]\n",
      " [0.0125     0.0125     0.0125     0.0125     0.0125     0.0125\n",
      "  0.0125     0.0125     0.0125     0.0125     0.0125     0.2625\n",
      "  0.0125     0.0125     0.0125     0.0125     0.0125     0.0125\n",
      "  0.0125     0.5125    ]\n",
      " [0.01666667 0.01666667 0.01666667 0.68333333 0.01666667 0.01666667\n",
      "  0.01666667 0.01666667 0.01666667 0.01666667 0.01666667 0.01666667\n",
      "  0.01666667 0.01666667 0.01666667 0.01666667 0.01666667 0.01666667\n",
      "  0.01666667 0.01666667]\n",
      " [0.00555556 0.00555556 0.00555556 0.00555556 0.00555556 0.00555556\n",
      "  0.00555556 0.00555556 0.00555556 0.12769686 0.00555556 0.00555556\n",
      "  0.77230314 0.00555556 0.00555556 0.00555556 0.00555556 0.00555556\n",
      "  0.00555556 0.00555556]\n",
      " [0.0125     0.0125     0.0125     0.0125     0.51249999 0.0125\n",
      "  0.0125     0.0125     0.0125     0.0125     0.0125     0.0125\n",
      "  0.0125     0.2625     0.0125     0.0125     0.0125     0.0125\n",
      "  0.0125     0.0125    ]]\n",
      "[14, 19, 3, 12, 4]\n"
     ]
    }
   ],
   "source": [
    "# Assign documents to topic\n",
    "topic_assign=pro_lda.transform(pro_tf) #X_train \n",
    "topics=np.copy(topic_assign)\n",
    "print(topics[0:5])\n",
    "\n",
    "# assign topic with highest probability as topics matrix using argmax(axis=1)\n",
    "pro_topics = topics.argmax(axis=1)\n",
    "pro_topics=pro_topics.tolist()\n",
    "print(pro_topics[0:5])"
   ]
  },
  {
   "cell_type": "code",
   "execution_count": 166,
   "metadata": {},
   "outputs": [
    {
     "name": "stdout",
     "output_type": "stream",
     "text": [
      "Topic 0:\n",
      "[('many', 2442.9728177838692), ('work', 1773.5511527308165), ('flexibility', 1719.9687663700865), ('opportunity', 1549.527904695838), ('client', 1196.3378240062987), ('company', 985.1451278747967), ('large', 978.521698915458), ('available', 770.9350388172246), ('project', 617.6004277680158), ('opportunity work', 587.7471864845461), ('interesting', 535.3865702072925), ('flexibility work', 498.8737565168497), ('education', 495.38390316511124), ('top', 438.9568701420602), ('wide', 424.5600206498315), ('lead', 417.7432689661313), ('large company', 388.9151109310079), ('diverse', 353.14367919840316), ('range', 317.6096866749413), ('area', 305.7361564429452), ('many opportunity', 302.0092753065412), ('great opportunity', 300.565780453633), ('say', 253.67398452746596), ('many different', 234.0428349263209), ('interesting project', 196.65216732573077), ('plus', 187.24768813710082), ('deal', 178.40467378606633), ('friendly environment', 165.82726575653913), ('wide range', 155.17072465483383), ('good career', 136.44380771902277)]\n",
      "\n",
      "\n",
      "Topic 1:\n",
      "[('business', 1160.8871162730525), ('world', 1118.0680434927608), ('take', 781.4905836390772), ('need', 700.2403241727756), ('day', 671.5242733128327), ('organization', 633.4906936410125), ('challenge', 612.5941843926453), ('huge', 468.23154163777747), ('innovation', 466.03138629158303), ('research', 461.51208924986753), ('find', 440.42862149101654), ('company', 417.1324840841758), ('vacation', 348.176363464203), ('work', 326.40472658790026), ('problem', 310.4115138322991), ('fun', 268.90054192757293), ('young', 229.70940970435387), ('workplace', 220.05424334372626), ('enough', 218.12905609852194), ('mean', 213.6513717021631), ('large', 198.93026297977812), ('scope', 196.29512778100454), ('watson', 193.7767713919536), ('consult', 188.1710812870983), ('fast', 176.2680507940522), ('corporation', 155.37725542785589), ('create', 140.94257906267046), ('proud', 125.72832672623771), ('building', 123.85558298726517), ('work company', 122.90886593737739)]\n",
      "\n",
      "\n",
      "Topic 2:\n",
      "[('make', 1039.8300191975559), ('process', 872.9844657314933), ('around', 862.1375469199601), ('ability', 807.9499657821337), ('work', 722.3026583475403), ('easy', 625.3772610642567), ('level', 582.4829445307375), ('great work', 580.8163481504348), ('area', 558.3233543611082), ('company', 548.7779032362115), ('focus', 470.1772613738451), ('ability work', 342.11311786926655), ('move around', 262.9785243444431), ('opportunity grow', 262.48883270340696), ('ibm great', 252.1883090957598), ('include', 243.33297838334784), ('orient', 242.6206558963016), ('remotely', 239.9334292795343), ('work remotely', 220.81521915959888), ('positive', 219.24610086810824), ('end', 211.2683717138155), ('fantastic', 206.80339017443254), ('department', 194.9780973451525), ('ibmers', 180.37358069836603), ('match', 178.73593655091472), ('breadth', 167.18700226987036), ('goal', 155.49296916375295), ('people around', 152.42625994726328), ('around world', 151.69520060927303), ('relationship', 148.19720620943357)]\n",
      "\n",
      "\n",
      "Topic 3:\n",
      "[('place', 2309.595994206509), ('work', 2115.736743417068), ('culture', 2062.5369269927373), ('good', 1898.1220246980558), ('place work', 1039.6486277686965), ('provide', 1034.866556118326), ('colleague', 894.9048563753498), ('learn', 768.5871582919611), ('good place', 735.08161392625), ('work culture', 723.8956330664037), ('opportunity learn', 560.0177873702575), ('base', 497.50639984046387), ('willing', 431.872201010842), ('open', 428.1221239739287), ('corporate', 336.4606361196232), ('place learn', 330.44132706401666), ('everyone', 329.2059612866003), ('policy', 313.92169062168546), ('security', 301.0092650161966), ('stay', 279.5078627168414), ('woman', 265.5931258098579), ('advancement', 250.2731965125972), ('tool', 227.3711286658441), ('job security', 186.03952996126995), ('best place', 168.2827151686349), ('door', 155.1163633566376), ('ibm provide', 152.2517220417642), ('good culture', 149.5215649983284), ('platform', 142.74837026597393), ('culture good', 129.50135170997982)]\n",
      "\n",
      "\n",
      "Topic 4:\n",
      "[('work', 7121.587534239549), ('home', 4053.0121573004026), ('work home', 3358.703287528945), ('flexible', 3134.3777473003656), ('hour', 1504.47568886905), ('one', 1362.2603206050198), ('option', 818.4137426756029), ('office', 816.0570840716476), ('good', 700.3733888067682), ('good people', 532.1023318180729), ('timing', 496.2841683716744), ('working', 484.6166874303889), ('work hour', 457.9701853735618), ('flexible working', 365.837506567867), ('home option', 344.6531910408303), ('working hour', 336.9807508255454), ('keep', 308.48445109470117), ('tech', 294.2800132576966), ('flexible hour', 286.286681178971), ('generally', 273.40442381630095), ('week', 268.53414356512206), ('home office', 256.65695614795555), ('flexible timing', 249.14176148017052), ('almost', 246.25792944487893), ('ive', 235.12795562031744), ('information', 224.88963747642447), ('one best', 202.5911373857858), ('best company', 184.01314865390373), ('home facility', 163.68258606456772), ('work people', 148.31161922537098)]\n",
      "\n",
      "\n",
      "Topic 5:\n",
      "[('manager', 1366.6575974738632), ('industry', 976.1170795837886), ('good', 830.6563505262426), ('role', 769.5195432143106), ('customer', 726.479728681558), ('resume', 650.2886046668324), ('way', 448.59079233151067), ('development', 426.05051108003124), ('overall', 316.00113407487606), ('various', 314.33446218158093), ('average', 297.80859395547975), ('nothing', 225.49843881936573), ('good resume', 217.50811630539607), ('wonderful', 203.49351692799257), ('mind', 196.1545980343378), ('compare', 188.3103018694888), ('self', 188.21109464026378), ('become', 171.788893710619), ('expect', 160.85904076043062), ('due', 154.78417569151776), ('expert', 152.24104354306536), ('matter', 150.49814956446022), ('design', 148.3799938543413), ('dedicate', 141.97810166593067), ('success', 138.81592032863614), ('someone', 134.14224256647975), ('scale', 132.7031768173229), ('material', 128.4426246064837), ('task', 119.45228695623524), ('together', 117.94742423505436)]\n",
      "\n",
      "\n",
      "Topic 6:\n",
      "[('work', 5709.216199359763), ('life', 3481.265002751833), ('good', 2995.545804745844), ('balance', 2757.6949172748455), ('work life', 2753.845218463624), ('life balance', 2416.601246045733), ('team', 2237.7841786397585), ('company', 1785.8174592372181), ('good work', 1661.226910531308), ('great', 1239.8380111274769), ('brand', 1198.8718621944465), ('really', 1113.286082531916), ('high', 761.7502668186615), ('always', 735.8645484263945), ('knowledge', 729.1573494599445), ('company work', 722.7895810065105), ('good company', 695.2332098379671), ('travel', 596.4081878050694), ('great company', 571.790738878007), ('talented', 514.7585857574431), ('hard', 482.8516394576057), ('name', 446.78267354993966), ('new technology', 414.1178956981157), ('brand name', 349.71296658456913), ('build', 289.3547771213206), ('quality', 277.75667813171714), ('talented people', 246.8572195084136), ('balance good', 243.50181411359353), ('member', 213.61972336840586), ('bright', 211.74017995860274)]\n",
      "\n",
      "\n",
      "Topic 7:\n",
      "[('ibm', 4870.0846811521415), ('people', 2318.20631458566), ('work', 1701.5668160852697), ('smart', 1324.7338649174887), ('well', 1318.4033894244878), ('people work', 997.4244779523424), ('technical', 853.2221965395368), ('change', 799.8038212558753), ('smart people', 732.7103210789476), ('schedule', 623.1136812877909), ('able', 513.9745053212914), ('see', 364.8306187056165), ('plenty', 358.6107134750789), ('individual', 337.3003055449459), ('family', 317.02701626951915), ('work schedule', 283.56446260744855), ('plan', 279.23184166604824), ('without', 231.23586770509206), ('quite', 220.7905966386744), ('ibm good', 203.2210679245013), ('able work', 179.33760951226157), ('flexible schedule', 170.19961171195175), ('since', 165.909895929877), ('find', 165.24324241219415), ('although', 145.19396256645382), ('within ibm', 141.564573215915), ('capability', 137.8984821725578), ('work smart', 137.37858801072625), ('lot smart', 132.29006032008877), ('im', 131.80491297258072)]\n",
      "\n",
      "\n",
      "Topic 8:\n",
      "[('learn', 2333.842886589433), ('new', 1920.1172144051611), ('excellent', 1250.505831019471), ('growth', 1034.897931891673), ('lot', 1022.9586614485586), ('exposure', 757.8101303480498), ('strong', 665.9452044294306), ('good', 558.2242676327958), ('learn new', 436.2291998126869), ('learn lot', 435.2310748439668), ('chance', 429.00877832801655), ('health', 357.9885713102601), ('good environment', 262.1570223327168), ('career growth', 227.87845704553123), ('reward', 210.47303483158743), ('insurance', 197.48314055280173), ('environment work', 194.419403470372), ('else', 174.26975844351725), ('reasonable', 156.7540193984551), ('treat', 151.5945691032654), ('site', 147.7538518211887), ('growth opportunity', 143.4433446898558), ('youll', 141.99729321166464), ('excellent work', 139.686681158827), ('stuff', 129.7586662749296), ('new skill', 127.70645746043506), ('vision', 122.85684045080079), ('choice', 116.54037887383969), ('chance work', 112.0120623922111), ('lot good', 111.52255213042139)]\n",
      "\n",
      "\n",
      "Topic 9:\n",
      "[('technology', 2739.1700673603395), ('management', 1741.2142439440431), ('worklife', 1314.4025373998877), ('balance', 1183.1391032385025), ('worklife balance', 1146.0871264354814), ('resource', 1003.1872668742286), ('good', 853.6184443588327), ('within', 832.0660570001168), ('want', 797.6409457850154), ('service', 598.3271208126412), ('access', 577.6149712067231), ('use', 525.4604138150474), ('allow', 516.6167066801904), ('network', 425.082240270521), ('edge', 387.91988606921007), ('good worklife', 347.0959493369659), ('within company', 290.95001619298057), ('late', 283.7628873129141), ('remote', 269.88017539027527), ('cut', 259.2054555653471), ('awesome', 252.58986917026272), ('responsibility', 217.2222741817603), ('edge technology', 214.7340280773004), ('cut edge', 209.94440539143793), ('improve', 195.8633598227845), ('option', 169.79110767124521), ('fairly', 163.5533766861749), ('practice', 159.65155703603256), ('ton', 157.66747519305605), ('direction', 146.10328777382423)]\n",
      "\n",
      "\n",
      "Topic 10:\n",
      "[('job', 2256.9439212076845), ('different', 1506.7334121638442), ('opportunity', 1149.270944941487), ('product', 871.256707536272), ('interest', 489.42314581755767), ('variety', 435.0363373255747), ('respect', 425.67104551943686), ('freedom', 338.7802794121769), ('youre', 333.52400754550587), ('project', 328.18132868932804), ('stable', 326.4561462766028), ('diversity', 311.6319209626799), ('de', 298.7710856124059), ('could', 269.1599824986206), ('well', 255.35208348869406), ('structure', 237.0747864461223), ('encourage', 224.36738604574515), ('community', 212.29593529194372), ('explore', 208.91365369734638), ('advance', 194.61141630060746), ('challenge', 182.36154881635045), ('vast', 173.44487710259116), ('outside', 171.22407794383102), ('account', 170.6392761420243), ('broad', 170.33854781421118), ('lot different', 168.84000020488742), ('type', 154.13373757358974), ('development', 149.61311777575875), ('several', 148.75422729816228), ('stability', 144.9867910565671)]\n",
      "\n",
      "\n",
      "Topic 11:\n",
      "[('environment', 3339.081473352754), ('work', 2046.2675603644473), ('work environment', 1325.5725092009277), ('professional', 961.9749155819009), ('good', 961.7964323766245), ('name', 699.0254464999878), ('atmosphere', 475.8668367873438), ('facility', 415.4746857117349), ('pro', 403.71014355493526), ('highly', 311.37188662039296), ('field', 302.6025555546647), ('pressure', 287.6047098187836), ('less', 265.18619714029586), ('intelligent', 263.95481254853587), ('peer', 255.37347040886857), ('love', 232.88947289979723), ('big', 232.04556291995112), ('staff', 213.48068449011632), ('recognize', 198.3206909045718), ('wfh', 187.58379399135012), ('usually', 170.21197219282328), ('name recognition', 158.11475271762475), ('easily', 148.41853034197499), ('knowledgeable', 138.66152646555602), ('environment good', 136.82396914410472), ('case', 133.62848565446362), ('work pressure', 129.5505794571146), ('blue', 126.72128675564473), ('skilled', 125.39172308189583), ('talk', 117.67300462530723)]\n",
      "\n",
      "\n",
      "Topic 12:\n",
      "[('pay', 1769.6346571931601), ('help', 1057.109880531951), ('global', 1048.9246898048118), ('give', 899.0984877904664), ('good', 698.9434513655322), ('decent', 688.4008821851194), ('offer', 660.75613506616), ('know', 635.4618573046749), ('think', 482.1409940488932), ('care', 409.74064309007), ('possibility', 325.8448211417869), ('first', 323.74165637663157), ('senior', 311.86707935672075), ('good pay', 278.0411056968041), ('everything', 253.56243437716535), ('may', 243.43752846295638), ('line', 242.15743881926562), ('especially', 238.0103289257631), ('amount', 236.94118937735917), ('back', 229.85599215362956), ('ok', 213.37415548356617), ('perk', 175.79936235942122), ('global company', 167.7156608472198), ('none', 161.45541240108733), ('bonus', 159.67270824452612), ('standard', 157.64625126611327), ('willing help', 149.58648130250916), ('issue', 148.2080691085314), ('onsite', 140.326240939385), ('others', 140.1140645522046)]\n",
      "\n",
      "\n",
      "Topic 13:\n",
      "[('people', 3983.7407424238513), ('employee', 2621.654641149572), ('company', 2468.9430579793107), ('great', 1837.4217218665815), ('nice', 1690.507420402831), ('thing', 1046.8570765163463), ('great people', 901.1884988201803), ('train', 577.2681291528415), ('software', 477.85980770121535), ('dont', 400.8440768326685), ('solution', 398.32882508457334), ('free', 384.4364865739559), ('amaze', 324.09152793305793), ('innovative', 317.9605455944099), ('set', 286.6131249195862), ('solid', 260.07817585571337), ('potential', 251.89652744674987), ('future', 239.5019225772466), ('nice people', 232.2672208589515), ('real', 225.3377894932982), ('cool', 213.34152540422784), ('work great', 211.01962238214955), ('new thing', 191.3609975816715), ('seem', 188.03716742209127), ('nice work', 187.88834917231063), ('ever', 184.87948233731044), ('kind', 166.8852268413043), ('college', 163.1070154571111), ('truly', 162.24762628336785), ('size', 127.50939561547094)]\n",
      "\n",
      "\n",
      "Topic 14:\n",
      "[('great', 5589.709965880466), ('training', 1245.734075337263), ('grow', 1002.1562363216343), ('support', 838.6005741332467), ('great place', 740.8416014621096), ('program', 562.8983097266561), ('place', 505.60316750772427), ('right', 494.0723389325214), ('internal', 389.7641034921644), ('try', 321.6696115671603), ('supportive', 300.30593339244604), ('employer', 240.45953647138373), ('good training', 201.55945182749298), ('choose', 195.93329911890186), ('put', 190.24905194440524), ('history', 186.7212467434423), ('manage', 185.41669579626276), ('cv', 184.06940732227207), ('low', 174.36945072910137), ('executive', 153.59396867662602), ('advantage', 143.64698605008047), ('infrastructure', 141.4691485451474), ('learn grow', 129.1018024675177), ('consultant', 125.1143891372457), ('initiative', 124.41238296446593), ('great technology', 121.90869597997225), ('important', 120.17389819487197), ('certification', 118.93371700681747), ('patent', 115.65903792820357), ('great colleague', 115.36807795456846)]\n",
      "\n",
      "\n",
      "Topic 15:\n",
      "[('get', 2802.3931237048637), ('experience', 1991.610031922829), ('long', 721.2874206096423), ('coworkers', 643.0604207952321), ('work', 636.2483735321425), ('good', 580.0115877150749), ('even', 411.7836639187694), ('leader', 392.47700087219187), ('group', 336.84278795766295), ('get work', 332.15407374485824), ('gain', 320.795547655364), ('good opportunity', 266.7121344820988), ('idea', 245.7260637702523), ('extremely', 207.9907729165614), ('hr', 206.8033573360325), ('drive', 195.34173163986708), ('organisation', 187.66433090210737), ('amazing', 164.75949136362175), ('mostly', 162.94046753952486), ('ethic', 135.57045539268188), ('hand', 135.2325039736033), ('current', 135.0449998401408), ('long term', 132.05353712848589), ('school', 131.44844151637568), ('great experience', 131.37029575717386), ('get good', 131.08379148579996), ('activity', 130.30768958715845), ('lots', 118.04909160008876), ('increase', 114.12023974592611), ('india', 114.0301098431845)]\n",
      "\n",
      "\n",
      "Topic 16:\n",
      "[('ibm', 1707.1528509818747), ('company', 1414.0972746428395), ('big', 1242.8514719153393), ('flexible work', 1212.128721087923), ('skill', 1130.6863471975112), ('like', 956.8905241539945), ('work', 906.3277937873696), ('much', 700.1384245525085), ('value', 692.9354960234759), ('work ibm', 677.1759918306603), ('learning', 656.686312516723), ('good', 558.9597436195961), ('position', 509.45712779736806), ('every', 495.24776834011635), ('come', 463.9081993158666), ('big company', 463.60676032292815), ('helpful', 427.35345386437115), ('recognition', 411.45731210546893), ('sale', 379.6508255149663), ('personal', 356.2383686164851), ('leadership', 329.7682499917029), ('path', 324.4120538007993), ('feel', 305.88727701188645), ('enjoy', 281.7810752286751), ('reputation', 270.44098546144266), ('career path', 239.59170226791204), ('reason', 237.34584704262218), ('development', 232.78940012021124), ('good learning', 206.17713467414387), ('course', 198.95902340458477)]\n",
      "\n",
      "\n",
      "Topic 17:\n",
      "[('opportunity', 3809.1407219983275), ('lot', 3658.115933056395), ('career', 2700.781385970515), ('best', 1699.1676982838924), ('learn', 940.7794413772289), ('good', 933.4312286979707), ('start', 817.9177262405162), ('lot opportunity', 697.7201040163748), ('look', 544.5653061091407), ('compensation', 454.22930660572376), ('talent', 307.59513429232885), ('career opportunity', 305.6365261009011), ('intern', 290.37537915702706), ('working', 279.8878093296381), ('start career', 255.7548901767411), ('online', 250.2621005877518), ('learn opportunity', 246.61258704576443), ('number', 239.2698204554928), ('lot learn', 221.21095914078649), ('good working', 209.07310230658092), ('fresher', 204.66153693113066), ('ibms', 203.1404124490049), ('money', 197.60498974531112), ('bad', 181.62258606497716), ('place start', 180.05875667634217), ('working environment', 169.28823446522833), ('anything', 164.8776109472904), ('career development', 147.88125940566056), ('company lot', 138.09402897401145), ('collaboration', 128.04177152200916)]\n",
      "\n",
      "\n",
      "Topic 18:\n",
      "[('benefit', 3288.606613625614), ('good', 2774.390189946582), ('project', 1411.291513216007), ('year', 1097.847331258466), ('friendly', 1086.8349167434944), ('move', 984.6925800577235), ('good benefit', 758.1565310123543), ('go', 721.0384449957156), ('location', 601.707842753827), ('depend', 460.71127527809284), ('develop', 442.87443932785874), ('great benefit', 441.91717665502273), ('term', 395.93597550568126), ('pretty', 385.2918989548592), ('package', 355.40135970544736), ('multiple', 298.20934990974087), ('join', 229.0821960516245), ('benefit good', 201.42431805911), ('room', 196.75999140020645), ('benefit package', 196.69709118806568), ('opportunity move', 189.5298156745933), ('excite', 189.19624375881358), ('old', 188.4084658620809), ('employee friendly', 175.0649814925753), ('pretty good', 158.84006814806577), ('medical', 158.4733805800274), ('least', 150.11766646505657), ('last', 146.88693482305138), ('good project', 143.51659512970053), ('strategy', 140.50224981311885)]\n",
      "\n",
      "\n",
      "Topic 19:\n",
      "[('time', 2168.3753456827567), ('salary', 1349.1606946274035), ('still', 665.927797475802), ('part', 548.8532614488992), ('leave', 513.6863383713675), ('competitive', 497.03754460920186), ('market', 492.9684410668968), ('across', 422.0461802412618), ('meet', 383.34601487141265), ('international', 378.2355751094182), ('system', 351.43860136436854), ('hire', 328.33688151416675), ('good salary', 313.2010078712693), ('share', 294.08357920259743), ('sick', 244.94634116049616), ('mentor', 243.78544046742198), ('something', 243.36822285636626), ('country', 241.8935594934332), ('though', 241.16619536636182), ('never', 233.3838401237944), ('possible', 231.12111928423957), ('graduate', 211.98152463898344), ('unlimited', 202.2050238551545), ('full', 200.6258730945656), ('expertise', 193.59734361934193), ('cloud', 189.97980852264), ('assignment', 179.30801559208638), ('reach', 176.88538663562716), ('fair', 175.60244305758326), ('trust', 173.41256230752154)]\n",
      "\n",
      "\n"
     ]
    }
   ],
   "source": [
    "# Get topic words: \n",
    "num_top_words=30\n",
    "\n",
    "# get_feature_names() gives all words (features==bag of words)\n",
    "tfidf_feature_names = tf_vectorizer.get_feature_names()\n",
    "\n",
    "for topic_idx, topic in enumerate(pro_lda.components_):   # array of 4 topics* 4000words\n",
    "    print (\"Topic %d:\" % (topic_idx))\n",
    "    # print out top 20 words per topic by using the argsort:\n",
    "    words=[(tfidf_feature_names[i],topic[i]) for i in topic.argsort()[::-1][0:num_top_words]]\n",
    "    print(words)\n",
    "    print(\"\\n\")"
   ]
  },
  {
   "cell_type": "markdown",
   "metadata": {},
   "source": [
    "### Conclusion after LDA\n",
    "\n",
    "- not clear clutsers: 2,10,12,15,16,19\n",
    "- 7: people\n",
    "- 0: flexibility\n",
    "- 1,6: work/project\n",
    "- 3: culture\n",
    "- 4: flexiblility\n",
    "- 5: company brand\n",
    "- 8,14: careern growth \n",
    "- 9: work-life \n",
    "- 11: work environment\n",
    "- 13: people\n",
    "- 17: opportunity\n",
    "- 18: benefit"
   ]
  },
  {
   "cell_type": "code",
   "execution_count": 170,
   "metadata": {
    "scrolled": true
   },
   "outputs": [
    {
     "data": {
      "text/html": [
       "<div>\n",
       "<style scoped>\n",
       "    .dataframe tbody tr th:only-of-type {\n",
       "        vertical-align: middle;\n",
       "    }\n",
       "\n",
       "    .dataframe tbody tr th {\n",
       "        vertical-align: top;\n",
       "    }\n",
       "\n",
       "    .dataframe thead th {\n",
       "        text-align: right;\n",
       "    }\n",
       "</style>\n",
       "<table border=\"1\" class=\"dataframe\">\n",
       "  <thead>\n",
       "    <tr style=\"text-align: right;\">\n",
       "      <th></th>\n",
       "      <th>pro_text</th>\n",
       "      <th>pro_label</th>\n",
       "      <th>Employee ID</th>\n",
       "    </tr>\n",
       "  </thead>\n",
       "  <tbody>\n",
       "    <tr>\n",
       "      <th>0</th>\n",
       "      <td>great place learngrow</td>\n",
       "      <td>14</td>\n",
       "      <td>empReview_14097495</td>\n",
       "    </tr>\n",
       "    <tr>\n",
       "      <th>1</th>\n",
       "      <td>international environment</td>\n",
       "      <td>19</td>\n",
       "      <td>empReview_12399850</td>\n",
       "    </tr>\n",
       "    <tr>\n",
       "      <th>2</th>\n",
       "      <td>ample parking</td>\n",
       "      <td>3</td>\n",
       "      <td>empReview_7904838</td>\n",
       "    </tr>\n",
       "    <tr>\n",
       "      <th>3</th>\n",
       "      <td>got good amount help senior technically improve</td>\n",
       "      <td>12</td>\n",
       "      <td>empReview_17227778</td>\n",
       "    </tr>\n",
       "    <tr>\n",
       "      <th>4</th>\n",
       "      <td>good people</td>\n",
       "      <td>4</td>\n",
       "      <td>empReview_13621219</td>\n",
       "    </tr>\n",
       "  </tbody>\n",
       "</table>\n",
       "</div>"
      ],
      "text/plain": [
       "                                          pro_text  pro_label  \\\n",
       "0                            great place learngrow         14   \n",
       "1                        international environment         19   \n",
       "2                                    ample parking          3   \n",
       "3  got good amount help senior technically improve         12   \n",
       "4                                      good people          4   \n",
       "\n",
       "          Employee ID  \n",
       "0  empReview_14097495  \n",
       "1  empReview_12399850  \n",
       "2   empReview_7904838  \n",
       "3  empReview_17227778  \n",
       "4  empReview_13621219  "
      ]
     },
     "execution_count": 170,
     "metadata": {},
     "output_type": "execute_result"
    }
   ],
   "source": [
    "# check with ground truth topic \n",
    "#topic_lda = pd.Series(pro_topics)\n",
    "\n",
    "test=pd.DataFrame(list(zip(pros_lemmatized_text.lemmatized_pros,\\\n",
    "                           list(pro_topics),\\\n",
    "                           pros_lemmatized_text['Employee ID'])), columns=['pro_text','pro_label','Employee ID']) \n",
    "test.head()\n",
    "#pros_lemmatized_text['topic']= topic_lda.values\n",
    "#pros_lemmatized_text.head()\n",
    "#len(pros_lemmatized_text)"
   ]
  },
  {
   "cell_type": "code",
   "execution_count": 169,
   "metadata": {},
   "outputs": [
    {
     "data": {
      "text/plain": [
       "<Container object of 20 artists>"
      ]
     },
     "execution_count": 169,
     "metadata": {},
     "output_type": "execute_result"
    },
    {
     "data": {
      "text/plain": [
       "Text(0.5,0,'Topics')"
      ]
     },
     "execution_count": 169,
     "metadata": {},
     "output_type": "execute_result"
    },
    {
     "data": {
      "text/plain": [
       "Text(0,0.5,'# of reviews')"
      ]
     },
     "execution_count": 169,
     "metadata": {},
     "output_type": "execute_result"
    },
    {
     "data": {
      "text/plain": [
       "Text(0.5,1,'LDA topic modeling results')"
      ]
     },
     "execution_count": 169,
     "metadata": {},
     "output_type": "execute_result"
    },
    {
     "data": {
      "image/png": "[encoded data removed]",
      "text/plain": [
       "<matplotlib.figure.Figure at 0x154f344e0>"
      ]
     },
     "metadata": {},
     "output_type": "display_data"
    }
   ],
   "source": [
    "cluster1_distribution=pd.DataFrame(test.groupby(['pro_label'])['pro_label'].count())\n",
    "cluster1_distribution.index=range(0,20)  \n",
    "#cluster1_distribution\n",
    "plt.bar(cluster1_distribution.index,cluster1_distribution.pro_label)\n",
    "plt.xlabel('Topics')\n",
    "plt.ylabel('# of reviews')\n",
    "plt.title('LDA topic modeling results') "
   ]
  },
  {
   "cell_type": "code",
   "execution_count": null,
   "metadata": {},
   "outputs": [],
   "source": [
    "not clear clutsers: 0,2,7,10,12,15,16,19\n",
    "1,6: work/project\n",
    "3: culture\n",
    "4: flexiblility\n",
    "5: company brand\n",
    "8,14: careern growth\n",
    "9: 'career growth'\n",
    "11: work environment\n",
    "13: people\n",
    "17: opportunity\n",
    "18: benefit"
   ]
  },
  {
   "cell_type": "code",
   "execution_count": 194,
   "metadata": {},
   "outputs": [
    {
     "data": {
      "text/html": [
       "<div>\n",
       "<style scoped>\n",
       "    .dataframe tbody tr th:only-of-type {\n",
       "        vertical-align: middle;\n",
       "    }\n",
       "\n",
       "    .dataframe tbody tr th {\n",
       "        vertical-align: top;\n",
       "    }\n",
       "\n",
       "    .dataframe thead th {\n",
       "        text-align: right;\n",
       "    }\n",
       "</style>\n",
       "<table border=\"1\" class=\"dataframe\">\n",
       "  <thead>\n",
       "    <tr style=\"text-align: right;\">\n",
       "      <th></th>\n",
       "      <th>pro_text</th>\n",
       "      <th>Employee ID</th>\n",
       "      <th>pro_topic</th>\n",
       "    </tr>\n",
       "  </thead>\n",
       "  <tbody>\n",
       "    <tr>\n",
       "      <th>0</th>\n",
       "      <td>great place learngrow</td>\n",
       "      <td>empReview_14097495</td>\n",
       "      <td>career growth</td>\n",
       "    </tr>\n",
       "    <tr>\n",
       "      <th>1</th>\n",
       "      <td>international environment</td>\n",
       "      <td>empReview_12399850</td>\n",
       "      <td>unsplit</td>\n",
       "    </tr>\n",
       "    <tr>\n",
       "      <th>2</th>\n",
       "      <td>ample parking</td>\n",
       "      <td>empReview_7904838</td>\n",
       "      <td>culture</td>\n",
       "    </tr>\n",
       "    <tr>\n",
       "      <th>3</th>\n",
       "      <td>got good amount help senior technically improve</td>\n",
       "      <td>empReview_17227778</td>\n",
       "      <td>unsplit</td>\n",
       "    </tr>\n",
       "    <tr>\n",
       "      <th>4</th>\n",
       "      <td>good people</td>\n",
       "      <td>empReview_13621219</td>\n",
       "      <td>flexiblility</td>\n",
       "    </tr>\n",
       "  </tbody>\n",
       "</table>\n",
       "</div>"
      ],
      "text/plain": [
       "                                          pro_text         Employee ID  \\\n",
       "0                            great place learngrow  empReview_14097495   \n",
       "1                        international environment  empReview_12399850   \n",
       "2                                    ample parking   empReview_7904838   \n",
       "3  got good amount help senior technically improve  empReview_17227778   \n",
       "4                                      good people  empReview_13621219   \n",
       "\n",
       "       pro_topic  \n",
       "0  career growth  \n",
       "1        unsplit  \n",
       "2        culture  \n",
       "3        unsplit  \n",
       "4   flexiblility  "
      ]
     },
     "execution_count": 194,
     "metadata": {},
     "output_type": "execute_result"
    },
    {
     "data": {
      "text/plain": [
       "87294"
      ]
     },
     "execution_count": 194,
     "metadata": {},
     "output_type": "execute_result"
    }
   ],
   "source": [
    "topics_LDA=test\n",
    "\n",
    "topics_LDA['pro_topic'] = topics_LDA['pro_label'].\\\n",
    "replace([0,2,7,10,12,15,16,19,1,6,3,4,5,8,14,9,11,13,17,18],\\\n",
    "        ['flexibility','unsplit','people','unsplit','unsplit','unsplit','unsplit','unsplit',\\\n",
    "         'work/projet','work/projet','culture','flexiblility','company brand','career growth','career growth',\\\n",
    "         'work-life','work environment','people','opportunity','benefit'])\n",
    "           \n",
    "topics_LDA=topics_LDA.drop(columns=['pro_label'])\n",
    "topics_LDA.head()\n",
    "len(topics_LDA)"
   ]
  },
  {
   "cell_type": "code",
   "execution_count": 195,
   "metadata": {},
   "outputs": [],
   "source": [
    "topics_LDA.to_csv('Pros_IBM_LDA.csv')"
   ]
  },
  {
   "cell_type": "code",
   "execution_count": null,
   "metadata": {},
   "outputs": [],
   "source": []
  },
  {
   "cell_type": "code",
   "execution_count": null,
   "metadata": {},
   "outputs": [],
   "source": []
  },
  {
   "cell_type": "code",
   "execution_count": null,
   "metadata": {},
   "outputs": [],
   "source": []
  }
 ],
 "metadata": {
  "kernelspec": {
   "display_name": "Python 3",
   "language": "python",
   "name": "python3"
  },
  "language_info": {
   "codemirror_mode": {
    "name": "ipython",
    "version": 3
   },
   "file_extension": ".py",
   "mimetype": "text/x-python",
   "name": "python",
   "nbconvert_exporter": "python",
   "pygments_lexer": "ipython3",
   "version": "3.6.4"
  }
 },
 "nbformat": 4,
 "nbformat_minor": 2
}
